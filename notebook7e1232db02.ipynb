{
 "cells": [
  {
   "cell_type": "code",
   "execution_count": 1,
   "id": "9043aa0c",
   "metadata": {
    "_cell_guid": "b1076dfc-b9ad-4769-8c92-a6c4dae69d19",
    "_uuid": "8f2839f25d086af736a60e9eeb907d3b93b6e0e5",
    "execution": {
     "iopub.execute_input": "2025-02-21T19:28:24.725486Z",
     "iopub.status.busy": "2025-02-21T19:28:24.724979Z",
     "iopub.status.idle": "2025-02-21T19:28:42.007006Z",
     "shell.execute_reply": "2025-02-21T19:28:42.005789Z"
    },
    "papermill": {
     "duration": 17.288995,
     "end_time": "2025-02-21T19:28:42.009154",
     "exception": false,
     "start_time": "2025-02-21T19:28:24.720159",
     "status": "completed"
    },
    "tags": []
   },
   "outputs": [],
   "source": [
    "import tensorflow as tf\n",
    "from tensorflow.keras import layers, models\n",
    "import numpy as np\n",
    "import time\n",
    "from tensorflow.keras.optimizers import Adam\n"
   ]
  },
  {
   "cell_type": "code",
   "execution_count": 2,
   "id": "f59c2553",
   "metadata": {
    "execution": {
     "iopub.execute_input": "2025-02-21T19:28:42.017764Z",
     "iopub.status.busy": "2025-02-21T19:28:42.017071Z",
     "iopub.status.idle": "2025-02-21T19:28:42.022373Z",
     "shell.execute_reply": "2025-02-21T19:28:42.021159Z"
    },
    "papermill": {
     "duration": 0.011486,
     "end_time": "2025-02-21T19:28:42.024320",
     "exception": false,
     "start_time": "2025-02-21T19:28:42.012834",
     "status": "completed"
    },
    "tags": []
   },
   "outputs": [],
   "source": [
    "# Ensure reproducibility\n",
    "tf.random.set_seed(42)\n",
    "np.random.seed(42)\n"
   ]
  },
  {
   "cell_type": "code",
   "execution_count": 3,
   "id": "e88a50a0",
   "metadata": {
    "execution": {
     "iopub.execute_input": "2025-02-21T19:28:42.031814Z",
     "iopub.status.busy": "2025-02-21T19:28:42.031414Z",
     "iopub.status.idle": "2025-02-21T19:28:42.036125Z",
     "shell.execute_reply": "2025-02-21T19:28:42.035026Z"
    },
    "papermill": {
     "duration": 0.010317,
     "end_time": "2025-02-21T19:28:42.037834",
     "exception": false,
     "start_time": "2025-02-21T19:28:42.027517",
     "status": "completed"
    },
    "tags": []
   },
   "outputs": [],
   "source": [
    "import os  # Add this line at the beginning of your code\n",
    "\n",
    "save_dir = '/kaggle/working/'  # Specify your directory path\n",
    "os.makedirs(save_dir, exist_ok=True)  # Create the directory if it doesn't exist\n"
   ]
  },
  {
   "cell_type": "code",
   "execution_count": 4,
   "id": "024a9449",
   "metadata": {
    "execution": {
     "iopub.execute_input": "2025-02-21T19:28:42.045355Z",
     "iopub.status.busy": "2025-02-21T19:28:42.045004Z",
     "iopub.status.idle": "2025-02-21T19:28:42.092437Z",
     "shell.execute_reply": "2025-02-21T19:28:42.091341Z"
    },
    "papermill": {
     "duration": 0.053349,
     "end_time": "2025-02-21T19:28:42.094462",
     "exception": false,
     "start_time": "2025-02-21T19:28:42.041113",
     "status": "completed"
    },
    "tags": []
   },
   "outputs": [],
   "source": [
    "# Batch size and learning rate\n",
    "batch_size = 16  \n",
    "epochs = 50\n",
    "latent_dim = 128\n",
    "\n",
    "# Optimizers\n",
    "opt_autoencoder = Adam(learning_rate=0.0001, beta_1=0.5)\n",
    "opt_disc = Adam(learning_rate=0.0001, beta_1=0.5)\n"
   ]
  },
  {
   "cell_type": "code",
   "execution_count": 5,
   "id": "bbaae412",
   "metadata": {
    "execution": {
     "iopub.execute_input": "2025-02-21T19:28:42.102028Z",
     "iopub.status.busy": "2025-02-21T19:28:42.101637Z",
     "iopub.status.idle": "2025-02-21T19:31:30.707488Z",
     "shell.execute_reply": "2025-02-21T19:31:30.706124Z"
    },
    "papermill": {
     "duration": 168.612058,
     "end_time": "2025-02-21T19:31:30.709692",
     "exception": false,
     "start_time": "2025-02-21T19:28:42.097634",
     "status": "completed"
    },
    "tags": []
   },
   "outputs": [
    {
     "name": "stdout",
     "output_type": "stream",
     "text": [
      "Training set shape: (6409, 64, 64, 3)\n",
      "Validation set shape: (1603, 64, 64, 3)\n",
      "Test set shape: (2003, 64, 64, 3)\n"
     ]
    }
   ],
   "source": [
    "import pandas as pd\n",
    "import numpy as np\n",
    "import tensorflow as tf\n",
    "from tensorflow.keras.preprocessing import image\n",
    "import os\n",
    "from sklearn.model_selection import train_test_split\n",
    "\n",
    "# Paths to the dataset\n",
    "image_dir_1 = '/kaggle/input/skin-cancer-mnist-ham10000/HAM10000_images_part_1'  \n",
    "image_dir_2 = '/kaggle/input/skin-cancer-mnist-ham10000/HAM10000_images_part_2'  \n",
    "metadata_file = '/kaggle/input/skin-cancer-mnist-ham10000/HAM10000_metadata.csv'  \n",
    "\n",
    "\n",
    "# Load metadata CSV\n",
    "labels = pd.read_csv(metadata_file)\n",
    "\n",
    "# Convert diagnosis (dx) to integers (you can map specific diseases if needed)\n",
    "label_mapping = {label: idx for idx, label in enumerate(labels['dx'].unique())}\n",
    "labels['dx'] = labels['dx'].map(label_mapping)\n",
    "\n",
    "# Set image size for the model\n",
    "IMG_SIZE = 64  # Resize images to 64x64\n",
    "\n",
    "# Function to load and preprocess images\n",
    "def load_images_and_labels(labels, image_dir_1, image_dir_2, img_size=64):\n",
    "    images = []\n",
    "    label_list = []\n",
    "\n",
    "    for _, row in labels.iterrows():\n",
    "        # Get the file path for the image\n",
    "        file_path_1 = os.path.join(image_dir_1, row['image_id'] + '.jpg')\n",
    "        file_path_2 = os.path.join(image_dir_2, row['image_id'] + '.jpg')\n",
    "\n",
    "        # Check if the image exists in part 1 or part 2\n",
    "        if os.path.exists(file_path_1):\n",
    "            img = image.load_img(file_path_1, target_size=(img_size, img_size))\n",
    "        elif os.path.exists(file_path_2):\n",
    "            img = image.load_img(file_path_2, target_size=(img_size, img_size))\n",
    "        else:\n",
    "            continue  # Skip if image file is missing\n",
    "\n",
    "        # Convert image to numpy array and normalize it\n",
    "        img_array = image.img_to_array(img) / 255.0  # Normalize pixel values to [0, 1]\n",
    "        images.append(img_array)\n",
    "        label_list.append(row['dx'])  # Add the label (dx)\n",
    "\n",
    "    X = np.array(images)  # Shape: (num_samples, img_size, img_size, 3)\n",
    "    y = np.array(label_list)  # Labels: [0, 1, 2, ..., 6] for classification\n",
    "    return X, y\n",
    "\n",
    "# Load the images and labels\n",
    "X, y = load_images_and_labels(labels, image_dir_1, image_dir_2, IMG_SIZE)\n",
    "\n",
    "# Step 1: Split into 80% training and 20% test\n",
    "X_train, X_test, y_train, y_test = train_test_split(X, y, test_size=0.2, random_state=42)\n",
    "\n",
    "# Step 2: Split the 80% training set into 80% training and 20% validation\n",
    "X_train, X_val, y_train, y_val = train_test_split(X_train, y_train, test_size=0.2, random_state=42)\n",
    "\n",
    "# Check the shape of the dataset\n",
    "print(\"Training set shape:\", X_train.shape)\n",
    "print(\"Validation set shape:\", X_val.shape)\n",
    "print(\"Test set shape:\", X_test.shape)\n",
    "\n",
    "# Convert labels to one-hot encoding\n",
    "y_train_one_hot = tf.keras.utils.to_categorical(y_train, num_classes=7)  # Assuming 7 classes\n",
    "y_val_one_hot = tf.keras.utils.to_categorical(y_val, num_classes=7)\n",
    "y_test_one_hot = tf.keras.utils.to_categorical(y_test, num_classes=7)\n",
    "\n",
    "# Create the data pipeline\n",
    "def create_dataset(X_train, y_train_one_hot, X_val, y_val_one_hot, X_test, y_test_one_hot, batch_size):\n",
    "    train_data = tf.data.Dataset.from_tensor_slices((X_train, y_train_one_hot))\n",
    "    val_data = tf.data.Dataset.from_tensor_slices((X_val, y_val_one_hot))\n",
    "    test_data = tf.data.Dataset.from_tensor_slices((X_test, y_test_one_hot))\n",
    "\n",
    "    # Efficient data pipeline: cache, batch, and prefetch\n",
    "    train_data = (train_data\n",
    "                  .cache()\n",
    "                  .shuffle(buffer_size=1000)\n",
    "                  .batch(batch_size)\n",
    "                  .prefetch(tf.data.experimental.AUTOTUNE))\n",
    "    \n",
    "    val_data = (val_data\n",
    "                .cache()\n",
    "                .batch(batch_size)\n",
    "                .prefetch(tf.data.experimental.AUTOTUNE))\n",
    "\n",
    "    test_data = (test_data\n",
    "                 .cache()\n",
    "                 .batch(batch_size)\n",
    "                 .prefetch(tf.data.experimental.AUTOTUNE))\n",
    "\n",
    "    return train_data, val_data, test_data\n",
    "\n",
    "# Set batch size for training\n",
    "batch_size = 16\n",
    "\n",
    "# Create the dataset pipeline\n",
    "train_data, val_data, test_data = create_dataset(X_train, y_train_one_hot, X_val, y_val_one_hot, X_test, y_test_one_hot, batch_size)\n"
   ]
  },
  {
   "cell_type": "code",
   "execution_count": 6,
   "id": "ad649838",
   "metadata": {
    "execution": {
     "iopub.execute_input": "2025-02-21T19:31:30.717879Z",
     "iopub.status.busy": "2025-02-21T19:31:30.717440Z",
     "iopub.status.idle": "2025-02-21T19:31:30.953205Z",
     "shell.execute_reply": "2025-02-21T19:31:30.952160Z"
    },
    "papermill": {
     "duration": 0.241994,
     "end_time": "2025-02-21T19:31:30.955044",
     "exception": false,
     "start_time": "2025-02-21T19:31:30.713050",
     "status": "completed"
    },
    "tags": []
   },
   "outputs": [
    {
     "data": {
      "text/html": [
       "<pre style=\"white-space:pre;overflow-x:auto;line-height:normal;font-family:Menlo,'DejaVu Sans Mono',consolas,'Courier New',monospace\"><span style=\"font-weight: bold\">Model: \"functional_2\"</span>\n",
       "</pre>\n"
      ],
      "text/plain": [
       "\u001b[1mModel: \"functional_2\"\u001b[0m\n"
      ]
     },
     "metadata": {},
     "output_type": "display_data"
    },
    {
     "data": {
      "text/html": [
       "<pre style=\"white-space:pre;overflow-x:auto;line-height:normal;font-family:Menlo,'DejaVu Sans Mono',consolas,'Courier New',monospace\">┏━━━━━━━━━━━━━━━━━━━━━━━━━━━━━━━━━━━━━━┳━━━━━━━━━━━━━━━━━━━━━━━━━━━━━┳━━━━━━━━━━━━━━━━━┓\n",
       "┃<span style=\"font-weight: bold\"> Layer (type)                         </span>┃<span style=\"font-weight: bold\"> Output Shape                </span>┃<span style=\"font-weight: bold\">         Param # </span>┃\n",
       "┡━━━━━━━━━━━━━━━━━━━━━━━━━━━━━━━━━━━━━━╇━━━━━━━━━━━━━━━━━━━━━━━━━━━━━╇━━━━━━━━━━━━━━━━━┩\n",
       "│ input_layer_2 (<span style=\"color: #0087ff; text-decoration-color: #0087ff\">InputLayer</span>)           │ (<span style=\"color: #00d7ff; text-decoration-color: #00d7ff\">None</span>, <span style=\"color: #00af00; text-decoration-color: #00af00\">64</span>, <span style=\"color: #00af00; text-decoration-color: #00af00\">64</span>, <span style=\"color: #00af00; text-decoration-color: #00af00\">3</span>)           │               <span style=\"color: #00af00; text-decoration-color: #00af00\">0</span> │\n",
       "├──────────────────────────────────────┼─────────────────────────────┼─────────────────┤\n",
       "│ sequential (<span style=\"color: #0087ff; text-decoration-color: #0087ff\">Sequential</span>)              │ (<span style=\"color: #00d7ff; text-decoration-color: #00d7ff\">None</span>, <span style=\"color: #00af00; text-decoration-color: #00af00\">128</span>)                 │       <span style=\"color: #00af00; text-decoration-color: #00af00\">1,978,368</span> │\n",
       "├──────────────────────────────────────┼─────────────────────────────┼─────────────────┤\n",
       "│ sequential_1 (<span style=\"color: #0087ff; text-decoration-color: #0087ff\">Sequential</span>)            │ (<span style=\"color: #00d7ff; text-decoration-color: #00d7ff\">None</span>, <span style=\"color: #00af00; text-decoration-color: #00af00\">64</span>, <span style=\"color: #00af00; text-decoration-color: #00af00\">64</span>, <span style=\"color: #00af00; text-decoration-color: #00af00\">3</span>)           │       <span style=\"color: #00af00; text-decoration-color: #00af00\">1,298,371</span> │\n",
       "└──────────────────────────────────────┴─────────────────────────────┴─────────────────┘\n",
       "</pre>\n"
      ],
      "text/plain": [
       "┏━━━━━━━━━━━━━━━━━━━━━━━━━━━━━━━━━━━━━━┳━━━━━━━━━━━━━━━━━━━━━━━━━━━━━┳━━━━━━━━━━━━━━━━━┓\n",
       "┃\u001b[1m \u001b[0m\u001b[1mLayer (type)                        \u001b[0m\u001b[1m \u001b[0m┃\u001b[1m \u001b[0m\u001b[1mOutput Shape               \u001b[0m\u001b[1m \u001b[0m┃\u001b[1m \u001b[0m\u001b[1m        Param #\u001b[0m\u001b[1m \u001b[0m┃\n",
       "┡━━━━━━━━━━━━━━━━━━━━━━━━━━━━━━━━━━━━━━╇━━━━━━━━━━━━━━━━━━━━━━━━━━━━━╇━━━━━━━━━━━━━━━━━┩\n",
       "│ input_layer_2 (\u001b[38;5;33mInputLayer\u001b[0m)           │ (\u001b[38;5;45mNone\u001b[0m, \u001b[38;5;34m64\u001b[0m, \u001b[38;5;34m64\u001b[0m, \u001b[38;5;34m3\u001b[0m)           │               \u001b[38;5;34m0\u001b[0m │\n",
       "├──────────────────────────────────────┼─────────────────────────────┼─────────────────┤\n",
       "│ sequential (\u001b[38;5;33mSequential\u001b[0m)              │ (\u001b[38;5;45mNone\u001b[0m, \u001b[38;5;34m128\u001b[0m)                 │       \u001b[38;5;34m1,978,368\u001b[0m │\n",
       "├──────────────────────────────────────┼─────────────────────────────┼─────────────────┤\n",
       "│ sequential_1 (\u001b[38;5;33mSequential\u001b[0m)            │ (\u001b[38;5;45mNone\u001b[0m, \u001b[38;5;34m64\u001b[0m, \u001b[38;5;34m64\u001b[0m, \u001b[38;5;34m3\u001b[0m)           │       \u001b[38;5;34m1,298,371\u001b[0m │\n",
       "└──────────────────────────────────────┴─────────────────────────────┴─────────────────┘\n"
      ]
     },
     "metadata": {},
     "output_type": "display_data"
    },
    {
     "data": {
      "text/html": [
       "<pre style=\"white-space:pre;overflow-x:auto;line-height:normal;font-family:Menlo,'DejaVu Sans Mono',consolas,'Courier New',monospace\"><span style=\"font-weight: bold\"> Total params: </span><span style=\"color: #00af00; text-decoration-color: #00af00\">3,276,739</span> (12.50 MB)\n",
       "</pre>\n"
      ],
      "text/plain": [
       "\u001b[1m Total params: \u001b[0m\u001b[38;5;34m3,276,739\u001b[0m (12.50 MB)\n"
      ]
     },
     "metadata": {},
     "output_type": "display_data"
    },
    {
     "data": {
      "text/html": [
       "<pre style=\"white-space:pre;overflow-x:auto;line-height:normal;font-family:Menlo,'DejaVu Sans Mono',consolas,'Courier New',monospace\"><span style=\"font-weight: bold\"> Trainable params: </span><span style=\"color: #00af00; text-decoration-color: #00af00\">3,275,395</span> (12.49 MB)\n",
       "</pre>\n"
      ],
      "text/plain": [
       "\u001b[1m Trainable params: \u001b[0m\u001b[38;5;34m3,275,395\u001b[0m (12.49 MB)\n"
      ]
     },
     "metadata": {},
     "output_type": "display_data"
    },
    {
     "data": {
      "text/html": [
       "<pre style=\"white-space:pre;overflow-x:auto;line-height:normal;font-family:Menlo,'DejaVu Sans Mono',consolas,'Courier New',monospace\"><span style=\"font-weight: bold\"> Non-trainable params: </span><span style=\"color: #00af00; text-decoration-color: #00af00\">1,344</span> (5.25 KB)\n",
       "</pre>\n"
      ],
      "text/plain": [
       "\u001b[1m Non-trainable params: \u001b[0m\u001b[38;5;34m1,344\u001b[0m (5.25 KB)\n"
      ]
     },
     "metadata": {},
     "output_type": "display_data"
    }
   ],
   "source": [
    "# Encoder with Dropout and BatchNormalization\n",
    "encoder = tf.keras.Sequential([\n",
    "    layers.Input(shape=(64, 64, 3)),\n",
    "    layers.Conv2D(64, kernel_size=3, strides=2, padding=\"valid\"),\n",
    "    layers.LeakyReLU(0.2),\n",
    "    layers.BatchNormalization(),\n",
    "    layers.Dropout(0.3),  # Add dropout\n",
    "    layers.Conv2D(128, kernel_size=3, strides=2, padding=\"valid\"),\n",
    "    layers.LeakyReLU(0.2),\n",
    "    layers.BatchNormalization(),\n",
    "    layers.Dropout(0.3),\n",
    "    layers.Conv2D(256, kernel_size=3, strides=2, padding=\"valid\"),\n",
    "    layers.LeakyReLU(0.2),\n",
    "    layers.BatchNormalization(),\n",
    "    layers.Dropout(0.3),\n",
    "    layers.Flatten(),\n",
    "    layers.Dense(latent_dim)\n",
    "])\n",
    "\n",
    "# Decoder with BatchNormalization and Dropout\n",
    "decoder = tf.keras.Sequential([\n",
    "    layers.Input(shape=(latent_dim,)),\n",
    "    layers.Dense(8 * 8 * 128),\n",
    "    layers.Reshape((8, 8, 128)),\n",
    "    layers.Conv2DTranspose(128, kernel_size=3, strides=2, padding=\"same\", activation='relu'),\n",
    "    layers.BatchNormalization(),\n",
    "    layers.Dropout(0.3),  # Add dropout\n",
    "    layers.Conv2DTranspose(64, kernel_size=3, strides=2, padding=\"same\", activation='relu'),\n",
    "    layers.BatchNormalization(),\n",
    "    layers.Dropout(0.3),\n",
    "    layers.Conv2DTranspose(32, kernel_size=3, strides=2, padding=\"same\", activation='relu'),\n",
    "    layers.BatchNormalization(),\n",
    "    layers.Conv2DTranspose(3, kernel_size=3, padding=\"same\", activation='sigmoid')\n",
    "])\n",
    "\n",
    "# Full autoencoder model\n",
    "autoencoder_input = layers.Input(shape=(64, 64, 3))\n",
    "latent_representation = encoder(autoencoder_input)\n",
    "reconstructed_image = decoder(latent_representation)\n",
    "\n",
    "autoencoder = models.Model(inputs=autoencoder_input, outputs=reconstructed_image)\n",
    "\n",
    "# Compile the autoencoder model\n",
    "autoencoder.compile(optimizer=tf.keras.optimizers.Adam(learning_rate=0.0001), loss='mse')\n",
    "\n",
    "# Print model summary to check the architecture\n",
    "autoencoder.summary()\n"
   ]
  },
  {
   "cell_type": "code",
   "execution_count": 7,
   "id": "9e330859",
   "metadata": {
    "execution": {
     "iopub.execute_input": "2025-02-21T19:31:30.963918Z",
     "iopub.status.busy": "2025-02-21T19:31:30.963556Z",
     "iopub.status.idle": "2025-02-21T19:31:31.056281Z",
     "shell.execute_reply": "2025-02-21T19:31:31.055128Z"
    },
    "papermill": {
     "duration": 0.099441,
     "end_time": "2025-02-21T19:31:31.058370",
     "exception": false,
     "start_time": "2025-02-21T19:31:30.958929",
     "status": "completed"
    },
    "tags": []
   },
   "outputs": [
    {
     "data": {
      "text/html": [
       "<pre style=\"white-space:pre;overflow-x:auto;line-height:normal;font-family:Menlo,'DejaVu Sans Mono',consolas,'Courier New',monospace\"><span style=\"font-weight: bold\">Model: \"functional_3\"</span>\n",
       "</pre>\n"
      ],
      "text/plain": [
       "\u001b[1mModel: \"functional_3\"\u001b[0m\n"
      ]
     },
     "metadata": {},
     "output_type": "display_data"
    },
    {
     "data": {
      "text/html": [
       "<pre style=\"white-space:pre;overflow-x:auto;line-height:normal;font-family:Menlo,'DejaVu Sans Mono',consolas,'Courier New',monospace\">┏━━━━━━━━━━━━━━━━━━━━━━━━━━━━━━━━━━━━━━┳━━━━━━━━━━━━━━━━━━━━━━━━━━━━━┳━━━━━━━━━━━━━━━━━┓\n",
       "┃<span style=\"font-weight: bold\"> Layer (type)                         </span>┃<span style=\"font-weight: bold\"> Output Shape                </span>┃<span style=\"font-weight: bold\">         Param # </span>┃\n",
       "┡━━━━━━━━━━━━━━━━━━━━━━━━━━━━━━━━━━━━━━╇━━━━━━━━━━━━━━━━━━━━━━━━━━━━━╇━━━━━━━━━━━━━━━━━┩\n",
       "│ input_layer_3 (<span style=\"color: #0087ff; text-decoration-color: #0087ff\">InputLayer</span>)           │ (<span style=\"color: #00d7ff; text-decoration-color: #00d7ff\">None</span>, <span style=\"color: #00af00; text-decoration-color: #00af00\">64</span>, <span style=\"color: #00af00; text-decoration-color: #00af00\">64</span>, <span style=\"color: #00af00; text-decoration-color: #00af00\">3</span>)           │               <span style=\"color: #00af00; text-decoration-color: #00af00\">0</span> │\n",
       "├──────────────────────────────────────┼─────────────────────────────┼─────────────────┤\n",
       "│ conv2d_3 (<span style=\"color: #0087ff; text-decoration-color: #0087ff\">Conv2D</span>)                    │ (<span style=\"color: #00d7ff; text-decoration-color: #00d7ff\">None</span>, <span style=\"color: #00af00; text-decoration-color: #00af00\">62</span>, <span style=\"color: #00af00; text-decoration-color: #00af00\">62</span>, <span style=\"color: #00af00; text-decoration-color: #00af00\">32</span>)          │             <span style=\"color: #00af00; text-decoration-color: #00af00\">896</span> │\n",
       "├──────────────────────────────────────┼─────────────────────────────┼─────────────────┤\n",
       "│ max_pooling2d (<span style=\"color: #0087ff; text-decoration-color: #0087ff\">MaxPooling2D</span>)         │ (<span style=\"color: #00d7ff; text-decoration-color: #00d7ff\">None</span>, <span style=\"color: #00af00; text-decoration-color: #00af00\">31</span>, <span style=\"color: #00af00; text-decoration-color: #00af00\">31</span>, <span style=\"color: #00af00; text-decoration-color: #00af00\">32</span>)          │               <span style=\"color: #00af00; text-decoration-color: #00af00\">0</span> │\n",
       "├──────────────────────────────────────┼─────────────────────────────┼─────────────────┤\n",
       "│ conv2d_4 (<span style=\"color: #0087ff; text-decoration-color: #0087ff\">Conv2D</span>)                    │ (<span style=\"color: #00d7ff; text-decoration-color: #00d7ff\">None</span>, <span style=\"color: #00af00; text-decoration-color: #00af00\">29</span>, <span style=\"color: #00af00; text-decoration-color: #00af00\">29</span>, <span style=\"color: #00af00; text-decoration-color: #00af00\">64</span>)          │          <span style=\"color: #00af00; text-decoration-color: #00af00\">18,496</span> │\n",
       "├──────────────────────────────────────┼─────────────────────────────┼─────────────────┤\n",
       "│ max_pooling2d_1 (<span style=\"color: #0087ff; text-decoration-color: #0087ff\">MaxPooling2D</span>)       │ (<span style=\"color: #00d7ff; text-decoration-color: #00d7ff\">None</span>, <span style=\"color: #00af00; text-decoration-color: #00af00\">14</span>, <span style=\"color: #00af00; text-decoration-color: #00af00\">14</span>, <span style=\"color: #00af00; text-decoration-color: #00af00\">64</span>)          │               <span style=\"color: #00af00; text-decoration-color: #00af00\">0</span> │\n",
       "├──────────────────────────────────────┼─────────────────────────────┼─────────────────┤\n",
       "│ flatten_1 (<span style=\"color: #0087ff; text-decoration-color: #0087ff\">Flatten</span>)                  │ (<span style=\"color: #00d7ff; text-decoration-color: #00d7ff\">None</span>, <span style=\"color: #00af00; text-decoration-color: #00af00\">12544</span>)               │               <span style=\"color: #00af00; text-decoration-color: #00af00\">0</span> │\n",
       "├──────────────────────────────────────┼─────────────────────────────┼─────────────────┤\n",
       "│ dense_2 (<span style=\"color: #0087ff; text-decoration-color: #0087ff\">Dense</span>)                      │ (<span style=\"color: #00d7ff; text-decoration-color: #00d7ff\">None</span>, <span style=\"color: #00af00; text-decoration-color: #00af00\">128</span>)                 │       <span style=\"color: #00af00; text-decoration-color: #00af00\">1,605,760</span> │\n",
       "├──────────────────────────────────────┼─────────────────────────────┼─────────────────┤\n",
       "│ dropout_5 (<span style=\"color: #0087ff; text-decoration-color: #0087ff\">Dropout</span>)                  │ (<span style=\"color: #00d7ff; text-decoration-color: #00d7ff\">None</span>, <span style=\"color: #00af00; text-decoration-color: #00af00\">128</span>)                 │               <span style=\"color: #00af00; text-decoration-color: #00af00\">0</span> │\n",
       "├──────────────────────────────────────┼─────────────────────────────┼─────────────────┤\n",
       "│ dense_3 (<span style=\"color: #0087ff; text-decoration-color: #0087ff\">Dense</span>)                      │ (<span style=\"color: #00d7ff; text-decoration-color: #00d7ff\">None</span>, <span style=\"color: #00af00; text-decoration-color: #00af00\">64</span>)                  │           <span style=\"color: #00af00; text-decoration-color: #00af00\">8,256</span> │\n",
       "├──────────────────────────────────────┼─────────────────────────────┼─────────────────┤\n",
       "│ dropout_6 (<span style=\"color: #0087ff; text-decoration-color: #0087ff\">Dropout</span>)                  │ (<span style=\"color: #00d7ff; text-decoration-color: #00d7ff\">None</span>, <span style=\"color: #00af00; text-decoration-color: #00af00\">64</span>)                  │               <span style=\"color: #00af00; text-decoration-color: #00af00\">0</span> │\n",
       "├──────────────────────────────────────┼─────────────────────────────┼─────────────────┤\n",
       "│ dense_4 (<span style=\"color: #0087ff; text-decoration-color: #0087ff\">Dense</span>)                      │ (<span style=\"color: #00d7ff; text-decoration-color: #00d7ff\">None</span>, <span style=\"color: #00af00; text-decoration-color: #00af00\">7</span>)                   │             <span style=\"color: #00af00; text-decoration-color: #00af00\">455</span> │\n",
       "└──────────────────────────────────────┴─────────────────────────────┴─────────────────┘\n",
       "</pre>\n"
      ],
      "text/plain": [
       "┏━━━━━━━━━━━━━━━━━━━━━━━━━━━━━━━━━━━━━━┳━━━━━━━━━━━━━━━━━━━━━━━━━━━━━┳━━━━━━━━━━━━━━━━━┓\n",
       "┃\u001b[1m \u001b[0m\u001b[1mLayer (type)                        \u001b[0m\u001b[1m \u001b[0m┃\u001b[1m \u001b[0m\u001b[1mOutput Shape               \u001b[0m\u001b[1m \u001b[0m┃\u001b[1m \u001b[0m\u001b[1m        Param #\u001b[0m\u001b[1m \u001b[0m┃\n",
       "┡━━━━━━━━━━━━━━━━━━━━━━━━━━━━━━━━━━━━━━╇━━━━━━━━━━━━━━━━━━━━━━━━━━━━━╇━━━━━━━━━━━━━━━━━┩\n",
       "│ input_layer_3 (\u001b[38;5;33mInputLayer\u001b[0m)           │ (\u001b[38;5;45mNone\u001b[0m, \u001b[38;5;34m64\u001b[0m, \u001b[38;5;34m64\u001b[0m, \u001b[38;5;34m3\u001b[0m)           │               \u001b[38;5;34m0\u001b[0m │\n",
       "├──────────────────────────────────────┼─────────────────────────────┼─────────────────┤\n",
       "│ conv2d_3 (\u001b[38;5;33mConv2D\u001b[0m)                    │ (\u001b[38;5;45mNone\u001b[0m, \u001b[38;5;34m62\u001b[0m, \u001b[38;5;34m62\u001b[0m, \u001b[38;5;34m32\u001b[0m)          │             \u001b[38;5;34m896\u001b[0m │\n",
       "├──────────────────────────────────────┼─────────────────────────────┼─────────────────┤\n",
       "│ max_pooling2d (\u001b[38;5;33mMaxPooling2D\u001b[0m)         │ (\u001b[38;5;45mNone\u001b[0m, \u001b[38;5;34m31\u001b[0m, \u001b[38;5;34m31\u001b[0m, \u001b[38;5;34m32\u001b[0m)          │               \u001b[38;5;34m0\u001b[0m │\n",
       "├──────────────────────────────────────┼─────────────────────────────┼─────────────────┤\n",
       "│ conv2d_4 (\u001b[38;5;33mConv2D\u001b[0m)                    │ (\u001b[38;5;45mNone\u001b[0m, \u001b[38;5;34m29\u001b[0m, \u001b[38;5;34m29\u001b[0m, \u001b[38;5;34m64\u001b[0m)          │          \u001b[38;5;34m18,496\u001b[0m │\n",
       "├──────────────────────────────────────┼─────────────────────────────┼─────────────────┤\n",
       "│ max_pooling2d_1 (\u001b[38;5;33mMaxPooling2D\u001b[0m)       │ (\u001b[38;5;45mNone\u001b[0m, \u001b[38;5;34m14\u001b[0m, \u001b[38;5;34m14\u001b[0m, \u001b[38;5;34m64\u001b[0m)          │               \u001b[38;5;34m0\u001b[0m │\n",
       "├──────────────────────────────────────┼─────────────────────────────┼─────────────────┤\n",
       "│ flatten_1 (\u001b[38;5;33mFlatten\u001b[0m)                  │ (\u001b[38;5;45mNone\u001b[0m, \u001b[38;5;34m12544\u001b[0m)               │               \u001b[38;5;34m0\u001b[0m │\n",
       "├──────────────────────────────────────┼─────────────────────────────┼─────────────────┤\n",
       "│ dense_2 (\u001b[38;5;33mDense\u001b[0m)                      │ (\u001b[38;5;45mNone\u001b[0m, \u001b[38;5;34m128\u001b[0m)                 │       \u001b[38;5;34m1,605,760\u001b[0m │\n",
       "├──────────────────────────────────────┼─────────────────────────────┼─────────────────┤\n",
       "│ dropout_5 (\u001b[38;5;33mDropout\u001b[0m)                  │ (\u001b[38;5;45mNone\u001b[0m, \u001b[38;5;34m128\u001b[0m)                 │               \u001b[38;5;34m0\u001b[0m │\n",
       "├──────────────────────────────────────┼─────────────────────────────┼─────────────────┤\n",
       "│ dense_3 (\u001b[38;5;33mDense\u001b[0m)                      │ (\u001b[38;5;45mNone\u001b[0m, \u001b[38;5;34m64\u001b[0m)                  │           \u001b[38;5;34m8,256\u001b[0m │\n",
       "├──────────────────────────────────────┼─────────────────────────────┼─────────────────┤\n",
       "│ dropout_6 (\u001b[38;5;33mDropout\u001b[0m)                  │ (\u001b[38;5;45mNone\u001b[0m, \u001b[38;5;34m64\u001b[0m)                  │               \u001b[38;5;34m0\u001b[0m │\n",
       "├──────────────────────────────────────┼─────────────────────────────┼─────────────────┤\n",
       "│ dense_4 (\u001b[38;5;33mDense\u001b[0m)                      │ (\u001b[38;5;45mNone\u001b[0m, \u001b[38;5;34m7\u001b[0m)                   │             \u001b[38;5;34m455\u001b[0m │\n",
       "└──────────────────────────────────────┴─────────────────────────────┴─────────────────┘\n"
      ]
     },
     "metadata": {},
     "output_type": "display_data"
    },
    {
     "data": {
      "text/html": [
       "<pre style=\"white-space:pre;overflow-x:auto;line-height:normal;font-family:Menlo,'DejaVu Sans Mono',consolas,'Courier New',monospace\"><span style=\"font-weight: bold\"> Total params: </span><span style=\"color: #00af00; text-decoration-color: #00af00\">1,633,863</span> (6.23 MB)\n",
       "</pre>\n"
      ],
      "text/plain": [
       "\u001b[1m Total params: \u001b[0m\u001b[38;5;34m1,633,863\u001b[0m (6.23 MB)\n"
      ]
     },
     "metadata": {},
     "output_type": "display_data"
    },
    {
     "data": {
      "text/html": [
       "<pre style=\"white-space:pre;overflow-x:auto;line-height:normal;font-family:Menlo,'DejaVu Sans Mono',consolas,'Courier New',monospace\"><span style=\"font-weight: bold\"> Trainable params: </span><span style=\"color: #00af00; text-decoration-color: #00af00\">1,633,863</span> (6.23 MB)\n",
       "</pre>\n"
      ],
      "text/plain": [
       "\u001b[1m Trainable params: \u001b[0m\u001b[38;5;34m1,633,863\u001b[0m (6.23 MB)\n"
      ]
     },
     "metadata": {},
     "output_type": "display_data"
    },
    {
     "data": {
      "text/html": [
       "<pre style=\"white-space:pre;overflow-x:auto;line-height:normal;font-family:Menlo,'DejaVu Sans Mono',consolas,'Courier New',monospace\"><span style=\"font-weight: bold\"> Non-trainable params: </span><span style=\"color: #00af00; text-decoration-color: #00af00\">0</span> (0.00 B)\n",
       "</pre>\n"
      ],
      "text/plain": [
       "\u001b[1m Non-trainable params: \u001b[0m\u001b[38;5;34m0\u001b[0m (0.00 B)\n"
      ]
     },
     "metadata": {},
     "output_type": "display_data"
    }
   ],
   "source": [
    "from tensorflow.keras import layers, models\n",
    "import tensorflow as tf\n",
    "from tensorflow.keras import regularizers\n",
    "\n",
    "def create_model_with_reg():\n",
    "    inputs = tf.keras.Input(shape=(64, 64, 3))\n",
    "    \n",
    "    # First Convolutional Block with valid padding (no padding) and L2 regularization\n",
    "    x = tf.keras.layers.Conv2D(32, kernel_size=3, activation='relu', padding='valid',\n",
    "                               kernel_regularizer=regularizers.l2(0.01))(inputs)  # L2 regularization added\n",
    "    x = tf.keras.layers.MaxPooling2D(pool_size=2)(x)  # Output shape: (31, 31, 32)\n",
    "    \n",
    "    # Second Convolutional Block with valid padding (no padding) and L2 regularization\n",
    "    x = tf.keras.layers.Conv2D(64, kernel_size=3, activation='relu', padding='valid',\n",
    "                               kernel_regularizer=regularizers.l2(0.01))(x)  # L2 regularization added\n",
    "    x = tf.keras.layers.MaxPooling2D(pool_size=2)(x)  # Output shape: (14, 14, 64)\n",
    "   \n",
    "    # Flatten the feature map\n",
    "    x = tf.keras.layers.Flatten()(x)\n",
    "\n",
    "    # Dense Layers with L2 regularization\n",
    "    x = tf.keras.layers.Dense(128, activation='relu', kernel_regularizer=regularizers.l2(0.01))(x)  # L2 regularization added\n",
    "    x = tf.keras.layers.Dropout(0.3)(x)  # Slightly reduced dropout\n",
    "    x = tf.keras.layers.Dense(64, activation='relu', kernel_regularizer=regularizers.l2(0.01))(x)  # L2 regularization added\n",
    "    x = tf.keras.layers.Dropout(0.4)(x)   \n",
    "    outputs = tf.keras.layers.Dense(7, activation='softmax')(x)  # 7 output classes (for HAM10000 dataset)\n",
    "    \n",
    "    model = tf.keras.Model(inputs=inputs, outputs=outputs)\n",
    "    \n",
    "    return model\n",
    "\n",
    "# Create an instance of the model\n",
    "discriminator = create_model_with_reg()\n",
    "\n",
    "# Compile the model\n",
    "discriminator.compile(optimizer=tf.keras.optimizers.Adam(learning_rate=0.0001, beta_1=0.5), loss='categorical_crossentropy', metrics=['accuracy'])\n",
    "\n",
    "# Print model summary to verify the changes\n",
    "discriminator.summary()\n"
   ]
  },
  {
   "cell_type": "code",
   "execution_count": 8,
   "id": "82e4ae88",
   "metadata": {
    "execution": {
     "iopub.execute_input": "2025-02-21T19:31:31.069380Z",
     "iopub.status.busy": "2025-02-21T19:31:31.069025Z",
     "iopub.status.idle": "2025-02-21T19:31:31.119482Z",
     "shell.execute_reply": "2025-02-21T19:31:31.118286Z"
    },
    "papermill": {
     "duration": 0.057936,
     "end_time": "2025-02-21T19:31:31.121323",
     "exception": false,
     "start_time": "2025-02-21T19:31:31.063387",
     "status": "completed"
    },
    "tags": []
   },
   "outputs": [
    {
     "name": "stdout",
     "output_type": "stream",
     "text": [
      "Autoencoder Model Summary:\n"
     ]
    },
    {
     "data": {
      "text/html": [
       "<pre style=\"white-space:pre;overflow-x:auto;line-height:normal;font-family:Menlo,'DejaVu Sans Mono',consolas,'Courier New',monospace\"><span style=\"font-weight: bold\">Model: \"functional_2\"</span>\n",
       "</pre>\n"
      ],
      "text/plain": [
       "\u001b[1mModel: \"functional_2\"\u001b[0m\n"
      ]
     },
     "metadata": {},
     "output_type": "display_data"
    },
    {
     "data": {
      "text/html": [
       "<pre style=\"white-space:pre;overflow-x:auto;line-height:normal;font-family:Menlo,'DejaVu Sans Mono',consolas,'Courier New',monospace\">┏━━━━━━━━━━━━━━━━━━━━━━━━━━━━━━━━━━━━━━┳━━━━━━━━━━━━━━━━━━━━━━━━━━━━━┳━━━━━━━━━━━━━━━━━┓\n",
       "┃<span style=\"font-weight: bold\"> Layer (type)                         </span>┃<span style=\"font-weight: bold\"> Output Shape                </span>┃<span style=\"font-weight: bold\">         Param # </span>┃\n",
       "┡━━━━━━━━━━━━━━━━━━━━━━━━━━━━━━━━━━━━━━╇━━━━━━━━━━━━━━━━━━━━━━━━━━━━━╇━━━━━━━━━━━━━━━━━┩\n",
       "│ input_layer_2 (<span style=\"color: #0087ff; text-decoration-color: #0087ff\">InputLayer</span>)           │ (<span style=\"color: #00d7ff; text-decoration-color: #00d7ff\">None</span>, <span style=\"color: #00af00; text-decoration-color: #00af00\">64</span>, <span style=\"color: #00af00; text-decoration-color: #00af00\">64</span>, <span style=\"color: #00af00; text-decoration-color: #00af00\">3</span>)           │               <span style=\"color: #00af00; text-decoration-color: #00af00\">0</span> │\n",
       "├──────────────────────────────────────┼─────────────────────────────┼─────────────────┤\n",
       "│ sequential (<span style=\"color: #0087ff; text-decoration-color: #0087ff\">Sequential</span>)              │ (<span style=\"color: #00d7ff; text-decoration-color: #00d7ff\">None</span>, <span style=\"color: #00af00; text-decoration-color: #00af00\">128</span>)                 │       <span style=\"color: #00af00; text-decoration-color: #00af00\">1,978,368</span> │\n",
       "├──────────────────────────────────────┼─────────────────────────────┼─────────────────┤\n",
       "│ sequential_1 (<span style=\"color: #0087ff; text-decoration-color: #0087ff\">Sequential</span>)            │ (<span style=\"color: #00d7ff; text-decoration-color: #00d7ff\">None</span>, <span style=\"color: #00af00; text-decoration-color: #00af00\">64</span>, <span style=\"color: #00af00; text-decoration-color: #00af00\">64</span>, <span style=\"color: #00af00; text-decoration-color: #00af00\">3</span>)           │       <span style=\"color: #00af00; text-decoration-color: #00af00\">1,298,371</span> │\n",
       "└──────────────────────────────────────┴─────────────────────────────┴─────────────────┘\n",
       "</pre>\n"
      ],
      "text/plain": [
       "┏━━━━━━━━━━━━━━━━━━━━━━━━━━━━━━━━━━━━━━┳━━━━━━━━━━━━━━━━━━━━━━━━━━━━━┳━━━━━━━━━━━━━━━━━┓\n",
       "┃\u001b[1m \u001b[0m\u001b[1mLayer (type)                        \u001b[0m\u001b[1m \u001b[0m┃\u001b[1m \u001b[0m\u001b[1mOutput Shape               \u001b[0m\u001b[1m \u001b[0m┃\u001b[1m \u001b[0m\u001b[1m        Param #\u001b[0m\u001b[1m \u001b[0m┃\n",
       "┡━━━━━━━━━━━━━━━━━━━━━━━━━━━━━━━━━━━━━━╇━━━━━━━━━━━━━━━━━━━━━━━━━━━━━╇━━━━━━━━━━━━━━━━━┩\n",
       "│ input_layer_2 (\u001b[38;5;33mInputLayer\u001b[0m)           │ (\u001b[38;5;45mNone\u001b[0m, \u001b[38;5;34m64\u001b[0m, \u001b[38;5;34m64\u001b[0m, \u001b[38;5;34m3\u001b[0m)           │               \u001b[38;5;34m0\u001b[0m │\n",
       "├──────────────────────────────────────┼─────────────────────────────┼─────────────────┤\n",
       "│ sequential (\u001b[38;5;33mSequential\u001b[0m)              │ (\u001b[38;5;45mNone\u001b[0m, \u001b[38;5;34m128\u001b[0m)                 │       \u001b[38;5;34m1,978,368\u001b[0m │\n",
       "├──────────────────────────────────────┼─────────────────────────────┼─────────────────┤\n",
       "│ sequential_1 (\u001b[38;5;33mSequential\u001b[0m)            │ (\u001b[38;5;45mNone\u001b[0m, \u001b[38;5;34m64\u001b[0m, \u001b[38;5;34m64\u001b[0m, \u001b[38;5;34m3\u001b[0m)           │       \u001b[38;5;34m1,298,371\u001b[0m │\n",
       "└──────────────────────────────────────┴─────────────────────────────┴─────────────────┘\n"
      ]
     },
     "metadata": {},
     "output_type": "display_data"
    },
    {
     "data": {
      "text/html": [
       "<pre style=\"white-space:pre;overflow-x:auto;line-height:normal;font-family:Menlo,'DejaVu Sans Mono',consolas,'Courier New',monospace\"><span style=\"font-weight: bold\"> Total params: </span><span style=\"color: #00af00; text-decoration-color: #00af00\">3,276,739</span> (12.50 MB)\n",
       "</pre>\n"
      ],
      "text/plain": [
       "\u001b[1m Total params: \u001b[0m\u001b[38;5;34m3,276,739\u001b[0m (12.50 MB)\n"
      ]
     },
     "metadata": {},
     "output_type": "display_data"
    },
    {
     "data": {
      "text/html": [
       "<pre style=\"white-space:pre;overflow-x:auto;line-height:normal;font-family:Menlo,'DejaVu Sans Mono',consolas,'Courier New',monospace\"><span style=\"font-weight: bold\"> Trainable params: </span><span style=\"color: #00af00; text-decoration-color: #00af00\">3,275,395</span> (12.49 MB)\n",
       "</pre>\n"
      ],
      "text/plain": [
       "\u001b[1m Trainable params: \u001b[0m\u001b[38;5;34m3,275,395\u001b[0m (12.49 MB)\n"
      ]
     },
     "metadata": {},
     "output_type": "display_data"
    },
    {
     "data": {
      "text/html": [
       "<pre style=\"white-space:pre;overflow-x:auto;line-height:normal;font-family:Menlo,'DejaVu Sans Mono',consolas,'Courier New',monospace\"><span style=\"font-weight: bold\"> Non-trainable params: </span><span style=\"color: #00af00; text-decoration-color: #00af00\">1,344</span> (5.25 KB)\n",
       "</pre>\n"
      ],
      "text/plain": [
       "\u001b[1m Non-trainable params: \u001b[0m\u001b[38;5;34m1,344\u001b[0m (5.25 KB)\n"
      ]
     },
     "metadata": {},
     "output_type": "display_data"
    },
    {
     "name": "stdout",
     "output_type": "stream",
     "text": [
      "\n",
      "Discriminator Model Summary:\n"
     ]
    },
    {
     "data": {
      "text/html": [
       "<pre style=\"white-space:pre;overflow-x:auto;line-height:normal;font-family:Menlo,'DejaVu Sans Mono',consolas,'Courier New',monospace\"><span style=\"font-weight: bold\">Model: \"functional_3\"</span>\n",
       "</pre>\n"
      ],
      "text/plain": [
       "\u001b[1mModel: \"functional_3\"\u001b[0m\n"
      ]
     },
     "metadata": {},
     "output_type": "display_data"
    },
    {
     "data": {
      "text/html": [
       "<pre style=\"white-space:pre;overflow-x:auto;line-height:normal;font-family:Menlo,'DejaVu Sans Mono',consolas,'Courier New',monospace\">┏━━━━━━━━━━━━━━━━━━━━━━━━━━━━━━━━━━━━━━┳━━━━━━━━━━━━━━━━━━━━━━━━━━━━━┳━━━━━━━━━━━━━━━━━┓\n",
       "┃<span style=\"font-weight: bold\"> Layer (type)                         </span>┃<span style=\"font-weight: bold\"> Output Shape                </span>┃<span style=\"font-weight: bold\">         Param # </span>┃\n",
       "┡━━━━━━━━━━━━━━━━━━━━━━━━━━━━━━━━━━━━━━╇━━━━━━━━━━━━━━━━━━━━━━━━━━━━━╇━━━━━━━━━━━━━━━━━┩\n",
       "│ input_layer_3 (<span style=\"color: #0087ff; text-decoration-color: #0087ff\">InputLayer</span>)           │ (<span style=\"color: #00d7ff; text-decoration-color: #00d7ff\">None</span>, <span style=\"color: #00af00; text-decoration-color: #00af00\">64</span>, <span style=\"color: #00af00; text-decoration-color: #00af00\">64</span>, <span style=\"color: #00af00; text-decoration-color: #00af00\">3</span>)           │               <span style=\"color: #00af00; text-decoration-color: #00af00\">0</span> │\n",
       "├──────────────────────────────────────┼─────────────────────────────┼─────────────────┤\n",
       "│ conv2d_3 (<span style=\"color: #0087ff; text-decoration-color: #0087ff\">Conv2D</span>)                    │ (<span style=\"color: #00d7ff; text-decoration-color: #00d7ff\">None</span>, <span style=\"color: #00af00; text-decoration-color: #00af00\">62</span>, <span style=\"color: #00af00; text-decoration-color: #00af00\">62</span>, <span style=\"color: #00af00; text-decoration-color: #00af00\">32</span>)          │             <span style=\"color: #00af00; text-decoration-color: #00af00\">896</span> │\n",
       "├──────────────────────────────────────┼─────────────────────────────┼─────────────────┤\n",
       "│ max_pooling2d (<span style=\"color: #0087ff; text-decoration-color: #0087ff\">MaxPooling2D</span>)         │ (<span style=\"color: #00d7ff; text-decoration-color: #00d7ff\">None</span>, <span style=\"color: #00af00; text-decoration-color: #00af00\">31</span>, <span style=\"color: #00af00; text-decoration-color: #00af00\">31</span>, <span style=\"color: #00af00; text-decoration-color: #00af00\">32</span>)          │               <span style=\"color: #00af00; text-decoration-color: #00af00\">0</span> │\n",
       "├──────────────────────────────────────┼─────────────────────────────┼─────────────────┤\n",
       "│ conv2d_4 (<span style=\"color: #0087ff; text-decoration-color: #0087ff\">Conv2D</span>)                    │ (<span style=\"color: #00d7ff; text-decoration-color: #00d7ff\">None</span>, <span style=\"color: #00af00; text-decoration-color: #00af00\">29</span>, <span style=\"color: #00af00; text-decoration-color: #00af00\">29</span>, <span style=\"color: #00af00; text-decoration-color: #00af00\">64</span>)          │          <span style=\"color: #00af00; text-decoration-color: #00af00\">18,496</span> │\n",
       "├──────────────────────────────────────┼─────────────────────────────┼─────────────────┤\n",
       "│ max_pooling2d_1 (<span style=\"color: #0087ff; text-decoration-color: #0087ff\">MaxPooling2D</span>)       │ (<span style=\"color: #00d7ff; text-decoration-color: #00d7ff\">None</span>, <span style=\"color: #00af00; text-decoration-color: #00af00\">14</span>, <span style=\"color: #00af00; text-decoration-color: #00af00\">14</span>, <span style=\"color: #00af00; text-decoration-color: #00af00\">64</span>)          │               <span style=\"color: #00af00; text-decoration-color: #00af00\">0</span> │\n",
       "├──────────────────────────────────────┼─────────────────────────────┼─────────────────┤\n",
       "│ flatten_1 (<span style=\"color: #0087ff; text-decoration-color: #0087ff\">Flatten</span>)                  │ (<span style=\"color: #00d7ff; text-decoration-color: #00d7ff\">None</span>, <span style=\"color: #00af00; text-decoration-color: #00af00\">12544</span>)               │               <span style=\"color: #00af00; text-decoration-color: #00af00\">0</span> │\n",
       "├──────────────────────────────────────┼─────────────────────────────┼─────────────────┤\n",
       "│ dense_2 (<span style=\"color: #0087ff; text-decoration-color: #0087ff\">Dense</span>)                      │ (<span style=\"color: #00d7ff; text-decoration-color: #00d7ff\">None</span>, <span style=\"color: #00af00; text-decoration-color: #00af00\">128</span>)                 │       <span style=\"color: #00af00; text-decoration-color: #00af00\">1,605,760</span> │\n",
       "├──────────────────────────────────────┼─────────────────────────────┼─────────────────┤\n",
       "│ dropout_5 (<span style=\"color: #0087ff; text-decoration-color: #0087ff\">Dropout</span>)                  │ (<span style=\"color: #00d7ff; text-decoration-color: #00d7ff\">None</span>, <span style=\"color: #00af00; text-decoration-color: #00af00\">128</span>)                 │               <span style=\"color: #00af00; text-decoration-color: #00af00\">0</span> │\n",
       "├──────────────────────────────────────┼─────────────────────────────┼─────────────────┤\n",
       "│ dense_3 (<span style=\"color: #0087ff; text-decoration-color: #0087ff\">Dense</span>)                      │ (<span style=\"color: #00d7ff; text-decoration-color: #00d7ff\">None</span>, <span style=\"color: #00af00; text-decoration-color: #00af00\">64</span>)                  │           <span style=\"color: #00af00; text-decoration-color: #00af00\">8,256</span> │\n",
       "├──────────────────────────────────────┼─────────────────────────────┼─────────────────┤\n",
       "│ dropout_6 (<span style=\"color: #0087ff; text-decoration-color: #0087ff\">Dropout</span>)                  │ (<span style=\"color: #00d7ff; text-decoration-color: #00d7ff\">None</span>, <span style=\"color: #00af00; text-decoration-color: #00af00\">64</span>)                  │               <span style=\"color: #00af00; text-decoration-color: #00af00\">0</span> │\n",
       "├──────────────────────────────────────┼─────────────────────────────┼─────────────────┤\n",
       "│ dense_4 (<span style=\"color: #0087ff; text-decoration-color: #0087ff\">Dense</span>)                      │ (<span style=\"color: #00d7ff; text-decoration-color: #00d7ff\">None</span>, <span style=\"color: #00af00; text-decoration-color: #00af00\">7</span>)                   │             <span style=\"color: #00af00; text-decoration-color: #00af00\">455</span> │\n",
       "└──────────────────────────────────────┴─────────────────────────────┴─────────────────┘\n",
       "</pre>\n"
      ],
      "text/plain": [
       "┏━━━━━━━━━━━━━━━━━━━━━━━━━━━━━━━━━━━━━━┳━━━━━━━━━━━━━━━━━━━━━━━━━━━━━┳━━━━━━━━━━━━━━━━━┓\n",
       "┃\u001b[1m \u001b[0m\u001b[1mLayer (type)                        \u001b[0m\u001b[1m \u001b[0m┃\u001b[1m \u001b[0m\u001b[1mOutput Shape               \u001b[0m\u001b[1m \u001b[0m┃\u001b[1m \u001b[0m\u001b[1m        Param #\u001b[0m\u001b[1m \u001b[0m┃\n",
       "┡━━━━━━━━━━━━━━━━━━━━━━━━━━━━━━━━━━━━━━╇━━━━━━━━━━━━━━━━━━━━━━━━━━━━━╇━━━━━━━━━━━━━━━━━┩\n",
       "│ input_layer_3 (\u001b[38;5;33mInputLayer\u001b[0m)           │ (\u001b[38;5;45mNone\u001b[0m, \u001b[38;5;34m64\u001b[0m, \u001b[38;5;34m64\u001b[0m, \u001b[38;5;34m3\u001b[0m)           │               \u001b[38;5;34m0\u001b[0m │\n",
       "├──────────────────────────────────────┼─────────────────────────────┼─────────────────┤\n",
       "│ conv2d_3 (\u001b[38;5;33mConv2D\u001b[0m)                    │ (\u001b[38;5;45mNone\u001b[0m, \u001b[38;5;34m62\u001b[0m, \u001b[38;5;34m62\u001b[0m, \u001b[38;5;34m32\u001b[0m)          │             \u001b[38;5;34m896\u001b[0m │\n",
       "├──────────────────────────────────────┼─────────────────────────────┼─────────────────┤\n",
       "│ max_pooling2d (\u001b[38;5;33mMaxPooling2D\u001b[0m)         │ (\u001b[38;5;45mNone\u001b[0m, \u001b[38;5;34m31\u001b[0m, \u001b[38;5;34m31\u001b[0m, \u001b[38;5;34m32\u001b[0m)          │               \u001b[38;5;34m0\u001b[0m │\n",
       "├──────────────────────────────────────┼─────────────────────────────┼─────────────────┤\n",
       "│ conv2d_4 (\u001b[38;5;33mConv2D\u001b[0m)                    │ (\u001b[38;5;45mNone\u001b[0m, \u001b[38;5;34m29\u001b[0m, \u001b[38;5;34m29\u001b[0m, \u001b[38;5;34m64\u001b[0m)          │          \u001b[38;5;34m18,496\u001b[0m │\n",
       "├──────────────────────────────────────┼─────────────────────────────┼─────────────────┤\n",
       "│ max_pooling2d_1 (\u001b[38;5;33mMaxPooling2D\u001b[0m)       │ (\u001b[38;5;45mNone\u001b[0m, \u001b[38;5;34m14\u001b[0m, \u001b[38;5;34m14\u001b[0m, \u001b[38;5;34m64\u001b[0m)          │               \u001b[38;5;34m0\u001b[0m │\n",
       "├──────────────────────────────────────┼─────────────────────────────┼─────────────────┤\n",
       "│ flatten_1 (\u001b[38;5;33mFlatten\u001b[0m)                  │ (\u001b[38;5;45mNone\u001b[0m, \u001b[38;5;34m12544\u001b[0m)               │               \u001b[38;5;34m0\u001b[0m │\n",
       "├──────────────────────────────────────┼─────────────────────────────┼─────────────────┤\n",
       "│ dense_2 (\u001b[38;5;33mDense\u001b[0m)                      │ (\u001b[38;5;45mNone\u001b[0m, \u001b[38;5;34m128\u001b[0m)                 │       \u001b[38;5;34m1,605,760\u001b[0m │\n",
       "├──────────────────────────────────────┼─────────────────────────────┼─────────────────┤\n",
       "│ dropout_5 (\u001b[38;5;33mDropout\u001b[0m)                  │ (\u001b[38;5;45mNone\u001b[0m, \u001b[38;5;34m128\u001b[0m)                 │               \u001b[38;5;34m0\u001b[0m │\n",
       "├──────────────────────────────────────┼─────────────────────────────┼─────────────────┤\n",
       "│ dense_3 (\u001b[38;5;33mDense\u001b[0m)                      │ (\u001b[38;5;45mNone\u001b[0m, \u001b[38;5;34m64\u001b[0m)                  │           \u001b[38;5;34m8,256\u001b[0m │\n",
       "├──────────────────────────────────────┼─────────────────────────────┼─────────────────┤\n",
       "│ dropout_6 (\u001b[38;5;33mDropout\u001b[0m)                  │ (\u001b[38;5;45mNone\u001b[0m, \u001b[38;5;34m64\u001b[0m)                  │               \u001b[38;5;34m0\u001b[0m │\n",
       "├──────────────────────────────────────┼─────────────────────────────┼─────────────────┤\n",
       "│ dense_4 (\u001b[38;5;33mDense\u001b[0m)                      │ (\u001b[38;5;45mNone\u001b[0m, \u001b[38;5;34m7\u001b[0m)                   │             \u001b[38;5;34m455\u001b[0m │\n",
       "└──────────────────────────────────────┴─────────────────────────────┴─────────────────┘\n"
      ]
     },
     "metadata": {},
     "output_type": "display_data"
    },
    {
     "data": {
      "text/html": [
       "<pre style=\"white-space:pre;overflow-x:auto;line-height:normal;font-family:Menlo,'DejaVu Sans Mono',consolas,'Courier New',monospace\"><span style=\"font-weight: bold\"> Total params: </span><span style=\"color: #00af00; text-decoration-color: #00af00\">1,633,863</span> (6.23 MB)\n",
       "</pre>\n"
      ],
      "text/plain": [
       "\u001b[1m Total params: \u001b[0m\u001b[38;5;34m1,633,863\u001b[0m (6.23 MB)\n"
      ]
     },
     "metadata": {},
     "output_type": "display_data"
    },
    {
     "data": {
      "text/html": [
       "<pre style=\"white-space:pre;overflow-x:auto;line-height:normal;font-family:Menlo,'DejaVu Sans Mono',consolas,'Courier New',monospace\"><span style=\"font-weight: bold\"> Trainable params: </span><span style=\"color: #00af00; text-decoration-color: #00af00\">1,633,863</span> (6.23 MB)\n",
       "</pre>\n"
      ],
      "text/plain": [
       "\u001b[1m Trainable params: \u001b[0m\u001b[38;5;34m1,633,863\u001b[0m (6.23 MB)\n"
      ]
     },
     "metadata": {},
     "output_type": "display_data"
    },
    {
     "data": {
      "text/html": [
       "<pre style=\"white-space:pre;overflow-x:auto;line-height:normal;font-family:Menlo,'DejaVu Sans Mono',consolas,'Courier New',monospace\"><span style=\"font-weight: bold\"> Non-trainable params: </span><span style=\"color: #00af00; text-decoration-color: #00af00\">0</span> (0.00 B)\n",
       "</pre>\n"
      ],
      "text/plain": [
       "\u001b[1m Non-trainable params: \u001b[0m\u001b[38;5;34m0\u001b[0m (0.00 B)\n"
      ]
     },
     "metadata": {},
     "output_type": "display_data"
    }
   ],
   "source": [
    "from tensorflow.keras import layers, models, optimizers\n",
    "import tensorflow as tf\n",
    "\n",
    "# Loss functions\n",
    "loss_fn_auto = tf.keras.losses.MeanSquaredError()  # Autoencoder Loss for reconstruction\n",
    "loss_fn_disc = tf.keras.losses.CategoricalCrossentropy()  # Discriminator Loss for multi-class classification\n",
    "\n",
    "# Optimizers\n",
    "opt_autoencoder = tf.keras.optimizers.Adam(learning_rate=0.0001, beta_1=0.5)  # Optimizer for Autoencoder\n",
    "opt_disc = tf.keras.optimizers.Adam(learning_rate=0.0001, beta_1=0.5)  # Optimizer for Discriminator\n",
    "\n",
    "# Make sure to compile the model before training\n",
    "autoencoder.compile(optimizer=opt_autoencoder, loss=loss_fn_auto)\n",
    "discriminator.compile(optimizer=opt_disc, loss=loss_fn_disc, metrics=['accuracy'])\n",
    "\n",
    "\n",
    "# Print model summaries to check\n",
    "print(\"Autoencoder Model Summary:\")\n",
    "autoencoder.summary()\n",
    "\n",
    "print(\"\\nDiscriminator Model Summary:\")\n",
    "discriminator.summary()\n"
   ]
  },
  {
   "cell_type": "code",
   "execution_count": 9,
   "id": "0843f072",
   "metadata": {
    "execution": {
     "iopub.execute_input": "2025-02-21T19:31:31.134843Z",
     "iopub.status.busy": "2025-02-21T19:31:31.134511Z",
     "iopub.status.idle": "2025-02-21T23:58:24.099845Z",
     "shell.execute_reply": "2025-02-21T23:58:24.098597Z"
    },
    "papermill": {
     "duration": 16014.246638,
     "end_time": "2025-02-21T23:58:25.374268",
     "exception": false,
     "start_time": "2025-02-21T19:31:31.127630",
     "status": "completed"
    },
    "tags": []
   },
   "outputs": [
    {
     "name": "stderr",
     "output_type": "stream",
     "text": [
      "100%|██████████| 401/401 [05:14<00:00,  1.28it/s]\n"
     ]
    },
    {
     "name": "stdout",
     "output_type": "stream",
     "text": [
      "Epoch 0, Autoencoder Loss: 0.01810292713344097, Discriminator Loss: 1.1084791421890259, Discriminator Accuracy: 0.6721736788749695\n",
      "Validation - Autoencoder Loss: 0.007117317523807287, Discriminator Loss: 1.0184978246688843, Discriminator Accuracy: 0.6606847643852234\n"
     ]
    },
    {
     "name": "stderr",
     "output_type": "stream",
     "text": [
      "100%|██████████| 401/401 [05:05<00:00,  1.31it/s]\n"
     ]
    },
    {
     "name": "stdout",
     "output_type": "stream",
     "text": [
      "Epoch 1, Autoencoder Loss: 0.004911016207188368, Discriminator Loss: 0.9701564908027649, Discriminator Accuracy: 0.6732301115989685\n",
      "Validation - Autoencoder Loss: 0.004112974740564823, Discriminator Loss: 0.9650706052780151, Discriminator Accuracy: 0.6600660085678101\n"
     ]
    },
    {
     "name": "stderr",
     "output_type": "stream",
     "text": [
      "100%|██████████| 401/401 [04:59<00:00,  1.34it/s]\n"
     ]
    },
    {
     "name": "stdout",
     "output_type": "stream",
     "text": [
      "Epoch 2, Autoencoder Loss: 0.0037678705994039774, Discriminator Loss: 0.9231465458869934, Discriminator Accuracy: 0.6760702133178711\n",
      "Validation - Autoencoder Loss: 0.0034505052026361227, Discriminator Loss: 0.9178873300552368, Discriminator Accuracy: 0.6631600260734558\n"
     ]
    },
    {
     "name": "stderr",
     "output_type": "stream",
     "text": [
      "100%|██████████| 401/401 [04:56<00:00,  1.35it/s]\n"
     ]
    },
    {
     "name": "stdout",
     "output_type": "stream",
     "text": [
      "Epoch 3, Autoencoder Loss: 0.0032582744024693966, Discriminator Loss: 0.8893617391586304, Discriminator Accuracy: 0.6849542260169983\n",
      "Validation - Autoencoder Loss: 0.0030733542516827583, Discriminator Loss: 0.891601026058197, Discriminator Accuracy: 0.6631600260734558\n"
     ]
    },
    {
     "name": "stderr",
     "output_type": "stream",
     "text": [
      "100%|██████████| 401/401 [05:08<00:00,  1.30it/s]\n"
     ]
    },
    {
     "name": "stdout",
     "output_type": "stream",
     "text": [
      "Epoch 4, Autoencoder Loss: 0.0029869971331208944, Discriminator Loss: 0.8578183650970459, Discriminator Accuracy: 0.695396900177002\n",
      "Validation - Autoencoder Loss: 0.0028659868985414505, Discriminator Loss: 0.8702214360237122, Discriminator Accuracy: 0.6730610132217407\n"
     ]
    },
    {
     "name": "stderr",
     "output_type": "stream",
     "text": [
      "100%|██████████| 401/401 [05:06<00:00,  1.31it/s]\n"
     ]
    },
    {
     "name": "stdout",
     "output_type": "stream",
     "text": [
      "Epoch 5, Autoencoder Loss: 0.0027707212138921022, Discriminator Loss: 0.8309688568115234, Discriminator Accuracy: 0.7038480043411255\n",
      "Validation - Autoencoder Loss: 0.0033005340956151485, Discriminator Loss: 0.8613713979721069, Discriminator Accuracy: 0.6860560774803162\n"
     ]
    },
    {
     "name": "stderr",
     "output_type": "stream",
     "text": [
      "100%|██████████| 401/401 [05:07<00:00,  1.31it/s]\n"
     ]
    },
    {
     "name": "stdout",
     "output_type": "stream",
     "text": [
      "Epoch 6, Autoencoder Loss: 0.0026485477574169636, Discriminator Loss: 0.8083756566047668, Discriminator Accuracy: 0.711104154586792\n",
      "Validation - Autoencoder Loss: 0.0026774087455123663, Discriminator Loss: 0.8634361624717712, Discriminator Accuracy: 0.6792491674423218\n"
     ]
    },
    {
     "name": "stderr",
     "output_type": "stream",
     "text": [
      "100%|██████████| 401/401 [05:07<00:00,  1.30it/s]\n"
     ]
    },
    {
     "name": "stdout",
     "output_type": "stream",
     "text": [
      "Epoch 7, Autoencoder Loss: 0.002528055105358362, Discriminator Loss: 0.7854483127593994, Discriminator Accuracy: 0.7193474769592285\n",
      "Validation - Autoencoder Loss: 0.00249372492544353, Discriminator Loss: 0.8254898190498352, Discriminator Accuracy: 0.691006600856781\n"
     ]
    },
    {
     "name": "stderr",
     "output_type": "stream",
     "text": [
      "100%|██████████| 401/401 [05:03<00:00,  1.32it/s]\n"
     ]
    },
    {
     "name": "stdout",
     "output_type": "stream",
     "text": [
      "Epoch 8, Autoencoder Loss: 0.0024530182126909494, Discriminator Loss: 0.7703979015350342, Discriminator Accuracy: 0.72360759973526\n",
      "Validation - Autoencoder Loss: 0.0025375098921358585, Discriminator Loss: 0.8235397934913635, Discriminator Accuracy: 0.6897689700126648\n"
     ]
    },
    {
     "name": "stderr",
     "output_type": "stream",
     "text": [
      "100%|██████████| 401/401 [05:04<00:00,  1.32it/s]\n"
     ]
    },
    {
     "name": "stdout",
     "output_type": "stream",
     "text": [
      "Epoch 9, Autoencoder Loss: 0.0023699277080595493, Discriminator Loss: 0.7563427686691284, Discriminator Accuracy: 0.7280929684638977\n",
      "Validation - Autoencoder Loss: 0.0024108325596898794, Discriminator Loss: 0.8166458606719971, Discriminator Accuracy: 0.6971946954727173\n"
     ]
    },
    {
     "name": "stderr",
     "output_type": "stream",
     "text": [
      "100%|██████████| 401/401 [05:06<00:00,  1.31it/s]\n"
     ]
    },
    {
     "name": "stdout",
     "output_type": "stream",
     "text": [
      "Epoch 10, Autoencoder Loss: 0.0023135601077228785, Discriminator Loss: 0.7403869032859802, Discriminator Accuracy: 0.733894407749176\n",
      "Validation - Autoencoder Loss: 0.002428619656711817, Discriminator Loss: 0.8208470344543457, Discriminator Accuracy: 0.7027639746665955\n"
     ]
    },
    {
     "name": "stderr",
     "output_type": "stream",
     "text": [
      "100%|██████████| 401/401 [05:02<00:00,  1.33it/s]\n"
     ]
    },
    {
     "name": "stdout",
     "output_type": "stream",
     "text": [
      "Epoch 11, Autoencoder Loss: 0.002253800630569458, Discriminator Loss: 0.7274189591407776, Discriminator Accuracy: 0.7374099493026733\n",
      "Validation - Autoencoder Loss: 0.0023745757061988115, Discriminator Loss: 0.7927225828170776, Discriminator Accuracy: 0.705858051776886\n"
     ]
    },
    {
     "name": "stderr",
     "output_type": "stream",
     "text": [
      "100%|██████████| 401/401 [05:07<00:00,  1.30it/s]\n"
     ]
    },
    {
     "name": "stdout",
     "output_type": "stream",
     "text": [
      "Epoch 12, Autoencoder Loss: 0.0021905030589550734, Discriminator Loss: 0.713259756565094, Discriminator Accuracy: 0.7391936779022217\n",
      "Validation - Autoencoder Loss: 0.002202831907197833, Discriminator Loss: 0.8036505579948425, Discriminator Accuracy: 0.695338249206543\n"
     ]
    },
    {
     "name": "stderr",
     "output_type": "stream",
     "text": [
      "100%|██████████| 401/401 [05:04<00:00,  1.32it/s]\n"
     ]
    },
    {
     "name": "stdout",
     "output_type": "stream",
     "text": [
      "Epoch 13, Autoencoder Loss: 0.002138137584552169, Discriminator Loss: 0.7025578022003174, Discriminator Accuracy: 0.741722047328949\n",
      "Validation - Autoencoder Loss: 0.0022487735841423273, Discriminator Loss: 0.7901264429092407, Discriminator Accuracy: 0.7070956826210022\n"
     ]
    },
    {
     "name": "stderr",
     "output_type": "stream",
     "text": [
      "100%|██████████| 401/401 [05:01<00:00,  1.33it/s]\n"
     ]
    },
    {
     "name": "stdout",
     "output_type": "stream",
     "text": [
      "Epoch 14, Autoencoder Loss: 0.0020976669620722532, Discriminator Loss: 0.6919987201690674, Discriminator Accuracy: 0.7480430603027344\n",
      "Validation - Autoencoder Loss: 0.002137735253199935, Discriminator Loss: 0.7827032208442688, Discriminator Accuracy: 0.7046204209327698\n"
     ]
    },
    {
     "name": "stderr",
     "output_type": "stream",
     "text": [
      "100%|██████████| 401/401 [05:12<00:00,  1.28it/s]\n"
     ]
    },
    {
     "name": "stdout",
     "output_type": "stream",
     "text": [
      "Epoch 15, Autoencoder Loss: 0.002054308308288455, Discriminator Loss: 0.6824182271957397, Discriminator Accuracy: 0.7490994930267334\n",
      "Validation - Autoencoder Loss: 0.0021127965301275253, Discriminator Loss: 0.7763415575027466, Discriminator Accuracy: 0.7194719314575195\n"
     ]
    },
    {
     "name": "stderr",
     "output_type": "stream",
     "text": [
      "100%|██████████| 401/401 [05:05<00:00,  1.31it/s]\n"
     ]
    },
    {
     "name": "stdout",
     "output_type": "stream",
     "text": [
      "Epoch 16, Autoencoder Loss: 0.0020130742341279984, Discriminator Loss: 0.6725761294364929, Discriminator Accuracy: 0.7507619261741638\n",
      "Validation - Autoencoder Loss: 0.002081915270537138, Discriminator Loss: 0.8000093698501587, Discriminator Accuracy: 0.6965758800506592\n"
     ]
    },
    {
     "name": "stderr",
     "output_type": "stream",
     "text": [
      "100%|██████████| 401/401 [05:02<00:00,  1.33it/s]\n"
     ]
    },
    {
     "name": "stdout",
     "output_type": "stream",
     "text": [
      "Epoch 17, Autoencoder Loss: 0.0019723037257790565, Discriminator Loss: 0.6639441847801208, Discriminator Accuracy: 0.7559226751327515\n",
      "Validation - Autoencoder Loss: 0.0021228205878287554, Discriminator Loss: 0.7702828049659729, Discriminator Accuracy: 0.7176154851913452\n"
     ]
    },
    {
     "name": "stderr",
     "output_type": "stream",
     "text": [
      "100%|██████████| 401/401 [05:10<00:00,  1.29it/s]\n"
     ]
    },
    {
     "name": "stdout",
     "output_type": "stream",
     "text": [
      "Epoch 18, Autoencoder Loss: 0.0018755481578409672, Discriminator Loss: 0.6499254107475281, Discriminator Accuracy: 0.7596979737281799\n",
      "Validation - Autoencoder Loss: 0.0018946129130199552, Discriminator Loss: 0.7670259475708008, Discriminator Accuracy: 0.7194719314575195\n"
     ]
    },
    {
     "name": "stderr",
     "output_type": "stream",
     "text": [
      "100%|██████████| 401/401 [05:08<00:00,  1.30it/s]\n"
     ]
    },
    {
     "name": "stdout",
     "output_type": "stream",
     "text": [
      "Epoch 19, Autoencoder Loss: 0.0017457432113587856, Discriminator Loss: 0.6378487348556519, Discriminator Accuracy: 0.7672138810157776\n",
      "Validation - Autoencoder Loss: 0.0018965365597978234, Discriminator Loss: 0.7686631083488464, Discriminator Accuracy: 0.7132837772369385\n"
     ]
    },
    {
     "name": "stderr",
     "output_type": "stream",
     "text": [
      "100%|██████████| 401/401 [05:02<00:00,  1.33it/s]\n"
     ]
    },
    {
     "name": "stdout",
     "output_type": "stream",
     "text": [
      "Epoch 20, Autoencoder Loss: 0.001685960916802287, Discriminator Loss: 0.6252240538597107, Discriminator Accuracy: 0.770331084728241\n",
      "Validation - Autoencoder Loss: 0.0017402510857209563, Discriminator Loss: 0.7654836773872375, Discriminator Accuracy: 0.7200907468795776\n"
     ]
    },
    {
     "name": "stderr",
     "output_type": "stream",
     "text": [
      "100%|██████████| 401/401 [05:00<00:00,  1.33it/s]\n"
     ]
    },
    {
     "name": "stdout",
     "output_type": "stream",
     "text": [
      "Epoch 21, Autoencoder Loss: 0.0016485255910083652, Discriminator Loss: 0.6159403324127197, Discriminator Accuracy: 0.7780374884605408\n",
      "Validation - Autoencoder Loss: 0.0017305721994489431, Discriminator Loss: 0.7591679096221924, Discriminator Accuracy: 0.7200907468795776\n"
     ]
    },
    {
     "name": "stderr",
     "output_type": "stream",
     "text": [
      "100%|██████████| 401/401 [05:08<00:00,  1.30it/s]\n"
     ]
    },
    {
     "name": "stdout",
     "output_type": "stream",
     "text": [
      "Epoch 22, Autoencoder Loss: 0.0016256995731964707, Discriminator Loss: 0.6022148132324219, Discriminator Accuracy: 0.7818301320075989\n",
      "Validation - Autoencoder Loss: 0.001789336558431387, Discriminator Loss: 0.763372540473938, Discriminator Accuracy: 0.7176154851913452\n"
     ]
    },
    {
     "name": "stderr",
     "output_type": "stream",
     "text": [
      "100%|██████████| 401/401 [05:00<00:00,  1.34it/s]\n"
     ]
    },
    {
     "name": "stdout",
     "output_type": "stream",
     "text": [
      "Epoch 23, Autoencoder Loss: 0.001605053897947073, Discriminator Loss: 0.590352475643158, Discriminator Accuracy: 0.7874411344528198\n",
      "Validation - Autoencoder Loss: 0.0016869799001142383, Discriminator Loss: 0.8134725093841553, Discriminator Accuracy: 0.7095709443092346\n"
     ]
    },
    {
     "name": "stderr",
     "output_type": "stream",
     "text": [
      "100%|██████████| 401/401 [05:02<00:00,  1.33it/s]\n"
     ]
    },
    {
     "name": "stdout",
     "output_type": "stream",
     "text": [
      "Epoch 24, Autoencoder Loss: 0.0015796154038980603, Discriminator Loss: 0.5828936696052551, Discriminator Accuracy: 0.7947319149971008\n",
      "Validation - Autoencoder Loss: 0.0016633911291137338, Discriminator Loss: 0.7844744324684143, Discriminator Accuracy: 0.726897656917572\n"
     ]
    },
    {
     "name": "stderr",
     "output_type": "stream",
     "text": [
      "100%|██████████| 401/401 [05:05<00:00,  1.31it/s]\n"
     ]
    },
    {
     "name": "stdout",
     "output_type": "stream",
     "text": [
      "Epoch 25, Autoencoder Loss: 0.0015794243663549423, Discriminator Loss: 0.5674769878387451, Discriminator Accuracy: 0.7978837490081787\n",
      "Validation - Autoencoder Loss: 0.0016615197528153658, Discriminator Loss: 0.7830473780632019, Discriminator Accuracy: 0.7200907468795776\n"
     ]
    },
    {
     "name": "stderr",
     "output_type": "stream",
     "text": [
      "100%|██████████| 401/401 [05:01<00:00,  1.33it/s]\n"
     ]
    },
    {
     "name": "stdout",
     "output_type": "stream",
     "text": [
      "Epoch 26, Autoencoder Loss: 0.0015180014306679368, Discriminator Loss: 0.5488725900650024, Discriminator Accuracy: 0.8082051873207092\n",
      "Validation - Autoencoder Loss: 0.0016201137332245708, Discriminator Loss: 0.7596520781517029, Discriminator Accuracy: 0.7231847643852234\n"
     ]
    },
    {
     "name": "stderr",
     "output_type": "stream",
     "text": [
      "100%|██████████| 401/401 [05:07<00:00,  1.31it/s]\n"
     ]
    },
    {
     "name": "stdout",
     "output_type": "stream",
     "text": [
      "Epoch 27, Autoencoder Loss: 0.0015104293124750257, Discriminator Loss: 0.5336010456085205, Discriminator Accuracy: 0.8140586018562317\n",
      "Validation - Autoencoder Loss: 0.0016219187527894974, Discriminator Loss: 0.7745130658149719, Discriminator Accuracy: 0.7343233823776245\n"
     ]
    },
    {
     "name": "stderr",
     "output_type": "stream",
     "text": [
      "100%|██████████| 401/401 [05:00<00:00,  1.33it/s]\n"
     ]
    },
    {
     "name": "stdout",
     "output_type": "stream",
     "text": [
      "Epoch 28, Autoencoder Loss: 0.0014907942386344075, Discriminator Loss: 0.5245444178581238, Discriminator Accuracy: 0.8175221681594849\n",
      "Validation - Autoencoder Loss: 0.0015873712254688144, Discriminator Loss: 0.7742804288864136, Discriminator Accuracy: 0.7281352877616882\n"
     ]
    },
    {
     "name": "stderr",
     "output_type": "stream",
     "text": [
      "100%|██████████| 401/401 [05:02<00:00,  1.33it/s]\n"
     ]
    },
    {
     "name": "stdout",
     "output_type": "stream",
     "text": [
      "Epoch 29, Autoencoder Loss: 0.0014801702927798033, Discriminator Loss: 0.5125117897987366, Discriminator Accuracy: 0.8259386420249939\n",
      "Validation - Autoencoder Loss: 0.0015792724443599582, Discriminator Loss: 0.7426164746284485, Discriminator Accuracy: 0.7398927211761475\n"
     ]
    },
    {
     "name": "stderr",
     "output_type": "stream",
     "text": [
      "100%|██████████| 401/401 [05:00<00:00,  1.33it/s]\n"
     ]
    },
    {
     "name": "stdout",
     "output_type": "stream",
     "text": [
      "Epoch 30, Autoencoder Loss: 0.0014542019926011562, Discriminator Loss: 0.5024184584617615, Discriminator Accuracy: 0.8268391489982605\n",
      "Validation - Autoencoder Loss: 0.0015943791950121522, Discriminator Loss: 0.7651795744895935, Discriminator Accuracy: 0.7287541031837463\n"
     ]
    },
    {
     "name": "stderr",
     "output_type": "stream",
     "text": [
      "100%|██████████| 401/401 [05:00<00:00,  1.33it/s]\n"
     ]
    },
    {
     "name": "stdout",
     "output_type": "stream",
     "text": [
      "Epoch 31, Autoencoder Loss: 0.0014459093799814582, Discriminator Loss: 0.49320560693740845, Discriminator Accuracy: 0.8318959474563599\n",
      "Validation - Autoencoder Loss: 0.0015621980419382453, Discriminator Loss: 0.772282600402832, Discriminator Accuracy: 0.7405115365982056\n"
     ]
    },
    {
     "name": "stderr",
     "output_type": "stream",
     "text": [
      "100%|██████████| 401/401 [05:04<00:00,  1.32it/s]\n"
     ]
    },
    {
     "name": "stdout",
     "output_type": "stream",
     "text": [
      "Epoch 32, Autoencoder Loss: 0.001435629092156887, Discriminator Loss: 0.48332589864730835, Discriminator Accuracy: 0.8331774473190308\n",
      "Validation - Autoencoder Loss: 0.0015441520372405648, Discriminator Loss: 0.7466049194335938, Discriminator Accuracy: 0.742986798286438\n"
     ]
    },
    {
     "name": "stderr",
     "output_type": "stream",
     "text": [
      "100%|██████████| 401/401 [05:00<00:00,  1.33it/s]\n"
     ]
    },
    {
     "name": "stdout",
     "output_type": "stream",
     "text": [
      "Epoch 33, Autoencoder Loss: 0.0014120156411081553, Discriminator Loss: 0.471076101064682, Discriminator Accuracy: 0.8415246605873108\n",
      "Validation - Autoencoder Loss: 0.0019983986858278513, Discriminator Loss: 0.7946991324424744, Discriminator Accuracy: 0.7238035798072815\n"
     ]
    },
    {
     "name": "stderr",
     "output_type": "stream",
     "text": [
      "100%|██████████| 401/401 [05:01<00:00,  1.33it/s]\n"
     ]
    },
    {
     "name": "stdout",
     "output_type": "stream",
     "text": [
      "Epoch 34, Autoencoder Loss: 0.0014067100128158927, Discriminator Loss: 0.46339619159698486, Discriminator Accuracy: 0.8452653288841248\n",
      "Validation - Autoencoder Loss: 0.0015120171010494232, Discriminator Loss: 0.7842769026756287, Discriminator Accuracy: 0.742986798286438\n"
     ]
    },
    {
     "name": "stderr",
     "output_type": "stream",
     "text": [
      "100%|██████████| 401/401 [05:01<00:00,  1.33it/s]\n"
     ]
    },
    {
     "name": "stdout",
     "output_type": "stream",
     "text": [
      "Epoch 35, Autoencoder Loss: 0.0014287550002336502, Discriminator Loss: 0.4573698341846466, Discriminator Accuracy: 0.8483479022979736\n",
      "Validation - Autoencoder Loss: 0.0014964700676500797, Discriminator Loss: 0.7937222719192505, Discriminator Accuracy: 0.7485560774803162\n"
     ]
    },
    {
     "name": "stderr",
     "output_type": "stream",
     "text": [
      "100%|██████████| 401/401 [04:59<00:00,  1.34it/s]\n"
     ]
    },
    {
     "name": "stdout",
     "output_type": "stream",
     "text": [
      "Epoch 36, Autoencoder Loss: 0.0013725628377869725, Discriminator Loss: 0.44499003887176514, Discriminator Accuracy: 0.8527466058731079\n",
      "Validation - Autoencoder Loss: 0.0015259213978424668, Discriminator Loss: 0.782751202583313, Discriminator Accuracy: 0.7392739057540894\n"
     ]
    },
    {
     "name": "stderr",
     "output_type": "stream",
     "text": [
      "100%|██████████| 401/401 [05:00<00:00,  1.34it/s]\n"
     ]
    },
    {
     "name": "stdout",
     "output_type": "stream",
     "text": [
      "Epoch 37, Autoencoder Loss: 0.0013671057531610131, Discriminator Loss: 0.436415433883667, Discriminator Accuracy: 0.855552077293396\n",
      "Validation - Autoencoder Loss: 0.001567683182656765, Discriminator Loss: 0.7903530597686768, Discriminator Accuracy: 0.7343233823776245\n"
     ]
    },
    {
     "name": "stderr",
     "output_type": "stream",
     "text": [
      "100%|██████████| 401/401 [05:03<00:00,  1.32it/s]\n"
     ]
    },
    {
     "name": "stdout",
     "output_type": "stream",
     "text": [
      "Epoch 38, Autoencoder Loss: 0.0013537593185901642, Discriminator Loss: 0.42386648058891296, Discriminator Accuracy: 0.8634663224220276\n",
      "Validation - Autoencoder Loss: 0.0015595064032822847, Discriminator Loss: 0.8278776407241821, Discriminator Accuracy: 0.7281352877616882\n"
     ]
    },
    {
     "name": "stderr",
     "output_type": "stream",
     "text": [
      "100%|██████████| 401/401 [05:05<00:00,  1.31it/s]\n"
     ]
    },
    {
     "name": "stdout",
     "output_type": "stream",
     "text": [
      "Epoch 39, Autoencoder Loss: 0.0013547169510275126, Discriminator Loss: 0.41623929142951965, Discriminator Accuracy: 0.8693890571594238\n",
      "Validation - Autoencoder Loss: 0.0015281415544450283, Discriminator Loss: 0.8781043887138367, Discriminator Accuracy: 0.7299917340278625\n"
     ]
    },
    {
     "name": "stderr",
     "output_type": "stream",
     "text": [
      "100%|██████████| 401/401 [04:52<00:00,  1.37it/s]\n"
     ]
    },
    {
     "name": "stdout",
     "output_type": "stream",
     "text": [
      "Epoch 40, Autoencoder Loss: 0.0013320522848516703, Discriminator Loss: 0.40685030817985535, Discriminator Accuracy: 0.8746882677078247\n",
      "Validation - Autoencoder Loss: 0.0017642989987507463, Discriminator Loss: 0.7872015833854675, Discriminator Accuracy: 0.7386550903320312\n"
     ]
    },
    {
     "name": "stderr",
     "output_type": "stream",
     "text": [
      "100%|██████████| 401/401 [04:53<00:00,  1.37it/s]\n"
     ]
    },
    {
     "name": "stdout",
     "output_type": "stream",
     "text": [
      "Epoch 41, Autoencoder Loss: 0.0013296648394316435, Discriminator Loss: 0.39953017234802246, Discriminator Accuracy: 0.8709476590156555\n",
      "Validation - Autoencoder Loss: 0.001487573143094778, Discriminator Loss: 0.8014506697654724, Discriminator Accuracy: 0.7318481802940369\n"
     ]
    },
    {
     "name": "stderr",
     "output_type": "stream",
     "text": [
      "100%|██████████| 401/401 [04:53<00:00,  1.36it/s]\n"
     ]
    },
    {
     "name": "stdout",
     "output_type": "stream",
     "text": [
      "Epoch 42, Autoencoder Loss: 0.001318993978202343, Discriminator Loss: 0.385521799325943, Discriminator Accuracy: 0.8779959678649902\n",
      "Validation - Autoencoder Loss: 0.00148195237852633, Discriminator Loss: 0.8353390097618103, Discriminator Accuracy: 0.7442243695259094\n"
     ]
    },
    {
     "name": "stderr",
     "output_type": "stream",
     "text": [
      "100%|██████████| 401/401 [04:52<00:00,  1.37it/s]\n"
     ]
    },
    {
     "name": "stdout",
     "output_type": "stream",
     "text": [
      "Epoch 43, Autoencoder Loss: 0.0013168780133128166, Discriminator Loss: 0.37840327620506287, Discriminator Accuracy: 0.8814595341682434\n",
      "Validation - Autoencoder Loss: 0.0014632538659498096, Discriminator Loss: 0.8130595088005066, Discriminator Accuracy: 0.7349421977996826\n"
     ]
    },
    {
     "name": "stderr",
     "output_type": "stream",
     "text": [
      "100%|██████████| 401/401 [04:51<00:00,  1.37it/s]\n"
     ]
    },
    {
     "name": "stdout",
     "output_type": "stream",
     "text": [
      "Epoch 44, Autoencoder Loss: 0.001300301169976592, Discriminator Loss: 0.36914485692977905, Discriminator Accuracy: 0.8870358467102051\n",
      "Validation - Autoencoder Loss: 0.001484801759943366, Discriminator Loss: 0.862229585647583, Discriminator Accuracy: 0.7256600260734558\n"
     ]
    },
    {
     "name": "stderr",
     "output_type": "stream",
     "text": [
      "100%|██████████| 401/401 [04:56<00:00,  1.35it/s]\n"
     ]
    },
    {
     "name": "stdout",
     "output_type": "stream",
     "text": [
      "Epoch 45, Autoencoder Loss: 0.0013039048062637448, Discriminator Loss: 0.35979601740837097, Discriminator Accuracy: 0.8871917128562927\n",
      "Validation - Autoencoder Loss: 0.0014638896100223064, Discriminator Loss: 0.8246508836746216, Discriminator Accuracy: 0.7417491674423218\n"
     ]
    },
    {
     "name": "stderr",
     "output_type": "stream",
     "text": [
      "100%|██████████| 401/401 [04:59<00:00,  1.34it/s]\n"
     ]
    },
    {
     "name": "stdout",
     "output_type": "stream",
     "text": [
      "Epoch 46, Autoencoder Loss: 0.0012855513487011194, Discriminator Loss: 0.34567588567733765, Discriminator Accuracy: 0.8974438905715942\n",
      "Validation - Autoencoder Loss: 0.001435388927347958, Discriminator Loss: 0.842411994934082, Discriminator Accuracy: 0.7392739057540894\n"
     ]
    },
    {
     "name": "stderr",
     "output_type": "stream",
     "text": [
      "100%|██████████| 401/401 [05:12<00:00,  1.28it/s]\n"
     ]
    },
    {
     "name": "stdout",
     "output_type": "stream",
     "text": [
      "Epoch 47, Autoencoder Loss: 0.0012854643864557147, Discriminator Loss: 0.3432448208332062, Discriminator Accuracy: 0.8987253904342651\n",
      "Validation - Autoencoder Loss: 0.0015623506624251604, Discriminator Loss: 0.841713011264801, Discriminator Accuracy: 0.7380362749099731\n"
     ]
    },
    {
     "name": "stderr",
     "output_type": "stream",
     "text": [
      "100%|██████████| 401/401 [04:59<00:00,  1.34it/s]\n"
     ]
    },
    {
     "name": "stdout",
     "output_type": "stream",
     "text": [
      "Epoch 48, Autoencoder Loss: 0.001276260707527399, Discriminator Loss: 0.3277621269226074, Discriminator Accuracy: 0.9063279032707214\n",
      "Validation - Autoencoder Loss: 0.001431110082194209, Discriminator Loss: 0.8509377837181091, Discriminator Accuracy: 0.7361798286437988\n"
     ]
    },
    {
     "name": "stderr",
     "output_type": "stream",
     "text": [
      "100%|██████████| 401/401 [04:54<00:00,  1.36it/s]\n"
     ]
    },
    {
     "name": "stdout",
     "output_type": "stream",
     "text": [
      "Epoch 49, Autoencoder Loss: 0.001276496914215386, Discriminator Loss: 0.3191652297973633, Discriminator Accuracy: 0.9099127054214478\n",
      "Validation - Autoencoder Loss: 0.0014815873000770807, Discriminator Loss: 0.9720004200935364, Discriminator Accuracy: 0.7367986440658569\n"
     ]
    }
   ],
   "source": [
    "from tqdm import tqdm\n",
    "# Training loop for GAN\n",
    "autoencoder_losses_epoch = []\n",
    "discriminator_losses_epoch = []\n",
    "discriminator_acc_epoch = []\n",
    "val_autoencoder_losses_epoch = []\n",
    "val_discriminator_losses_epoch = []\n",
    "val_discriminator_acc_epoch = []\n",
    "\n",
    "for epoch in range(50):\n",
    "    # Initialize epoch-wise metrics\n",
    "    epoch_autoencoder_losses = []\n",
    "    epoch_discriminator_losses = []\n",
    "    epoch_discriminator_acc = []\n",
    "    epoch_val_autoencoder_losses = []\n",
    "    epoch_val_discriminator_losses = []\n",
    "    epoch_val_discriminator_acc = []\n",
    "\n",
    "    # Training loop\n",
    "    for idx, (batch_real, batch_label) in enumerate(tqdm(train_data)):\n",
    "        with tf.GradientTape() as autoencoder_tape, tf.GradientTape() as disc_tape:\n",
    "            # Pass batch through the encoder and decoder (autoencoder)\n",
    "            latent_representation = encoder(batch_real)\n",
    "            generated_image = decoder(latent_representation)\n",
    "            loss_autoencoder = loss_fn_auto(batch_real, generated_image)\n",
    "\n",
    "            # Pass batch through the discriminator (real vs fake image)\n",
    "            fake = generated_image\n",
    "            loss_disc_real = loss_fn_disc(batch_label, discriminator(batch_real))\n",
    "            loss_disc_fake = loss_fn_disc(batch_label, discriminator(fake))\n",
    "            loss_disc = (loss_disc_real + loss_disc_fake) / 2\n",
    "\n",
    "        # Apply gradients to autoencoder\n",
    "        grads_autoencoder = autoencoder_tape.gradient(loss_autoencoder, autoencoder.trainable_weights)\n",
    "        opt_autoencoder.apply_gradients(zip(grads_autoencoder, autoencoder.trainable_weights))\n",
    "\n",
    "        # Apply gradients to discriminator\n",
    "        grads_discriminator = disc_tape.gradient(loss_disc, discriminator.trainable_weights)\n",
    "        opt_disc.apply_gradients(zip(grads_discriminator, discriminator.trainable_weights))\n",
    "\n",
    "        # Store batch-wise metrics\n",
    "        epoch_autoencoder_losses.append(loss_autoencoder.numpy())\n",
    "        epoch_discriminator_losses.append(loss_disc.numpy())\n",
    "        epoch_discriminator_acc.append(tf.reduce_mean(\n",
    "            tf.keras.metrics.categorical_accuracy(batch_label, discriminator(fake))).numpy())\n",
    "        \n",
    "        if idx % 200 == 0:\n",
    "            img = tf.keras.preprocessing.image.array_to_img(fake[0])\n",
    "            img.save(f\"{save_dir}/generated_img_epoch_{epoch}_batch_{idx}.png\")\n",
    "\n",
    "    # Validation loop\n",
    "    for val_batch_real, val_batch_label in val_data:\n",
    "        val_latent_representation = encoder(val_batch_real)\n",
    "        val_generated_image = decoder(val_latent_representation)\n",
    "        val_loss_autoencoder = loss_fn_auto(val_batch_real, val_generated_image)\n",
    "        val_loss_disc_real = loss_fn_disc(val_batch_label, discriminator(val_batch_real))\n",
    "        val_loss_disc_fake = loss_fn_disc(val_batch_label, discriminator(val_generated_image))\n",
    "        val_loss_disc = (val_loss_disc_real + val_loss_disc_fake) / 2\n",
    "\n",
    "        # Calculate accuracy\n",
    "        val_discriminator_accuracy = tf.reduce_mean(\n",
    "            tf.keras.metrics.categorical_accuracy(val_batch_label, discriminator(val_generated_image)))\n",
    "\n",
    "        # Store validation metrics\n",
    "        epoch_val_autoencoder_losses.append(val_loss_autoencoder.numpy())\n",
    "        epoch_val_discriminator_losses.append(val_loss_disc.numpy())\n",
    "        epoch_val_discriminator_acc.append(val_discriminator_accuracy.numpy())\n",
    "\n",
    "    # Calculate epoch-wise averages and append to the lists\n",
    "    avg_autoencoder_loss = np.mean(epoch_autoencoder_losses)\n",
    "    avg_discriminator_loss = np.mean(epoch_discriminator_losses)\n",
    "    avg_discriminator_acc = np.mean(epoch_discriminator_acc)\n",
    "    avg_val_autoencoder_loss = np.mean(epoch_val_autoencoder_losses)\n",
    "    avg_val_discriminator_loss = np.mean(epoch_val_discriminator_losses)\n",
    "    avg_val_discriminator_acc = np.mean(epoch_val_discriminator_acc)\n",
    "\n",
    "    autoencoder_losses_epoch.append(avg_autoencoder_loss)\n",
    "    discriminator_losses_epoch.append(avg_discriminator_loss)\n",
    "    discriminator_acc_epoch.append(avg_discriminator_acc)\n",
    "    val_autoencoder_losses_epoch.append(avg_val_autoencoder_loss)\n",
    "    val_discriminator_losses_epoch.append(avg_val_discriminator_loss)\n",
    "    val_discriminator_acc_epoch.append(avg_val_discriminator_acc)\n",
    "\n",
    "    # Print epoch-wise metrics\n",
    "    print(f\"Epoch {epoch}, Autoencoder Loss: {avg_autoencoder_loss}, Discriminator Loss: {avg_discriminator_loss}, Discriminator Accuracy: {avg_discriminator_acc}\")\n",
    "    print(f\"Validation - Autoencoder Loss: {avg_val_autoencoder_loss}, Discriminator Loss: {avg_val_discriminator_loss}, Discriminator Accuracy: {avg_val_discriminator_acc}\")\n"
   ]
  }
 ],
 "metadata": {
  "kaggle": {
   "accelerator": "none",
   "dataSources": [
    {
     "datasetId": 54339,
     "sourceId": 104884,
     "sourceType": "datasetVersion"
    }
   ],
   "dockerImageVersionId": 30918,
   "isGpuEnabled": false,
   "isInternetEnabled": true,
   "language": "python",
   "sourceType": "notebook"
  },
  "kernelspec": {
   "display_name": "Python 3",
   "language": "python",
   "name": "python3"
  },
  "language_info": {
   "codemirror_mode": {
    "name": "ipython",
    "version": 3
   },
   "file_extension": ".py",
   "mimetype": "text/x-python",
   "name": "python",
   "nbconvert_exporter": "python",
   "pygments_lexer": "ipython3",
   "version": "3.10.12"
  },
  "papermill": {
   "default_parameters": {},
   "duration": 16207.482317,
   "end_time": "2025-02-21T23:58:29.225865",
   "environment_variables": {},
   "exception": null,
   "input_path": "__notebook__.ipynb",
   "output_path": "__notebook__.ipynb",
   "parameters": {},
   "start_time": "2025-02-21T19:28:21.743548",
   "version": "2.6.0"
  }
 },
 "nbformat": 4,
 "nbformat_minor": 5
}
