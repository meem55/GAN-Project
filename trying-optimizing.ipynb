{
 "cells": [
  {
   "cell_type": "code",
   "execution_count": 1,
   "id": "19abf64a",
   "metadata": {
    "_cell_guid": "b1076dfc-b9ad-4769-8c92-a6c4dae69d19",
    "_uuid": "8f2839f25d086af736a60e9eeb907d3b93b6e0e5",
    "execution": {
     "iopub.execute_input": "2025-02-15T13:02:58.055669Z",
     "iopub.status.busy": "2025-02-15T13:02:58.055327Z",
     "iopub.status.idle": "2025-02-15T13:03:09.981077Z",
     "shell.execute_reply": "2025-02-15T13:03:09.980338Z"
    },
    "papermill": {
     "duration": 11.931602,
     "end_time": "2025-02-15T13:03:09.982717",
     "exception": false,
     "start_time": "2025-02-15T13:02:58.051115",
     "status": "completed"
    },
    "tags": []
   },
   "outputs": [],
   "source": [
    "import tensorflow as tf\n",
    "from tensorflow.keras import layers, models\n",
    "import numpy as np\n",
    "import time\n",
    "from tensorflow.keras.optimizers import Adam\n"
   ]
  },
  {
   "cell_type": "code",
   "execution_count": 2,
   "id": "81517678",
   "metadata": {
    "execution": {
     "iopub.execute_input": "2025-02-15T13:03:09.989917Z",
     "iopub.status.busy": "2025-02-15T13:03:09.989438Z",
     "iopub.status.idle": "2025-02-15T13:03:09.992991Z",
     "shell.execute_reply": "2025-02-15T13:03:09.992368Z"
    },
    "papermill": {
     "duration": 0.008154,
     "end_time": "2025-02-15T13:03:09.994224",
     "exception": false,
     "start_time": "2025-02-15T13:03:09.986070",
     "status": "completed"
    },
    "tags": []
   },
   "outputs": [],
   "source": [
    "# Ensure reproducibility\n",
    "tf.random.set_seed(42)\n",
    "np.random.seed(42)\n"
   ]
  },
  {
   "cell_type": "code",
   "execution_count": 3,
   "id": "9e47b957",
   "metadata": {
    "execution": {
     "iopub.execute_input": "2025-02-15T13:03:10.000450Z",
     "iopub.status.busy": "2025-02-15T13:03:10.000246Z",
     "iopub.status.idle": "2025-02-15T13:03:10.003227Z",
     "shell.execute_reply": "2025-02-15T13:03:10.002675Z"
    },
    "papermill": {
     "duration": 0.007369,
     "end_time": "2025-02-15T13:03:10.004361",
     "exception": false,
     "start_time": "2025-02-15T13:03:09.996992",
     "status": "completed"
    },
    "tags": []
   },
   "outputs": [],
   "source": [
    "import os  # Add this line at the beginning of your code\n",
    "\n",
    "save_dir = '/kaggle/working/'  # Specify your directory path\n",
    "os.makedirs(save_dir, exist_ok=True)  # Create the directory if it doesn't exist\n"
   ]
  },
  {
   "cell_type": "code",
   "execution_count": 4,
   "id": "d22946c5",
   "metadata": {
    "execution": {
     "iopub.execute_input": "2025-02-15T13:03:10.010417Z",
     "iopub.status.busy": "2025-02-15T13:03:10.010222Z",
     "iopub.status.idle": "2025-02-15T13:03:10.740948Z",
     "shell.execute_reply": "2025-02-15T13:03:10.740238Z"
    },
    "papermill": {
     "duration": 0.735124,
     "end_time": "2025-02-15T13:03:10.742207",
     "exception": false,
     "start_time": "2025-02-15T13:03:10.007083",
     "status": "completed"
    },
    "tags": []
   },
   "outputs": [],
   "source": [
    "# Batch size and learning rate\n",
    "batch_size = 32  # Batch size set to 32\n",
    "epochs = 200\n",
    "latent_dim = 100\n",
    "\n",
    "# Optimizers\n",
    "opt_autoencoder = Adam(learning_rate=0.0001, beta_1=0.5)\n",
    "opt_disc = Adam(learning_rate=0.0001, beta_1=0.5)\n"
   ]
  },
  {
   "cell_type": "code",
   "execution_count": 5,
   "id": "ca30b87d",
   "metadata": {
    "execution": {
     "iopub.execute_input": "2025-02-15T13:03:10.748892Z",
     "iopub.status.busy": "2025-02-15T13:03:10.748657Z",
     "iopub.status.idle": "2025-02-15T13:05:27.434443Z",
     "shell.execute_reply": "2025-02-15T13:05:27.433760Z"
    },
    "papermill": {
     "duration": 136.690823,
     "end_time": "2025-02-15T13:05:27.436042",
     "exception": false,
     "start_time": "2025-02-15T13:03:10.745219",
     "status": "completed"
    },
    "tags": []
   },
   "outputs": [
    {
     "name": "stdout",
     "output_type": "stream",
     "text": [
      "Training set shape: (6409, 64, 64, 3)\n",
      "Validation set shape: (1603, 64, 64, 3)\n",
      "Test set shape: (2003, 64, 64, 3)\n"
     ]
    }
   ],
   "source": [
    "import pandas as pd\n",
    "import numpy as np\n",
    "import tensorflow as tf\n",
    "from tensorflow.keras.preprocessing import image\n",
    "import os\n",
    "from sklearn.model_selection import train_test_split\n",
    "\n",
    "# Paths to the dataset\n",
    "image_dir_1 = '/kaggle/input/skin-cancer-mnist-ham10000/HAM10000_images_part_1'  \n",
    "image_dir_2 = '/kaggle/input/skin-cancer-mnist-ham10000/HAM10000_images_part_2'  \n",
    "metadata_file = '/kaggle/input/skin-cancer-mnist-ham10000/HAM10000_metadata.csv'  \n",
    "\n",
    "\n",
    "# Load metadata CSV\n",
    "labels = pd.read_csv(metadata_file)\n",
    "\n",
    "# Convert diagnosis (dx) to integers (you can map specific diseases if needed)\n",
    "label_mapping = {label: idx for idx, label in enumerate(labels['dx'].unique())}\n",
    "labels['dx'] = labels['dx'].map(label_mapping)\n",
    "\n",
    "# Set image size for the model\n",
    "IMG_SIZE = 64  # Resize images to 64x64\n",
    "\n",
    "# Function to load and preprocess images\n",
    "def load_images_and_labels(labels, image_dir_1, image_dir_2, img_size=64):\n",
    "    images = []\n",
    "    label_list = []\n",
    "\n",
    "    for _, row in labels.iterrows():\n",
    "        # Get the file path for the image\n",
    "        file_path_1 = os.path.join(image_dir_1, row['image_id'] + '.jpg')\n",
    "        file_path_2 = os.path.join(image_dir_2, row['image_id'] + '.jpg')\n",
    "\n",
    "        # Check if the image exists in part 1 or part 2\n",
    "        if os.path.exists(file_path_1):\n",
    "            img = image.load_img(file_path_1, target_size=(img_size, img_size))\n",
    "        elif os.path.exists(file_path_2):\n",
    "            img = image.load_img(file_path_2, target_size=(img_size, img_size))\n",
    "        else:\n",
    "            continue  # Skip if image file is missing\n",
    "\n",
    "        # Convert image to numpy array and normalize it\n",
    "        img_array = image.img_to_array(img) / 255.0  # Normalize pixel values to [0, 1]\n",
    "        images.append(img_array)\n",
    "        label_list.append(row['dx'])  # Add the label (dx)\n",
    "\n",
    "    X = np.array(images)  # Shape: (num_samples, img_size, img_size, 3)\n",
    "    y = np.array(label_list)  # Labels: [0, 1, 2, ..., 6] for classification\n",
    "    return X, y\n",
    "\n",
    "# Load the images and labels\n",
    "X, y = load_images_and_labels(labels, image_dir_1, image_dir_2, IMG_SIZE)\n",
    "\n",
    "# Step 1: Split into 80% training and 20% test\n",
    "X_train, X_test, y_train, y_test = train_test_split(X, y, test_size=0.2, random_state=42)\n",
    "\n",
    "# Step 2: Split the 80% training set into 80% training and 20% validation\n",
    "X_train, X_val, y_train, y_val = train_test_split(X_train, y_train, test_size=0.2, random_state=42)\n",
    "\n",
    "# Check the shape of the dataset\n",
    "print(\"Training set shape:\", X_train.shape)\n",
    "print(\"Validation set shape:\", X_val.shape)\n",
    "print(\"Test set shape:\", X_test.shape)\n",
    "\n",
    "# Convert labels to one-hot encoding\n",
    "y_train_one_hot = tf.keras.utils.to_categorical(y_train, num_classes=7)  # Assuming 7 classes\n",
    "y_val_one_hot = tf.keras.utils.to_categorical(y_val, num_classes=7)\n",
    "y_test_one_hot = tf.keras.utils.to_categorical(y_test, num_classes=7)\n",
    "\n",
    "# Create the data pipeline\n",
    "def create_dataset(X_train, y_train_one_hot, X_val, y_val_one_hot, X_test, y_test_one_hot, batch_size):\n",
    "    train_data = tf.data.Dataset.from_tensor_slices((X_train, y_train_one_hot))\n",
    "    val_data = tf.data.Dataset.from_tensor_slices((X_val, y_val_one_hot))\n",
    "    test_data = tf.data.Dataset.from_tensor_slices((X_test, y_test_one_hot))\n",
    "\n",
    "    # Efficient data pipeline: cache, batch, and prefetch\n",
    "    train_data = (train_data\n",
    "                  .cache()\n",
    "                  .shuffle(buffer_size=1000)\n",
    "                  .batch(batch_size)\n",
    "                  .prefetch(tf.data.experimental.AUTOTUNE))\n",
    "    \n",
    "    val_data = (val_data\n",
    "                .cache()\n",
    "                .batch(batch_size)\n",
    "                .prefetch(tf.data.experimental.AUTOTUNE))\n",
    "\n",
    "    test_data = (test_data\n",
    "                 .cache()\n",
    "                 .batch(batch_size)\n",
    "                 .prefetch(tf.data.experimental.AUTOTUNE))\n",
    "\n",
    "    return train_data, val_data, test_data\n",
    "\n",
    "# Set batch size for training\n",
    "batch_size = 32\n",
    "\n",
    "# Create the dataset pipeline\n",
    "train_data, val_data, test_data = create_dataset(X_train, y_train_one_hot, X_val, y_val_one_hot, X_test, y_test_one_hot, batch_size)\n"
   ]
  },
  {
   "cell_type": "code",
   "execution_count": 6,
   "id": "63768786",
   "metadata": {
    "execution": {
     "iopub.execute_input": "2025-02-15T13:05:27.442937Z",
     "iopub.status.busy": "2025-02-15T13:05:27.442700Z",
     "iopub.status.idle": "2025-02-15T13:05:28.442074Z",
     "shell.execute_reply": "2025-02-15T13:05:28.441398Z"
    },
    "papermill": {
     "duration": 1.004044,
     "end_time": "2025-02-15T13:05:28.443245",
     "exception": false,
     "start_time": "2025-02-15T13:05:27.439201",
     "status": "completed"
    },
    "tags": []
   },
   "outputs": [
    {
     "data": {
      "text/html": [
       "<pre style=\"white-space:pre;overflow-x:auto;line-height:normal;font-family:Menlo,'DejaVu Sans Mono',consolas,'Courier New',monospace\"><span style=\"font-weight: bold\">Model: \"functional_2\"</span>\n",
       "</pre>\n"
      ],
      "text/plain": [
       "\u001b[1mModel: \"functional_2\"\u001b[0m\n"
      ]
     },
     "metadata": {},
     "output_type": "display_data"
    },
    {
     "data": {
      "text/html": [
       "<pre style=\"white-space:pre;overflow-x:auto;line-height:normal;font-family:Menlo,'DejaVu Sans Mono',consolas,'Courier New',monospace\">┏━━━━━━━━━━━━━━━━━━━━━━━━━━━━━━━━━━━━━━┳━━━━━━━━━━━━━━━━━━━━━━━━━━━━━┳━━━━━━━━━━━━━━━━━┓\n",
       "┃<span style=\"font-weight: bold\"> Layer (type)                         </span>┃<span style=\"font-weight: bold\"> Output Shape                </span>┃<span style=\"font-weight: bold\">         Param # </span>┃\n",
       "┡━━━━━━━━━━━━━━━━━━━━━━━━━━━━━━━━━━━━━━╇━━━━━━━━━━━━━━━━━━━━━━━━━━━━━╇━━━━━━━━━━━━━━━━━┩\n",
       "│ input_layer_2 (<span style=\"color: #0087ff; text-decoration-color: #0087ff\">InputLayer</span>)           │ (<span style=\"color: #00d7ff; text-decoration-color: #00d7ff\">None</span>, <span style=\"color: #00af00; text-decoration-color: #00af00\">64</span>, <span style=\"color: #00af00; text-decoration-color: #00af00\">64</span>, <span style=\"color: #00af00; text-decoration-color: #00af00\">3</span>)           │               <span style=\"color: #00af00; text-decoration-color: #00af00\">0</span> │\n",
       "├──────────────────────────────────────┼─────────────────────────────┼─────────────────┤\n",
       "│ sequential (<span style=\"color: #0087ff; text-decoration-color: #0087ff\">Sequential</span>)              │ (<span style=\"color: #00d7ff; text-decoration-color: #00d7ff\">None</span>, <span style=\"color: #00af00; text-decoration-color: #00af00\">128</span>)                 │       <span style=\"color: #00af00; text-decoration-color: #00af00\">1,976,576</span> │\n",
       "├──────────────────────────────────────┼─────────────────────────────┼─────────────────┤\n",
       "│ sequential_1 (<span style=\"color: #0087ff; text-decoration-color: #0087ff\">Sequential</span>)            │ (<span style=\"color: #00d7ff; text-decoration-color: #00d7ff\">None</span>, <span style=\"color: #00af00; text-decoration-color: #00af00\">64</span>, <span style=\"color: #00af00; text-decoration-color: #00af00\">64</span>, <span style=\"color: #00af00; text-decoration-color: #00af00\">3</span>)           │       <span style=\"color: #00af00; text-decoration-color: #00af00\">1,297,475</span> │\n",
       "└──────────────────────────────────────┴─────────────────────────────┴─────────────────┘\n",
       "</pre>\n"
      ],
      "text/plain": [
       "┏━━━━━━━━━━━━━━━━━━━━━━━━━━━━━━━━━━━━━━┳━━━━━━━━━━━━━━━━━━━━━━━━━━━━━┳━━━━━━━━━━━━━━━━━┓\n",
       "┃\u001b[1m \u001b[0m\u001b[1mLayer (type)                        \u001b[0m\u001b[1m \u001b[0m┃\u001b[1m \u001b[0m\u001b[1mOutput Shape               \u001b[0m\u001b[1m \u001b[0m┃\u001b[1m \u001b[0m\u001b[1m        Param #\u001b[0m\u001b[1m \u001b[0m┃\n",
       "┡━━━━━━━━━━━━━━━━━━━━━━━━━━━━━━━━━━━━━━╇━━━━━━━━━━━━━━━━━━━━━━━━━━━━━╇━━━━━━━━━━━━━━━━━┩\n",
       "│ input_layer_2 (\u001b[38;5;33mInputLayer\u001b[0m)           │ (\u001b[38;5;45mNone\u001b[0m, \u001b[38;5;34m64\u001b[0m, \u001b[38;5;34m64\u001b[0m, \u001b[38;5;34m3\u001b[0m)           │               \u001b[38;5;34m0\u001b[0m │\n",
       "├──────────────────────────────────────┼─────────────────────────────┼─────────────────┤\n",
       "│ sequential (\u001b[38;5;33mSequential\u001b[0m)              │ (\u001b[38;5;45mNone\u001b[0m, \u001b[38;5;34m128\u001b[0m)                 │       \u001b[38;5;34m1,976,576\u001b[0m │\n",
       "├──────────────────────────────────────┼─────────────────────────────┼─────────────────┤\n",
       "│ sequential_1 (\u001b[38;5;33mSequential\u001b[0m)            │ (\u001b[38;5;45mNone\u001b[0m, \u001b[38;5;34m64\u001b[0m, \u001b[38;5;34m64\u001b[0m, \u001b[38;5;34m3\u001b[0m)           │       \u001b[38;5;34m1,297,475\u001b[0m │\n",
       "└──────────────────────────────────────┴─────────────────────────────┴─────────────────┘\n"
      ]
     },
     "metadata": {},
     "output_type": "display_data"
    },
    {
     "data": {
      "text/html": [
       "<pre style=\"white-space:pre;overflow-x:auto;line-height:normal;font-family:Menlo,'DejaVu Sans Mono',consolas,'Courier New',monospace\"><span style=\"font-weight: bold\"> Total params: </span><span style=\"color: #00af00; text-decoration-color: #00af00\">3,274,051</span> (12.49 MB)\n",
       "</pre>\n"
      ],
      "text/plain": [
       "\u001b[1m Total params: \u001b[0m\u001b[38;5;34m3,274,051\u001b[0m (12.49 MB)\n"
      ]
     },
     "metadata": {},
     "output_type": "display_data"
    },
    {
     "data": {
      "text/html": [
       "<pre style=\"white-space:pre;overflow-x:auto;line-height:normal;font-family:Menlo,'DejaVu Sans Mono',consolas,'Courier New',monospace\"><span style=\"font-weight: bold\"> Trainable params: </span><span style=\"color: #00af00; text-decoration-color: #00af00\">3,274,051</span> (12.49 MB)\n",
       "</pre>\n"
      ],
      "text/plain": [
       "\u001b[1m Trainable params: \u001b[0m\u001b[38;5;34m3,274,051\u001b[0m (12.49 MB)\n"
      ]
     },
     "metadata": {},
     "output_type": "display_data"
    },
    {
     "data": {
      "text/html": [
       "<pre style=\"white-space:pre;overflow-x:auto;line-height:normal;font-family:Menlo,'DejaVu Sans Mono',consolas,'Courier New',monospace\"><span style=\"font-weight: bold\"> Non-trainable params: </span><span style=\"color: #00af00; text-decoration-color: #00af00\">0</span> (0.00 B)\n",
       "</pre>\n"
      ],
      "text/plain": [
       "\u001b[1m Non-trainable params: \u001b[0m\u001b[38;5;34m0\u001b[0m (0.00 B)\n"
      ]
     },
     "metadata": {},
     "output_type": "display_data"
    }
   ],
   "source": [
    "import tensorflow as tf\n",
    "from tensorflow.keras import layers, models\n",
    "\n",
    "latent_dim = 128\n",
    "\n",
    "# Encoder (Simplified)\n",
    "encoder = tf.keras.Sequential([\n",
    "    layers.Input(shape=(64, 64, 3)),\n",
    "    layers.Conv2D(64, kernel_size=3, strides=2, padding=\"valid\"),  # Changed padding to 'valid' and kernel size to 3\n",
    "    layers.LeakyReLU(0.2),\n",
    "    layers.Conv2D(128, kernel_size=3, strides=2, padding=\"valid\"),  # Kernel size 3 and valid padding\n",
    "    layers.LeakyReLU(0.2),\n",
    "    layers.Conv2D(256, kernel_size=3, strides=2, padding=\"valid\"),  # Kernel size 3 and valid padding\n",
    "    layers.LeakyReLU(0.2),\n",
    "    layers.Flatten(),\n",
    "    layers.Dense(latent_dim)  # Latent representation\n",
    "])\n",
    "\n",
    "# Decoder with adjusted Conv2DTranspose layers\n",
    "decoder = tf.keras.Sequential([\n",
    "    layers.Input(shape=(latent_dim,)),\n",
    "    layers.Dense(8 * 8 * 128),\n",
    "    layers.Reshape((8, 8, 128)),  # Upscale to (8, 8, 128)\n",
    "    layers.Conv2DTranspose(128, kernel_size=3, strides=2, padding=\"same\", activation='relu'),  # (16, 16, 128)\n",
    "    layers.Conv2DTranspose(64, kernel_size=3, strides=2, padding=\"same\", activation='relu'),  # (32, 32, 64)\n",
    "    layers.Conv2DTranspose(32, kernel_size=3, strides=2, padding=\"same\", activation='relu'),  # (64, 64, 32)\n",
    "    layers.Conv2DTranspose(3, kernel_size=3, padding=\"same\", activation='sigmoid'),  # (64, 64, 3)\n",
    "])\n",
    "\n",
    "# Full autoencoder model\n",
    "autoencoder_input = layers.Input(shape=(64, 64, 3))\n",
    "latent_representation = encoder(autoencoder_input)\n",
    "reconstructed_image = decoder(latent_representation)\n",
    "\n",
    "autoencoder = models.Model(inputs=autoencoder_input, outputs=reconstructed_image)\n",
    "\n",
    "# Compile the autoencoder model\n",
    "autoencoder.compile(optimizer=tf.keras.optimizers.Adam(learning_rate=0.0001), loss='mse')\n",
    "\n",
    "# Print model summary to check the architecture\n",
    "autoencoder.summary()\n"
   ]
  },
  {
   "cell_type": "code",
   "execution_count": 7,
   "id": "d43f4907",
   "metadata": {
    "execution": {
     "iopub.execute_input": "2025-02-15T13:05:28.450948Z",
     "iopub.status.busy": "2025-02-15T13:05:28.450693Z",
     "iopub.status.idle": "2025-02-15T13:05:28.513733Z",
     "shell.execute_reply": "2025-02-15T13:05:28.513046Z"
    },
    "papermill": {
     "duration": 0.068102,
     "end_time": "2025-02-15T13:05:28.514889",
     "exception": false,
     "start_time": "2025-02-15T13:05:28.446787",
     "status": "completed"
    },
    "tags": []
   },
   "outputs": [
    {
     "data": {
      "text/html": [
       "<pre style=\"white-space:pre;overflow-x:auto;line-height:normal;font-family:Menlo,'DejaVu Sans Mono',consolas,'Courier New',monospace\"><span style=\"font-weight: bold\">Model: \"functional_3\"</span>\n",
       "</pre>\n"
      ],
      "text/plain": [
       "\u001b[1mModel: \"functional_3\"\u001b[0m\n"
      ]
     },
     "metadata": {},
     "output_type": "display_data"
    },
    {
     "data": {
      "text/html": [
       "<pre style=\"white-space:pre;overflow-x:auto;line-height:normal;font-family:Menlo,'DejaVu Sans Mono',consolas,'Courier New',monospace\">┏━━━━━━━━━━━━━━━━━━━━━━━━━━━━━━━━━━━━━━┳━━━━━━━━━━━━━━━━━━━━━━━━━━━━━┳━━━━━━━━━━━━━━━━━┓\n",
       "┃<span style=\"font-weight: bold\"> Layer (type)                         </span>┃<span style=\"font-weight: bold\"> Output Shape                </span>┃<span style=\"font-weight: bold\">         Param # </span>┃\n",
       "┡━━━━━━━━━━━━━━━━━━━━━━━━━━━━━━━━━━━━━━╇━━━━━━━━━━━━━━━━━━━━━━━━━━━━━╇━━━━━━━━━━━━━━━━━┩\n",
       "│ input_layer_3 (<span style=\"color: #0087ff; text-decoration-color: #0087ff\">InputLayer</span>)           │ (<span style=\"color: #00d7ff; text-decoration-color: #00d7ff\">None</span>, <span style=\"color: #00af00; text-decoration-color: #00af00\">64</span>, <span style=\"color: #00af00; text-decoration-color: #00af00\">64</span>, <span style=\"color: #00af00; text-decoration-color: #00af00\">3</span>)           │               <span style=\"color: #00af00; text-decoration-color: #00af00\">0</span> │\n",
       "├──────────────────────────────────────┼─────────────────────────────┼─────────────────┤\n",
       "│ conv2d_3 (<span style=\"color: #0087ff; text-decoration-color: #0087ff\">Conv2D</span>)                    │ (<span style=\"color: #00d7ff; text-decoration-color: #00d7ff\">None</span>, <span style=\"color: #00af00; text-decoration-color: #00af00\">62</span>, <span style=\"color: #00af00; text-decoration-color: #00af00\">62</span>, <span style=\"color: #00af00; text-decoration-color: #00af00\">32</span>)          │             <span style=\"color: #00af00; text-decoration-color: #00af00\">896</span> │\n",
       "├──────────────────────────────────────┼─────────────────────────────┼─────────────────┤\n",
       "│ max_pooling2d (<span style=\"color: #0087ff; text-decoration-color: #0087ff\">MaxPooling2D</span>)         │ (<span style=\"color: #00d7ff; text-decoration-color: #00d7ff\">None</span>, <span style=\"color: #00af00; text-decoration-color: #00af00\">31</span>, <span style=\"color: #00af00; text-decoration-color: #00af00\">31</span>, <span style=\"color: #00af00; text-decoration-color: #00af00\">32</span>)          │               <span style=\"color: #00af00; text-decoration-color: #00af00\">0</span> │\n",
       "├──────────────────────────────────────┼─────────────────────────────┼─────────────────┤\n",
       "│ conv2d_4 (<span style=\"color: #0087ff; text-decoration-color: #0087ff\">Conv2D</span>)                    │ (<span style=\"color: #00d7ff; text-decoration-color: #00d7ff\">None</span>, <span style=\"color: #00af00; text-decoration-color: #00af00\">29</span>, <span style=\"color: #00af00; text-decoration-color: #00af00\">29</span>, <span style=\"color: #00af00; text-decoration-color: #00af00\">64</span>)          │          <span style=\"color: #00af00; text-decoration-color: #00af00\">18,496</span> │\n",
       "├──────────────────────────────────────┼─────────────────────────────┼─────────────────┤\n",
       "│ max_pooling2d_1 (<span style=\"color: #0087ff; text-decoration-color: #0087ff\">MaxPooling2D</span>)       │ (<span style=\"color: #00d7ff; text-decoration-color: #00d7ff\">None</span>, <span style=\"color: #00af00; text-decoration-color: #00af00\">14</span>, <span style=\"color: #00af00; text-decoration-color: #00af00\">14</span>, <span style=\"color: #00af00; text-decoration-color: #00af00\">64</span>)          │               <span style=\"color: #00af00; text-decoration-color: #00af00\">0</span> │\n",
       "├──────────────────────────────────────┼─────────────────────────────┼─────────────────┤\n",
       "│ flatten_1 (<span style=\"color: #0087ff; text-decoration-color: #0087ff\">Flatten</span>)                  │ (<span style=\"color: #00d7ff; text-decoration-color: #00d7ff\">None</span>, <span style=\"color: #00af00; text-decoration-color: #00af00\">12544</span>)               │               <span style=\"color: #00af00; text-decoration-color: #00af00\">0</span> │\n",
       "├──────────────────────────────────────┼─────────────────────────────┼─────────────────┤\n",
       "│ dense_2 (<span style=\"color: #0087ff; text-decoration-color: #0087ff\">Dense</span>)                      │ (<span style=\"color: #00d7ff; text-decoration-color: #00d7ff\">None</span>, <span style=\"color: #00af00; text-decoration-color: #00af00\">128</span>)                 │       <span style=\"color: #00af00; text-decoration-color: #00af00\">1,605,760</span> │\n",
       "├──────────────────────────────────────┼─────────────────────────────┼─────────────────┤\n",
       "│ dropout (<span style=\"color: #0087ff; text-decoration-color: #0087ff\">Dropout</span>)                    │ (<span style=\"color: #00d7ff; text-decoration-color: #00d7ff\">None</span>, <span style=\"color: #00af00; text-decoration-color: #00af00\">128</span>)                 │               <span style=\"color: #00af00; text-decoration-color: #00af00\">0</span> │\n",
       "├──────────────────────────────────────┼─────────────────────────────┼─────────────────┤\n",
       "│ dense_3 (<span style=\"color: #0087ff; text-decoration-color: #0087ff\">Dense</span>)                      │ (<span style=\"color: #00d7ff; text-decoration-color: #00d7ff\">None</span>, <span style=\"color: #00af00; text-decoration-color: #00af00\">64</span>)                  │           <span style=\"color: #00af00; text-decoration-color: #00af00\">8,256</span> │\n",
       "├──────────────────────────────────────┼─────────────────────────────┼─────────────────┤\n",
       "│ dropout_1 (<span style=\"color: #0087ff; text-decoration-color: #0087ff\">Dropout</span>)                  │ (<span style=\"color: #00d7ff; text-decoration-color: #00d7ff\">None</span>, <span style=\"color: #00af00; text-decoration-color: #00af00\">64</span>)                  │               <span style=\"color: #00af00; text-decoration-color: #00af00\">0</span> │\n",
       "├──────────────────────────────────────┼─────────────────────────────┼─────────────────┤\n",
       "│ dense_4 (<span style=\"color: #0087ff; text-decoration-color: #0087ff\">Dense</span>)                      │ (<span style=\"color: #00d7ff; text-decoration-color: #00d7ff\">None</span>, <span style=\"color: #00af00; text-decoration-color: #00af00\">7</span>)                   │             <span style=\"color: #00af00; text-decoration-color: #00af00\">455</span> │\n",
       "└──────────────────────────────────────┴─────────────────────────────┴─────────────────┘\n",
       "</pre>\n"
      ],
      "text/plain": [
       "┏━━━━━━━━━━━━━━━━━━━━━━━━━━━━━━━━━━━━━━┳━━━━━━━━━━━━━━━━━━━━━━━━━━━━━┳━━━━━━━━━━━━━━━━━┓\n",
       "┃\u001b[1m \u001b[0m\u001b[1mLayer (type)                        \u001b[0m\u001b[1m \u001b[0m┃\u001b[1m \u001b[0m\u001b[1mOutput Shape               \u001b[0m\u001b[1m \u001b[0m┃\u001b[1m \u001b[0m\u001b[1m        Param #\u001b[0m\u001b[1m \u001b[0m┃\n",
       "┡━━━━━━━━━━━━━━━━━━━━━━━━━━━━━━━━━━━━━━╇━━━━━━━━━━━━━━━━━━━━━━━━━━━━━╇━━━━━━━━━━━━━━━━━┩\n",
       "│ input_layer_3 (\u001b[38;5;33mInputLayer\u001b[0m)           │ (\u001b[38;5;45mNone\u001b[0m, \u001b[38;5;34m64\u001b[0m, \u001b[38;5;34m64\u001b[0m, \u001b[38;5;34m3\u001b[0m)           │               \u001b[38;5;34m0\u001b[0m │\n",
       "├──────────────────────────────────────┼─────────────────────────────┼─────────────────┤\n",
       "│ conv2d_3 (\u001b[38;5;33mConv2D\u001b[0m)                    │ (\u001b[38;5;45mNone\u001b[0m, \u001b[38;5;34m62\u001b[0m, \u001b[38;5;34m62\u001b[0m, \u001b[38;5;34m32\u001b[0m)          │             \u001b[38;5;34m896\u001b[0m │\n",
       "├──────────────────────────────────────┼─────────────────────────────┼─────────────────┤\n",
       "│ max_pooling2d (\u001b[38;5;33mMaxPooling2D\u001b[0m)         │ (\u001b[38;5;45mNone\u001b[0m, \u001b[38;5;34m31\u001b[0m, \u001b[38;5;34m31\u001b[0m, \u001b[38;5;34m32\u001b[0m)          │               \u001b[38;5;34m0\u001b[0m │\n",
       "├──────────────────────────────────────┼─────────────────────────────┼─────────────────┤\n",
       "│ conv2d_4 (\u001b[38;5;33mConv2D\u001b[0m)                    │ (\u001b[38;5;45mNone\u001b[0m, \u001b[38;5;34m29\u001b[0m, \u001b[38;5;34m29\u001b[0m, \u001b[38;5;34m64\u001b[0m)          │          \u001b[38;5;34m18,496\u001b[0m │\n",
       "├──────────────────────────────────────┼─────────────────────────────┼─────────────────┤\n",
       "│ max_pooling2d_1 (\u001b[38;5;33mMaxPooling2D\u001b[0m)       │ (\u001b[38;5;45mNone\u001b[0m, \u001b[38;5;34m14\u001b[0m, \u001b[38;5;34m14\u001b[0m, \u001b[38;5;34m64\u001b[0m)          │               \u001b[38;5;34m0\u001b[0m │\n",
       "├──────────────────────────────────────┼─────────────────────────────┼─────────────────┤\n",
       "│ flatten_1 (\u001b[38;5;33mFlatten\u001b[0m)                  │ (\u001b[38;5;45mNone\u001b[0m, \u001b[38;5;34m12544\u001b[0m)               │               \u001b[38;5;34m0\u001b[0m │\n",
       "├──────────────────────────────────────┼─────────────────────────────┼─────────────────┤\n",
       "│ dense_2 (\u001b[38;5;33mDense\u001b[0m)                      │ (\u001b[38;5;45mNone\u001b[0m, \u001b[38;5;34m128\u001b[0m)                 │       \u001b[38;5;34m1,605,760\u001b[0m │\n",
       "├──────────────────────────────────────┼─────────────────────────────┼─────────────────┤\n",
       "│ dropout (\u001b[38;5;33mDropout\u001b[0m)                    │ (\u001b[38;5;45mNone\u001b[0m, \u001b[38;5;34m128\u001b[0m)                 │               \u001b[38;5;34m0\u001b[0m │\n",
       "├──────────────────────────────────────┼─────────────────────────────┼─────────────────┤\n",
       "│ dense_3 (\u001b[38;5;33mDense\u001b[0m)                      │ (\u001b[38;5;45mNone\u001b[0m, \u001b[38;5;34m64\u001b[0m)                  │           \u001b[38;5;34m8,256\u001b[0m │\n",
       "├──────────────────────────────────────┼─────────────────────────────┼─────────────────┤\n",
       "│ dropout_1 (\u001b[38;5;33mDropout\u001b[0m)                  │ (\u001b[38;5;45mNone\u001b[0m, \u001b[38;5;34m64\u001b[0m)                  │               \u001b[38;5;34m0\u001b[0m │\n",
       "├──────────────────────────────────────┼─────────────────────────────┼─────────────────┤\n",
       "│ dense_4 (\u001b[38;5;33mDense\u001b[0m)                      │ (\u001b[38;5;45mNone\u001b[0m, \u001b[38;5;34m7\u001b[0m)                   │             \u001b[38;5;34m455\u001b[0m │\n",
       "└──────────────────────────────────────┴─────────────────────────────┴─────────────────┘\n"
      ]
     },
     "metadata": {},
     "output_type": "display_data"
    },
    {
     "data": {
      "text/html": [
       "<pre style=\"white-space:pre;overflow-x:auto;line-height:normal;font-family:Menlo,'DejaVu Sans Mono',consolas,'Courier New',monospace\"><span style=\"font-weight: bold\"> Total params: </span><span style=\"color: #00af00; text-decoration-color: #00af00\">1,633,863</span> (6.23 MB)\n",
       "</pre>\n"
      ],
      "text/plain": [
       "\u001b[1m Total params: \u001b[0m\u001b[38;5;34m1,633,863\u001b[0m (6.23 MB)\n"
      ]
     },
     "metadata": {},
     "output_type": "display_data"
    },
    {
     "data": {
      "text/html": [
       "<pre style=\"white-space:pre;overflow-x:auto;line-height:normal;font-family:Menlo,'DejaVu Sans Mono',consolas,'Courier New',monospace\"><span style=\"font-weight: bold\"> Trainable params: </span><span style=\"color: #00af00; text-decoration-color: #00af00\">1,633,863</span> (6.23 MB)\n",
       "</pre>\n"
      ],
      "text/plain": [
       "\u001b[1m Trainable params: \u001b[0m\u001b[38;5;34m1,633,863\u001b[0m (6.23 MB)\n"
      ]
     },
     "metadata": {},
     "output_type": "display_data"
    },
    {
     "data": {
      "text/html": [
       "<pre style=\"white-space:pre;overflow-x:auto;line-height:normal;font-family:Menlo,'DejaVu Sans Mono',consolas,'Courier New',monospace\"><span style=\"font-weight: bold\"> Non-trainable params: </span><span style=\"color: #00af00; text-decoration-color: #00af00\">0</span> (0.00 B)\n",
       "</pre>\n"
      ],
      "text/plain": [
       "\u001b[1m Non-trainable params: \u001b[0m\u001b[38;5;34m0\u001b[0m (0.00 B)\n"
      ]
     },
     "metadata": {},
     "output_type": "display_data"
    }
   ],
   "source": [
    "from tensorflow.keras import layers, models\n",
    "import tensorflow as tf\n",
    "\n",
    "def create_optimized_model_no_padding():\n",
    "    inputs = tf.keras.Input(shape=(64, 64, 3))\n",
    "    \n",
    "    # First Convolutional Block with valid padding (no padding)\n",
    "    x = tf.keras.layers.Conv2D(32, kernel_size=3, activation='relu', padding='valid')(inputs)\n",
    "    x = tf.keras.layers.MaxPooling2D(pool_size=2)(x)  # Output shape: (31, 31, 32)\n",
    "    \n",
    "    # Second Convolutional Block with valid padding (no padding)\n",
    "    x = tf.keras.layers.Conv2D(64, kernel_size=3, activation='relu', padding='valid')(x)\n",
    "    x = tf.keras.layers.MaxPooling2D(pool_size=2)(x)  # Output shape: (14, 14, 64)\n",
    "   \n",
    "    # Flatten the feature map\n",
    "    x = tf.keras.layers.Flatten()(x)\n",
    "\n",
    "    # Dense Layers\n",
    "    x = tf.keras.layers.Dense(128, activation='relu')(x)  # Reduced number of neurons\n",
    "    x = tf.keras.layers.Dropout(0.3)(x)  # Slightly reduced dropout\n",
    "    x = tf.keras.layers.Dense(64, activation='relu')(x)  # Reduced number of neurons\n",
    "    x = tf.keras.layers.Dropout(0.4)(x)   \n",
    "    outputs = tf.keras.layers.Dense(7, activation='softmax')(x)  # 7 output classes (for HAM10000 dataset)\n",
    "    \n",
    "    model = tf.keras.Model(inputs=inputs, outputs=outputs)\n",
    "    \n",
    "    return model\n",
    "\n",
    "# Create an instance of the model\n",
    "discriminator = create_optimized_model_no_padding()\n",
    "\n",
    "# Compile the model\n",
    "discriminator.compile(optimizer=tf.keras.optimizers.Adam(learning_rate=0.0001, beta_1=0.5), loss='categorical_crossentropy', metrics=['accuracy'])\n",
    "\n",
    "# Print model summary to verify the changes\n",
    "discriminator.summary()\n"
   ]
  },
  {
   "cell_type": "code",
   "execution_count": 8,
   "id": "f2b751ca",
   "metadata": {
    "execution": {
     "iopub.execute_input": "2025-02-15T13:05:28.523408Z",
     "iopub.status.busy": "2025-02-15T13:05:28.523194Z",
     "iopub.status.idle": "2025-02-15T13:05:28.559445Z",
     "shell.execute_reply": "2025-02-15T13:05:28.558657Z"
    },
    "papermill": {
     "duration": 0.041924,
     "end_time": "2025-02-15T13:05:28.560789",
     "exception": false,
     "start_time": "2025-02-15T13:05:28.518865",
     "status": "completed"
    },
    "tags": []
   },
   "outputs": [
    {
     "name": "stdout",
     "output_type": "stream",
     "text": [
      "Autoencoder Model Summary:\n"
     ]
    },
    {
     "data": {
      "text/html": [
       "<pre style=\"white-space:pre;overflow-x:auto;line-height:normal;font-family:Menlo,'DejaVu Sans Mono',consolas,'Courier New',monospace\"><span style=\"font-weight: bold\">Model: \"functional_2\"</span>\n",
       "</pre>\n"
      ],
      "text/plain": [
       "\u001b[1mModel: \"functional_2\"\u001b[0m\n"
      ]
     },
     "metadata": {},
     "output_type": "display_data"
    },
    {
     "data": {
      "text/html": [
       "<pre style=\"white-space:pre;overflow-x:auto;line-height:normal;font-family:Menlo,'DejaVu Sans Mono',consolas,'Courier New',monospace\">┏━━━━━━━━━━━━━━━━━━━━━━━━━━━━━━━━━━━━━━┳━━━━━━━━━━━━━━━━━━━━━━━━━━━━━┳━━━━━━━━━━━━━━━━━┓\n",
       "┃<span style=\"font-weight: bold\"> Layer (type)                         </span>┃<span style=\"font-weight: bold\"> Output Shape                </span>┃<span style=\"font-weight: bold\">         Param # </span>┃\n",
       "┡━━━━━━━━━━━━━━━━━━━━━━━━━━━━━━━━━━━━━━╇━━━━━━━━━━━━━━━━━━━━━━━━━━━━━╇━━━━━━━━━━━━━━━━━┩\n",
       "│ input_layer_2 (<span style=\"color: #0087ff; text-decoration-color: #0087ff\">InputLayer</span>)           │ (<span style=\"color: #00d7ff; text-decoration-color: #00d7ff\">None</span>, <span style=\"color: #00af00; text-decoration-color: #00af00\">64</span>, <span style=\"color: #00af00; text-decoration-color: #00af00\">64</span>, <span style=\"color: #00af00; text-decoration-color: #00af00\">3</span>)           │               <span style=\"color: #00af00; text-decoration-color: #00af00\">0</span> │\n",
       "├──────────────────────────────────────┼─────────────────────────────┼─────────────────┤\n",
       "│ sequential (<span style=\"color: #0087ff; text-decoration-color: #0087ff\">Sequential</span>)              │ (<span style=\"color: #00d7ff; text-decoration-color: #00d7ff\">None</span>, <span style=\"color: #00af00; text-decoration-color: #00af00\">128</span>)                 │       <span style=\"color: #00af00; text-decoration-color: #00af00\">1,976,576</span> │\n",
       "├──────────────────────────────────────┼─────────────────────────────┼─────────────────┤\n",
       "│ sequential_1 (<span style=\"color: #0087ff; text-decoration-color: #0087ff\">Sequential</span>)            │ (<span style=\"color: #00d7ff; text-decoration-color: #00d7ff\">None</span>, <span style=\"color: #00af00; text-decoration-color: #00af00\">64</span>, <span style=\"color: #00af00; text-decoration-color: #00af00\">64</span>, <span style=\"color: #00af00; text-decoration-color: #00af00\">3</span>)           │       <span style=\"color: #00af00; text-decoration-color: #00af00\">1,297,475</span> │\n",
       "└──────────────────────────────────────┴─────────────────────────────┴─────────────────┘\n",
       "</pre>\n"
      ],
      "text/plain": [
       "┏━━━━━━━━━━━━━━━━━━━━━━━━━━━━━━━━━━━━━━┳━━━━━━━━━━━━━━━━━━━━━━━━━━━━━┳━━━━━━━━━━━━━━━━━┓\n",
       "┃\u001b[1m \u001b[0m\u001b[1mLayer (type)                        \u001b[0m\u001b[1m \u001b[0m┃\u001b[1m \u001b[0m\u001b[1mOutput Shape               \u001b[0m\u001b[1m \u001b[0m┃\u001b[1m \u001b[0m\u001b[1m        Param #\u001b[0m\u001b[1m \u001b[0m┃\n",
       "┡━━━━━━━━━━━━━━━━━━━━━━━━━━━━━━━━━━━━━━╇━━━━━━━━━━━━━━━━━━━━━━━━━━━━━╇━━━━━━━━━━━━━━━━━┩\n",
       "│ input_layer_2 (\u001b[38;5;33mInputLayer\u001b[0m)           │ (\u001b[38;5;45mNone\u001b[0m, \u001b[38;5;34m64\u001b[0m, \u001b[38;5;34m64\u001b[0m, \u001b[38;5;34m3\u001b[0m)           │               \u001b[38;5;34m0\u001b[0m │\n",
       "├──────────────────────────────────────┼─────────────────────────────┼─────────────────┤\n",
       "│ sequential (\u001b[38;5;33mSequential\u001b[0m)              │ (\u001b[38;5;45mNone\u001b[0m, \u001b[38;5;34m128\u001b[0m)                 │       \u001b[38;5;34m1,976,576\u001b[0m │\n",
       "├──────────────────────────────────────┼─────────────────────────────┼─────────────────┤\n",
       "│ sequential_1 (\u001b[38;5;33mSequential\u001b[0m)            │ (\u001b[38;5;45mNone\u001b[0m, \u001b[38;5;34m64\u001b[0m, \u001b[38;5;34m64\u001b[0m, \u001b[38;5;34m3\u001b[0m)           │       \u001b[38;5;34m1,297,475\u001b[0m │\n",
       "└──────────────────────────────────────┴─────────────────────────────┴─────────────────┘\n"
      ]
     },
     "metadata": {},
     "output_type": "display_data"
    },
    {
     "data": {
      "text/html": [
       "<pre style=\"white-space:pre;overflow-x:auto;line-height:normal;font-family:Menlo,'DejaVu Sans Mono',consolas,'Courier New',monospace\"><span style=\"font-weight: bold\"> Total params: </span><span style=\"color: #00af00; text-decoration-color: #00af00\">3,274,051</span> (12.49 MB)\n",
       "</pre>\n"
      ],
      "text/plain": [
       "\u001b[1m Total params: \u001b[0m\u001b[38;5;34m3,274,051\u001b[0m (12.49 MB)\n"
      ]
     },
     "metadata": {},
     "output_type": "display_data"
    },
    {
     "data": {
      "text/html": [
       "<pre style=\"white-space:pre;overflow-x:auto;line-height:normal;font-family:Menlo,'DejaVu Sans Mono',consolas,'Courier New',monospace\"><span style=\"font-weight: bold\"> Trainable params: </span><span style=\"color: #00af00; text-decoration-color: #00af00\">3,274,051</span> (12.49 MB)\n",
       "</pre>\n"
      ],
      "text/plain": [
       "\u001b[1m Trainable params: \u001b[0m\u001b[38;5;34m3,274,051\u001b[0m (12.49 MB)\n"
      ]
     },
     "metadata": {},
     "output_type": "display_data"
    },
    {
     "data": {
      "text/html": [
       "<pre style=\"white-space:pre;overflow-x:auto;line-height:normal;font-family:Menlo,'DejaVu Sans Mono',consolas,'Courier New',monospace\"><span style=\"font-weight: bold\"> Non-trainable params: </span><span style=\"color: #00af00; text-decoration-color: #00af00\">0</span> (0.00 B)\n",
       "</pre>\n"
      ],
      "text/plain": [
       "\u001b[1m Non-trainable params: \u001b[0m\u001b[38;5;34m0\u001b[0m (0.00 B)\n"
      ]
     },
     "metadata": {},
     "output_type": "display_data"
    },
    {
     "name": "stdout",
     "output_type": "stream",
     "text": [
      "\n",
      "Discriminator Model Summary:\n"
     ]
    },
    {
     "data": {
      "text/html": [
       "<pre style=\"white-space:pre;overflow-x:auto;line-height:normal;font-family:Menlo,'DejaVu Sans Mono',consolas,'Courier New',monospace\"><span style=\"font-weight: bold\">Model: \"functional_3\"</span>\n",
       "</pre>\n"
      ],
      "text/plain": [
       "\u001b[1mModel: \"functional_3\"\u001b[0m\n"
      ]
     },
     "metadata": {},
     "output_type": "display_data"
    },
    {
     "data": {
      "text/html": [
       "<pre style=\"white-space:pre;overflow-x:auto;line-height:normal;font-family:Menlo,'DejaVu Sans Mono',consolas,'Courier New',monospace\">┏━━━━━━━━━━━━━━━━━━━━━━━━━━━━━━━━━━━━━━┳━━━━━━━━━━━━━━━━━━━━━━━━━━━━━┳━━━━━━━━━━━━━━━━━┓\n",
       "┃<span style=\"font-weight: bold\"> Layer (type)                         </span>┃<span style=\"font-weight: bold\"> Output Shape                </span>┃<span style=\"font-weight: bold\">         Param # </span>┃\n",
       "┡━━━━━━━━━━━━━━━━━━━━━━━━━━━━━━━━━━━━━━╇━━━━━━━━━━━━━━━━━━━━━━━━━━━━━╇━━━━━━━━━━━━━━━━━┩\n",
       "│ input_layer_3 (<span style=\"color: #0087ff; text-decoration-color: #0087ff\">InputLayer</span>)           │ (<span style=\"color: #00d7ff; text-decoration-color: #00d7ff\">None</span>, <span style=\"color: #00af00; text-decoration-color: #00af00\">64</span>, <span style=\"color: #00af00; text-decoration-color: #00af00\">64</span>, <span style=\"color: #00af00; text-decoration-color: #00af00\">3</span>)           │               <span style=\"color: #00af00; text-decoration-color: #00af00\">0</span> │\n",
       "├──────────────────────────────────────┼─────────────────────────────┼─────────────────┤\n",
       "│ conv2d_3 (<span style=\"color: #0087ff; text-decoration-color: #0087ff\">Conv2D</span>)                    │ (<span style=\"color: #00d7ff; text-decoration-color: #00d7ff\">None</span>, <span style=\"color: #00af00; text-decoration-color: #00af00\">62</span>, <span style=\"color: #00af00; text-decoration-color: #00af00\">62</span>, <span style=\"color: #00af00; text-decoration-color: #00af00\">32</span>)          │             <span style=\"color: #00af00; text-decoration-color: #00af00\">896</span> │\n",
       "├──────────────────────────────────────┼─────────────────────────────┼─────────────────┤\n",
       "│ max_pooling2d (<span style=\"color: #0087ff; text-decoration-color: #0087ff\">MaxPooling2D</span>)         │ (<span style=\"color: #00d7ff; text-decoration-color: #00d7ff\">None</span>, <span style=\"color: #00af00; text-decoration-color: #00af00\">31</span>, <span style=\"color: #00af00; text-decoration-color: #00af00\">31</span>, <span style=\"color: #00af00; text-decoration-color: #00af00\">32</span>)          │               <span style=\"color: #00af00; text-decoration-color: #00af00\">0</span> │\n",
       "├──────────────────────────────────────┼─────────────────────────────┼─────────────────┤\n",
       "│ conv2d_4 (<span style=\"color: #0087ff; text-decoration-color: #0087ff\">Conv2D</span>)                    │ (<span style=\"color: #00d7ff; text-decoration-color: #00d7ff\">None</span>, <span style=\"color: #00af00; text-decoration-color: #00af00\">29</span>, <span style=\"color: #00af00; text-decoration-color: #00af00\">29</span>, <span style=\"color: #00af00; text-decoration-color: #00af00\">64</span>)          │          <span style=\"color: #00af00; text-decoration-color: #00af00\">18,496</span> │\n",
       "├──────────────────────────────────────┼─────────────────────────────┼─────────────────┤\n",
       "│ max_pooling2d_1 (<span style=\"color: #0087ff; text-decoration-color: #0087ff\">MaxPooling2D</span>)       │ (<span style=\"color: #00d7ff; text-decoration-color: #00d7ff\">None</span>, <span style=\"color: #00af00; text-decoration-color: #00af00\">14</span>, <span style=\"color: #00af00; text-decoration-color: #00af00\">14</span>, <span style=\"color: #00af00; text-decoration-color: #00af00\">64</span>)          │               <span style=\"color: #00af00; text-decoration-color: #00af00\">0</span> │\n",
       "├──────────────────────────────────────┼─────────────────────────────┼─────────────────┤\n",
       "│ flatten_1 (<span style=\"color: #0087ff; text-decoration-color: #0087ff\">Flatten</span>)                  │ (<span style=\"color: #00d7ff; text-decoration-color: #00d7ff\">None</span>, <span style=\"color: #00af00; text-decoration-color: #00af00\">12544</span>)               │               <span style=\"color: #00af00; text-decoration-color: #00af00\">0</span> │\n",
       "├──────────────────────────────────────┼─────────────────────────────┼─────────────────┤\n",
       "│ dense_2 (<span style=\"color: #0087ff; text-decoration-color: #0087ff\">Dense</span>)                      │ (<span style=\"color: #00d7ff; text-decoration-color: #00d7ff\">None</span>, <span style=\"color: #00af00; text-decoration-color: #00af00\">128</span>)                 │       <span style=\"color: #00af00; text-decoration-color: #00af00\">1,605,760</span> │\n",
       "├──────────────────────────────────────┼─────────────────────────────┼─────────────────┤\n",
       "│ dropout (<span style=\"color: #0087ff; text-decoration-color: #0087ff\">Dropout</span>)                    │ (<span style=\"color: #00d7ff; text-decoration-color: #00d7ff\">None</span>, <span style=\"color: #00af00; text-decoration-color: #00af00\">128</span>)                 │               <span style=\"color: #00af00; text-decoration-color: #00af00\">0</span> │\n",
       "├──────────────────────────────────────┼─────────────────────────────┼─────────────────┤\n",
       "│ dense_3 (<span style=\"color: #0087ff; text-decoration-color: #0087ff\">Dense</span>)                      │ (<span style=\"color: #00d7ff; text-decoration-color: #00d7ff\">None</span>, <span style=\"color: #00af00; text-decoration-color: #00af00\">64</span>)                  │           <span style=\"color: #00af00; text-decoration-color: #00af00\">8,256</span> │\n",
       "├──────────────────────────────────────┼─────────────────────────────┼─────────────────┤\n",
       "│ dropout_1 (<span style=\"color: #0087ff; text-decoration-color: #0087ff\">Dropout</span>)                  │ (<span style=\"color: #00d7ff; text-decoration-color: #00d7ff\">None</span>, <span style=\"color: #00af00; text-decoration-color: #00af00\">64</span>)                  │               <span style=\"color: #00af00; text-decoration-color: #00af00\">0</span> │\n",
       "├──────────────────────────────────────┼─────────────────────────────┼─────────────────┤\n",
       "│ dense_4 (<span style=\"color: #0087ff; text-decoration-color: #0087ff\">Dense</span>)                      │ (<span style=\"color: #00d7ff; text-decoration-color: #00d7ff\">None</span>, <span style=\"color: #00af00; text-decoration-color: #00af00\">7</span>)                   │             <span style=\"color: #00af00; text-decoration-color: #00af00\">455</span> │\n",
       "└──────────────────────────────────────┴─────────────────────────────┴─────────────────┘\n",
       "</pre>\n"
      ],
      "text/plain": [
       "┏━━━━━━━━━━━━━━━━━━━━━━━━━━━━━━━━━━━━━━┳━━━━━━━━━━━━━━━━━━━━━━━━━━━━━┳━━━━━━━━━━━━━━━━━┓\n",
       "┃\u001b[1m \u001b[0m\u001b[1mLayer (type)                        \u001b[0m\u001b[1m \u001b[0m┃\u001b[1m \u001b[0m\u001b[1mOutput Shape               \u001b[0m\u001b[1m \u001b[0m┃\u001b[1m \u001b[0m\u001b[1m        Param #\u001b[0m\u001b[1m \u001b[0m┃\n",
       "┡━━━━━━━━━━━━━━━━━━━━━━━━━━━━━━━━━━━━━━╇━━━━━━━━━━━━━━━━━━━━━━━━━━━━━╇━━━━━━━━━━━━━━━━━┩\n",
       "│ input_layer_3 (\u001b[38;5;33mInputLayer\u001b[0m)           │ (\u001b[38;5;45mNone\u001b[0m, \u001b[38;5;34m64\u001b[0m, \u001b[38;5;34m64\u001b[0m, \u001b[38;5;34m3\u001b[0m)           │               \u001b[38;5;34m0\u001b[0m │\n",
       "├──────────────────────────────────────┼─────────────────────────────┼─────────────────┤\n",
       "│ conv2d_3 (\u001b[38;5;33mConv2D\u001b[0m)                    │ (\u001b[38;5;45mNone\u001b[0m, \u001b[38;5;34m62\u001b[0m, \u001b[38;5;34m62\u001b[0m, \u001b[38;5;34m32\u001b[0m)          │             \u001b[38;5;34m896\u001b[0m │\n",
       "├──────────────────────────────────────┼─────────────────────────────┼─────────────────┤\n",
       "│ max_pooling2d (\u001b[38;5;33mMaxPooling2D\u001b[0m)         │ (\u001b[38;5;45mNone\u001b[0m, \u001b[38;5;34m31\u001b[0m, \u001b[38;5;34m31\u001b[0m, \u001b[38;5;34m32\u001b[0m)          │               \u001b[38;5;34m0\u001b[0m │\n",
       "├──────────────────────────────────────┼─────────────────────────────┼─────────────────┤\n",
       "│ conv2d_4 (\u001b[38;5;33mConv2D\u001b[0m)                    │ (\u001b[38;5;45mNone\u001b[0m, \u001b[38;5;34m29\u001b[0m, \u001b[38;5;34m29\u001b[0m, \u001b[38;5;34m64\u001b[0m)          │          \u001b[38;5;34m18,496\u001b[0m │\n",
       "├──────────────────────────────────────┼─────────────────────────────┼─────────────────┤\n",
       "│ max_pooling2d_1 (\u001b[38;5;33mMaxPooling2D\u001b[0m)       │ (\u001b[38;5;45mNone\u001b[0m, \u001b[38;5;34m14\u001b[0m, \u001b[38;5;34m14\u001b[0m, \u001b[38;5;34m64\u001b[0m)          │               \u001b[38;5;34m0\u001b[0m │\n",
       "├──────────────────────────────────────┼─────────────────────────────┼─────────────────┤\n",
       "│ flatten_1 (\u001b[38;5;33mFlatten\u001b[0m)                  │ (\u001b[38;5;45mNone\u001b[0m, \u001b[38;5;34m12544\u001b[0m)               │               \u001b[38;5;34m0\u001b[0m │\n",
       "├──────────────────────────────────────┼─────────────────────────────┼─────────────────┤\n",
       "│ dense_2 (\u001b[38;5;33mDense\u001b[0m)                      │ (\u001b[38;5;45mNone\u001b[0m, \u001b[38;5;34m128\u001b[0m)                 │       \u001b[38;5;34m1,605,760\u001b[0m │\n",
       "├──────────────────────────────────────┼─────────────────────────────┼─────────────────┤\n",
       "│ dropout (\u001b[38;5;33mDropout\u001b[0m)                    │ (\u001b[38;5;45mNone\u001b[0m, \u001b[38;5;34m128\u001b[0m)                 │               \u001b[38;5;34m0\u001b[0m │\n",
       "├──────────────────────────────────────┼─────────────────────────────┼─────────────────┤\n",
       "│ dense_3 (\u001b[38;5;33mDense\u001b[0m)                      │ (\u001b[38;5;45mNone\u001b[0m, \u001b[38;5;34m64\u001b[0m)                  │           \u001b[38;5;34m8,256\u001b[0m │\n",
       "├──────────────────────────────────────┼─────────────────────────────┼─────────────────┤\n",
       "│ dropout_1 (\u001b[38;5;33mDropout\u001b[0m)                  │ (\u001b[38;5;45mNone\u001b[0m, \u001b[38;5;34m64\u001b[0m)                  │               \u001b[38;5;34m0\u001b[0m │\n",
       "├──────────────────────────────────────┼─────────────────────────────┼─────────────────┤\n",
       "│ dense_4 (\u001b[38;5;33mDense\u001b[0m)                      │ (\u001b[38;5;45mNone\u001b[0m, \u001b[38;5;34m7\u001b[0m)                   │             \u001b[38;5;34m455\u001b[0m │\n",
       "└──────────────────────────────────────┴─────────────────────────────┴─────────────────┘\n"
      ]
     },
     "metadata": {},
     "output_type": "display_data"
    },
    {
     "data": {
      "text/html": [
       "<pre style=\"white-space:pre;overflow-x:auto;line-height:normal;font-family:Menlo,'DejaVu Sans Mono',consolas,'Courier New',monospace\"><span style=\"font-weight: bold\"> Total params: </span><span style=\"color: #00af00; text-decoration-color: #00af00\">1,633,863</span> (6.23 MB)\n",
       "</pre>\n"
      ],
      "text/plain": [
       "\u001b[1m Total params: \u001b[0m\u001b[38;5;34m1,633,863\u001b[0m (6.23 MB)\n"
      ]
     },
     "metadata": {},
     "output_type": "display_data"
    },
    {
     "data": {
      "text/html": [
       "<pre style=\"white-space:pre;overflow-x:auto;line-height:normal;font-family:Menlo,'DejaVu Sans Mono',consolas,'Courier New',monospace\"><span style=\"font-weight: bold\"> Trainable params: </span><span style=\"color: #00af00; text-decoration-color: #00af00\">1,633,863</span> (6.23 MB)\n",
       "</pre>\n"
      ],
      "text/plain": [
       "\u001b[1m Trainable params: \u001b[0m\u001b[38;5;34m1,633,863\u001b[0m (6.23 MB)\n"
      ]
     },
     "metadata": {},
     "output_type": "display_data"
    },
    {
     "data": {
      "text/html": [
       "<pre style=\"white-space:pre;overflow-x:auto;line-height:normal;font-family:Menlo,'DejaVu Sans Mono',consolas,'Courier New',monospace\"><span style=\"font-weight: bold\"> Non-trainable params: </span><span style=\"color: #00af00; text-decoration-color: #00af00\">0</span> (0.00 B)\n",
       "</pre>\n"
      ],
      "text/plain": [
       "\u001b[1m Non-trainable params: \u001b[0m\u001b[38;5;34m0\u001b[0m (0.00 B)\n"
      ]
     },
     "metadata": {},
     "output_type": "display_data"
    }
   ],
   "source": [
    "from tensorflow.keras import layers, models, optimizers\n",
    "import tensorflow as tf\n",
    "\n",
    "# Loss functions\n",
    "loss_fn_auto = tf.keras.losses.MeanSquaredError()  # Autoencoder Loss for reconstruction\n",
    "loss_fn_disc = tf.keras.losses.CategoricalCrossentropy()  # Discriminator Loss for multi-class classification\n",
    "\n",
    "# Optimizers\n",
    "opt_autoencoder = tf.keras.optimizers.Adam(learning_rate=0.0001, beta_1=0.5)  # Optimizer for Autoencoder\n",
    "opt_disc = tf.keras.optimizers.Adam(learning_rate=0.0001, beta_1=0.5)  # Optimizer for Discriminator\n",
    "\n",
    "# Compile the autoencoder model\n",
    "autoencoder.compile(optimizer=opt_autoencoder, loss=loss_fn_auto)\n",
    "\n",
    "# Compile the discriminator model (since it’s for classification, we use categorical crossentropy)\n",
    "discriminator.compile(optimizer=opt_disc, loss=loss_fn_disc, metrics=['accuracy'])\n",
    "\n",
    "# Print model summaries to check\n",
    "print(\"Autoencoder Model Summary:\")\n",
    "autoencoder.summary()\n",
    "\n",
    "print(\"\\nDiscriminator Model Summary:\")\n",
    "discriminator.summary()\n"
   ]
  },
  {
   "cell_type": "code",
   "execution_count": 9,
   "id": "f635b6a0",
   "metadata": {
    "execution": {
     "iopub.execute_input": "2025-02-15T13:05:28.571559Z",
     "iopub.status.busy": "2025-02-15T13:05:28.571350Z",
     "iopub.status.idle": "2025-02-15T13:05:28.596247Z",
     "shell.execute_reply": "2025-02-15T13:05:28.595652Z"
    },
    "papermill": {
     "duration": 0.031397,
     "end_time": "2025-02-15T13:05:28.597362",
     "exception": false,
     "start_time": "2025-02-15T13:05:28.565965",
     "status": "completed"
    },
    "tags": []
   },
   "outputs": [],
   "source": [
    "from tqdm import tqdm\n"
   ]
  },
  {
   "cell_type": "code",
   "execution_count": 10,
   "id": "a62f4cd4",
   "metadata": {
    "collapsed": true,
    "execution": {
     "iopub.execute_input": "2025-02-15T13:05:28.607790Z",
     "iopub.status.busy": "2025-02-15T13:05:28.607544Z",
     "iopub.status.idle": "2025-02-15T13:05:33.506114Z",
     "shell.execute_reply": "2025-02-15T13:05:33.505118Z"
    },
    "jupyter": {
     "outputs_hidden": true
    },
    "papermill": {
     "duration": 4.905329,
     "end_time": "2025-02-15T13:05:33.507520",
     "exception": false,
     "start_time": "2025-02-15T13:05:28.602191",
     "status": "completed"
    },
    "tags": []
   },
   "outputs": [
    {
     "name": "stderr",
     "output_type": "stream",
     "text": [
      "  0%|          | 1/201 [00:01<05:18,  1.59s/it]"
     ]
    },
    {
     "name": "stdout",
     "output_type": "stream",
     "text": [
      "Generated image shape: (32, 64, 64, 3)\n",
      "Batch real image shape: (32, 64, 64, 3)\n",
      "Generated image shape: (32, 64, 64, 3)\n",
      "Batch real image shape: (32, 64, 64, 3)\n",
      "Generated image shape: (32, 64, 64, 3)\n",
      "Batch real image shape: (32, 64, 64, 3)\n",
      "Generated image shape: (32, 64, 64, 3)\n",
      "Batch real image shape: (32, 64, 64, 3)\n",
      "Generated image shape: (32, 64, 64, 3)\n",
      "Batch real image shape: (32, 64, 64, 3)\n"
     ]
    },
    {
     "name": "stderr",
     "output_type": "stream",
     "text": [
      "  7%|▋         | 15/201 [00:01<00:14, 12.79it/s]"
     ]
    },
    {
     "name": "stdout",
     "output_type": "stream",
     "text": [
      "Generated image shape: (32, 64, 64, 3)\n",
      "Batch real image shape: (32, 64, 64, 3)\n",
      "Generated image shape: (32, 64, 64, 3)\n",
      "Batch real image shape: (32, 64, 64, 3)\n",
      "Generated image shape: (32, 64, 64, 3)\n",
      "Batch real image shape: (32, 64, 64, 3)\n",
      "Generated image shape: (32, 64, 64, 3)\n",
      "Batch real image shape: (32, 64, 64, 3)\n",
      "Generated image shape: (32, 64, 64, 3)\n",
      "Batch real image shape: (32, 64, 64, 3)\n",
      "Generated image shape: (32, 64, 64, 3)\n",
      "Batch real image shape: (32, 64, 64, 3)\n",
      "Generated image shape: (32, 64, 64, 3)\n",
      "Batch real image shape: (32, 64, 64, 3)\n",
      "Generated image shape: (32, 64, 64, 3)\n",
      "Batch real image shape: (32, 64, 64, 3)\n",
      "Generated image shape: (32, 64, 64, 3)\n",
      "Batch real image shape: (32, 64, 64, 3)\n",
      "Generated image shape: (32, 64, 64, 3)\n",
      "Batch real image shape: (32, 64, 64, 3)\n",
      "Generated image shape: (32, 64, 64, 3)\n",
      "Batch real image shape: (32, 64, 64, 3)\n",
      "Generated image shape: (32, 64, 64, 3)\n",
      "Batch real image shape: (32, 64, 64, 3)\n",
      "Generated image shape: (32, 64, 64, 3)\n",
      "Batch real image shape: (32, 64, 64, 3)\n",
      "Generated image shape: (32, 64, 64, 3)\n",
      "Batch real image shape: (32, 64, 64, 3)\n"
     ]
    },
    {
     "name": "stderr",
     "output_type": "stream",
     "text": [
      " 14%|█▍        | 29/201 [00:02<00:06, 27.31it/s]"
     ]
    },
    {
     "name": "stdout",
     "output_type": "stream",
     "text": [
      "Generated image shape: (32, 64, 64, 3)\n",
      "Batch real image shape: (32, 64, 64, 3)\n",
      "Generated image shape: (32, 64, 64, 3)\n",
      "Batch real image shape: (32, 64, 64, 3)\n",
      "Generated image shape: (32, 64, 64, 3)\n",
      "Batch real image shape: (32, 64, 64, 3)\n",
      "Generated image shape: (32, 64, 64, 3)\n",
      "Batch real image shape: (32, 64, 64, 3)\n",
      "Generated image shape: (32, 64, 64, 3)\n",
      "Batch real image shape: (32, 64, 64, 3)\n",
      "Generated image shape: (32, 64, 64, 3)\n",
      "Batch real image shape: (32, 64, 64, 3)\n",
      "Generated image shape: (32, 64, 64, 3)\n",
      "Batch real image shape: (32, 64, 64, 3)\n",
      "Generated image shape: (32, 64, 64, 3)\n",
      "Batch real image shape: (32, 64, 64, 3)\n",
      "Generated image shape: (32, 64, 64, 3)\n",
      "Batch real image shape: (32, 64, 64, 3)\n",
      "Generated image shape: (32, 64, 64, 3)\n",
      "Batch real image shape: (32, 64, 64, 3)\n",
      "Generated image shape: (32, 64, 64, 3)\n",
      "Batch real image shape: (32, 64, 64, 3)\n",
      "Generated image shape: (32, 64, 64, 3)\n",
      "Batch real image shape: (32, 64, 64, 3)\n",
      "Generated image shape: (32, 64, 64, 3)\n",
      "Batch real image shape: (32, 64, 64, 3)\n"
     ]
    },
    {
     "name": "stderr",
     "output_type": "stream",
     "text": [
      " 21%|██▏       | 43/201 [00:02<00:03, 40.82it/s]"
     ]
    },
    {
     "name": "stdout",
     "output_type": "stream",
     "text": [
      "Generated image shape: (32, 64, 64, 3)\n",
      "Batch real image shape: (32, 64, 64, 3)\n",
      "Generated image shape: (32, 64, 64, 3)\n",
      "Batch real image shape: (32, 64, 64, 3)\n",
      "Generated image shape: (32, 64, 64, 3)\n",
      "Batch real image shape: (32, 64, 64, 3)\n",
      "Generated image shape: (32, 64, 64, 3)\n",
      "Batch real image shape: (32, 64, 64, 3)\n",
      "Generated image shape: (32, 64, 64, 3)\n",
      "Batch real image shape: (32, 64, 64, 3)\n",
      "Generated image shape: (32, 64, 64, 3)\n",
      "Batch real image shape: (32, 64, 64, 3)\n",
      "Generated image shape: (32, 64, 64, 3)\n",
      "Batch real image shape: (32, 64, 64, 3)\n",
      "Generated image shape: (32, 64, 64, 3)\n",
      "Batch real image shape: (32, 64, 64, 3)\n",
      "Generated image shape: (32, 64, 64, 3)\n",
      "Batch real image shape: (32, 64, 64, 3)\n",
      "Generated image shape: (32, 64, 64, 3)\n",
      "Batch real image shape: (32, 64, 64, 3)\n",
      "Generated image shape: (32, 64, 64, 3)\n",
      "Batch real image shape: (32, 64, 64, 3)\n",
      "Generated image shape: (32, 64, 64, 3)\n",
      "Batch real image shape: (32, 64, 64, 3)\n",
      "Generated image shape: (32, 64, 64, 3)\n",
      "Batch real image shape: (32, 64, 64, 3)\n"
     ]
    },
    {
     "name": "stderr",
     "output_type": "stream",
     "text": [
      " 28%|██▊       | 57/201 [00:02<00:02, 50.59it/s]"
     ]
    },
    {
     "name": "stdout",
     "output_type": "stream",
     "text": [
      "Generated image shape: (32, 64, 64, 3)\n",
      "Batch real image shape: (32, 64, 64, 3)\n",
      "Generated image shape: (32, 64, 64, 3)\n",
      "Batch real image shape: (32, 64, 64, 3)\n",
      "Generated image shape: (32, 64, 64, 3)\n",
      "Batch real image shape: (32, 64, 64, 3)\n",
      "Generated image shape: (32, 64, 64, 3)\n",
      "Batch real image shape: (32, 64, 64, 3)\n",
      "Generated image shape: (32, 64, 64, 3)\n",
      "Batch real image shape: (32, 64, 64, 3)\n",
      "Generated image shape: (32, 64, 64, 3)\n",
      "Batch real image shape: (32, 64, 64, 3)\n",
      "Generated image shape: (32, 64, 64, 3)\n",
      "Batch real image shape: (32, 64, 64, 3)\n",
      "Generated image shape: (32, 64, 64, 3)\n",
      "Batch real image shape: (32, 64, 64, 3)\n",
      "Generated image shape: (32, 64, 64, 3)\n",
      "Batch real image shape: (32, 64, 64, 3)\n",
      "Generated image shape: (32, 64, 64, 3)\n",
      "Batch real image shape: (32, 64, 64, 3)\n",
      "Generated image shape: (32, 64, 64, 3)\n",
      "Batch real image shape: (32, 64, 64, 3)\n",
      "Generated image shape: (32, 64, 64, 3)\n",
      "Batch real image shape: (32, 64, 64, 3)\n",
      "Generated image shape: (32, 64, 64, 3)\n",
      "Batch real image shape: (32, 64, 64, 3)\n"
     ]
    },
    {
     "name": "stderr",
     "output_type": "stream",
     "text": [
      " 35%|███▌      | 71/201 [00:02<00:02, 56.45it/s]"
     ]
    },
    {
     "name": "stdout",
     "output_type": "stream",
     "text": [
      "Generated image shape: (32, 64, 64, 3)\n",
      "Batch real image shape: (32, 64, 64, 3)\n",
      "Generated image shape: (32, 64, 64, 3)\n",
      "Batch real image shape: (32, 64, 64, 3)\n",
      "Generated image shape: (32, 64, 64, 3)\n",
      "Batch real image shape: (32, 64, 64, 3)\n",
      "Generated image shape: (32, 64, 64, 3)\n",
      "Batch real image shape: (32, 64, 64, 3)\n",
      "Generated image shape: (32, 64, 64, 3)\n",
      "Batch real image shape: (32, 64, 64, 3)\n",
      "Generated image shape: (32, 64, 64, 3)\n",
      "Batch real image shape: (32, 64, 64, 3)\n",
      "Generated image shape: (32, 64, 64, 3)\n",
      "Batch real image shape: (32, 64, 64, 3)\n",
      "Generated image shape: (32, 64, 64, 3)\n",
      "Batch real image shape: (32, 64, 64, 3)\n",
      "Generated image shape: (32, 64, 64, 3)\n",
      "Batch real image shape: (32, 64, 64, 3)\n",
      "Generated image shape: (32, 64, 64, 3)\n",
      "Batch real image shape: (32, 64, 64, 3)\n",
      "Generated image shape: (32, 64, 64, 3)\n",
      "Batch real image shape: (32, 64, 64, 3)\n",
      "Generated image shape: (32, 64, 64, 3)\n",
      "Batch real image shape: (32, 64, 64, 3)\n",
      "Generated image shape: (32, 64, 64, 3)\n",
      "Batch real image shape: (32, 64, 64, 3)\n"
     ]
    },
    {
     "name": "stderr",
     "output_type": "stream",
     "text": [
      " 42%|████▏     | 85/201 [00:02<00:01, 60.64it/s]"
     ]
    },
    {
     "name": "stdout",
     "output_type": "stream",
     "text": [
      "Generated image shape: (32, 64, 64, 3)\n",
      "Batch real image shape: (32, 64, 64, 3)\n",
      "Generated image shape: (32, 64, 64, 3)\n",
      "Batch real image shape: (32, 64, 64, 3)\n",
      "Generated image shape: (32, 64, 64, 3)\n",
      "Batch real image shape: (32, 64, 64, 3)\n",
      "Generated image shape: (32, 64, 64, 3)\n",
      "Batch real image shape: (32, 64, 64, 3)\n",
      "Generated image shape: (32, 64, 64, 3)\n",
      "Batch real image shape: (32, 64, 64, 3)\n",
      "Generated image shape: (32, 64, 64, 3)\n",
      "Batch real image shape: (32, 64, 64, 3)\n",
      "Generated image shape: (32, 64, 64, 3)\n",
      "Batch real image shape: (32, 64, 64, 3)\n",
      "Generated image shape: (32, 64, 64, 3)\n",
      "Batch real image shape: (32, 64, 64, 3)\n",
      "Generated image shape: (32, 64, 64, 3)\n",
      "Batch real image shape: (32, 64, 64, 3)\n",
      "Generated image shape: (32, 64, 64, 3)\n",
      "Batch real image shape: (32, 64, 64, 3)\n",
      "Generated image shape: (32, 64, 64, 3)\n",
      "Batch real image shape: (32, 64, 64, 3)\n",
      "Generated image shape: (32, 64, 64, 3)\n",
      "Batch real image shape: (32, 64, 64, 3)\n",
      "Generated image shape: (32, 64, 64, 3)\n",
      "Batch real image shape: (32, 64, 64, 3)\n",
      "Generated image shape: (32, 64, 64, 3)\n",
      "Batch real image shape: (32, 64, 64, 3)\n"
     ]
    },
    {
     "name": "stderr",
     "output_type": "stream",
     "text": [
      " 46%|████▌     | 92/201 [00:03<00:01, 59.15it/s]"
     ]
    },
    {
     "name": "stdout",
     "output_type": "stream",
     "text": [
      "Generated image shape: (32, 64, 64, 3)\n",
      "Batch real image shape: (32, 64, 64, 3)\n",
      "Generated image shape: (32, 64, 64, 3)\n",
      "Batch real image shape: (32, 64, 64, 3)\n",
      "Generated image shape: (32, 64, 64, 3)\n",
      "Batch real image shape: (32, 64, 64, 3)\n",
      "Generated image shape: (32, 64, 64, 3)\n",
      "Batch real image shape: (32, 64, 64, 3)\n",
      "Generated image shape: (32, 64, 64, 3)\n",
      "Batch real image shape: (32, 64, 64, 3)\n",
      "Generated image shape: (32, 64, 64, 3)\n",
      "Batch real image shape: (32, 64, 64, 3)\n",
      "Generated image shape: (32, 64, 64, 3)\n",
      "Batch real image shape: (32, 64, 64, 3)\n",
      "Generated image shape: (32, 64, 64, 3)\n",
      "Batch real image shape: (32, 64, 64, 3)\n",
      "Generated image shape: (32, 64, 64, 3)\n",
      "Batch real image shape: (32, 64, 64, 3)\n",
      "Generated image shape: (32, 64, 64, 3)\n",
      "Batch real image shape: (32, 64, 64, 3)\n",
      "Generated image shape: (32, 64, 64, 3)\n",
      "Batch real image shape: (32, 64, 64, 3)\n",
      "Generated image shape: (32, 64, 64, 3)\n",
      "Batch real image shape: (32, 64, 64, 3)\n"
     ]
    },
    {
     "name": "stderr",
     "output_type": "stream",
     "text": [
      " 53%|█████▎    | 106/201 [00:03<00:01, 60.64it/s]"
     ]
    },
    {
     "name": "stdout",
     "output_type": "stream",
     "text": [
      "Generated image shape: (32, 64, 64, 3)\n",
      "Batch real image shape: (32, 64, 64, 3)\n",
      "Generated image shape: (32, 64, 64, 3)\n",
      "Batch real image shape: (32, 64, 64, 3)\n",
      "Generated image shape: (32, 64, 64, 3)\n",
      "Batch real image shape: (32, 64, 64, 3)\n",
      "Generated image shape: (32, 64, 64, 3)\n",
      "Batch real image shape: (32, 64, 64, 3)\n",
      "Generated image shape: (32, 64, 64, 3)\n",
      "Batch real image shape: (32, 64, 64, 3)\n",
      "Generated image shape: (32, 64, 64, 3)\n",
      "Batch real image shape: (32, 64, 64, 3)\n",
      "Generated image shape: (32, 64, 64, 3)\n",
      "Batch real image shape: (32, 64, 64, 3)\n",
      "Generated image shape: (32, 64, 64, 3)\n",
      "Batch real image shape: (32, 64, 64, 3)\n",
      "Generated image shape: (32, 64, 64, 3)\n",
      "Batch real image shape: (32, 64, 64, 3)\n",
      "Generated image shape: (32, 64, 64, 3)\n",
      "Batch real image shape: (32, 64, 64, 3)\n",
      "Generated image shape: (32, 64, 64, 3)\n",
      "Batch real image shape: (32, 64, 64, 3)\n",
      "Generated image shape: (32, 64, 64, 3)\n",
      "Batch real image shape: (32, 64, 64, 3)\n",
      "Generated image shape: (32, 64, 64, 3)\n",
      "Batch real image shape: (32, 64, 64, 3)\n"
     ]
    },
    {
     "name": "stderr",
     "output_type": "stream",
     "text": [
      " 60%|█████▉    | 120/201 [00:03<00:01, 62.04it/s]"
     ]
    },
    {
     "name": "stdout",
     "output_type": "stream",
     "text": [
      "Generated image shape: (32, 64, 64, 3)\n",
      "Batch real image shape: (32, 64, 64, 3)\n",
      "Generated image shape: (32, 64, 64, 3)\n",
      "Batch real image shape: (32, 64, 64, 3)\n",
      "Generated image shape: (32, 64, 64, 3)\n",
      "Batch real image shape: (32, 64, 64, 3)\n",
      "Generated image shape: (32, 64, 64, 3)\n",
      "Batch real image shape: (32, 64, 64, 3)\n",
      "Generated image shape: (32, 64, 64, 3)\n",
      "Batch real image shape: (32, 64, 64, 3)\n",
      "Generated image shape: (32, 64, 64, 3)\n",
      "Batch real image shape: (32, 64, 64, 3)\n",
      "Generated image shape: (32, 64, 64, 3)\n",
      "Batch real image shape: (32, 64, 64, 3)\n",
      "Generated image shape: (32, 64, 64, 3)\n",
      "Batch real image shape: (32, 64, 64, 3)\n",
      "Generated image shape: (32, 64, 64, 3)\n",
      "Batch real image shape: (32, 64, 64, 3)\n",
      "Generated image shape: (32, 64, 64, 3)\n",
      "Batch real image shape: (32, 64, 64, 3)\n",
      "Generated image shape: (32, 64, 64, 3)\n",
      "Batch real image shape: (32, 64, 64, 3)\n",
      "Generated image shape: (32, 64, 64, 3)\n",
      "Batch real image shape: (32, 64, 64, 3)\n",
      "Generated image shape: (32, 64, 64, 3)\n",
      "Batch real image shape: (32, 64, 64, 3)\n",
      "Generated image shape: (32, 64, 64, 3)\n",
      "Batch real image shape: (32, 64, 64, 3)\n"
     ]
    },
    {
     "name": "stderr",
     "output_type": "stream",
     "text": [
      " 67%|██████▋   | 134/201 [00:03<00:01, 62.45it/s]"
     ]
    },
    {
     "name": "stdout",
     "output_type": "stream",
     "text": [
      "Generated image shape: (32, 64, 64, 3)\n",
      "Batch real image shape: (32, 64, 64, 3)\n",
      "Generated image shape: (32, 64, 64, 3)\n",
      "Batch real image shape: (32, 64, 64, 3)\n",
      "Generated image shape: (32, 64, 64, 3)\n",
      "Batch real image shape: (32, 64, 64, 3)\n",
      "Generated image shape: (32, 64, 64, 3)\n",
      "Batch real image shape: (32, 64, 64, 3)\n",
      "Generated image shape: (32, 64, 64, 3)\n",
      "Batch real image shape: (32, 64, 64, 3)\n",
      "Generated image shape: (32, 64, 64, 3)\n",
      "Batch real image shape: (32, 64, 64, 3)\n",
      "Generated image shape: (32, 64, 64, 3)\n",
      "Batch real image shape: (32, 64, 64, 3)\n",
      "Generated image shape: (32, 64, 64, 3)\n",
      "Batch real image shape: (32, 64, 64, 3)\n",
      "Generated image shape: (32, 64, 64, 3)\n",
      "Batch real image shape: (32, 64, 64, 3)\n",
      "Generated image shape: (32, 64, 64, 3)\n",
      "Batch real image shape: (32, 64, 64, 3)\n",
      "Generated image shape: (32, 64, 64, 3)\n",
      "Batch real image shape: (32, 64, 64, 3)\n",
      "Generated image shape: (32, 64, 64, 3)\n",
      "Batch real image shape: (32, 64, 64, 3)\n"
     ]
    },
    {
     "name": "stderr",
     "output_type": "stream",
     "text": [
      " 73%|███████▎  | 147/201 [00:03<00:00, 57.98it/s]"
     ]
    },
    {
     "name": "stdout",
     "output_type": "stream",
     "text": [
      "Generated image shape: (32, 64, 64, 3)\n",
      "Batch real image shape: (32, 64, 64, 3)\n",
      "Generated image shape: (32, 64, 64, 3)\n",
      "Batch real image shape: (32, 64, 64, 3)\n",
      "Generated image shape: (32, 64, 64, 3)\n",
      "Batch real image shape: (32, 64, 64, 3)\n",
      "Generated image shape: (32, 64, 64, 3)\n",
      "Batch real image shape: (32, 64, 64, 3)\n",
      "Generated image shape: (32, 64, 64, 3)\n",
      "Batch real image shape: (32, 64, 64, 3)\n",
      "Generated image shape: (32, 64, 64, 3)\n",
      "Batch real image shape: (32, 64, 64, 3)\n",
      "Generated image shape: (32, 64, 64, 3)\n",
      "Batch real image shape: (32, 64, 64, 3)\n",
      "Generated image shape: (32, 64, 64, 3)\n",
      "Batch real image shape: (32, 64, 64, 3)\n",
      "Generated image shape: (32, 64, 64, 3)\n",
      "Batch real image shape: (32, 64, 64, 3)\n",
      "Generated image shape: (32, 64, 64, 3)\n",
      "Batch real image shape: (32, 64, 64, 3)\n",
      "Generated image shape: (32, 64, 64, 3)\n",
      "Batch real image shape: (32, 64, 64, 3)\n"
     ]
    },
    {
     "name": "stderr",
     "output_type": "stream",
     "text": [
      " 80%|████████  | 161/201 [00:04<00:00, 62.17it/s]"
     ]
    },
    {
     "name": "stdout",
     "output_type": "stream",
     "text": [
      "Generated image shape: (32, 64, 64, 3)\n",
      "Batch real image shape: (32, 64, 64, 3)\n",
      "Generated image shape: (32, 64, 64, 3)\n",
      "Batch real image shape: (32, 64, 64, 3)\n",
      "Generated image shape: (32, 64, 64, 3)\n",
      "Batch real image shape: (32, 64, 64, 3)\n",
      "Generated image shape: (32, 64, 64, 3)\n",
      "Batch real image shape: (32, 64, 64, 3)\n",
      "Generated image shape: (32, 64, 64, 3)\n",
      "Batch real image shape: (32, 64, 64, 3)\n",
      "Generated image shape: (32, 64, 64, 3)\n",
      "Batch real image shape: (32, 64, 64, 3)\n",
      "Generated image shape: (32, 64, 64, 3)\n",
      "Batch real image shape: (32, 64, 64, 3)\n",
      "Generated image shape: (32, 64, 64, 3)\n",
      "Batch real image shape: (32, 64, 64, 3)\n",
      "Generated image shape: (32, 64, 64, 3)\n",
      "Batch real image shape: (32, 64, 64, 3)\n",
      "Generated image shape: (32, 64, 64, 3)\n",
      "Batch real image shape: (32, 64, 64, 3)\n",
      "Generated image shape: (32, 64, 64, 3)\n",
      "Batch real image shape: (32, 64, 64, 3)\n",
      "Generated image shape: (32, 64, 64, 3)\n",
      "Batch real image shape: (32, 64, 64, 3)\n",
      "Generated image shape: (32, 64, 64, 3)\n",
      "Batch real image shape: (32, 64, 64, 3)\n",
      "Generated image shape: (32, 64, 64, 3)\n",
      "Batch real image shape: (32, 64, 64, 3)\n"
     ]
    },
    {
     "name": "stderr",
     "output_type": "stream",
     "text": [
      " 87%|████████▋ | 175/201 [00:04<00:00, 64.59it/s]"
     ]
    },
    {
     "name": "stdout",
     "output_type": "stream",
     "text": [
      "Generated image shape: (32, 64, 64, 3)\n",
      "Batch real image shape: (32, 64, 64, 3)\n",
      "Generated image shape: (32, 64, 64, 3)\n",
      "Batch real image shape: (32, 64, 64, 3)\n",
      "Generated image shape: (32, 64, 64, 3)\n",
      "Batch real image shape: (32, 64, 64, 3)\n",
      "Generated image shape: (32, 64, 64, 3)\n",
      "Batch real image shape: (32, 64, 64, 3)\n",
      "Generated image shape: (32, 64, 64, 3)\n",
      "Batch real image shape: (32, 64, 64, 3)\n",
      "Generated image shape: (32, 64, 64, 3)\n",
      "Batch real image shape: (32, 64, 64, 3)\n",
      "Generated image shape: (32, 64, 64, 3)\n",
      "Batch real image shape: (32, 64, 64, 3)\n",
      "Generated image shape: (32, 64, 64, 3)\n",
      "Batch real image shape: (32, 64, 64, 3)\n",
      "Generated image shape: (32, 64, 64, 3)\n",
      "Batch real image shape: (32, 64, 64, 3)\n",
      "Generated image shape: (32, 64, 64, 3)\n",
      "Batch real image shape: (32, 64, 64, 3)\n",
      "Generated image shape: (32, 64, 64, 3)\n",
      "Batch real image shape: (32, 64, 64, 3)\n",
      "Generated image shape: (32, 64, 64, 3)\n",
      "Batch real image shape: (32, 64, 64, 3)\n",
      "Generated image shape: (32, 64, 64, 3)\n",
      "Batch real image shape: (32, 64, 64, 3)\n",
      "Generated image shape: (32, 64, 64, 3)\n",
      "Batch real image shape: (32, 64, 64, 3)\n"
     ]
    },
    {
     "name": "stderr",
     "output_type": "stream",
     "text": [
      " 94%|█████████▍| 189/201 [00:04<00:00, 65.38it/s]"
     ]
    },
    {
     "name": "stdout",
     "output_type": "stream",
     "text": [
      "Generated image shape: (32, 64, 64, 3)\n",
      "Batch real image shape: (32, 64, 64, 3)\n",
      "Generated image shape: (32, 64, 64, 3)\n",
      "Batch real image shape: (32, 64, 64, 3)\n",
      "Generated image shape: (32, 64, 64, 3)\n",
      "Batch real image shape: (32, 64, 64, 3)\n",
      "Generated image shape: (32, 64, 64, 3)\n",
      "Batch real image shape: (32, 64, 64, 3)\n",
      "Generated image shape: (32, 64, 64, 3)\n",
      "Batch real image shape: (32, 64, 64, 3)\n",
      "Generated image shape: (32, 64, 64, 3)\n",
      "Batch real image shape: (32, 64, 64, 3)\n",
      "Generated image shape: (32, 64, 64, 3)\n",
      "Batch real image shape: (32, 64, 64, 3)\n",
      "Generated image shape: (32, 64, 64, 3)\n",
      "Batch real image shape: (32, 64, 64, 3)\n",
      "Generated image shape: (32, 64, 64, 3)\n",
      "Batch real image shape: (32, 64, 64, 3)\n",
      "Generated image shape: (32, 64, 64, 3)\n",
      "Batch real image shape: (32, 64, 64, 3)\n",
      "Generated image shape: (32, 64, 64, 3)\n",
      "Batch real image shape: (32, 64, 64, 3)\n",
      "Generated image shape: (32, 64, 64, 3)\n",
      "Batch real image shape: (32, 64, 64, 3)\n",
      "Generated image shape: (32, 64, 64, 3)\n",
      "Batch real image shape: (32, 64, 64, 3)\n",
      "Generated image shape: (32, 64, 64, 3)\n",
      "Batch real image shape: (32, 64, 64, 3)\n"
     ]
    },
    {
     "name": "stderr",
     "output_type": "stream",
     "text": [
      " 98%|█████████▊| 196/201 [00:04<00:00, 66.19it/s]"
     ]
    },
    {
     "name": "stdout",
     "output_type": "stream",
     "text": [
      "Generated image shape: (32, 64, 64, 3)\n",
      "Batch real image shape: (32, 64, 64, 3)\n",
      "Generated image shape: (32, 64, 64, 3)\n",
      "Batch real image shape: (32, 64, 64, 3)\n",
      "Generated image shape: (32, 64, 64, 3)\n",
      "Batch real image shape: (32, 64, 64, 3)\n",
      "Generated image shape: (32, 64, 64, 3)\n",
      "Batch real image shape: (32, 64, 64, 3)\n",
      "Generated image shape: (32, 64, 64, 3)\n",
      "Batch real image shape: (32, 64, 64, 3)\n",
      "Generated image shape: (32, 64, 64, 3)\n",
      "Batch real image shape: (32, 64, 64, 3)\n",
      "Generated image shape: (32, 64, 64, 3)\n",
      "Batch real image shape: (32, 64, 64, 3)\n",
      "Generated image shape: (32, 64, 64, 3)\n",
      "Batch real image shape: (32, 64, 64, 3)\n",
      "Generated image shape: (32, 64, 64, 3)\n",
      "Batch real image shape: (32, 64, 64, 3)\n",
      "Generated image shape: (32, 64, 64, 3)\n",
      "Batch real image shape: (32, 64, 64, 3)\n",
      "Generated image shape: (32, 64, 64, 3)\n",
      "Batch real image shape: (32, 64, 64, 3)\n"
     ]
    },
    {
     "name": "stderr",
     "output_type": "stream",
     "text": [
      "100%|██████████| 201/201 [00:04<00:00, 41.10it/s]"
     ]
    },
    {
     "name": "stdout",
     "output_type": "stream",
     "text": [
      "Generated image shape: (9, 64, 64, 3)\n",
      "Batch real image shape: (9, 64, 64, 3)\n"
     ]
    },
    {
     "name": "stderr",
     "output_type": "stream",
     "text": [
      "\n"
     ]
    }
   ],
   "source": [
    "# Ensure the batch is passed from the dataset\n",
    "for idx, (batch_real, batch_label) in enumerate(tqdm(train_data)):  # Assuming `train_data` is the dataset\n",
    "\n",
    "    # Pass batch through the encoder and decoder (autoencoder)\n",
    "    latent_representation = encoder(batch_real)\n",
    "    generated_image = decoder(latent_representation)\n",
    "\n",
    "    # Check if the shape is as expected\n",
    "    print(f\"Generated image shape: {generated_image.shape}\")\n",
    "    print(f\"Batch real image shape: {batch_real.shape}\")\n",
    "\n",
    "    # If needed, resize generated image to match batch_real shape\n",
    "    generated_image = tf.image.resize(generated_image, (64, 64))  # Resize to match (64, 64, 3)\n",
    "    loss_autoencoder = loss_fn_auto(batch_real, generated_image)  # Calculate the loss\n"
   ]
  },
  {
   "cell_type": "code",
   "execution_count": 11,
   "id": "bdb88e0c",
   "metadata": {
    "execution": {
     "iopub.execute_input": "2025-02-15T13:05:33.523672Z",
     "iopub.status.busy": "2025-02-15T13:05:33.523407Z",
     "iopub.status.idle": "2025-02-15T15:14:01.811748Z",
     "shell.execute_reply": "2025-02-15T15:14:01.810746Z"
    },
    "papermill": {
     "duration": 7708.298544,
     "end_time": "2025-02-15T15:14:01.813922",
     "exception": false,
     "start_time": "2025-02-15T13:05:33.515378",
     "status": "completed"
    },
    "tags": []
   },
   "outputs": [
    {
     "name": "stderr",
     "output_type": "stream",
     "text": [
      "100%|██████████| 201/201 [00:38<00:00,  5.20it/s]\n"
     ]
    },
    {
     "name": "stdout",
     "output_type": "stream",
     "text": [
      "Epoch 0, Autoencoder Loss: 0.022196905687451363, Discriminator Loss: 1.124599575996399, Discriminator Accuracy: 0.6725572943687439\n",
      "Validation - Autoencoder Loss: 0.01742633804678917, Discriminator Loss: 1.0709171295166016, Discriminator Accuracy: 0.6607434749603271\n"
     ]
    },
    {
     "name": "stderr",
     "output_type": "stream",
     "text": [
      "100%|██████████| 201/201 [00:36<00:00,  5.49it/s]\n"
     ]
    },
    {
     "name": "stdout",
     "output_type": "stream",
     "text": [
      "Epoch 1, Autoencoder Loss: 0.013417000882327557, Discriminator Loss: 1.0461729764938354, Discriminator Accuracy: 0.6721599698066711\n",
      "Validation - Autoencoder Loss: 0.00980500876903534, Discriminator Loss: 1.023828387260437, Discriminator Accuracy: 0.6607434749603271\n"
     ]
    },
    {
     "name": "stderr",
     "output_type": "stream",
     "text": [
      "100%|██████████| 201/201 [00:36<00:00,  5.48it/s]\n"
     ]
    },
    {
     "name": "stdout",
     "output_type": "stream",
     "text": [
      "Epoch 2, Autoencoder Loss: 0.007382956333458424, Discriminator Loss: 0.9637231826782227, Discriminator Accuracy: 0.6725400686264038\n",
      "Validation - Autoencoder Loss: 0.005414201412349939, Discriminator Loss: 0.9451804161071777, Discriminator Accuracy: 0.6613562107086182\n"
     ]
    },
    {
     "name": "stderr",
     "output_type": "stream",
     "text": [
      "100%|██████████| 201/201 [00:37<00:00,  5.42it/s]\n"
     ]
    },
    {
     "name": "stdout",
     "output_type": "stream",
     "text": [
      "Epoch 3, Autoencoder Loss: 0.005196822807192802, Discriminator Loss: 0.9292572140693665, Discriminator Accuracy: 0.6743366122245789\n",
      "Validation - Autoencoder Loss: 0.004783232230693102, Discriminator Loss: 0.922218382358551, Discriminator Accuracy: 0.664419949054718\n"
     ]
    },
    {
     "name": "stderr",
     "output_type": "stream",
     "text": [
      "100%|██████████| 201/201 [00:37<00:00,  5.38it/s]\n"
     ]
    },
    {
     "name": "stdout",
     "output_type": "stream",
     "text": [
      "Epoch 4, Autoencoder Loss: 0.004391098860651255, Discriminator Loss: 0.9066104292869568, Discriminator Accuracy: 0.6772042512893677\n",
      "Validation - Autoencoder Loss: 0.005328956060111523, Discriminator Loss: 0.9089334011077881, Discriminator Accuracy: 0.6809640526771545\n"
     ]
    },
    {
     "name": "stderr",
     "output_type": "stream",
     "text": [
      "100%|██████████| 201/201 [00:37<00:00,  5.38it/s]\n"
     ]
    },
    {
     "name": "stdout",
     "output_type": "stream",
     "text": [
      "Epoch 5, Autoencoder Loss: 0.003975544590502977, Discriminator Loss: 0.8846549391746521, Discriminator Accuracy: 0.6849951148033142\n",
      "Validation - Autoencoder Loss: 0.004051829222589731, Discriminator Loss: 0.9236658811569214, Discriminator Accuracy: 0.665032684803009\n"
     ]
    },
    {
     "name": "stderr",
     "output_type": "stream",
     "text": [
      "100%|██████████| 201/201 [00:37<00:00,  5.39it/s]\n"
     ]
    },
    {
     "name": "stdout",
     "output_type": "stream",
     "text": [
      "Epoch 6, Autoencoder Loss: 0.003609195351600647, Discriminator Loss: 0.8646060824394226, Discriminator Accuracy: 0.6897111535072327\n",
      "Validation - Autoencoder Loss: 0.003380856942385435, Discriminator Loss: 0.8926507830619812, Discriminator Accuracy: 0.6815768480300903\n"
     ]
    },
    {
     "name": "stderr",
     "output_type": "stream",
     "text": [
      "100%|██████████| 201/201 [00:37<00:00,  5.39it/s]\n"
     ]
    },
    {
     "name": "stdout",
     "output_type": "stream",
     "text": [
      "Epoch 7, Autoencoder Loss: 0.003434059675782919, Discriminator Loss: 0.8436510562896729, Discriminator Accuracy: 0.6965692043304443\n",
      "Validation - Autoencoder Loss: 0.003322663251310587, Discriminator Loss: 0.8848072290420532, Discriminator Accuracy: 0.6754493713378906\n"
     ]
    },
    {
     "name": "stderr",
     "output_type": "stream",
     "text": [
      "100%|██████████| 201/201 [00:37<00:00,  5.38it/s]\n"
     ]
    },
    {
     "name": "stdout",
     "output_type": "stream",
     "text": [
      "Epoch 8, Autoencoder Loss: 0.0031836489215493202, Discriminator Loss: 0.8249941468238831, Discriminator Accuracy: 0.7025635242462158\n",
      "Validation - Autoencoder Loss: 0.003426856826990843, Discriminator Loss: 0.8670246005058289, Discriminator Accuracy: 0.6693218946456909\n"
     ]
    },
    {
     "name": "stderr",
     "output_type": "stream",
     "text": [
      "100%|██████████| 201/201 [00:37<00:00,  5.36it/s]\n"
     ]
    },
    {
     "name": "stdout",
     "output_type": "stream",
     "text": [
      "Epoch 9, Autoencoder Loss: 0.00305131240747869, Discriminator Loss: 0.8053818345069885, Discriminator Accuracy: 0.7060530185699463\n",
      "Validation - Autoencoder Loss: 0.0030655618757009506, Discriminator Loss: 0.8683783411979675, Discriminator Accuracy: 0.6748366355895996\n"
     ]
    },
    {
     "name": "stderr",
     "output_type": "stream",
     "text": [
      "100%|██████████| 201/201 [00:37<00:00,  5.31it/s]\n"
     ]
    },
    {
     "name": "stdout",
     "output_type": "stream",
     "text": [
      "Epoch 10, Autoencoder Loss: 0.0029167775064706802, Discriminator Loss: 0.7939195036888123, Discriminator Accuracy: 0.7121337652206421\n",
      "Validation - Autoencoder Loss: 0.0028811204247176647, Discriminator Loss: 0.8328848481178284, Discriminator Accuracy: 0.693219006061554\n"
     ]
    },
    {
     "name": "stderr",
     "output_type": "stream",
     "text": [
      "100%|██████████| 201/201 [00:37<00:00,  5.37it/s]\n"
     ]
    },
    {
     "name": "stdout",
     "output_type": "stream",
     "text": [
      "Epoch 11, Autoencoder Loss: 0.0028530252166092396, Discriminator Loss: 0.77543705701828, Discriminator Accuracy: 0.7135156989097595\n",
      "Validation - Autoencoder Loss: 0.00286843441426754, Discriminator Loss: 0.8388363122940063, Discriminator Accuracy: 0.6864787936210632\n"
     ]
    },
    {
     "name": "stderr",
     "output_type": "stream",
     "text": [
      "100%|██████████| 201/201 [00:37<00:00,  5.38it/s]\n"
     ]
    },
    {
     "name": "stdout",
     "output_type": "stream",
     "text": [
      "Epoch 12, Autoencoder Loss: 0.0027398185338824987, Discriminator Loss: 0.7637431025505066, Discriminator Accuracy: 0.7196483016014099\n",
      "Validation - Autoencoder Loss: 0.002880527637898922, Discriminator Loss: 0.8220487833023071, Discriminator Accuracy: 0.696282684803009\n"
     ]
    },
    {
     "name": "stderr",
     "output_type": "stream",
     "text": [
      "100%|██████████| 201/201 [00:36<00:00,  5.45it/s]\n"
     ]
    },
    {
     "name": "stdout",
     "output_type": "stream",
     "text": [
      "Epoch 13, Autoencoder Loss: 0.0027007493190467358, Discriminator Loss: 0.7498680353164673, Discriminator Accuracy: 0.7240878343582153\n",
      "Validation - Autoencoder Loss: 0.0026173617225140333, Discriminator Loss: 0.8130874633789062, Discriminator Accuracy: 0.6889297366142273\n"
     ]
    },
    {
     "name": "stderr",
     "output_type": "stream",
     "text": [
      "100%|██████████| 201/201 [00:36<00:00,  5.45it/s]\n"
     ]
    },
    {
     "name": "stdout",
     "output_type": "stream",
     "text": [
      "Epoch 14, Autoencoder Loss: 0.0026116848457604647, Discriminator Loss: 0.7416440844535828, Discriminator Accuracy: 0.7245715856552124\n",
      "Validation - Autoencoder Loss: 0.003001085016876459, Discriminator Loss: 0.807411253452301, Discriminator Accuracy: 0.6987336874008179\n"
     ]
    },
    {
     "name": "stderr",
     "output_type": "stream",
     "text": [
      "100%|██████████| 201/201 [00:36<00:00,  5.48it/s]\n"
     ]
    },
    {
     "name": "stdout",
     "output_type": "stream",
     "text": [
      "Epoch 15, Autoencoder Loss: 0.0025833332911133766, Discriminator Loss: 0.7323054075241089, Discriminator Accuracy: 0.7266445755958557\n",
      "Validation - Autoencoder Loss: 0.002643641084432602, Discriminator Loss: 0.8182340860366821, Discriminator Accuracy: 0.693831741809845\n"
     ]
    },
    {
     "name": "stderr",
     "output_type": "stream",
     "text": [
      "100%|██████████| 201/201 [00:36<00:00,  5.47it/s]\n"
     ]
    },
    {
     "name": "stdout",
     "output_type": "stream",
     "text": [
      "Epoch 16, Autoencoder Loss: 0.0025378051213920116, Discriminator Loss: 0.7214590311050415, Discriminator Accuracy: 0.7307214140892029\n",
      "Validation - Autoencoder Loss: 0.0025752082001417875, Discriminator Loss: 0.8022488355636597, Discriminator Accuracy: 0.696282684803009\n"
     ]
    },
    {
     "name": "stderr",
     "output_type": "stream",
     "text": [
      "100%|██████████| 201/201 [00:36<00:00,  5.47it/s]\n"
     ]
    },
    {
     "name": "stdout",
     "output_type": "stream",
     "text": [
      "Epoch 17, Autoencoder Loss: 0.0024580340832471848, Discriminator Loss: 0.7120041251182556, Discriminator Accuracy: 0.7337444424629211\n",
      "Validation - Autoencoder Loss: 0.002433433197438717, Discriminator Loss: 0.7896251082420349, Discriminator Accuracy: 0.6999591588973999\n"
     ]
    },
    {
     "name": "stderr",
     "output_type": "stream",
     "text": [
      "100%|██████████| 201/201 [00:36<00:00,  5.45it/s]\n"
     ]
    },
    {
     "name": "stdout",
     "output_type": "stream",
     "text": [
      "Epoch 18, Autoencoder Loss: 0.0024449035990983248, Discriminator Loss: 0.708167552947998, Discriminator Accuracy: 0.7350572943687439\n",
      "Validation - Autoencoder Loss: 0.002424859907478094, Discriminator Loss: 0.7840327024459839, Discriminator Accuracy: 0.7066993713378906\n"
     ]
    },
    {
     "name": "stderr",
     "output_type": "stream",
     "text": [
      "100%|██████████| 201/201 [00:36<00:00,  5.49it/s]\n"
     ]
    },
    {
     "name": "stdout",
     "output_type": "stream",
     "text": [
      "Epoch 19, Autoencoder Loss: 0.0023962093982845545, Discriminator Loss: 0.7007424831390381, Discriminator Accuracy: 0.7374412417411804\n",
      "Validation - Autoencoder Loss: 0.002367861568927765, Discriminator Loss: 0.7929468154907227, Discriminator Accuracy: 0.695057213306427\n"
     ]
    },
    {
     "name": "stderr",
     "output_type": "stream",
     "text": [
      "100%|██████████| 201/201 [00:36<00:00,  5.50it/s]\n"
     ]
    },
    {
     "name": "stdout",
     "output_type": "stream",
     "text": [
      "Epoch 20, Autoencoder Loss: 0.0023576703388243914, Discriminator Loss: 0.6935732960700989, Discriminator Accuracy: 0.7413452863693237\n",
      "Validation - Autoencoder Loss: 0.002348913112655282, Discriminator Loss: 0.7894163727760315, Discriminator Accuracy: 0.7030228972434998\n"
     ]
    },
    {
     "name": "stderr",
     "output_type": "stream",
     "text": [
      "100%|██████████| 201/201 [00:36<00:00,  5.44it/s]\n"
     ]
    },
    {
     "name": "stdout",
     "output_type": "stream",
     "text": [
      "Epoch 21, Autoencoder Loss: 0.0023114208597689867, Discriminator Loss: 0.6869192719459534, Discriminator Accuracy: 0.7395660281181335\n",
      "Validation - Autoencoder Loss: 0.00232811295427382, Discriminator Loss: 0.7870442271232605, Discriminator Accuracy: 0.7024101614952087\n"
     ]
    },
    {
     "name": "stderr",
     "output_type": "stream",
     "text": [
      "100%|██████████| 201/201 [00:36<00:00,  5.43it/s]\n"
     ]
    },
    {
     "name": "stdout",
     "output_type": "stream",
     "text": [
      "Epoch 22, Autoencoder Loss: 0.0022919788025319576, Discriminator Loss: 0.6742877960205078, Discriminator Accuracy: 0.7464932203292847\n",
      "Validation - Autoencoder Loss: 0.0027774169575423002, Discriminator Loss: 0.8637478947639465, Discriminator Accuracy: 0.6907680034637451\n"
     ]
    },
    {
     "name": "stderr",
     "output_type": "stream",
     "text": [
      "100%|██████████| 201/201 [00:36<00:00,  5.46it/s]\n"
     ]
    },
    {
     "name": "stdout",
     "output_type": "stream",
     "text": [
      "Epoch 23, Autoencoder Loss: 0.00228405580855906, Discriminator Loss: 0.6699851155281067, Discriminator Accuracy: 0.7482033967971802\n",
      "Validation - Autoencoder Loss: 0.002292701741680503, Discriminator Loss: 0.8074924349784851, Discriminator Accuracy: 0.7060866355895996\n"
     ]
    },
    {
     "name": "stderr",
     "output_type": "stream",
     "text": [
      "100%|██████████| 201/201 [00:36<00:00,  5.50it/s]\n"
     ]
    },
    {
     "name": "stdout",
     "output_type": "stream",
     "text": [
      "Epoch 24, Autoencoder Loss: 0.0021982542239129543, Discriminator Loss: 0.6615102291107178, Discriminator Accuracy: 0.7471150755882263\n",
      "Validation - Autoencoder Loss: 0.002776893088594079, Discriminator Loss: 0.8078001141548157, Discriminator Accuracy: 0.7024101614952087\n"
     ]
    },
    {
     "name": "stderr",
     "output_type": "stream",
     "text": [
      "100%|██████████| 201/201 [00:36<00:00,  5.46it/s]\n"
     ]
    },
    {
     "name": "stdout",
     "output_type": "stream",
     "text": [
      "Epoch 25, Autoencoder Loss: 0.0022092272993177176, Discriminator Loss: 0.6547029614448547, Discriminator Accuracy: 0.7516928911209106\n",
      "Validation - Autoencoder Loss: 0.002277638064697385, Discriminator Loss: 0.8229323029518127, Discriminator Accuracy: 0.7048611640930176\n"
     ]
    },
    {
     "name": "stderr",
     "output_type": "stream",
     "text": [
      "100%|██████████| 201/201 [00:36<00:00,  5.47it/s]\n"
     ]
    },
    {
     "name": "stdout",
     "output_type": "stream",
     "text": [
      "Epoch 26, Autoencoder Loss: 0.0021758966613560915, Discriminator Loss: 0.6449291706085205, Discriminator Accuracy: 0.7566853165626526\n",
      "Validation - Autoencoder Loss: 0.0024594771675765514, Discriminator Loss: 0.819940447807312, Discriminator Accuracy: 0.7048611640930176\n"
     ]
    },
    {
     "name": "stderr",
     "output_type": "stream",
     "text": [
      "100%|██████████| 201/201 [00:36<00:00,  5.48it/s]\n"
     ]
    },
    {
     "name": "stdout",
     "output_type": "stream",
     "text": [
      "Epoch 27, Autoencoder Loss: 0.0021513740066438913, Discriminator Loss: 0.6407983899116516, Discriminator Accuracy: 0.7569789886474609\n",
      "Validation - Autoencoder Loss: 0.0021580613683909178, Discriminator Loss: 0.7809165716171265, Discriminator Accuracy: 0.7146650552749634\n"
     ]
    },
    {
     "name": "stderr",
     "output_type": "stream",
     "text": [
      "100%|██████████| 201/201 [00:36<00:00,  5.49it/s]\n"
     ]
    },
    {
     "name": "stdout",
     "output_type": "stream",
     "text": [
      "Epoch 28, Autoencoder Loss: 0.002140458207577467, Discriminator Loss: 0.6343820095062256, Discriminator Accuracy: 0.7576872706413269\n",
      "Validation - Autoencoder Loss: 0.0021768142469227314, Discriminator Loss: 0.7750933170318604, Discriminator Accuracy: 0.7171160578727722\n"
     ]
    },
    {
     "name": "stderr",
     "output_type": "stream",
     "text": [
      "100%|██████████| 201/201 [00:36<00:00,  5.45it/s]\n"
     ]
    },
    {
     "name": "stdout",
     "output_type": "stream",
     "text": [
      "Epoch 29, Autoencoder Loss: 0.002107527805492282, Discriminator Loss: 0.6271610260009766, Discriminator Accuracy: 0.7620404958724976\n",
      "Validation - Autoencoder Loss: 0.0021539130248129368, Discriminator Loss: 0.8029042482376099, Discriminator Accuracy: 0.7011846899986267\n"
     ]
    },
    {
     "name": "stderr",
     "output_type": "stream",
     "text": [
      "100%|██████████| 201/201 [00:36<00:00,  5.50it/s]\n"
     ]
    },
    {
     "name": "stdout",
     "output_type": "stream",
     "text": [
      "Epoch 30, Autoencoder Loss: 0.0020734055433422327, Discriminator Loss: 0.6189119219779968, Discriminator Accuracy: 0.763266921043396\n",
      "Validation - Autoencoder Loss: 0.0021080337464809418, Discriminator Loss: 0.7826800346374512, Discriminator Accuracy: 0.7109885811805725\n"
     ]
    },
    {
     "name": "stderr",
     "output_type": "stream",
     "text": [
      "100%|██████████| 201/201 [00:36<00:00,  5.50it/s]\n"
     ]
    },
    {
     "name": "stdout",
     "output_type": "stream",
     "text": [
      "Epoch 31, Autoencoder Loss: 0.0020035577472299337, Discriminator Loss: 0.6090578436851501, Discriminator Accuracy: 0.7708160281181335\n",
      "Validation - Autoencoder Loss: 0.001953982515260577, Discriminator Loss: 0.7721503973007202, Discriminator Accuracy: 0.7091503739356995\n"
     ]
    },
    {
     "name": "stderr",
     "output_type": "stream",
     "text": [
      "100%|██████████| 201/201 [00:36<00:00,  5.51it/s]\n"
     ]
    },
    {
     "name": "stdout",
     "output_type": "stream",
     "text": [
      "Epoch 32, Autoencoder Loss: 0.0018843180732801557, Discriminator Loss: 0.5945812463760376, Discriminator Accuracy: 0.7779677510261536\n",
      "Validation - Autoencoder Loss: 0.0019684985745698214, Discriminator Loss: 0.8168841600418091, Discriminator Accuracy: 0.7024101614952087\n"
     ]
    },
    {
     "name": "stderr",
     "output_type": "stream",
     "text": [
      "100%|██████████| 201/201 [00:36<00:00,  5.50it/s]\n"
     ]
    },
    {
     "name": "stdout",
     "output_type": "stream",
     "text": [
      "Epoch 33, Autoencoder Loss: 0.00184499635361135, Discriminator Loss: 0.5854368209838867, Discriminator Accuracy: 0.7812327146530151\n",
      "Validation - Autoencoder Loss: 0.001866972423158586, Discriminator Loss: 0.7728254199028015, Discriminator Accuracy: 0.7201797366142273\n"
     ]
    },
    {
     "name": "stderr",
     "output_type": "stream",
     "text": [
      "100%|██████████| 201/201 [00:36<00:00,  5.49it/s]\n"
     ]
    },
    {
     "name": "stdout",
     "output_type": "stream",
     "text": [
      "Epoch 34, Autoencoder Loss: 0.0018030140781775117, Discriminator Loss: 0.5798981189727783, Discriminator Accuracy: 0.7842040061950684\n",
      "Validation - Autoencoder Loss: 0.0018282431410625577, Discriminator Loss: 0.7893621325492859, Discriminator Accuracy: 0.7195670008659363\n"
     ]
    },
    {
     "name": "stderr",
     "output_type": "stream",
     "text": [
      "100%|██████████| 201/201 [00:36<00:00,  5.47it/s]\n"
     ]
    },
    {
     "name": "stdout",
     "output_type": "stream",
     "text": [
      "Epoch 35, Autoencoder Loss: 0.0017967099556699395, Discriminator Loss: 0.5720264911651611, Discriminator Accuracy: 0.7861387133598328\n",
      "Validation - Autoencoder Loss: 0.0018063841853290796, Discriminator Loss: 0.7697369456291199, Discriminator Accuracy: 0.7183415293693542\n"
     ]
    },
    {
     "name": "stderr",
     "output_type": "stream",
     "text": [
      "100%|██████████| 201/201 [00:36<00:00,  5.49it/s]\n"
     ]
    },
    {
     "name": "stdout",
     "output_type": "stream",
     "text": [
      "Epoch 36, Autoencoder Loss: 0.0017896756762638688, Discriminator Loss: 0.5624697804450989, Discriminator Accuracy: 0.7903364896774292\n",
      "Validation - Autoencoder Loss: 0.0018259233329445124, Discriminator Loss: 0.7664499282836914, Discriminator Accuracy: 0.7281454205513\n"
     ]
    },
    {
     "name": "stderr",
     "output_type": "stream",
     "text": [
      "100%|██████████| 201/201 [00:36<00:00,  5.51it/s]\n"
     ]
    },
    {
     "name": "stdout",
     "output_type": "stream",
     "text": [
      "Epoch 37, Autoencoder Loss: 0.0017470563761889935, Discriminator Loss: 0.5507636666297913, Discriminator Accuracy: 0.7952425479888916\n",
      "Validation - Autoencoder Loss: 0.0019324462627992034, Discriminator Loss: 0.8216338753700256, Discriminator Accuracy: 0.7158905267715454\n"
     ]
    },
    {
     "name": "stderr",
     "output_type": "stream",
     "text": [
      "100%|██████████| 201/201 [00:36<00:00,  5.47it/s]\n"
     ]
    },
    {
     "name": "stdout",
     "output_type": "stream",
     "text": [
      "Epoch 38, Autoencoder Loss: 0.0017560044070705771, Discriminator Loss: 0.5469793677330017, Discriminator Accuracy: 0.7957780361175537\n",
      "Validation - Autoencoder Loss: 0.0019922317005693913, Discriminator Loss: 0.8330699801445007, Discriminator Accuracy: 0.7201797366142273\n"
     ]
    },
    {
     "name": "stderr",
     "output_type": "stream",
     "text": [
      "100%|██████████| 201/201 [00:36<00:00,  5.52it/s]\n"
     ]
    },
    {
     "name": "stdout",
     "output_type": "stream",
     "text": [
      "Epoch 39, Autoencoder Loss: 0.0017375071765854955, Discriminator Loss: 0.5357082486152649, Discriminator Accuracy: 0.8033962249755859\n",
      "Validation - Autoencoder Loss: 0.0018822902347892523, Discriminator Loss: 0.7851950526237488, Discriminator Accuracy: 0.7189542651176453\n"
     ]
    },
    {
     "name": "stderr",
     "output_type": "stream",
     "text": [
      "100%|██████████| 201/201 [00:36<00:00,  5.50it/s]\n"
     ]
    },
    {
     "name": "stdout",
     "output_type": "stream",
     "text": [
      "Epoch 40, Autoencoder Loss: 0.0016857696464285254, Discriminator Loss: 0.5289470553398132, Discriminator Accuracy: 0.8060392141342163\n",
      "Validation - Autoencoder Loss: 0.001757934340275824, Discriminator Loss: 0.7938714027404785, Discriminator Accuracy: 0.7238562107086182\n"
     ]
    },
    {
     "name": "stderr",
     "output_type": "stream",
     "text": [
      "100%|██████████| 201/201 [00:36<00:00,  5.50it/s]\n"
     ]
    },
    {
     "name": "stdout",
     "output_type": "stream",
     "text": [
      "Epoch 41, Autoencoder Loss: 0.0017006918787956238, Discriminator Loss: 0.5211226344108582, Discriminator Accuracy: 0.8102369904518127\n",
      "Validation - Autoencoder Loss: 0.0019337499979883432, Discriminator Loss: 0.7958913445472717, Discriminator Accuracy: 0.7177287936210632\n"
     ]
    },
    {
     "name": "stderr",
     "output_type": "stream",
     "text": [
      "100%|██████████| 201/201 [00:36<00:00,  5.49it/s]\n"
     ]
    },
    {
     "name": "stdout",
     "output_type": "stream",
     "text": [
      "Epoch 42, Autoencoder Loss: 0.0016703736037015915, Discriminator Loss: 0.5116680264472961, Discriminator Accuracy: 0.8137264847755432\n",
      "Validation - Autoencoder Loss: 0.002255538012832403, Discriminator Loss: 0.7449657917022705, Discriminator Accuracy: 0.7238562107086182\n"
     ]
    },
    {
     "name": "stderr",
     "output_type": "stream",
     "text": [
      "100%|██████████| 201/201 [00:36<00:00,  5.49it/s]\n"
     ]
    },
    {
     "name": "stdout",
     "output_type": "stream",
     "text": [
      "Epoch 43, Autoencoder Loss: 0.0016789061482995749, Discriminator Loss: 0.500609278678894, Discriminator Accuracy: 0.8163695335388184\n",
      "Validation - Autoencoder Loss: 0.0019035553559660912, Discriminator Loss: 0.7941176295280457, Discriminator Accuracy: 0.7109885811805725\n"
     ]
    },
    {
     "name": "stderr",
     "output_type": "stream",
     "text": [
      "100%|██████████| 201/201 [00:37<00:00,  5.42it/s]\n"
     ]
    },
    {
     "name": "stdout",
     "output_type": "stream",
     "text": [
      "Epoch 44, Autoencoder Loss: 0.0016753788804635406, Discriminator Loss: 0.4925685524940491, Discriminator Accuracy: 0.8201872706413269\n",
      "Validation - Autoencoder Loss: 0.0017908145673573017, Discriminator Loss: 0.7643552422523499, Discriminator Accuracy: 0.7287582159042358\n"
     ]
    },
    {
     "name": "stderr",
     "output_type": "stream",
     "text": [
      "100%|██████████| 201/201 [00:37<00:00,  5.38it/s]\n"
     ]
    },
    {
     "name": "stdout",
     "output_type": "stream",
     "text": [
      "Epoch 45, Autoencoder Loss: 0.0016325137112289667, Discriminator Loss: 0.4814060628414154, Discriminator Accuracy: 0.825559675693512\n",
      "Validation - Autoencoder Loss: 0.0018212072318419814, Discriminator Loss: 0.7899227738380432, Discriminator Accuracy: 0.7232434749603271\n"
     ]
    },
    {
     "name": "stderr",
     "output_type": "stream",
     "text": [
      "100%|██████████| 201/201 [00:37<00:00,  5.39it/s]\n"
     ]
    },
    {
     "name": "stdout",
     "output_type": "stream",
     "text": [
      "Epoch 46, Autoencoder Loss: 0.00162968086078763, Discriminator Loss: 0.4726529121398926, Discriminator Accuracy: 0.83393794298172\n",
      "Validation - Autoencoder Loss: 0.0016857224982231855, Discriminator Loss: 0.7480785250663757, Discriminator Accuracy: 0.7281454205513\n"
     ]
    },
    {
     "name": "stderr",
     "output_type": "stream",
     "text": [
      "100%|██████████| 201/201 [00:37<00:00,  5.37it/s]\n"
     ]
    },
    {
     "name": "stdout",
     "output_type": "stream",
     "text": [
      "Epoch 47, Autoencoder Loss: 0.0016065981471911073, Discriminator Loss: 0.4564858675003052, Discriminator Accuracy: 0.8369091749191284\n",
      "Validation - Autoencoder Loss: 0.0016827356303110719, Discriminator Loss: 0.800470769405365, Discriminator Accuracy: 0.725694477558136\n"
     ]
    },
    {
     "name": "stderr",
     "output_type": "stream",
     "text": [
      "100%|██████████| 201/201 [00:37<00:00,  5.41it/s]\n"
     ]
    },
    {
     "name": "stdout",
     "output_type": "stream",
     "text": [
      "Epoch 48, Autoencoder Loss: 0.0016206303844228387, Discriminator Loss: 0.4524562656879425, Discriminator Accuracy: 0.8400877118110657\n",
      "Validation - Autoencoder Loss: 0.0016709696501493454, Discriminator Loss: 0.7896634936332703, Discriminator Accuracy: 0.7305964231491089\n"
     ]
    },
    {
     "name": "stderr",
     "output_type": "stream",
     "text": [
      "100%|██████████| 201/201 [00:37<00:00,  5.41it/s]\n"
     ]
    },
    {
     "name": "stdout",
     "output_type": "stream",
     "text": [
      "Epoch 49, Autoencoder Loss: 0.0016139908693730831, Discriminator Loss: 0.44919878244400024, Discriminator Accuracy: 0.840934157371521\n",
      "Validation - Autoencoder Loss: 0.001643739058636129, Discriminator Loss: 0.7826899886131287, Discriminator Accuracy: 0.726919949054718\n"
     ]
    },
    {
     "name": "stderr",
     "output_type": "stream",
     "text": [
      "100%|██████████| 201/201 [00:37<00:00,  5.42it/s]\n"
     ]
    },
    {
     "name": "stdout",
     "output_type": "stream",
     "text": [
      "Epoch 50, Autoencoder Loss: 0.0015648598782718182, Discriminator Loss: 0.433952659368515, Discriminator Accuracy: 0.8505908250808716\n",
      "Validation - Autoencoder Loss: 0.0016316204564645886, Discriminator Loss: 0.7959407567977905, Discriminator Accuracy: 0.7177287936210632\n"
     ]
    },
    {
     "name": "stderr",
     "output_type": "stream",
     "text": [
      "100%|██████████| 201/201 [00:37<00:00,  5.40it/s]\n"
     ]
    },
    {
     "name": "stdout",
     "output_type": "stream",
     "text": [
      "Epoch 51, Autoencoder Loss: 0.0015592711279168725, Discriminator Loss: 0.42343857884407043, Discriminator Accuracy: 0.85090172290802\n",
      "Validation - Autoencoder Loss: 0.0018459794810041785, Discriminator Loss: 0.8214424848556519, Discriminator Accuracy: 0.725081741809845\n"
     ]
    },
    {
     "name": "stderr",
     "output_type": "stream",
     "text": [
      "100%|██████████| 201/201 [00:37<00:00,  5.41it/s]\n"
     ]
    },
    {
     "name": "stdout",
     "output_type": "stream",
     "text": [
      "Epoch 52, Autoencoder Loss: 0.0015720648225396872, Discriminator Loss: 0.42081087827682495, Discriminator Accuracy: 0.8548403382301331\n",
      "Validation - Autoencoder Loss: 0.0016614770283922553, Discriminator Loss: 0.7887743711471558, Discriminator Accuracy: 0.7342728972434998\n"
     ]
    },
    {
     "name": "stderr",
     "output_type": "stream",
     "text": [
      "100%|██████████| 201/201 [00:37<00:00,  5.39it/s]\n"
     ]
    },
    {
     "name": "stdout",
     "output_type": "stream",
     "text": [
      "Epoch 53, Autoencoder Loss: 0.0015560074243694544, Discriminator Loss: 0.412527471780777, Discriminator Accuracy: 0.8563432693481445\n",
      "Validation - Autoencoder Loss: 0.0016209259629249573, Discriminator Loss: 0.7773261666297913, Discriminator Accuracy: 0.7379493713378906\n"
     ]
    },
    {
     "name": "stderr",
     "output_type": "stream",
     "text": [
      "100%|██████████| 201/201 [00:36<00:00,  5.47it/s]\n"
     ]
    },
    {
     "name": "stdout",
     "output_type": "stream",
     "text": [
      "Epoch 54, Autoencoder Loss: 0.0015579393366351724, Discriminator Loss: 0.4059898853302002, Discriminator Accuracy: 0.8622339367866516\n",
      "Validation - Autoencoder Loss: 0.0016855146968737245, Discriminator Loss: 0.78232342004776, Discriminator Accuracy: 0.7299836874008179\n"
     ]
    },
    {
     "name": "stderr",
     "output_type": "stream",
     "text": [
      "100%|██████████| 201/201 [00:36<00:00,  5.49it/s]\n"
     ]
    },
    {
     "name": "stdout",
     "output_type": "stream",
     "text": [
      "Epoch 55, Autoencoder Loss: 0.0015180334448814392, Discriminator Loss: 0.39816802740097046, Discriminator Accuracy: 0.8620784878730774\n",
      "Validation - Autoencoder Loss: 0.0016141044907271862, Discriminator Loss: 0.8024993538856506, Discriminator Accuracy: 0.7220180034637451\n"
     ]
    },
    {
     "name": "stderr",
     "output_type": "stream",
     "text": [
      "100%|██████████| 201/201 [00:36<00:00,  5.51it/s]\n"
     ]
    },
    {
     "name": "stdout",
     "output_type": "stream",
     "text": [
      "Epoch 56, Autoencoder Loss: 0.0015298825455829501, Discriminator Loss: 0.38497796654701233, Discriminator Accuracy: 0.869316577911377\n",
      "Validation - Autoencoder Loss: 0.0015960677992552519, Discriminator Loss: 0.8338690996170044, Discriminator Accuracy: 0.726307213306427\n"
     ]
    },
    {
     "name": "stderr",
     "output_type": "stream",
     "text": [
      "100%|██████████| 201/201 [00:36<00:00,  5.49it/s]\n"
     ]
    },
    {
     "name": "stdout",
     "output_type": "stream",
     "text": [
      "Epoch 57, Autoencoder Loss: 0.001518675941042602, Discriminator Loss: 0.3810960054397583, Discriminator Accuracy: 0.8727369904518127\n",
      "Validation - Autoencoder Loss: 0.0016234139911830425, Discriminator Loss: 0.8113662600517273, Discriminator Accuracy: 0.7238562107086182\n"
     ]
    },
    {
     "name": "stderr",
     "output_type": "stream",
     "text": [
      "100%|██████████| 201/201 [00:36<00:00,  5.49it/s]\n"
     ]
    },
    {
     "name": "stdout",
     "output_type": "stream",
     "text": [
      "Epoch 58, Autoencoder Loss: 0.001517615164630115, Discriminator Loss: 0.37417009472846985, Discriminator Accuracy: 0.8749136328697205\n",
      "Validation - Autoencoder Loss: 0.0015914598479866982, Discriminator Loss: 0.8242256045341492, Discriminator Accuracy: 0.7238562107086182\n"
     ]
    },
    {
     "name": "stderr",
     "output_type": "stream",
     "text": [
      "100%|██████████| 201/201 [00:36<00:00,  5.52it/s]\n"
     ]
    },
    {
     "name": "stdout",
     "output_type": "stream",
     "text": [
      "Epoch 59, Autoencoder Loss: 0.001488754991441965, Discriminator Loss: 0.36257147789001465, Discriminator Accuracy: 0.8797332644462585\n",
      "Validation - Autoencoder Loss: 0.0015763333067297935, Discriminator Loss: 0.8182023167610168, Discriminator Accuracy: 0.7287582159042358\n"
     ]
    },
    {
     "name": "stderr",
     "output_type": "stream",
     "text": [
      "100%|██████████| 201/201 [00:36<00:00,  5.51it/s]\n"
     ]
    },
    {
     "name": "stdout",
     "output_type": "stream",
     "text": [
      "Epoch 60, Autoencoder Loss: 0.0014884343836456537, Discriminator Loss: 0.35815632343292236, Discriminator Accuracy: 0.883931040763855\n",
      "Validation - Autoencoder Loss: 0.0015601887134835124, Discriminator Loss: 0.8508976697921753, Discriminator Accuracy: 0.7324346899986267\n"
     ]
    },
    {
     "name": "stderr",
     "output_type": "stream",
     "text": [
      "100%|██████████| 201/201 [00:36<00:00,  5.53it/s]\n"
     ]
    },
    {
     "name": "stdout",
     "output_type": "stream",
     "text": [
      "Epoch 61, Autoencoder Loss: 0.0014815161703154445, Discriminator Loss: 0.3516700565814972, Discriminator Accuracy: 0.8861940503120422\n",
      "Validation - Autoencoder Loss: 0.0017660451121628284, Discriminator Loss: 0.8433206081390381, Discriminator Accuracy: 0.7336601614952087\n"
     ]
    },
    {
     "name": "stderr",
     "output_type": "stream",
     "text": [
      "100%|██████████| 201/201 [00:36<00:00,  5.57it/s]\n"
     ]
    },
    {
     "name": "stdout",
     "output_type": "stream",
     "text": [
      "Epoch 62, Autoencoder Loss: 0.0014862745301797986, Discriminator Loss: 0.34425655007362366, Discriminator Accuracy: 0.8906854391098022\n",
      "Validation - Autoencoder Loss: 0.0015572247793897986, Discriminator Loss: 0.8723669052124023, Discriminator Accuracy: 0.7220180034637451\n"
     ]
    },
    {
     "name": "stderr",
     "output_type": "stream",
     "text": [
      "100%|██████████| 201/201 [00:36<00:00,  5.53it/s]\n"
     ]
    },
    {
     "name": "stdout",
     "output_type": "stream",
     "text": [
      "Epoch 63, Autoencoder Loss: 0.0014648991636931896, Discriminator Loss: 0.3404228389263153, Discriminator Accuracy: 0.8934148550033569\n",
      "Validation - Autoencoder Loss: 0.0017731515690684319, Discriminator Loss: 0.9177390336990356, Discriminator Accuracy: 0.725081741809845\n"
     ]
    },
    {
     "name": "stderr",
     "output_type": "stream",
     "text": [
      "100%|██████████| 201/201 [00:36<00:00,  5.53it/s]\n"
     ]
    },
    {
     "name": "stdout",
     "output_type": "stream",
     "text": [
      "Epoch 64, Autoencoder Loss: 0.0014632131205871701, Discriminator Loss: 0.3287848234176636, Discriminator Accuracy: 0.896766185760498\n",
      "Validation - Autoencoder Loss: 0.0015862416476011276, Discriminator Loss: 0.8463433384895325, Discriminator Accuracy: 0.7134395837783813\n"
     ]
    },
    {
     "name": "stderr",
     "output_type": "stream",
     "text": [
      "100%|██████████| 201/201 [00:36<00:00,  5.52it/s]\n"
     ]
    },
    {
     "name": "stdout",
     "output_type": "stream",
     "text": [
      "Epoch 65, Autoencoder Loss: 0.0014670892851427197, Discriminator Loss: 0.3275550603866577, Discriminator Accuracy: 0.8943476676940918\n",
      "Validation - Autoencoder Loss: 0.001541447127237916, Discriminator Loss: 0.930325984954834, Discriminator Accuracy: 0.726919949054718\n"
     ]
    },
    {
     "name": "stderr",
     "output_type": "stream",
     "text": [
      "100%|██████████| 201/201 [00:36<00:00,  5.55it/s]\n"
     ]
    },
    {
     "name": "stdout",
     "output_type": "stream",
     "text": [
      "Epoch 66, Autoencoder Loss: 0.0014551575295627117, Discriminator Loss: 0.31982749700546265, Discriminator Accuracy: 0.9012748599052429\n",
      "Validation - Autoencoder Loss: 0.001564309000968933, Discriminator Loss: 0.9776217341423035, Discriminator Accuracy: 0.7005718946456909\n"
     ]
    },
    {
     "name": "stderr",
     "output_type": "stream",
     "text": [
      "100%|██████████| 201/201 [00:36<00:00,  5.56it/s]\n"
     ]
    },
    {
     "name": "stdout",
     "output_type": "stream",
     "text": [
      "Epoch 67, Autoencoder Loss: 0.0014420412480831146, Discriminator Loss: 0.3095182776451111, Discriminator Accuracy: 0.9056280851364136\n",
      "Validation - Autoencoder Loss: 0.0016422737389802933, Discriminator Loss: 0.8881056308746338, Discriminator Accuracy: 0.7091503739356995\n"
     ]
    },
    {
     "name": "stderr",
     "output_type": "stream",
     "text": [
      "100%|██████████| 201/201 [00:36<00:00,  5.56it/s]\n"
     ]
    },
    {
     "name": "stdout",
     "output_type": "stream",
     "text": [
      "Epoch 68, Autoencoder Loss: 0.001426208415068686, Discriminator Loss: 0.3015812337398529, Discriminator Accuracy: 0.9095149040222168\n",
      "Validation - Autoencoder Loss: 0.001578723662532866, Discriminator Loss: 0.9171085953712463, Discriminator Accuracy: 0.7318218946456909\n"
     ]
    },
    {
     "name": "stderr",
     "output_type": "stream",
     "text": [
      "100%|██████████| 201/201 [00:36<00:00,  5.53it/s]\n"
     ]
    },
    {
     "name": "stdout",
     "output_type": "stream",
     "text": [
      "Epoch 69, Autoencoder Loss: 0.001426566275767982, Discriminator Loss: 0.29356521368026733, Discriminator Accuracy: 0.9106032252311707\n",
      "Validation - Autoencoder Loss: 0.0015348833985626698, Discriminator Loss: 0.9016705751419067, Discriminator Accuracy: 0.7324346899986267\n"
     ]
    },
    {
     "name": "stderr",
     "output_type": "stream",
     "text": [
      "100%|██████████| 201/201 [00:36<00:00,  5.53it/s]\n"
     ]
    },
    {
     "name": "stdout",
     "output_type": "stream",
     "text": [
      "Epoch 70, Autoencoder Loss: 0.00144167710095644, Discriminator Loss: 0.29334741830825806, Discriminator Accuracy: 0.9132462739944458\n",
      "Validation - Autoencoder Loss: 0.001901462092064321, Discriminator Loss: 0.902321994304657, Discriminator Accuracy: 0.7214052677154541\n"
     ]
    },
    {
     "name": "stderr",
     "output_type": "stream",
     "text": [
      "100%|██████████| 201/201 [00:36<00:00,  5.54it/s]\n"
     ]
    },
    {
     "name": "stdout",
     "output_type": "stream",
     "text": [
      "Epoch 71, Autoencoder Loss: 0.0014167531626299024, Discriminator Loss: 0.2821976840496063, Discriminator Accuracy: 0.9178240299224854\n",
      "Validation - Autoencoder Loss: 0.0015138662420213223, Discriminator Loss: 0.8737887144088745, Discriminator Accuracy: 0.7287582159042358\n"
     ]
    },
    {
     "name": "stderr",
     "output_type": "stream",
     "text": [
      "100%|██████████| 201/201 [00:36<00:00,  5.54it/s]\n"
     ]
    },
    {
     "name": "stdout",
     "output_type": "stream",
     "text": [
      "Epoch 72, Autoencoder Loss: 0.0014171750517562032, Discriminator Loss: 0.27605342864990234, Discriminator Accuracy: 0.9211753606796265\n",
      "Validation - Autoencoder Loss: 0.001757859718054533, Discriminator Loss: 0.9276416301727295, Discriminator Accuracy: 0.7177287936210632\n"
     ]
    },
    {
     "name": "stderr",
     "output_type": "stream",
     "text": [
      "100%|██████████| 201/201 [00:36<00:00,  5.57it/s]\n"
     ]
    },
    {
     "name": "stdout",
     "output_type": "stream",
     "text": [
      "Epoch 73, Autoencoder Loss: 0.0013928647385910153, Discriminator Loss: 0.26659879088401794, Discriminator Accuracy: 0.9224191308021545\n",
      "Validation - Autoencoder Loss: 0.001520697958767414, Discriminator Loss: 0.9173166155815125, Discriminator Accuracy: 0.726919949054718\n"
     ]
    },
    {
     "name": "stderr",
     "output_type": "stream",
     "text": [
      "100%|██████████| 201/201 [00:36<00:00,  5.57it/s]\n"
     ]
    },
    {
     "name": "stdout",
     "output_type": "stream",
     "text": [
      "Epoch 74, Autoencoder Loss: 0.0014059733366593719, Discriminator Loss: 0.26296818256378174, Discriminator Accuracy: 0.9263750314712524\n",
      "Validation - Autoencoder Loss: 0.0015260725049301982, Discriminator Loss: 0.9374744892120361, Discriminator Accuracy: 0.7281454205513\n"
     ]
    },
    {
     "name": "stderr",
     "output_type": "stream",
     "text": [
      "100%|██████████| 201/201 [00:36<00:00,  5.53it/s]\n"
     ]
    },
    {
     "name": "stdout",
     "output_type": "stream",
     "text": [
      "Epoch 75, Autoencoder Loss: 0.0014162942534312606, Discriminator Loss: 0.2575639486312866, Discriminator Accuracy: 0.9272388219833374\n",
      "Validation - Autoencoder Loss: 0.0015065387124195695, Discriminator Loss: 0.9959700107574463, Discriminator Accuracy: 0.7238562107086182\n"
     ]
    },
    {
     "name": "stderr",
     "output_type": "stream",
     "text": [
      "100%|██████████| 201/201 [00:36<00:00,  5.53it/s]\n"
     ]
    },
    {
     "name": "stdout",
     "output_type": "stream",
     "text": [
      "Epoch 76, Autoencoder Loss: 0.001380843110382557, Discriminator Loss: 0.24502165615558624, Discriminator Accuracy: 0.9320584535598755\n",
      "Validation - Autoencoder Loss: 0.0014875996857881546, Discriminator Loss: 0.9355183839797974, Discriminator Accuracy: 0.726307213306427\n"
     ]
    },
    {
     "name": "stderr",
     "output_type": "stream",
     "text": [
      "100%|██████████| 201/201 [00:36<00:00,  5.52it/s]\n"
     ]
    },
    {
     "name": "stdout",
     "output_type": "stream",
     "text": [
      "Epoch 77, Autoencoder Loss: 0.0013941568322479725, Discriminator Loss: 0.24095377326011658, Discriminator Accuracy: 0.9357898235321045\n",
      "Validation - Autoencoder Loss: 0.0017719866009429097, Discriminator Loss: 0.9979385137557983, Discriminator Accuracy: 0.7079248428344727\n"
     ]
    },
    {
     "name": "stderr",
     "output_type": "stream",
     "text": [
      "100%|██████████| 201/201 [00:36<00:00,  5.53it/s]\n"
     ]
    },
    {
     "name": "stdout",
     "output_type": "stream",
     "text": [
      "Epoch 78, Autoencoder Loss: 0.0013795859413221478, Discriminator Loss: 0.23898911476135254, Discriminator Accuracy: 0.9328358173370361\n",
      "Validation - Autoencoder Loss: 0.0015343644190579653, Discriminator Loss: 0.9485578536987305, Discriminator Accuracy: 0.7214052677154541\n"
     ]
    },
    {
     "name": "stderr",
     "output_type": "stream",
     "text": [
      "100%|██████████| 201/201 [00:36<00:00,  5.55it/s]\n"
     ]
    },
    {
     "name": "stdout",
     "output_type": "stream",
     "text": [
      "Epoch 79, Autoencoder Loss: 0.0013779547298327088, Discriminator Loss: 0.22943608462810516, Discriminator Accuracy: 0.9400566220283508\n",
      "Validation - Autoencoder Loss: 0.0015052047092467546, Discriminator Loss: 1.0343981981277466, Discriminator Accuracy: 0.6913807392120361\n"
     ]
    },
    {
     "name": "stderr",
     "output_type": "stream",
     "text": [
      "100%|██████████| 201/201 [00:36<00:00,  5.58it/s]\n"
     ]
    },
    {
     "name": "stdout",
     "output_type": "stream",
     "text": [
      "Epoch 80, Autoencoder Loss: 0.0013585395645350218, Discriminator Loss: 0.2247367650270462, Discriminator Accuracy: 0.9392101764678955\n",
      "Validation - Autoencoder Loss: 0.0015398785471916199, Discriminator Loss: 1.0538945198059082, Discriminator Accuracy: 0.724469006061554\n"
     ]
    },
    {
     "name": "stderr",
     "output_type": "stream",
     "text": [
      "100%|██████████| 201/201 [00:36<00:00,  5.57it/s]\n"
     ]
    },
    {
     "name": "stdout",
     "output_type": "stream",
     "text": [
      "Epoch 81, Autoencoder Loss: 0.0013821000466123223, Discriminator Loss: 0.2167372703552246, Discriminator Accuracy: 0.941231369972229\n",
      "Validation - Autoencoder Loss: 0.0015207180986180902, Discriminator Loss: 1.0265542268753052, Discriminator Accuracy: 0.726919949054718\n"
     ]
    },
    {
     "name": "stderr",
     "output_type": "stream",
     "text": [
      "100%|██████████| 201/201 [00:36<00:00,  5.55it/s]\n"
     ]
    },
    {
     "name": "stdout",
     "output_type": "stream",
     "text": [
      "Epoch 82, Autoencoder Loss: 0.0013618658995255828, Discriminator Loss: 0.22556594014167786, Discriminator Accuracy: 0.9416977763175964\n",
      "Validation - Autoencoder Loss: 0.0015125549398362637, Discriminator Loss: 1.0773065090179443, Discriminator Accuracy: 0.7232434749603271\n"
     ]
    },
    {
     "name": "stderr",
     "output_type": "stream",
     "text": [
      "100%|██████████| 201/201 [00:36<00:00,  5.55it/s]\n"
     ]
    },
    {
     "name": "stdout",
     "output_type": "stream",
     "text": [
      "Epoch 83, Autoencoder Loss: 0.0013564116088673472, Discriminator Loss: 0.20288504660129547, Discriminator Accuracy: 0.9488494992256165\n",
      "Validation - Autoencoder Loss: 0.0014850174775347114, Discriminator Loss: 0.9768891930580139, Discriminator Accuracy: 0.725694477558136\n"
     ]
    },
    {
     "name": "stderr",
     "output_type": "stream",
     "text": [
      "100%|██████████| 201/201 [00:36<00:00,  5.52it/s]\n"
     ]
    },
    {
     "name": "stdout",
     "output_type": "stream",
     "text": [
      "Epoch 84, Autoencoder Loss: 0.0013574350159615278, Discriminator Loss: 0.20031972229480743, Discriminator Accuracy: 0.951958954334259\n",
      "Validation - Autoencoder Loss: 0.0016089630080386996, Discriminator Loss: 1.029821753501892, Discriminator Accuracy: 0.7232434749603271\n"
     ]
    },
    {
     "name": "stderr",
     "output_type": "stream",
     "text": [
      "100%|██████████| 201/201 [00:36<00:00,  5.55it/s]\n"
     ]
    },
    {
     "name": "stdout",
     "output_type": "stream",
     "text": [
      "Epoch 85, Autoencoder Loss: 0.0013574708718806505, Discriminator Loss: 0.19572289288043976, Discriminator Accuracy: 0.951958954334259\n",
      "Validation - Autoencoder Loss: 0.0014596176333725452, Discriminator Loss: 1.0193077325820923, Discriminator Accuracy: 0.7195670008659363\n"
     ]
    },
    {
     "name": "stderr",
     "output_type": "stream",
     "text": [
      "100%|██████████| 201/201 [00:36<00:00,  5.49it/s]\n"
     ]
    },
    {
     "name": "stdout",
     "output_type": "stream",
     "text": [
      "Epoch 86, Autoencoder Loss: 0.0013437937013804913, Discriminator Loss: 0.1937209516763687, Discriminator Accuracy: 0.9536691308021545\n",
      "Validation - Autoencoder Loss: 0.0014636004343628883, Discriminator Loss: 1.131704330444336, Discriminator Accuracy: 0.7226307392120361\n"
     ]
    },
    {
     "name": "stderr",
     "output_type": "stream",
     "text": [
      "100%|██████████| 201/201 [00:36<00:00,  5.52it/s]\n"
     ]
    },
    {
     "name": "stdout",
     "output_type": "stream",
     "text": [
      "Epoch 87, Autoencoder Loss: 0.0013405310455709696, Discriminator Loss: 0.18088151514530182, Discriminator Accuracy: 0.9581778645515442\n",
      "Validation - Autoencoder Loss: 0.001486235880292952, Discriminator Loss: 1.1552090644836426, Discriminator Accuracy: 0.7318218946456909\n"
     ]
    },
    {
     "name": "stderr",
     "output_type": "stream",
     "text": [
      "100%|██████████| 201/201 [00:36<00:00,  5.53it/s]\n"
     ]
    },
    {
     "name": "stdout",
     "output_type": "stream",
     "text": [
      "Epoch 88, Autoencoder Loss: 0.0013510759454220533, Discriminator Loss: 0.18059609830379486, Discriminator Accuracy: 0.9567785859107971\n",
      "Validation - Autoencoder Loss: 0.0014627944910898805, Discriminator Loss: 1.1084086894989014, Discriminator Accuracy: 0.7054738998413086\n"
     ]
    },
    {
     "name": "stderr",
     "output_type": "stream",
     "text": [
      "100%|██████████| 201/201 [00:36<00:00,  5.53it/s]\n"
     ]
    },
    {
     "name": "stdout",
     "output_type": "stream",
     "text": [
      "Epoch 89, Autoencoder Loss: 0.0013480207417160273, Discriminator Loss: 0.1762065440416336, Discriminator Accuracy: 0.959266185760498\n",
      "Validation - Autoencoder Loss: 0.001532892812974751, Discriminator Loss: 1.0746872425079346, Discriminator Accuracy: 0.7220180034637451\n"
     ]
    },
    {
     "name": "stderr",
     "output_type": "stream",
     "text": [
      "100%|██████████| 201/201 [00:36<00:00,  5.54it/s]\n"
     ]
    },
    {
     "name": "stdout",
     "output_type": "stream",
     "text": [
      "Epoch 90, Autoencoder Loss: 0.0013212923659011722, Discriminator Loss: 0.17160861194133759, Discriminator Accuracy: 0.9612873196601868\n",
      "Validation - Autoencoder Loss: 0.0014518190873786807, Discriminator Loss: 1.1562540531158447, Discriminator Accuracy: 0.7214052677154541\n"
     ]
    },
    {
     "name": "stderr",
     "output_type": "stream",
     "text": [
      "100%|██████████| 201/201 [00:36<00:00,  5.57it/s]\n"
     ]
    },
    {
     "name": "stdout",
     "output_type": "stream",
     "text": [
      "Epoch 91, Autoencoder Loss: 0.0013185864081606269, Discriminator Loss: 0.16611871123313904, Discriminator Accuracy: 0.9640858173370361\n",
      "Validation - Autoencoder Loss: 0.0014526834711432457, Discriminator Loss: 1.0797755718231201, Discriminator Accuracy: 0.7128268480300903\n"
     ]
    },
    {
     "name": "stderr",
     "output_type": "stream",
     "text": [
      "100%|██████████| 201/201 [00:36<00:00,  5.53it/s]\n"
     ]
    },
    {
     "name": "stdout",
     "output_type": "stream",
     "text": [
      "Epoch 92, Autoencoder Loss: 0.0013211084296926856, Discriminator Loss: 0.16389890015125275, Discriminator Accuracy: 0.9642412662506104\n",
      "Validation - Autoencoder Loss: 0.001473003183491528, Discriminator Loss: 1.2004637718200684, Discriminator Accuracy: 0.724469006061554\n"
     ]
    },
    {
     "name": "stderr",
     "output_type": "stream",
     "text": [
      "100%|██████████| 201/201 [00:36<00:00,  5.56it/s]\n"
     ]
    },
    {
     "name": "stdout",
     "output_type": "stream",
     "text": [
      "Epoch 93, Autoencoder Loss: 0.001315491390414536, Discriminator Loss: 0.14740991592407227, Discriminator Accuracy: 0.96875\n",
      "Validation - Autoencoder Loss: 0.001445772941224277, Discriminator Loss: 1.168473243713379, Discriminator Accuracy: 0.7348856329917908\n"
     ]
    },
    {
     "name": "stderr",
     "output_type": "stream",
     "text": [
      "100%|██████████| 201/201 [00:36<00:00,  5.51it/s]\n"
     ]
    },
    {
     "name": "stdout",
     "output_type": "stream",
     "text": [
      "Epoch 94, Autoencoder Loss: 0.001327137346379459, Discriminator Loss: 0.14970369637012482, Discriminator Accuracy: 0.9698383212089539\n",
      "Validation - Autoencoder Loss: 0.0014481680700555444, Discriminator Loss: 1.1577949523925781, Discriminator Accuracy: 0.7238562107086182\n"
     ]
    },
    {
     "name": "stderr",
     "output_type": "stream",
     "text": [
      "100%|██████████| 201/201 [00:36<00:00,  5.55it/s]\n"
     ]
    },
    {
     "name": "stdout",
     "output_type": "stream",
     "text": [
      "Epoch 95, Autoencoder Loss: 0.001318400725722313, Discriminator Loss: 0.15041176974773407, Discriminator Accuracy: 0.9671952724456787\n",
      "Validation - Autoencoder Loss: 0.0014510515611618757, Discriminator Loss: 1.4095243215560913, Discriminator Accuracy: 0.7116013169288635\n"
     ]
    },
    {
     "name": "stderr",
     "output_type": "stream",
     "text": [
      "100%|██████████| 201/201 [00:36<00:00,  5.55it/s]\n"
     ]
    },
    {
     "name": "stdout",
     "output_type": "stream",
     "text": [
      "Epoch 96, Autoencoder Loss: 0.0013114344328641891, Discriminator Loss: 0.14616885781288147, Discriminator Accuracy: 0.9717040061950684\n",
      "Validation - Autoencoder Loss: 0.0014491170877590775, Discriminator Loss: 1.2411949634552002, Discriminator Accuracy: 0.7214052677154541\n"
     ]
    },
    {
     "name": "stderr",
     "output_type": "stream",
     "text": [
      "100%|██████████| 201/201 [00:35<00:00,  5.58it/s]\n"
     ]
    },
    {
     "name": "stdout",
     "output_type": "stream",
     "text": [
      "Epoch 97, Autoencoder Loss: 0.00130867725238204, Discriminator Loss: 0.1355401575565338, Discriminator Accuracy: 0.9737251400947571\n",
      "Validation - Autoencoder Loss: 0.0014845328405499458, Discriminator Loss: 1.2041661739349365, Discriminator Accuracy: 0.724469006061554\n"
     ]
    },
    {
     "name": "stderr",
     "output_type": "stream",
     "text": [
      "100%|██████████| 201/201 [00:36<00:00,  5.55it/s]\n"
     ]
    },
    {
     "name": "stdout",
     "output_type": "stream",
     "text": [
      "Epoch 98, Autoencoder Loss: 0.0013052064459770918, Discriminator Loss: 0.129674032330513, Discriminator Accuracy: 0.9777674078941345\n",
      "Validation - Autoencoder Loss: 0.001444005174562335, Discriminator Loss: 1.1889337301254272, Discriminator Accuracy: 0.7122140526771545\n"
     ]
    },
    {
     "name": "stderr",
     "output_type": "stream",
     "text": [
      "100%|██████████| 201/201 [00:36<00:00,  5.55it/s]\n"
     ]
    },
    {
     "name": "stdout",
     "output_type": "stream",
     "text": [
      "Epoch 99, Autoencoder Loss: 0.0012950864620506763, Discriminator Loss: 0.1251073181629181, Discriminator Accuracy: 0.978233814239502\n",
      "Validation - Autoencoder Loss: 0.0017431204905733466, Discriminator Loss: 1.258180022239685, Discriminator Accuracy: 0.7030228972434998\n"
     ]
    },
    {
     "name": "stderr",
     "output_type": "stream",
     "text": [
      "100%|██████████| 201/201 [00:36<00:00,  5.55it/s]\n"
     ]
    },
    {
     "name": "stdout",
     "output_type": "stream",
     "text": [
      "Epoch 100, Autoencoder Loss: 0.0012974749552085996, Discriminator Loss: 0.12672078609466553, Discriminator Accuracy: 0.9785447716712952\n",
      "Validation - Autoencoder Loss: 0.001601453754119575, Discriminator Loss: 1.2704099416732788, Discriminator Accuracy: 0.695669949054718\n"
     ]
    },
    {
     "name": "stderr",
     "output_type": "stream",
     "text": [
      "100%|██████████| 201/201 [00:36<00:00,  5.56it/s]\n"
     ]
    },
    {
     "name": "stdout",
     "output_type": "stream",
     "text": [
      "Epoch 101, Autoencoder Loss: 0.0012962660985067487, Discriminator Loss: 0.12934647500514984, Discriminator Accuracy: 0.9788557291030884\n",
      "Validation - Autoencoder Loss: 0.0014598971465602517, Discriminator Loss: 1.237885594367981, Discriminator Accuracy: 0.7134395837783813\n"
     ]
    },
    {
     "name": "stderr",
     "output_type": "stream",
     "text": [
      "100%|██████████| 201/201 [00:36<00:00,  5.55it/s]\n"
     ]
    },
    {
     "name": "stdout",
     "output_type": "stream",
     "text": [
      "Epoch 102, Autoencoder Loss: 0.0013010649709030986, Discriminator Loss: 0.113262839615345, Discriminator Accuracy: 0.9780783653259277\n",
      "Validation - Autoencoder Loss: 0.0014350994024425745, Discriminator Loss: 1.2402678728103638, Discriminator Accuracy: 0.7232434749603271\n"
     ]
    },
    {
     "name": "stderr",
     "output_type": "stream",
     "text": [
      "100%|██████████| 201/201 [00:36<00:00,  5.55it/s]\n"
     ]
    },
    {
     "name": "stdout",
     "output_type": "stream",
     "text": [
      "Epoch 103, Autoencoder Loss: 0.0012875978136435151, Discriminator Loss: 0.10832515358924866, Discriminator Accuracy: 0.9838308691978455\n",
      "Validation - Autoencoder Loss: 0.0014317266177386045, Discriminator Loss: 1.5303895473480225, Discriminator Accuracy: 0.7189542651176453\n"
     ]
    },
    {
     "name": "stderr",
     "output_type": "stream",
     "text": [
      "100%|██████████| 201/201 [00:36<00:00,  5.55it/s]\n"
     ]
    },
    {
     "name": "stdout",
     "output_type": "stream",
     "text": [
      "Epoch 104, Autoencoder Loss: 0.0012888413621112704, Discriminator Loss: 0.11197182536125183, Discriminator Accuracy: 0.9808768630027771\n",
      "Validation - Autoencoder Loss: 0.0016663953429087996, Discriminator Loss: 1.3408708572387695, Discriminator Accuracy: 0.7146650552749634\n"
     ]
    },
    {
     "name": "stderr",
     "output_type": "stream",
     "text": [
      "100%|██████████| 201/201 [00:36<00:00,  5.58it/s]\n"
     ]
    },
    {
     "name": "stdout",
     "output_type": "stream",
     "text": [
      "Epoch 105, Autoencoder Loss: 0.0012900708243250847, Discriminator Loss: 0.10037660598754883, Discriminator Accuracy: 0.985541045665741\n",
      "Validation - Autoencoder Loss: 0.00142947630956769, Discriminator Loss: 1.3627219200134277, Discriminator Accuracy: 0.7238562107086182\n"
     ]
    },
    {
     "name": "stderr",
     "output_type": "stream",
     "text": [
      "100%|██████████| 201/201 [00:36<00:00,  5.54it/s]\n"
     ]
    },
    {
     "name": "stdout",
     "output_type": "stream",
     "text": [
      "Epoch 106, Autoencoder Loss: 0.0012764378916472197, Discriminator Loss: 0.10458525270223618, Discriminator Accuracy: 0.9833644032478333\n",
      "Validation - Autoencoder Loss: 0.001459409249946475, Discriminator Loss: 1.3653594255447388, Discriminator Accuracy: 0.7073121070861816\n"
     ]
    },
    {
     "name": "stderr",
     "output_type": "stream",
     "text": [
      "100%|██████████| 201/201 [00:36<00:00,  5.55it/s]\n"
     ]
    },
    {
     "name": "stdout",
     "output_type": "stream",
     "text": [
      "Epoch 107, Autoencoder Loss: 0.0012734151678159833, Discriminator Loss: 0.10302291065454483, Discriminator Accuracy: 0.9860074520111084\n",
      "Validation - Autoencoder Loss: 0.0014444668777287006, Discriminator Loss: 1.3694299459457397, Discriminator Accuracy: 0.7287582159042358\n"
     ]
    },
    {
     "name": "stderr",
     "output_type": "stream",
     "text": [
      "100%|██████████| 201/201 [00:36<00:00,  5.53it/s]\n"
     ]
    },
    {
     "name": "stdout",
     "output_type": "stream",
     "text": [
      "Epoch 108, Autoencoder Loss: 0.0012846790486946702, Discriminator Loss: 0.09179450571537018, Discriminator Accuracy: 0.9883395433425903\n",
      "Validation - Autoencoder Loss: 0.0014434142503887415, Discriminator Loss: 1.3229728937149048, Discriminator Accuracy: 0.7214052677154541\n"
     ]
    },
    {
     "name": "stderr",
     "output_type": "stream",
     "text": [
      "100%|██████████| 201/201 [00:36<00:00,  5.54it/s]\n"
     ]
    },
    {
     "name": "stdout",
     "output_type": "stream",
     "text": [
      "Epoch 109, Autoencoder Loss: 0.0012746735010296106, Discriminator Loss: 0.08994311839342117, Discriminator Accuracy: 0.9884950518608093\n",
      "Validation - Autoencoder Loss: 0.001468720962293446, Discriminator Loss: 1.3640530109405518, Discriminator Accuracy: 0.7152777910232544\n"
     ]
    },
    {
     "name": "stderr",
     "output_type": "stream",
     "text": [
      "100%|██████████| 201/201 [00:36<00:00,  5.54it/s]\n"
     ]
    },
    {
     "name": "stdout",
     "output_type": "stream",
     "text": [
      "Epoch 110, Autoencoder Loss: 0.0012628667755052447, Discriminator Loss: 0.08651971817016602, Discriminator Accuracy: 0.9895833134651184\n",
      "Validation - Autoencoder Loss: 0.0014274147106334567, Discriminator Loss: 1.4022746086120605, Discriminator Accuracy: 0.7060866355895996\n"
     ]
    },
    {
     "name": "stderr",
     "output_type": "stream",
     "text": [
      "100%|██████████| 201/201 [00:36<00:00,  5.51it/s]\n"
     ]
    },
    {
     "name": "stdout",
     "output_type": "stream",
     "text": [
      "Epoch 111, Autoencoder Loss: 0.0012629000702872872, Discriminator Loss: 0.08624736219644547, Discriminator Accuracy: 0.98927241563797\n",
      "Validation - Autoencoder Loss: 0.0014573512598872185, Discriminator Loss: 1.4096578359603882, Discriminator Accuracy: 0.7232434749603271\n"
     ]
    },
    {
     "name": "stderr",
     "output_type": "stream",
     "text": [
      "100%|██████████| 201/201 [00:36<00:00,  5.53it/s]\n"
     ]
    },
    {
     "name": "stdout",
     "output_type": "stream",
     "text": [
      "Epoch 112, Autoencoder Loss: 0.0012748093577101827, Discriminator Loss: 0.0870702862739563, Discriminator Accuracy: 0.9898942708969116\n",
      "Validation - Autoencoder Loss: 0.001432509976439178, Discriminator Loss: 1.4087666273117065, Discriminator Accuracy: 0.7165033221244812\n"
     ]
    },
    {
     "name": "stderr",
     "output_type": "stream",
     "text": [
      "100%|██████████| 201/201 [00:36<00:00,  5.53it/s]\n"
     ]
    },
    {
     "name": "stdout",
     "output_type": "stream",
     "text": [
      "Epoch 113, Autoencoder Loss: 0.0012749374145641923, Discriminator Loss: 0.07671810686588287, Discriminator Accuracy: 0.9908271431922913\n",
      "Validation - Autoencoder Loss: 0.0014369635609909892, Discriminator Loss: 1.5638870000839233, Discriminator Accuracy: 0.7293709516525269\n"
     ]
    },
    {
     "name": "stderr",
     "output_type": "stream",
     "text": [
      "100%|██████████| 201/201 [00:36<00:00,  5.57it/s]\n"
     ]
    },
    {
     "name": "stdout",
     "output_type": "stream",
     "text": [
      "Epoch 114, Autoencoder Loss: 0.0012530969688668847, Discriminator Loss: 0.07585931569337845, Discriminator Accuracy: 0.9930037260055542\n",
      "Validation - Autoencoder Loss: 0.0016954203601926565, Discriminator Loss: 1.4446492195129395, Discriminator Accuracy: 0.6999591588973999\n"
     ]
    },
    {
     "name": "stderr",
     "output_type": "stream",
     "text": [
      "100%|██████████| 201/201 [00:36<00:00,  5.58it/s]\n"
     ]
    },
    {
     "name": "stdout",
     "output_type": "stream",
     "text": [
      "Epoch 115, Autoencoder Loss: 0.0012721859384328127, Discriminator Loss: 0.07424809783697128, Discriminator Accuracy: 0.9933146834373474\n",
      "Validation - Autoencoder Loss: 0.0014336861204355955, Discriminator Loss: 1.5404293537139893, Discriminator Accuracy: 0.7220180034637451\n"
     ]
    },
    {
     "name": "stderr",
     "output_type": "stream",
     "text": [
      "100%|██████████| 201/201 [00:36<00:00,  5.57it/s]\n"
     ]
    },
    {
     "name": "stdout",
     "output_type": "stream",
     "text": [
      "Epoch 116, Autoencoder Loss: 0.0012420339044183493, Discriminator Loss: 0.06676040589809418, Discriminator Accuracy: 0.9940920472145081\n",
      "Validation - Autoencoder Loss: 0.001437886618077755, Discriminator Loss: 1.50151526927948, Discriminator Accuracy: 0.7097631096839905\n"
     ]
    },
    {
     "name": "stderr",
     "output_type": "stream",
     "text": [
      "100%|██████████| 201/201 [00:36<00:00,  5.57it/s]\n"
     ]
    },
    {
     "name": "stdout",
     "output_type": "stream",
     "text": [
      "Epoch 117, Autoencoder Loss: 0.0012486139312386513, Discriminator Loss: 0.06568120419979095, Discriminator Accuracy: 0.9950248599052429\n",
      "Validation - Autoencoder Loss: 0.001420705928467214, Discriminator Loss: 1.5252071619033813, Discriminator Accuracy: 0.7195670008659363\n"
     ]
    },
    {
     "name": "stderr",
     "output_type": "stream",
     "text": [
      "100%|██████████| 201/201 [00:36<00:00,  5.53it/s]\n"
     ]
    },
    {
     "name": "stdout",
     "output_type": "stream",
     "text": [
      "Epoch 118, Autoencoder Loss: 0.0012444154126569629, Discriminator Loss: 0.06824453175067902, Discriminator Accuracy: 0.9944030046463013\n",
      "Validation - Autoencoder Loss: 0.0014245909405872226, Discriminator Loss: 1.4862126111984253, Discriminator Accuracy: 0.7128268480300903\n"
     ]
    },
    {
     "name": "stderr",
     "output_type": "stream",
     "text": [
      "100%|██████████| 201/201 [00:36<00:00,  5.56it/s]\n"
     ]
    },
    {
     "name": "stdout",
     "output_type": "stream",
     "text": [
      "Epoch 119, Autoencoder Loss: 0.0012491666711866856, Discriminator Loss: 0.062092673033475876, Discriminator Accuracy: 0.9953358173370361\n",
      "Validation - Autoencoder Loss: 0.001447151298634708, Discriminator Loss: 1.6896872520446777, Discriminator Accuracy: 0.7005718946456909\n"
     ]
    },
    {
     "name": "stderr",
     "output_type": "stream",
     "text": [
      "100%|██████████| 201/201 [00:36<00:00,  5.57it/s]\n"
     ]
    },
    {
     "name": "stdout",
     "output_type": "stream",
     "text": [
      "Epoch 120, Autoencoder Loss: 0.0012594657018780708, Discriminator Loss: 0.10118624567985535, Discriminator Accuracy: 0.9877176880836487\n",
      "Validation - Autoencoder Loss: 0.0014510543551295996, Discriminator Loss: 1.6110073328018188, Discriminator Accuracy: 0.7109885811805725\n"
     ]
    },
    {
     "name": "stderr",
     "output_type": "stream",
     "text": [
      "100%|██████████| 201/201 [00:35<00:00,  5.59it/s]\n"
     ]
    },
    {
     "name": "stdout",
     "output_type": "stream",
     "text": [
      "Epoch 121, Autoencoder Loss: 0.0012423291336745024, Discriminator Loss: 0.05783364921808243, Discriminator Accuracy: 0.9956467747688293\n",
      "Validation - Autoencoder Loss: 0.001458003418520093, Discriminator Loss: 1.597121000289917, Discriminator Accuracy: 0.7116013169288635\n"
     ]
    },
    {
     "name": "stderr",
     "output_type": "stream",
     "text": [
      "100%|██████████| 201/201 [00:36<00:00,  5.57it/s]\n"
     ]
    },
    {
     "name": "stdout",
     "output_type": "stream",
     "text": [
      "Epoch 122, Autoencoder Loss: 0.001239796751178801, Discriminator Loss: 0.05368718504905701, Discriminator Accuracy: 0.9968905448913574\n",
      "Validation - Autoencoder Loss: 0.0014224443584680557, Discriminator Loss: 1.597404956817627, Discriminator Accuracy: 0.7220180034637451\n"
     ]
    },
    {
     "name": "stderr",
     "output_type": "stream",
     "text": [
      "100%|██████████| 201/201 [00:36<00:00,  5.57it/s]\n"
     ]
    },
    {
     "name": "stdout",
     "output_type": "stream",
     "text": [
      "Epoch 123, Autoencoder Loss: 0.0012371421325951815, Discriminator Loss: 0.04843614995479584, Discriminator Accuracy: 0.99642413854599\n",
      "Validation - Autoencoder Loss: 0.001466493122279644, Discriminator Loss: 1.6403181552886963, Discriminator Accuracy: 0.7201797366142273\n"
     ]
    },
    {
     "name": "stderr",
     "output_type": "stream",
     "text": [
      "100%|██████████| 201/201 [00:36<00:00,  5.57it/s]\n"
     ]
    },
    {
     "name": "stdout",
     "output_type": "stream",
     "text": [
      "Epoch 124, Autoencoder Loss: 0.0012333214981481433, Discriminator Loss: 0.051833998411893845, Discriminator Accuracy: 0.9972015023231506\n",
      "Validation - Autoencoder Loss: 0.0014209493529051542, Discriminator Loss: 1.638007640838623, Discriminator Accuracy: 0.7165033221244812\n"
     ]
    },
    {
     "name": "stderr",
     "output_type": "stream",
     "text": [
      "100%|██████████| 201/201 [00:36<00:00,  5.57it/s]\n"
     ]
    },
    {
     "name": "stdout",
     "output_type": "stream",
     "text": [
      "Epoch 125, Autoencoder Loss: 0.0012385875452309847, Discriminator Loss: 0.05051463842391968, Discriminator Accuracy: 0.9967350959777832\n",
      "Validation - Autoencoder Loss: 0.0014319022884592414, Discriminator Loss: 1.677278757095337, Discriminator Accuracy: 0.6987336874008179\n"
     ]
    },
    {
     "name": "stderr",
     "output_type": "stream",
     "text": [
      "100%|██████████| 201/201 [00:36<00:00,  5.56it/s]\n"
     ]
    },
    {
     "name": "stdout",
     "output_type": "stream",
     "text": [
      "Epoch 126, Autoencoder Loss: 0.0012275265762582421, Discriminator Loss: 0.05537046492099762, Discriminator Accuracy: 0.996268630027771\n",
      "Validation - Autoencoder Loss: 0.0015315243508666754, Discriminator Loss: 1.6694128513336182, Discriminator Accuracy: 0.7165033221244812\n"
     ]
    },
    {
     "name": "stderr",
     "output_type": "stream",
     "text": [
      "100%|██████████| 201/201 [00:36<00:00,  5.55it/s]\n"
     ]
    },
    {
     "name": "stdout",
     "output_type": "stream",
     "text": [
      "Epoch 127, Autoencoder Loss: 0.001222338993102312, Discriminator Loss: 0.044036705046892166, Discriminator Accuracy: 0.9978233575820923\n",
      "Validation - Autoencoder Loss: 0.0014293333515524864, Discriminator Loss: 1.7145403623580933, Discriminator Accuracy: 0.7195670008659363\n"
     ]
    },
    {
     "name": "stderr",
     "output_type": "stream",
     "text": [
      "100%|██████████| 201/201 [00:36<00:00,  5.53it/s]\n"
     ]
    },
    {
     "name": "stdout",
     "output_type": "stream",
     "text": [
      "Epoch 128, Autoencoder Loss: 0.0012377621605992317, Discriminator Loss: 0.04242316633462906, Discriminator Accuracy: 0.9984452724456787\n",
      "Validation - Autoencoder Loss: 0.0022324221208691597, Discriminator Loss: 1.712702989578247, Discriminator Accuracy: 0.7036356329917908\n"
     ]
    },
    {
     "name": "stderr",
     "output_type": "stream",
     "text": [
      "100%|██████████| 201/201 [00:36<00:00,  5.56it/s]\n"
     ]
    },
    {
     "name": "stdout",
     "output_type": "stream",
     "text": [
      "Epoch 129, Autoencoder Loss: 0.0012255423935130239, Discriminator Loss: 0.048561982810497284, Discriminator Accuracy: 0.9967350959777832\n",
      "Validation - Autoencoder Loss: 0.001425136928446591, Discriminator Loss: 1.6890922784805298, Discriminator Accuracy: 0.7085375785827637\n"
     ]
    },
    {
     "name": "stderr",
     "output_type": "stream",
     "text": [
      "100%|██████████| 201/201 [00:36<00:00,  5.52it/s]\n"
     ]
    },
    {
     "name": "stdout",
     "output_type": "stream",
     "text": [
      "Epoch 130, Autoencoder Loss: 0.001218824996612966, Discriminator Loss: 0.035203639417886734, Discriminator Accuracy: 0.9989116787910461\n",
      "Validation - Autoencoder Loss: 0.0014172574738040566, Discriminator Loss: 1.8045276403427124, Discriminator Accuracy: 0.7226307392120361\n"
     ]
    },
    {
     "name": "stderr",
     "output_type": "stream",
     "text": [
      "100%|██████████| 201/201 [00:36<00:00,  5.58it/s]\n"
     ]
    },
    {
     "name": "stdout",
     "output_type": "stream",
     "text": [
      "Epoch 131, Autoencoder Loss: 0.0012224474921822548, Discriminator Loss: 0.037828512489795685, Discriminator Accuracy: 0.9986007213592529\n",
      "Validation - Autoencoder Loss: 0.0014794140588492155, Discriminator Loss: 1.8011977672576904, Discriminator Accuracy: 0.7214052677154541\n"
     ]
    },
    {
     "name": "stderr",
     "output_type": "stream",
     "text": [
      "100%|██████████| 201/201 [00:36<00:00,  5.57it/s]\n"
     ]
    },
    {
     "name": "stdout",
     "output_type": "stream",
     "text": [
      "Epoch 132, Autoencoder Loss: 0.0012197872856631875, Discriminator Loss: 0.03367261588573456, Discriminator Accuracy: 0.9992226362228394\n",
      "Validation - Autoencoder Loss: 0.001420651446096599, Discriminator Loss: 1.7910457849502563, Discriminator Accuracy: 0.7201797366142273\n"
     ]
    },
    {
     "name": "stderr",
     "output_type": "stream",
     "text": [
      "100%|██████████| 201/201 [00:36<00:00,  5.56it/s]\n"
     ]
    },
    {
     "name": "stdout",
     "output_type": "stream",
     "text": [
      "Epoch 133, Autoencoder Loss: 0.0012064274633303285, Discriminator Loss: 0.08903346210718155, Discriminator Accuracy: 0.9917599558830261\n",
      "Validation - Autoencoder Loss: 0.0014881060924381018, Discriminator Loss: 1.695641040802002, Discriminator Accuracy: 0.7177287936210632\n"
     ]
    },
    {
     "name": "stderr",
     "output_type": "stream",
     "text": [
      "100%|██████████| 201/201 [00:36<00:00,  5.56it/s]\n"
     ]
    },
    {
     "name": "stdout",
     "output_type": "stream",
     "text": [
      "Epoch 134, Autoencoder Loss: 0.0012159195030108094, Discriminator Loss: 0.044211313128471375, Discriminator Accuracy: 0.9984452724456787\n",
      "Validation - Autoencoder Loss: 0.0014215725241228938, Discriminator Loss: 1.7882763147354126, Discriminator Accuracy: 0.7189542651176453\n"
     ]
    },
    {
     "name": "stderr",
     "output_type": "stream",
     "text": [
      "100%|██████████| 201/201 [00:36<00:00,  5.56it/s]\n"
     ]
    },
    {
     "name": "stdout",
     "output_type": "stream",
     "text": [
      "Epoch 135, Autoencoder Loss: 0.0012163157807663083, Discriminator Loss: 0.02867596223950386, Discriminator Accuracy: 0.9995335936546326\n",
      "Validation - Autoencoder Loss: 0.0014747396344318986, Discriminator Loss: 1.7576888799667358, Discriminator Accuracy: 0.7103758454322815\n"
     ]
    },
    {
     "name": "stderr",
     "output_type": "stream",
     "text": [
      "100%|██████████| 201/201 [00:36<00:00,  5.57it/s]\n"
     ]
    },
    {
     "name": "stdout",
     "output_type": "stream",
     "text": [
      "Epoch 136, Autoencoder Loss: 0.001209245645441115, Discriminator Loss: 0.028629004955291748, Discriminator Accuracy: 0.9992226362228394\n",
      "Validation - Autoencoder Loss: 0.0015144165372475982, Discriminator Loss: 1.82158362865448, Discriminator Accuracy: 0.7122140526771545\n"
     ]
    },
    {
     "name": "stderr",
     "output_type": "stream",
     "text": [
      "100%|██████████| 201/201 [00:36<00:00,  5.56it/s]\n"
     ]
    },
    {
     "name": "stdout",
     "output_type": "stream",
     "text": [
      "Epoch 137, Autoencoder Loss: 0.001212740084156394, Discriminator Loss: 0.03385040536522865, Discriminator Accuracy: 0.997892439365387\n",
      "Validation - Autoencoder Loss: 0.0014796378090977669, Discriminator Loss: 1.9623095989227295, Discriminator Accuracy: 0.7042483687400818\n"
     ]
    },
    {
     "name": "stderr",
     "output_type": "stream",
     "text": [
      "100%|██████████| 201/201 [00:35<00:00,  5.60it/s]\n"
     ]
    },
    {
     "name": "stdout",
     "output_type": "stream",
     "text": [
      "Epoch 138, Autoencoder Loss: 0.0011882660910487175, Discriminator Loss: 0.03127961978316307, Discriminator Accuracy: 0.9992226362228394\n",
      "Validation - Autoencoder Loss: 0.0014158664271235466, Discriminator Loss: 1.907833218574524, Discriminator Accuracy: 0.726919949054718\n"
     ]
    },
    {
     "name": "stderr",
     "output_type": "stream",
     "text": [
      "100%|██████████| 201/201 [00:36<00:00,  5.55it/s]\n"
     ]
    },
    {
     "name": "stdout",
     "output_type": "stream",
     "text": [
      "Epoch 139, Autoencoder Loss: 0.0012100145686417818, Discriminator Loss: 0.026683341711759567, Discriminator Accuracy: 0.9993780851364136\n",
      "Validation - Autoencoder Loss: 0.0014200875302776694, Discriminator Loss: 1.8355954885482788, Discriminator Accuracy: 0.7189542651176453\n"
     ]
    },
    {
     "name": "stderr",
     "output_type": "stream",
     "text": [
      "100%|██████████| 201/201 [00:36<00:00,  5.56it/s]\n"
     ]
    },
    {
     "name": "stdout",
     "output_type": "stream",
     "text": [
      "Epoch 140, Autoencoder Loss: 0.0011951035121455789, Discriminator Loss: 0.045737165957689285, Discriminator Accuracy: 0.9970459938049316\n",
      "Validation - Autoencoder Loss: 0.001503881299868226, Discriminator Loss: 1.87749445438385, Discriminator Accuracy: 0.7238562107086182\n"
     ]
    },
    {
     "name": "stderr",
     "output_type": "stream",
     "text": [
      "100%|██████████| 201/201 [00:36<00:00,  5.56it/s]\n"
     ]
    },
    {
     "name": "stdout",
     "output_type": "stream",
     "text": [
      "Epoch 141, Autoencoder Loss: 0.0012030147481709719, Discriminator Loss: 0.02251984179019928, Discriminator Accuracy: 0.9996890425682068\n",
      "Validation - Autoencoder Loss: 0.0014230660162866116, Discriminator Loss: 1.886949896812439, Discriminator Accuracy: 0.7103758454322815\n"
     ]
    },
    {
     "name": "stderr",
     "output_type": "stream",
     "text": [
      "100%|██████████| 201/201 [00:36<00:00,  5.56it/s]\n"
     ]
    },
    {
     "name": "stdout",
     "output_type": "stream",
     "text": [
      "Epoch 142, Autoencoder Loss: 0.0011963816359639168, Discriminator Loss: 0.047412849962711334, Discriminator Accuracy: 0.9976679086685181\n",
      "Validation - Autoencoder Loss: 0.0014314079890027642, Discriminator Loss: 1.952509880065918, Discriminator Accuracy: 0.7140523195266724\n"
     ]
    },
    {
     "name": "stderr",
     "output_type": "stream",
     "text": [
      "100%|██████████| 201/201 [00:36<00:00,  5.53it/s]\n"
     ]
    },
    {
     "name": "stdout",
     "output_type": "stream",
     "text": [
      "Epoch 143, Autoencoder Loss: 0.0011965282028540969, Discriminator Loss: 0.023981066420674324, Discriminator Accuracy: 0.9993780851364136\n",
      "Validation - Autoencoder Loss: 0.0014503156999126077, Discriminator Loss: 1.9366241693496704, Discriminator Accuracy: 0.7024101614952087\n"
     ]
    },
    {
     "name": "stderr",
     "output_type": "stream",
     "text": [
      "100%|██████████| 201/201 [00:36<00:00,  5.55it/s]\n"
     ]
    },
    {
     "name": "stdout",
     "output_type": "stream",
     "text": [
      "Epoch 144, Autoencoder Loss: 0.0011963412398472428, Discriminator Loss: 0.02122613415122032, Discriminator Accuracy: 0.9995335936546326\n",
      "Validation - Autoencoder Loss: 0.0014203903265297413, Discriminator Loss: 1.9365622997283936, Discriminator Accuracy: 0.7109885811805725\n"
     ]
    },
    {
     "name": "stderr",
     "output_type": "stream",
     "text": [
      "100%|██████████| 201/201 [00:36<00:00,  5.54it/s]\n"
     ]
    },
    {
     "name": "stdout",
     "output_type": "stream",
     "text": [
      "Epoch 145, Autoencoder Loss: 0.00119251967407763, Discriminator Loss: 0.0212910994887352, Discriminator Accuracy: 0.9998445510864258\n",
      "Validation - Autoencoder Loss: 0.0014585633762180805, Discriminator Loss: 1.9511951208114624, Discriminator Accuracy: 0.7152777910232544\n"
     ]
    },
    {
     "name": "stderr",
     "output_type": "stream",
     "text": [
      "100%|██████████| 201/201 [00:36<00:00,  5.52it/s]\n"
     ]
    },
    {
     "name": "stdout",
     "output_type": "stream",
     "text": [
      "Epoch 146, Autoencoder Loss: 0.0011872898321598768, Discriminator Loss: 0.06063240021467209, Discriminator Accuracy: 0.9958022236824036\n",
      "Validation - Autoencoder Loss: 0.0014200288569554687, Discriminator Loss: 1.8964680433273315, Discriminator Accuracy: 0.7152777910232544\n"
     ]
    },
    {
     "name": "stderr",
     "output_type": "stream",
     "text": [
      "100%|██████████| 201/201 [00:36<00:00,  5.50it/s]\n"
     ]
    },
    {
     "name": "stdout",
     "output_type": "stream",
     "text": [
      "Epoch 147, Autoencoder Loss: 0.0011836166959255934, Discriminator Loss: 0.04155270382761955, Discriminator Accuracy: 0.9987562298774719\n",
      "Validation - Autoencoder Loss: 0.001471970696002245, Discriminator Loss: 1.9539763927459717, Discriminator Accuracy: 0.725694477558136\n"
     ]
    },
    {
     "name": "stderr",
     "output_type": "stream",
     "text": [
      "100%|██████████| 201/201 [00:36<00:00,  5.55it/s]\n"
     ]
    },
    {
     "name": "stdout",
     "output_type": "stream",
     "text": [
      "Epoch 148, Autoencoder Loss: 0.0011904723942279816, Discriminator Loss: 0.01829899102449417, Discriminator Accuracy: 1.0\n",
      "Validation - Autoencoder Loss: 0.0014308443060144782, Discriminator Loss: 1.9676638841629028, Discriminator Accuracy: 0.7183415293693542\n"
     ]
    },
    {
     "name": "stderr",
     "output_type": "stream",
     "text": [
      "100%|██████████| 201/201 [00:36<00:00,  5.54it/s]\n"
     ]
    },
    {
     "name": "stdout",
     "output_type": "stream",
     "text": [
      "Epoch 149, Autoencoder Loss: 0.001178199308924377, Discriminator Loss: 0.014987777918577194, Discriminator Accuracy: 1.0\n",
      "Validation - Autoencoder Loss: 0.0014395328471437097, Discriminator Loss: 2.0389294624328613, Discriminator Accuracy: 0.725081741809845\n"
     ]
    },
    {
     "name": "stderr",
     "output_type": "stream",
     "text": [
      "100%|██████████| 201/201 [00:36<00:00,  5.54it/s]\n"
     ]
    },
    {
     "name": "stdout",
     "output_type": "stream",
     "text": [
      "Epoch 150, Autoencoder Loss: 0.0011968610342592, Discriminator Loss: 0.016267383471131325, Discriminator Accuracy: 1.0\n",
      "Validation - Autoencoder Loss: 0.001892143627628684, Discriminator Loss: 2.050490617752075, Discriminator Accuracy: 0.7128268480300903\n"
     ]
    },
    {
     "name": "stderr",
     "output_type": "stream",
     "text": [
      "100%|██████████| 201/201 [00:36<00:00,  5.54it/s]\n"
     ]
    },
    {
     "name": "stdout",
     "output_type": "stream",
     "text": [
      "Epoch 151, Autoencoder Loss: 0.001174753182567656, Discriminator Loss: 0.015419013798236847, Discriminator Accuracy: 0.9998445510864258\n",
      "Validation - Autoencoder Loss: 0.0014238989679142833, Discriminator Loss: 2.0892841815948486, Discriminator Accuracy: 0.7171160578727722\n"
     ]
    },
    {
     "name": "stderr",
     "output_type": "stream",
     "text": [
      "100%|██████████| 201/201 [00:36<00:00,  5.54it/s]\n"
     ]
    },
    {
     "name": "stdout",
     "output_type": "stream",
     "text": [
      "Epoch 152, Autoencoder Loss: 0.0011788905831053853, Discriminator Loss: 0.016151834279298782, Discriminator Accuracy: 1.0\n",
      "Validation - Autoencoder Loss: 0.0017107006860896945, Discriminator Loss: 2.14076566696167, Discriminator Accuracy: 0.7024101614952087\n"
     ]
    },
    {
     "name": "stderr",
     "output_type": "stream",
     "text": [
      "100%|██████████| 201/201 [00:36<00:00,  5.58it/s]\n"
     ]
    },
    {
     "name": "stdout",
     "output_type": "stream",
     "text": [
      "Epoch 153, Autoencoder Loss: 0.0011778647312894464, Discriminator Loss: 0.023398973047733307, Discriminator Accuracy: 0.9996890425682068\n",
      "Validation - Autoencoder Loss: 0.0014901300892233849, Discriminator Loss: 2.0829880237579346, Discriminator Accuracy: 0.7226307392120361\n"
     ]
    },
    {
     "name": "stderr",
     "output_type": "stream",
     "text": [
      "100%|██████████| 201/201 [00:36<00:00,  5.55it/s]\n"
     ]
    },
    {
     "name": "stdout",
     "output_type": "stream",
     "text": [
      "Epoch 154, Autoencoder Loss: 0.0011691051768139005, Discriminator Loss: 0.025035640224814415, Discriminator Accuracy: 0.9987562298774719\n",
      "Validation - Autoencoder Loss: 0.0014285541838034987, Discriminator Loss: 2.3171372413635254, Discriminator Accuracy: 0.7134395837783813\n"
     ]
    },
    {
     "name": "stderr",
     "output_type": "stream",
     "text": [
      "100%|██████████| 201/201 [00:36<00:00,  5.55it/s]\n"
     ]
    },
    {
     "name": "stdout",
     "output_type": "stream",
     "text": [
      "Epoch 155, Autoencoder Loss: 0.0011863609543070197, Discriminator Loss: 0.07291893661022186, Discriminator Accuracy: 0.9947139024734497\n",
      "Validation - Autoencoder Loss: 0.00142327428329736, Discriminator Loss: 2.065007448196411, Discriminator Accuracy: 0.7165033221244812\n"
     ]
    },
    {
     "name": "stderr",
     "output_type": "stream",
     "text": [
      "100%|██████████| 201/201 [00:36<00:00,  5.54it/s]\n"
     ]
    },
    {
     "name": "stdout",
     "output_type": "stream",
     "text": [
      "Epoch 156, Autoencoder Loss: 0.00116873683873564, Discriminator Loss: 0.01571032963693142, Discriminator Accuracy: 1.0\n",
      "Validation - Autoencoder Loss: 0.0019006297225132585, Discriminator Loss: 2.160330295562744, Discriminator Accuracy: 0.7214052677154541\n"
     ]
    },
    {
     "name": "stderr",
     "output_type": "stream",
     "text": [
      "100%|██████████| 201/201 [00:36<00:00,  5.56it/s]\n"
     ]
    },
    {
     "name": "stdout",
     "output_type": "stream",
     "text": [
      "Epoch 157, Autoencoder Loss: 0.001177155296318233, Discriminator Loss: 0.021994302049279213, Discriminator Accuracy: 0.9992226362228394\n",
      "Validation - Autoencoder Loss: 0.001474612159654498, Discriminator Loss: 2.0782952308654785, Discriminator Accuracy: 0.7036356329917908\n"
     ]
    },
    {
     "name": "stderr",
     "output_type": "stream",
     "text": [
      "100%|██████████| 201/201 [00:36<00:00,  5.55it/s]\n"
     ]
    },
    {
     "name": "stdout",
     "output_type": "stream",
     "text": [
      "Epoch 158, Autoencoder Loss: 0.0011652852408587933, Discriminator Loss: 0.013250366784632206, Discriminator Accuracy: 1.0\n",
      "Validation - Autoencoder Loss: 0.0014391536824405193, Discriminator Loss: 2.0779032707214355, Discriminator Accuracy: 0.7171160578727722\n"
     ]
    },
    {
     "name": "stderr",
     "output_type": "stream",
     "text": [
      "100%|██████████| 201/201 [00:36<00:00,  5.56it/s]\n"
     ]
    },
    {
     "name": "stdout",
     "output_type": "stream",
     "text": [
      "Epoch 159, Autoencoder Loss: 0.0011720753973349929, Discriminator Loss: 0.015284357592463493, Discriminator Accuracy: 0.9996890425682068\n",
      "Validation - Autoencoder Loss: 0.0014438170474022627, Discriminator Loss: 2.1357386112213135, Discriminator Accuracy: 0.7177287936210632\n"
     ]
    },
    {
     "name": "stderr",
     "output_type": "stream",
     "text": [
      "100%|██████████| 201/201 [00:36<00:00,  5.57it/s]\n"
     ]
    },
    {
     "name": "stdout",
     "output_type": "stream",
     "text": [
      "Epoch 160, Autoencoder Loss: 0.0011670769890770316, Discriminator Loss: 0.011816992424428463, Discriminator Accuracy: 1.0\n",
      "Validation - Autoencoder Loss: 0.0014268410159274936, Discriminator Loss: 2.1532092094421387, Discriminator Accuracy: 0.7152777910232544\n"
     ]
    },
    {
     "name": "stderr",
     "output_type": "stream",
     "text": [
      "100%|██████████| 201/201 [00:36<00:00,  5.55it/s]\n"
     ]
    },
    {
     "name": "stdout",
     "output_type": "stream",
     "text": [
      "Epoch 161, Autoencoder Loss: 0.0011555657256394625, Discriminator Loss: 0.009652863256633282, Discriminator Accuracy: 1.0\n",
      "Validation - Autoencoder Loss: 0.0014405358815565705, Discriminator Loss: 2.1910250186920166, Discriminator Accuracy: 0.7201797366142273\n"
     ]
    },
    {
     "name": "stderr",
     "output_type": "stream",
     "text": [
      "100%|██████████| 201/201 [00:36<00:00,  5.54it/s]\n"
     ]
    },
    {
     "name": "stdout",
     "output_type": "stream",
     "text": [
      "Epoch 162, Autoencoder Loss: 0.0011644666083157063, Discriminator Loss: 0.012337352149188519, Discriminator Accuracy: 0.9996890425682068\n",
      "Validation - Autoencoder Loss: 0.0014808402629569173, Discriminator Loss: 2.232841968536377, Discriminator Accuracy: 0.7103758454322815\n"
     ]
    },
    {
     "name": "stderr",
     "output_type": "stream",
     "text": [
      "100%|██████████| 201/201 [00:35<00:00,  5.59it/s]\n"
     ]
    },
    {
     "name": "stdout",
     "output_type": "stream",
     "text": [
      "Epoch 163, Autoencoder Loss: 0.0011542239226400852, Discriminator Loss: 0.01657700166106224, Discriminator Accuracy: 0.9996890425682068\n",
      "Validation - Autoencoder Loss: 0.0014420849038287997, Discriminator Loss: 2.275480031967163, Discriminator Accuracy: 0.7201797366142273\n"
     ]
    },
    {
     "name": "stderr",
     "output_type": "stream",
     "text": [
      "100%|██████████| 201/201 [00:36<00:00,  5.55it/s]\n"
     ]
    },
    {
     "name": "stdout",
     "output_type": "stream",
     "text": [
      "Epoch 164, Autoencoder Loss: 0.0011767593678086996, Discriminator Loss: 0.011101181618869305, Discriminator Accuracy: 0.9998445510864258\n",
      "Validation - Autoencoder Loss: 0.0014338125474750996, Discriminator Loss: 2.1793296337127686, Discriminator Accuracy: 0.7189542651176453\n"
     ]
    },
    {
     "name": "stderr",
     "output_type": "stream",
     "text": [
      "100%|██████████| 201/201 [00:36<00:00,  5.58it/s]\n"
     ]
    },
    {
     "name": "stdout",
     "output_type": "stream",
     "text": [
      "Epoch 165, Autoencoder Loss: 0.0011539888801053166, Discriminator Loss: 0.01394939050078392, Discriminator Accuracy: 0.9996890425682068\n",
      "Validation - Autoencoder Loss: 0.0015892335213720798, Discriminator Loss: 2.5521581172943115, Discriminator Accuracy: 0.6754493713378906\n"
     ]
    },
    {
     "name": "stderr",
     "output_type": "stream",
     "text": [
      "100%|██████████| 201/201 [00:36<00:00,  5.52it/s]\n"
     ]
    },
    {
     "name": "stdout",
     "output_type": "stream",
     "text": [
      "Epoch 166, Autoencoder Loss: 0.0011449375888332725, Discriminator Loss: 0.10318514704704285, Discriminator Accuracy: 0.9931591749191284\n",
      "Validation - Autoencoder Loss: 0.0014506190782412887, Discriminator Loss: 2.086048126220703, Discriminator Accuracy: 0.7103758454322815\n"
     ]
    },
    {
     "name": "stderr",
     "output_type": "stream",
     "text": [
      "100%|██████████| 201/201 [00:36<00:00,  5.53it/s]\n"
     ]
    },
    {
     "name": "stdout",
     "output_type": "stream",
     "text": [
      "Epoch 167, Autoencoder Loss: 0.0011558565311133862, Discriminator Loss: 0.03681289032101631, Discriminator Accuracy: 0.9989116787910461\n",
      "Validation - Autoencoder Loss: 0.0014336698222905397, Discriminator Loss: 2.212733745574951, Discriminator Accuracy: 0.7146650552749634\n"
     ]
    },
    {
     "name": "stderr",
     "output_type": "stream",
     "text": [
      "100%|██████████| 201/201 [00:36<00:00,  5.54it/s]\n"
     ]
    },
    {
     "name": "stdout",
     "output_type": "stream",
     "text": [
      "Epoch 168, Autoencoder Loss: 0.0011559533886611462, Discriminator Loss: 0.0097019849345088, Discriminator Accuracy: 1.0\n",
      "Validation - Autoencoder Loss: 0.0014975150115787983, Discriminator Loss: 2.2594151496887207, Discriminator Accuracy: 0.7165033221244812\n"
     ]
    },
    {
     "name": "stderr",
     "output_type": "stream",
     "text": [
      "100%|██████████| 201/201 [00:36<00:00,  5.54it/s]\n"
     ]
    },
    {
     "name": "stdout",
     "output_type": "stream",
     "text": [
      "Epoch 169, Autoencoder Loss: 0.0011459095403552055, Discriminator Loss: 0.00709164934232831, Discriminator Accuracy: 1.0\n",
      "Validation - Autoencoder Loss: 0.0014360399218276143, Discriminator Loss: 2.1784698963165283, Discriminator Accuracy: 0.7128268480300903\n"
     ]
    },
    {
     "name": "stderr",
     "output_type": "stream",
     "text": [
      "100%|██████████| 201/201 [00:36<00:00,  5.56it/s]\n"
     ]
    },
    {
     "name": "stdout",
     "output_type": "stream",
     "text": [
      "Epoch 170, Autoencoder Loss: 0.0011605017352849245, Discriminator Loss: 0.0070768482983112335, Discriminator Accuracy: 1.0\n",
      "Validation - Autoencoder Loss: 0.001432421850040555, Discriminator Loss: 2.2394139766693115, Discriminator Accuracy: 0.7201797366142273\n"
     ]
    },
    {
     "name": "stderr",
     "output_type": "stream",
     "text": [
      "100%|██████████| 201/201 [00:36<00:00,  5.54it/s]\n"
     ]
    },
    {
     "name": "stdout",
     "output_type": "stream",
     "text": [
      "Epoch 171, Autoencoder Loss: 0.00114086689427495, Discriminator Loss: 0.0062993974424898624, Discriminator Accuracy: 1.0\n",
      "Validation - Autoencoder Loss: 0.0014422712847590446, Discriminator Loss: 2.2382867336273193, Discriminator Accuracy: 0.7122140526771545\n"
     ]
    },
    {
     "name": "stderr",
     "output_type": "stream",
     "text": [
      "100%|██████████| 201/201 [00:36<00:00,  5.54it/s]\n"
     ]
    },
    {
     "name": "stdout",
     "output_type": "stream",
     "text": [
      "Epoch 172, Autoencoder Loss: 0.001144211390055716, Discriminator Loss: 0.0063745989464223385, Discriminator Accuracy: 1.0\n",
      "Validation - Autoencoder Loss: 0.001593270106241107, Discriminator Loss: 2.2788844108581543, Discriminator Accuracy: 0.7165033221244812\n"
     ]
    },
    {
     "name": "stderr",
     "output_type": "stream",
     "text": [
      "100%|██████████| 201/201 [00:36<00:00,  5.56it/s]\n"
     ]
    },
    {
     "name": "stdout",
     "output_type": "stream",
     "text": [
      "Epoch 173, Autoencoder Loss: 0.001140463282354176, Discriminator Loss: 0.006382463965564966, Discriminator Accuracy: 1.0\n",
      "Validation - Autoencoder Loss: 0.001449122093617916, Discriminator Loss: 2.3145148754119873, Discriminator Accuracy: 0.7158905267715454\n"
     ]
    },
    {
     "name": "stderr",
     "output_type": "stream",
     "text": [
      "100%|██████████| 201/201 [00:36<00:00,  5.52it/s]\n"
     ]
    },
    {
     "name": "stdout",
     "output_type": "stream",
     "text": [
      "Epoch 174, Autoencoder Loss: 0.0011433673789724708, Discriminator Loss: 0.06405758112668991, Discriminator Accuracy: 0.9950248599052429\n",
      "Validation - Autoencoder Loss: 0.0014391529839485884, Discriminator Loss: 2.5765349864959717, Discriminator Accuracy: 0.6968954205513\n"
     ]
    },
    {
     "name": "stderr",
     "output_type": "stream",
     "text": [
      "100%|██████████| 201/201 [00:36<00:00,  5.53it/s]\n"
     ]
    },
    {
     "name": "stdout",
     "output_type": "stream",
     "text": [
      "Epoch 175, Autoencoder Loss: 0.001151731237769127, Discriminator Loss: 0.03557424619793892, Discriminator Accuracy: 0.9992226362228394\n",
      "Validation - Autoencoder Loss: 0.0015393465291708708, Discriminator Loss: 2.1739468574523926, Discriminator Accuracy: 0.7207925319671631\n"
     ]
    },
    {
     "name": "stderr",
     "output_type": "stream",
     "text": [
      "100%|██████████| 201/201 [00:36<00:00,  5.56it/s]\n"
     ]
    },
    {
     "name": "stdout",
     "output_type": "stream",
     "text": [
      "Epoch 176, Autoencoder Loss: 0.0011277877492830157, Discriminator Loss: 0.006096738390624523, Discriminator Accuracy: 1.0\n",
      "Validation - Autoencoder Loss: 0.0014554435620084405, Discriminator Loss: 2.266538619995117, Discriminator Accuracy: 0.7214052677154541\n"
     ]
    },
    {
     "name": "stderr",
     "output_type": "stream",
     "text": [
      "100%|██████████| 201/201 [00:36<00:00,  5.53it/s]\n"
     ]
    },
    {
     "name": "stdout",
     "output_type": "stream",
     "text": [
      "Epoch 177, Autoencoder Loss: 0.0011402423260733485, Discriminator Loss: 0.005925815552473068, Discriminator Accuracy: 1.0\n",
      "Validation - Autoencoder Loss: 0.0021411124616861343, Discriminator Loss: 2.793644666671753, Discriminator Accuracy: 0.693831741809845\n"
     ]
    },
    {
     "name": "stderr",
     "output_type": "stream",
     "text": [
      "100%|██████████| 201/201 [00:36<00:00,  5.54it/s]\n"
     ]
    },
    {
     "name": "stdout",
     "output_type": "stream",
     "text": [
      "Epoch 178, Autoencoder Loss: 0.0011487581068649888, Discriminator Loss: 0.026234641671180725, Discriminator Accuracy: 0.9989116787910461\n",
      "Validation - Autoencoder Loss: 0.00144816969987005, Discriminator Loss: 2.2925002574920654, Discriminator Accuracy: 0.7152777910232544\n"
     ]
    },
    {
     "name": "stderr",
     "output_type": "stream",
     "text": [
      "100%|██████████| 201/201 [00:36<00:00,  5.52it/s]\n"
     ]
    },
    {
     "name": "stdout",
     "output_type": "stream",
     "text": [
      "Epoch 179, Autoencoder Loss: 0.0011324954684823751, Discriminator Loss: 0.005338300950825214, Discriminator Accuracy: 1.0\n",
      "Validation - Autoencoder Loss: 0.0014560300623998046, Discriminator Loss: 2.297145128250122, Discriminator Accuracy: 0.7073121070861816\n"
     ]
    },
    {
     "name": "stderr",
     "output_type": "stream",
     "text": [
      "100%|██████████| 201/201 [00:36<00:00,  5.55it/s]\n"
     ]
    },
    {
     "name": "stdout",
     "output_type": "stream",
     "text": [
      "Epoch 180, Autoencoder Loss: 0.0011274885619059205, Discriminator Loss: 0.005633184686303139, Discriminator Accuracy: 1.0\n",
      "Validation - Autoencoder Loss: 0.0019148512510582805, Discriminator Loss: 2.3939454555511475, Discriminator Accuracy: 0.7189542651176453\n"
     ]
    },
    {
     "name": "stderr",
     "output_type": "stream",
     "text": [
      "100%|██████████| 201/201 [00:36<00:00,  5.52it/s]\n"
     ]
    },
    {
     "name": "stdout",
     "output_type": "stream",
     "text": [
      "Epoch 181, Autoencoder Loss: 0.001131940633058548, Discriminator Loss: 0.09635837376117706, Discriminator Accuracy: 0.9936256408691406\n",
      "Validation - Autoencoder Loss: 0.0014606830663979053, Discriminator Loss: 2.1837902069091797, Discriminator Accuracy: 0.7128268480300903\n"
     ]
    },
    {
     "name": "stderr",
     "output_type": "stream",
     "text": [
      "100%|██████████| 201/201 [00:36<00:00,  5.53it/s]\n"
     ]
    },
    {
     "name": "stdout",
     "output_type": "stream",
     "text": [
      "Epoch 182, Autoencoder Loss: 0.001136316917836666, Discriminator Loss: 0.007811383809894323, Discriminator Accuracy: 1.0\n",
      "Validation - Autoencoder Loss: 0.0014686500653624535, Discriminator Loss: 2.2814347743988037, Discriminator Accuracy: 0.7171160578727722\n"
     ]
    },
    {
     "name": "stderr",
     "output_type": "stream",
     "text": [
      "100%|██████████| 201/201 [00:36<00:00,  5.49it/s]\n"
     ]
    },
    {
     "name": "stdout",
     "output_type": "stream",
     "text": [
      "Epoch 183, Autoencoder Loss: 0.001126386341638863, Discriminator Loss: 0.005163149442523718, Discriminator Accuracy: 1.0\n",
      "Validation - Autoencoder Loss: 0.0014428040012717247, Discriminator Loss: 2.331901788711548, Discriminator Accuracy: 0.7189542651176453\n"
     ]
    },
    {
     "name": "stderr",
     "output_type": "stream",
     "text": [
      "100%|██████████| 201/201 [00:36<00:00,  5.52it/s]\n"
     ]
    },
    {
     "name": "stdout",
     "output_type": "stream",
     "text": [
      "Epoch 184, Autoencoder Loss: 0.0011291857808828354, Discriminator Loss: 0.004754882771521807, Discriminator Accuracy: 1.0\n",
      "Validation - Autoencoder Loss: 0.001547825406305492, Discriminator Loss: 2.371532678604126, Discriminator Accuracy: 0.7232434749603271\n"
     ]
    },
    {
     "name": "stderr",
     "output_type": "stream",
     "text": [
      "100%|██████████| 201/201 [00:36<00:00,  5.50it/s]\n"
     ]
    },
    {
     "name": "stdout",
     "output_type": "stream",
     "text": [
      "Epoch 185, Autoencoder Loss: 0.0011250288225710392, Discriminator Loss: 0.004097701981663704, Discriminator Accuracy: 1.0\n",
      "Validation - Autoencoder Loss: 0.0016618927475064993, Discriminator Loss: 2.356431245803833, Discriminator Accuracy: 0.7128268480300903\n"
     ]
    },
    {
     "name": "stderr",
     "output_type": "stream",
     "text": [
      "100%|██████████| 201/201 [00:36<00:00,  5.54it/s]\n"
     ]
    },
    {
     "name": "stdout",
     "output_type": "stream",
     "text": [
      "Epoch 186, Autoencoder Loss: 0.0011259337188676, Discriminator Loss: 0.01619025506079197, Discriminator Accuracy: 0.9990671873092651\n",
      "Validation - Autoencoder Loss: 0.0014633929822593927, Discriminator Loss: 2.3355884552001953, Discriminator Accuracy: 0.7158905267715454\n"
     ]
    },
    {
     "name": "stderr",
     "output_type": "stream",
     "text": [
      "100%|██████████| 201/201 [00:36<00:00,  5.51it/s]\n"
     ]
    },
    {
     "name": "stdout",
     "output_type": "stream",
     "text": [
      "Epoch 187, Autoencoder Loss: 0.0011284127831459045, Discriminator Loss: 0.004750262014567852, Discriminator Accuracy: 1.0\n",
      "Validation - Autoencoder Loss: 0.001958675915375352, Discriminator Loss: 2.4111838340759277, Discriminator Accuracy: 0.7073121070861816\n"
     ]
    },
    {
     "name": "stderr",
     "output_type": "stream",
     "text": [
      "100%|██████████| 201/201 [00:36<00:00,  5.51it/s]\n"
     ]
    },
    {
     "name": "stdout",
     "output_type": "stream",
     "text": [
      "Epoch 188, Autoencoder Loss: 0.0011357945622876287, Discriminator Loss: 0.0046816361136734486, Discriminator Accuracy: 1.0\n",
      "Validation - Autoencoder Loss: 0.0014737090095877647, Discriminator Loss: 2.4797630310058594, Discriminator Accuracy: 0.7177287936210632\n"
     ]
    },
    {
     "name": "stderr",
     "output_type": "stream",
     "text": [
      "100%|██████████| 201/201 [00:36<00:00,  5.51it/s]\n"
     ]
    },
    {
     "name": "stdout",
     "output_type": "stream",
     "text": [
      "Epoch 189, Autoencoder Loss: 0.0011109482729807496, Discriminator Loss: 0.0037880027666687965, Discriminator Accuracy: 1.0\n",
      "Validation - Autoencoder Loss: 0.0016533868620172143, Discriminator Loss: 2.433422565460205, Discriminator Accuracy: 0.7030228972434998\n"
     ]
    },
    {
     "name": "stderr",
     "output_type": "stream",
     "text": [
      "100%|██████████| 201/201 [00:36<00:00,  5.56it/s]\n"
     ]
    },
    {
     "name": "stdout",
     "output_type": "stream",
     "text": [
      "Epoch 190, Autoencoder Loss: 0.0011277437442913651, Discriminator Loss: 0.004763214848935604, Discriminator Accuracy: 1.0\n",
      "Validation - Autoencoder Loss: 0.0014630325604230165, Discriminator Loss: 2.45013689994812, Discriminator Accuracy: 0.7195670008659363\n"
     ]
    },
    {
     "name": "stderr",
     "output_type": "stream",
     "text": [
      "100%|██████████| 201/201 [00:36<00:00,  5.54it/s]\n"
     ]
    },
    {
     "name": "stdout",
     "output_type": "stream",
     "text": [
      "Epoch 191, Autoencoder Loss: 0.001119718886911869, Discriminator Loss: 0.1047213077545166, Discriminator Accuracy: 0.9930037260055542\n",
      "Validation - Autoencoder Loss: 0.0014496338553726673, Discriminator Loss: 2.1989355087280273, Discriminator Accuracy: 0.7036356329917908\n"
     ]
    },
    {
     "name": "stderr",
     "output_type": "stream",
     "text": [
      "100%|██████████| 201/201 [00:36<00:00,  5.55it/s]\n"
     ]
    },
    {
     "name": "stdout",
     "output_type": "stream",
     "text": [
      "Epoch 192, Autoencoder Loss: 0.0011084197321906686, Discriminator Loss: 0.007785418536514044, Discriminator Accuracy: 1.0\n",
      "Validation - Autoencoder Loss: 0.0014510158216580749, Discriminator Loss: 2.3637022972106934, Discriminator Accuracy: 0.7232434749603271\n"
     ]
    },
    {
     "name": "stderr",
     "output_type": "stream",
     "text": [
      "100%|██████████| 201/201 [00:36<00:00,  5.56it/s]\n"
     ]
    },
    {
     "name": "stdout",
     "output_type": "stream",
     "text": [
      "Epoch 193, Autoencoder Loss: 0.0011153692612424493, Discriminator Loss: 0.004748774226754904, Discriminator Accuracy: 1.0\n",
      "Validation - Autoencoder Loss: 0.0014727911911904812, Discriminator Loss: 2.3768227100372314, Discriminator Accuracy: 0.7226307392120361\n"
     ]
    },
    {
     "name": "stderr",
     "output_type": "stream",
     "text": [
      "100%|██████████| 201/201 [00:36<00:00,  5.52it/s]\n"
     ]
    },
    {
     "name": "stdout",
     "output_type": "stream",
     "text": [
      "Epoch 194, Autoencoder Loss: 0.0011155575048178434, Discriminator Loss: 0.003818587400019169, Discriminator Accuracy: 1.0\n",
      "Validation - Autoencoder Loss: 0.0014683544868603349, Discriminator Loss: 2.3629753589630127, Discriminator Accuracy: 0.7226307392120361\n"
     ]
    },
    {
     "name": "stderr",
     "output_type": "stream",
     "text": [
      "100%|██████████| 201/201 [00:35<00:00,  5.59it/s]\n"
     ]
    },
    {
     "name": "stdout",
     "output_type": "stream",
     "text": [
      "Epoch 195, Autoencoder Loss: 0.0011164265451952815, Discriminator Loss: 0.005736674182116985, Discriminator Accuracy: 1.0\n",
      "Validation - Autoencoder Loss: 0.0014615320833399892, Discriminator Loss: 2.4189324378967285, Discriminator Accuracy: 0.725694477558136\n"
     ]
    },
    {
     "name": "stderr",
     "output_type": "stream",
     "text": [
      "100%|██████████| 201/201 [00:36<00:00,  5.52it/s]\n"
     ]
    },
    {
     "name": "stdout",
     "output_type": "stream",
     "text": [
      "Epoch 196, Autoencoder Loss: 0.0011112615466117859, Discriminator Loss: 0.00332701881416142, Discriminator Accuracy: 1.0\n",
      "Validation - Autoencoder Loss: 0.001476473524235189, Discriminator Loss: 2.4356985092163086, Discriminator Accuracy: 0.7165033221244812\n"
     ]
    },
    {
     "name": "stderr",
     "output_type": "stream",
     "text": [
      "100%|██████████| 201/201 [00:36<00:00,  5.57it/s]\n"
     ]
    },
    {
     "name": "stdout",
     "output_type": "stream",
     "text": [
      "Epoch 197, Autoencoder Loss: 0.0011146364267915487, Discriminator Loss: 0.0036867617163807154, Discriminator Accuracy: 1.0\n",
      "Validation - Autoencoder Loss: 0.0014624909963458776, Discriminator Loss: 2.422656536102295, Discriminator Accuracy: 0.7220180034637451\n"
     ]
    },
    {
     "name": "stderr",
     "output_type": "stream",
     "text": [
      "100%|██████████| 201/201 [00:36<00:00,  5.55it/s]\n"
     ]
    },
    {
     "name": "stdout",
     "output_type": "stream",
     "text": [
      "Epoch 198, Autoencoder Loss: 0.0011075222864747047, Discriminator Loss: 0.0028895428404212, Discriminator Accuracy: 1.0\n",
      "Validation - Autoencoder Loss: 0.0015174082946032286, Discriminator Loss: 2.4714598655700684, Discriminator Accuracy: 0.7226307392120361\n"
     ]
    },
    {
     "name": "stderr",
     "output_type": "stream",
     "text": [
      "100%|██████████| 201/201 [00:36<00:00,  5.54it/s]\n"
     ]
    },
    {
     "name": "stdout",
     "output_type": "stream",
     "text": [
      "Epoch 199, Autoencoder Loss: 0.0011145201278850436, Discriminator Loss: 0.003144900780171156, Discriminator Accuracy: 1.0\n",
      "Validation - Autoencoder Loss: 0.0015000305138528347, Discriminator Loss: 2.483421802520752, Discriminator Accuracy: 0.7238562107086182\n"
     ]
    }
   ],
   "source": [
    "# Training loop for GAN\n",
    "autoencoder_losses_epoch = []\n",
    "discriminator_losses_epoch = []\n",
    "discriminator_acc_epoch = []\n",
    "val_autoencoder_losses_epoch = []\n",
    "val_discriminator_losses_epoch = []\n",
    "val_discriminator_acc_epoch = []\n",
    "\n",
    "for epoch in range(200):\n",
    "    # Initialize epoch-wise metrics\n",
    "    epoch_autoencoder_losses = []\n",
    "    epoch_discriminator_losses = []\n",
    "    epoch_discriminator_acc = []\n",
    "    epoch_val_autoencoder_losses = []\n",
    "    epoch_val_discriminator_losses = []\n",
    "    epoch_val_discriminator_acc = []\n",
    "\n",
    "    # Training loop\n",
    "    for idx, (batch_real, batch_label) in enumerate(tqdm(train_data)):\n",
    "        with tf.GradientTape() as autoencoder_tape, tf.GradientTape() as disc_tape:\n",
    "            # Pass batch through the encoder and decoder (autoencoder)\n",
    "            latent_representation = encoder(batch_real)\n",
    "            generated_image = decoder(latent_representation)\n",
    "            loss_autoencoder = loss_fn_auto(batch_real, generated_image)\n",
    "\n",
    "            # Pass batch through the discriminator (real vs fake image)\n",
    "            fake = generated_image\n",
    "            loss_disc_real = loss_fn_disc(batch_label, discriminator(batch_real))\n",
    "            loss_disc_fake = loss_fn_disc(batch_label, discriminator(fake))\n",
    "            loss_disc = (loss_disc_real + loss_disc_fake) / 2\n",
    "\n",
    "        # Apply gradients to autoencoder\n",
    "        grads_autoencoder = autoencoder_tape.gradient(loss_autoencoder, autoencoder.trainable_weights)\n",
    "        opt_autoencoder.apply_gradients(zip(grads_autoencoder, autoencoder.trainable_weights))\n",
    "\n",
    "        # Apply gradients to discriminator\n",
    "        grads_discriminator = disc_tape.gradient(loss_disc, discriminator.trainable_weights)\n",
    "        opt_disc.apply_gradients(zip(grads_discriminator, discriminator.trainable_weights))\n",
    "\n",
    "        # Store batch-wise metrics\n",
    "        epoch_autoencoder_losses.append(loss_autoencoder.numpy())\n",
    "        epoch_discriminator_losses.append(loss_disc.numpy())\n",
    "        epoch_discriminator_acc.append(tf.reduce_mean(\n",
    "            tf.keras.metrics.categorical_accuracy(batch_label, discriminator(fake))).numpy())\n",
    "        \n",
    "        if idx % 200 == 0:\n",
    "            img = tf.keras.preprocessing.image.array_to_img(fake[0])\n",
    "            img.save(f\"{save_dir}/generated_img_epoch_{epoch}_batch_{idx}.png\")\n",
    "\n",
    "    # Validation loop\n",
    "    for val_batch_real, val_batch_label in val_data:\n",
    "        val_latent_representation = encoder(val_batch_real)\n",
    "        val_generated_image = decoder(val_latent_representation)\n",
    "        val_loss_autoencoder = loss_fn_auto(val_batch_real, val_generated_image)\n",
    "        val_loss_disc_real = loss_fn_disc(val_batch_label, discriminator(val_batch_real))\n",
    "        val_loss_disc_fake = loss_fn_disc(val_batch_label, discriminator(val_generated_image))\n",
    "        val_loss_disc = (val_loss_disc_real + val_loss_disc_fake) / 2\n",
    "\n",
    "        # Calculate accuracy\n",
    "        val_discriminator_accuracy = tf.reduce_mean(\n",
    "            tf.keras.metrics.categorical_accuracy(val_batch_label, discriminator(val_generated_image)))\n",
    "\n",
    "        # Store validation metrics\n",
    "        epoch_val_autoencoder_losses.append(val_loss_autoencoder.numpy())\n",
    "        epoch_val_discriminator_losses.append(val_loss_disc.numpy())\n",
    "        epoch_val_discriminator_acc.append(val_discriminator_accuracy.numpy())\n",
    "\n",
    "    # Calculate epoch-wise averages and append to the lists\n",
    "    avg_autoencoder_loss = np.mean(epoch_autoencoder_losses)\n",
    "    avg_discriminator_loss = np.mean(epoch_discriminator_losses)\n",
    "    avg_discriminator_acc = np.mean(epoch_discriminator_acc)\n",
    "    avg_val_autoencoder_loss = np.mean(epoch_val_autoencoder_losses)\n",
    "    avg_val_discriminator_loss = np.mean(epoch_val_discriminator_losses)\n",
    "    avg_val_discriminator_acc = np.mean(epoch_val_discriminator_acc)\n",
    "\n",
    "    autoencoder_losses_epoch.append(avg_autoencoder_loss)\n",
    "    discriminator_losses_epoch.append(avg_discriminator_loss)\n",
    "    discriminator_acc_epoch.append(avg_discriminator_acc)\n",
    "    val_autoencoder_losses_epoch.append(avg_val_autoencoder_loss)\n",
    "    val_discriminator_losses_epoch.append(avg_val_discriminator_loss)\n",
    "    val_discriminator_acc_epoch.append(avg_val_discriminator_acc)\n",
    "\n",
    "    # Print epoch-wise metrics\n",
    "    print(f\"Epoch {epoch}, Autoencoder Loss: {avg_autoencoder_loss}, Discriminator Loss: {avg_discriminator_loss}, Discriminator Accuracy: {avg_discriminator_acc}\")\n",
    "    print(f\"Validation - Autoencoder Loss: {avg_val_autoencoder_loss}, Discriminator Loss: {avg_val_discriminator_loss}, Discriminator Accuracy: {avg_val_discriminator_acc}\")\n"
   ]
  },
  {
   "cell_type": "code",
   "execution_count": 12,
   "id": "f151d3c4",
   "metadata": {
    "execution": {
     "iopub.execute_input": "2025-02-15T15:14:05.734066Z",
     "iopub.status.busy": "2025-02-15T15:14:05.733762Z",
     "iopub.status.idle": "2025-02-15T15:14:06.437415Z",
     "shell.execute_reply": "2025-02-15T15:14:06.436534Z"
    },
    "papermill": {
     "duration": 2.650802,
     "end_time": "2025-02-15T15:14:06.438887",
     "exception": false,
     "start_time": "2025-02-15T15:14:03.788085",
     "status": "completed"
    },
    "tags": []
   },
   "outputs": [
    {
     "data": {
      "image/png": "[encoded data removed]",
      "text/plain": [
       "<Figure size 1200x600 with 1 Axes>"
      ]
     },
     "metadata": {},
     "output_type": "display_data"
    },
    {
     "data": {
      "image/png": "[encoded data removed]",
      "text/plain": [
       "<Figure size 1200x600 with 1 Axes>"
      ]
     },
     "metadata": {},
     "output_type": "display_data"
    },
    {
     "data": {
      "image/png": "[encoded data removed]",
      "text/plain": [
       "<Figure size 1200x600 with 1 Axes>"
      ]
     },
     "metadata": {},
     "output_type": "display_data"
    }
   ],
   "source": [
    "import matplotlib.pyplot as plt\n",
    "\n",
    "# Epochs\n",
    "epochs = list(range(200))\n",
    "\n",
    "# Autoencoder Loss plot\n",
    "plt.figure(figsize=(12, 6))\n",
    "plt.plot(epochs, autoencoder_losses_epoch, label=\"Training Autoencoder Loss\", color='b')\n",
    "plt.plot(epochs, val_autoencoder_losses_epoch, label=\"Validation Autoencoder Loss\", color='r')\n",
    "plt.xlabel(\"Epochs\")\n",
    "plt.ylabel(\"Loss\")\n",
    "plt.title(\"Training and Validation Autoencoder Loss\")\n",
    "plt.legend()\n",
    "plt.show()\n",
    "\n",
    "# Discriminator Loss plot\n",
    "plt.figure(figsize=(12, 6))\n",
    "plt.plot(epochs, discriminator_losses_epoch, label=\"Training Discriminator Loss\", color='g')\n",
    "plt.plot(epochs, val_discriminator_losses_epoch, label=\"Validation Discriminator Loss\", color='orange')\n",
    "plt.xlabel(\"Epochs\")\n",
    "plt.ylabel(\"Loss\")\n",
    "plt.title(\"Training and Validation Discriminator Loss\")\n",
    "plt.legend()\n",
    "plt.show()\n",
    "\n",
    "# Discriminator Accuracy plot\n",
    "plt.figure(figsize=(12, 6))\n",
    "plt.plot(epochs, discriminator_acc_epoch, label=\"Training Discriminator Accuracy\", color='m')\n",
    "plt.plot(epochs, val_discriminator_acc_epoch, label=\"Validation Discriminator Accuracy\", color='y')\n",
    "plt.xlabel(\"Epochs\")\n",
    "plt.ylabel(\"Accuracy\")\n",
    "plt.title(\"Training and Validation Discriminator Accuracy\")\n",
    "plt.legend()\n",
    "plt.show()\n"
   ]
  }
 ],
 "metadata": {
  "kaggle": {
   "accelerator": "gpu",
   "dataSources": [
    {
     "datasetId": 54339,
     "sourceId": 104884,
     "sourceType": "datasetVersion"
    }
   ],
   "dockerImageVersionId": 30887,
   "isGpuEnabled": true,
   "isInternetEnabled": true,
   "language": "python",
   "sourceType": "notebook"
  },
  "kernelspec": {
   "display_name": "Python 3",
   "language": "python",
   "name": "python3"
  },
  "language_info": {
   "codemirror_mode": {
    "name": "ipython",
    "version": 3
   },
   "file_extension": ".py",
   "mimetype": "text/x-python",
   "name": "python",
   "nbconvert_exporter": "python",
   "pygments_lexer": "ipython3",
   "version": "3.10.12"
  },
  "papermill": {
   "default_parameters": {},
   "duration": 7875.565668,
   "end_time": "2025-02-15T15:14:11.055105",
   "environment_variables": {},
   "exception": null,
   "input_path": "__notebook__.ipynb",
   "output_path": "__notebook__.ipynb",
   "parameters": {},
   "start_time": "2025-02-15T13:02:55.489437",
   "version": "2.6.0"
  }
 },
 "nbformat": 4,
 "nbformat_minor": 5
}
