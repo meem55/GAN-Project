{
 "cells": [
  {
   "cell_type": "code",
   "execution_count": 1,
   "id": "3f200456",
   "metadata": {
    "_cell_guid": "b1076dfc-b9ad-4769-8c92-a6c4dae69d19",
    "_uuid": "8f2839f25d086af736a60e9eeb907d3b93b6e0e5",
    "execution": {
     "iopub.execute_input": "2025-03-07T16:49:34.815405Z",
     "iopub.status.busy": "2025-03-07T16:49:34.815075Z",
     "iopub.status.idle": "2025-03-07T16:49:49.019155Z",
     "shell.execute_reply": "2025-03-07T16:49:49.018293Z"
    },
    "papermill": {
     "duration": 14.210386,
     "end_time": "2025-03-07T16:49:49.020885",
     "exception": false,
     "start_time": "2025-03-07T16:49:34.810499",
     "status": "completed"
    },
    "tags": []
   },
   "outputs": [],
   "source": [
    "import numpy as np\n",
    "import pandas as pd\n",
    "import matplotlib.pyplot as plt\n",
    "import tensorflow as tf\n",
    "from tensorflow.keras import layers, models\n",
    "from tensorflow.keras.optimizers import Adam\n",
    "from tensorflow.keras.preprocessing.image import ImageDataGenerator\n",
    "from sklearn.model_selection import StratifiedKFold\n",
    "from sklearn.metrics import confusion_matrix, roc_auc_score, precision_recall_curve\n",
    "from sklearn.utils.class_weight import compute_class_weight\n",
    "from sklearn.model_selection import train_test_split\n"
   ]
  },
  {
   "cell_type": "code",
   "execution_count": 2,
   "id": "1512f0ce",
   "metadata": {
    "execution": {
     "iopub.execute_input": "2025-03-07T16:49:49.029088Z",
     "iopub.status.busy": "2025-03-07T16:49:49.028490Z",
     "iopub.status.idle": "2025-03-07T16:49:49.032710Z",
     "shell.execute_reply": "2025-03-07T16:49:49.031826Z"
    },
    "papermill": {
     "duration": 0.009716,
     "end_time": "2025-03-07T16:49:49.034194",
     "exception": false,
     "start_time": "2025-03-07T16:49:49.024478",
     "status": "completed"
    },
    "tags": []
   },
   "outputs": [],
   "source": [
    "import os  # Add this line at the beginning of your code\n",
    "\n",
    "save_dir = '/kaggle/working/'  # Specify your directory path\n",
    "os.makedirs(save_dir, exist_ok=True)  # Create the directory if it doesn't exist\n"
   ]
  },
  {
   "cell_type": "code",
   "execution_count": 3,
   "id": "a738918c",
   "metadata": {
    "execution": {
     "iopub.execute_input": "2025-03-07T16:49:49.041240Z",
     "iopub.status.busy": "2025-03-07T16:49:49.040939Z",
     "iopub.status.idle": "2025-03-07T16:49:49.044475Z",
     "shell.execute_reply": "2025-03-07T16:49:49.043815Z"
    },
    "papermill": {
     "duration": 0.008446,
     "end_time": "2025-03-07T16:49:49.045749",
     "exception": false,
     "start_time": "2025-03-07T16:49:49.037303",
     "status": "completed"
    },
    "tags": []
   },
   "outputs": [],
   "source": [
    "# Ensure reproducibility\n",
    "tf.random.set_seed(42)\n",
    "np.random.seed(42)\n"
   ]
  },
  {
   "cell_type": "code",
   "execution_count": 4,
   "id": "766e43e9",
   "metadata": {
    "execution": {
     "iopub.execute_input": "2025-03-07T16:49:49.052741Z",
     "iopub.status.busy": "2025-03-07T16:49:49.052449Z",
     "iopub.status.idle": "2025-03-07T16:52:09.738229Z",
     "shell.execute_reply": "2025-03-07T16:52:09.737434Z"
    },
    "papermill": {
     "duration": 140.691041,
     "end_time": "2025-03-07T16:52:09.739829",
     "exception": false,
     "start_time": "2025-03-07T16:49:49.048788",
     "status": "completed"
    },
    "tags": []
   },
   "outputs": [
    {
     "name": "stdout",
     "output_type": "stream",
     "text": [
      "Training set shape: (5608, 28, 28, 3)\n",
      "Validation set shape: (2404, 28, 28, 3)\n",
      "Test set shape: (2003, 28, 28, 3)\n"
     ]
    }
   ],
   "source": [
    "import numpy as np\n",
    "import pandas as pd\n",
    "import tensorflow as tf\n",
    "import matplotlib.pyplot as plt\n",
    "from tensorflow.keras.preprocessing import image\n",
    "from sklearn.model_selection import train_test_split\n",
    "from sklearn.utils.class_weight import compute_class_weight\n",
    "\n",
    "# Paths to the dataset\n",
    "image_dir_1 = '/kaggle/input/skin-cancer-mnist-ham10000/HAM10000_images_part_1'\n",
    "image_dir_2 = '/kaggle/input/skin-cancer-mnist-ham10000/HAM10000_images_part_2'\n",
    "metadata_file = '/kaggle/input/skin-cancer-mnist-ham10000/HAM10000_metadata.csv'\n",
    "\n",
    "# Load metadata CSV\n",
    "labels = pd.read_csv(metadata_file)\n",
    "\n",
    "# Convert diagnosis (dx) to integers (you can map specific diseases if needed)\n",
    "label_mapping = {label: idx for idx, label in enumerate(labels['dx'].unique())}\n",
    "labels['dx'] = labels['dx'].map(label_mapping)\n",
    "\n",
    "# Set image size for the model\n",
    "IMG_SIZE = 28  # Resize images to 28x28\n",
    "\n",
    "# Function to load and preprocess images\n",
    "def load_images_and_labels(labels, image_dir_1, image_dir_2, img_size=28):\n",
    "    images = []\n",
    "    label_list = []\n",
    "\n",
    "    for _, row in labels.iterrows():\n",
    "        # Get the file path for the image\n",
    "        file_path_1 = os.path.join(image_dir_1, row['image_id'] + '.jpg')\n",
    "        file_path_2 = os.path.join(image_dir_2, row['image_id'] + '.jpg')\n",
    "\n",
    "        # Check if the image exists in part 1 or part 2\n",
    "        if os.path.exists(file_path_1):\n",
    "            img = image.load_img(file_path_1, target_size=(img_size, img_size))\n",
    "        elif os.path.exists(file_path_2):\n",
    "            img = image.load_img(file_path_2, target_size=(img_size, img_size))\n",
    "        else:\n",
    "            continue  # Skip if image file is missing\n",
    "\n",
    "        # Convert image to numpy array and normalize it\n",
    "        img_array = image.img_to_array(img) / 255.0  # Normalize pixel values to [0, 1]\n",
    "        images.append(img_array)\n",
    "        label_list.append(row['dx'])  # Add the label (dx)\n",
    "\n",
    "    X = np.array(images)  # Shape: (num_samples, img_size, img_size, 3)\n",
    "    y = np.array(label_list)  # Labels: [0, 1, 2, ..., 6] for classification\n",
    "    return X, y\n",
    "\n",
    "# Load the images and labels\n",
    "X, y = load_images_and_labels(labels, image_dir_1, image_dir_2, IMG_SIZE)\n",
    "\n",
    "# Step 1: Split into 80% training and 20% test\n",
    "X_train, X_test, y_train, y_test = train_test_split(X, y, test_size=0.2, random_state=42)\n",
    "\n",
    "# Step 2: Split the 80% training set into 80% training and 20% validation\n",
    "X_train, X_val, y_train, y_val = train_test_split(X_train, y_train, test_size=0.3, random_state=42)\n",
    "\n",
    "# Check the shape of the dataset\n",
    "print(\"Training set shape:\", X_train.shape)\n",
    "print(\"Validation set shape:\", X_val.shape)\n",
    "print(\"Test set shape:\", X_test.shape)\n",
    "\n",
    "# Convert labels to one-hot encoding\n",
    "y_train_one_hot = tf.keras.utils.to_categorical(y_train, num_classes=7)  # Assuming 7 classes\n",
    "y_val_one_hot = tf.keras.utils.to_categorical(y_val, num_classes=7)\n",
    "y_test_one_hot = tf.keras.utils.to_categorical(y_test, num_classes=7)\n",
    "\n",
    "# Compute class weights to handle class imbalance\n",
    "def compute_class_weights(labels):\n",
    "    class_weights = compute_class_weight(\n",
    "        class_weight='balanced', classes=np.unique(labels), y=labels\n",
    "    )\n",
    "    class_weight_dict = {i: class_weights[i] for i in range(len(class_weights))}\n",
    "    return class_weight_dict\n",
    "\n",
    "class_weights = compute_class_weights(y_train)\n",
    "\n",
    "# Data Augmentation for the training set\n",
    "train_datagen = tf.keras.preprocessing.image.ImageDataGenerator(\n",
    "    rescale=1./255,\n",
    "    rotation_range=20,\n",
    "    width_shift_range=0.2,\n",
    "    height_shift_range=0.2,\n",
    "    shear_range=0.2,\n",
    "    zoom_range=0.2,\n",
    "    horizontal_flip=True,\n",
    "    fill_mode='nearest'\n",
    ")\n",
    "\n",
    "# Normalization for the validation set\n",
    "val_datagen = tf.keras.preprocessing.image.ImageDataGenerator(rescale=1./255)\n",
    "\n",
    "# Creating data pipeline for training and validation\n",
    "train_dataset = train_datagen.flow(X_train, y_train_one_hot, batch_size=16)\n",
    "val_dataset = val_datagen.flow(X_val, y_val_one_hot, batch_size=16)\n",
    "\n",
    "# Efficient data pipeline: cache, batch, and prefetch (for training and validation datasets)\n",
    "def create_dataset(X_train, y_train_one_hot, X_val, y_val_one_hot, X_test, y_test_one_hot, batch_size):\n",
    "    train_data = tf.data.Dataset.from_tensor_slices((X_train, y_train_one_hot))\n",
    "    val_data = tf.data.Dataset.from_tensor_slices((X_val, y_val_one_hot))\n",
    "    test_data = tf.data.Dataset.from_tensor_slices((X_test, y_test_one_hot))\n",
    "\n",
    "    # Efficient data pipeline: cache, batch, and prefetch\n",
    "    train_data = (train_data\n",
    "                  .cache()\n",
    "                  .shuffle(buffer_size=1000)\n",
    "                  .batch(batch_size)\n",
    "                  .prefetch(tf.data.experimental.AUTOTUNE))\n",
    "    \n",
    "    val_data = (val_data\n",
    "                .cache()\n",
    "                .batch(batch_size)\n",
    "                .prefetch(tf.data.experimental.AUTOTUNE))\n",
    "\n",
    "    test_data = (test_data\n",
    "                 .cache()\n",
    "                 .batch(batch_size)\n",
    "                 .prefetch(tf.data.experimental.AUTOTUNE))\n",
    "\n",
    "    return train_data, val_data, test_data\n",
    "\n",
    "# Set batch size for training\n",
    "batch_size = 16\n",
    "\n",
    "# Create the dataset pipeline for efficient data loading\n",
    "train_data, val_data, test_data = create_dataset(X_train, y_train_one_hot, X_val, y_val_one_hot, X_test, y_test_one_hot, batch_size)\n"
   ]
  },
  {
   "cell_type": "code",
   "execution_count": 5,
   "id": "6be8317d",
   "metadata": {
    "execution": {
     "iopub.execute_input": "2025-03-07T16:52:09.747153Z",
     "iopub.status.busy": "2025-03-07T16:52:09.746820Z",
     "iopub.status.idle": "2025-03-07T16:52:10.414714Z",
     "shell.execute_reply": "2025-03-07T16:52:10.413793Z"
    },
    "papermill": {
     "duration": 0.673041,
     "end_time": "2025-03-07T16:52:10.416111",
     "exception": false,
     "start_time": "2025-03-07T16:52:09.743070",
     "status": "completed"
    },
    "tags": []
   },
   "outputs": [
    {
     "data": {
      "image/png": "[encoded data removed]",
      "text/plain": [
       "<Figure size 700x600 with 1 Axes>"
      ]
     },
     "metadata": {},
     "output_type": "display_data"
    }
   ],
   "source": [
    "import seaborn as sns\n",
    "import matplotlib.pyplot as plt\n",
    "import pandas as pd\n",
    "\n",
    "# Add disease names for better interpretation\n",
    "disease_labels = {v: k for k, v in label_mapping.items()}\n",
    "\n",
    "# Update the plot function to show disease names on the x-axis\n",
    "def plot_class_distribution(y_original, title, disease_labels):\n",
    "    y_original_series = pd.Series(y_original)\n",
    "    \n",
    "    original_class_dist = y_original_series.value_counts().sort_index()\n",
    "    \n",
    "    # Plot the class distribution\n",
    "    plt.figure(figsize=(7, 6))\n",
    "    sns.barplot(x=original_class_dist.index, y=original_class_dist.values)\n",
    "    plt.title(f'Class Distribution of Training Data\\n{title}')\n",
    "    plt.xlabel('Class (Disease)')\n",
    "    plt.ylabel('Number of Samples')\n",
    "    plt.xticks(ticks=original_class_dist.index, labels=[disease_labels.get(i, i) for i in original_class_dist.index], rotation=45)\n",
    "    plt.tight_layout()\n",
    "    plt.show()\n",
    "\n",
    "# Call the updated function to plot the class distribution of the original training data\n",
    "plot_class_distribution(y_train, 'Skin Cancer Dataset', disease_labels)\n"
   ]
  },
  {
   "cell_type": "code",
   "execution_count": 6,
   "id": "0df351ee",
   "metadata": {
    "execution": {
     "iopub.execute_input": "2025-03-07T16:52:10.424806Z",
     "iopub.status.busy": "2025-03-07T16:52:10.424190Z",
     "iopub.status.idle": "2025-03-07T16:52:10.480835Z",
     "shell.execute_reply": "2025-03-07T16:52:10.479914Z"
    },
    "papermill": {
     "duration": 0.062336,
     "end_time": "2025-03-07T16:52:10.482307",
     "exception": false,
     "start_time": "2025-03-07T16:52:10.419971",
     "status": "completed"
    },
    "tags": []
   },
   "outputs": [
    {
     "name": "stdout",
     "output_type": "stream",
     "text": [
      "Random Image from Training Data:\n"
     ]
    },
    {
     "data": {
      "image/png": "[encoded data removed]",
      "text/plain": [
       "<Figure size 28x28 with 1 Axes>"
      ]
     },
     "metadata": {},
     "output_type": "display_data"
    }
   ],
   "source": [
    "import random\n",
    "import matplotlib.pyplot as plt\n",
    "from tensorflow.keras.preprocessing import image\n",
    "\n",
    "# Function to display a random image from the dataset\n",
    "def display_random_image(X, y, labels, img_size=28):\n",
    "    # Pick a random index\n",
    "    random_index = random.randint(0, len(X) - 1)\n",
    "    \n",
    "    # Get the image and its corresponding label\n",
    "    random_img = X[random_index]\n",
    "    random_label = y[random_index]\n",
    "    \n",
    "    # Convert image array back to displayable format (no resizing)\n",
    "    random_img_display = image.array_to_img(random_img)\n",
    "    \n",
    "    # Get the actual image dimensions\n",
    "    img_height, img_width, _ = random_img.shape\n",
    "    \n",
    "    # Set the figure size based on the actual image size (in inches)\n",
    "    # Convert pixels to inches (assuming 100 dpi by default)\n",
    "    figsize = (img_width / 100, img_height / 100)\n",
    "    \n",
    "    # Create a new figure with the specified size\n",
    "    plt.figure(figsize=figsize)\n",
    "    plt.imshow(random_img_display)\n",
    "    plt.title(f\"Class: {labels[random_label]}\")\n",
    "    plt.axis('off')  # Hide axes for better clarity\n",
    "    plt.show()\n",
    "\n",
    "# Display a random image from the original dataset\n",
    "def visualize_random_image(X_train, y_train, labels_reverse, img_size=28):\n",
    "    print(\"Random Image from Training Data:\")\n",
    "    display_random_image(X_train, y_train, labels_reverse, img_size)\n",
    "\n",
    "# Convert label back to its original class name using the 'label_mapping'\n",
    "labels_reverse = {v: k for k, v in label_mapping.items()}  # Reverse the label mapping\n",
    "\n",
    "# Visualize a random image from the original training data at actual size\n",
    "visualize_random_image(X_train, y_train, labels_reverse, img_size=28)\n"
   ]
  },
  {
   "cell_type": "code",
   "execution_count": 7,
   "id": "b315e42b",
   "metadata": {
    "execution": {
     "iopub.execute_input": "2025-03-07T16:52:10.491099Z",
     "iopub.status.busy": "2025-03-07T16:52:10.490811Z",
     "iopub.status.idle": "2025-03-07T16:52:11.532082Z",
     "shell.execute_reply": "2025-03-07T16:52:11.531319Z"
    },
    "papermill": {
     "duration": 1.047139,
     "end_time": "2025-03-07T16:52:11.533324",
     "exception": false,
     "start_time": "2025-03-07T16:52:10.486185",
     "status": "completed"
    },
    "tags": []
   },
   "outputs": [
    {
     "data": {
      "text/html": [
       "<pre style=\"white-space:pre;overflow-x:auto;line-height:normal;font-family:Menlo,'DejaVu Sans Mono',consolas,'Courier New',monospace\"><span style=\"font-weight: bold\">Model: \"functional_2\"</span>\n",
       "</pre>\n"
      ],
      "text/plain": [
       "\u001b[1mModel: \"functional_2\"\u001b[0m\n"
      ]
     },
     "metadata": {},
     "output_type": "display_data"
    },
    {
     "data": {
      "text/html": [
       "<pre style=\"white-space:pre;overflow-x:auto;line-height:normal;font-family:Menlo,'DejaVu Sans Mono',consolas,'Courier New',monospace\">┏━━━━━━━━━━━━━━━━━━━━━━━━━━━━━━━━━━━━━━┳━━━━━━━━━━━━━━━━━━━━━━━━━━━━━┳━━━━━━━━━━━━━━━━━┓\n",
       "┃<span style=\"font-weight: bold\"> Layer (type)                         </span>┃<span style=\"font-weight: bold\"> Output Shape                </span>┃<span style=\"font-weight: bold\">         Param # </span>┃\n",
       "┡━━━━━━━━━━━━━━━━━━━━━━━━━━━━━━━━━━━━━━╇━━━━━━━━━━━━━━━━━━━━━━━━━━━━━╇━━━━━━━━━━━━━━━━━┩\n",
       "│ input_layer_2 (<span style=\"color: #0087ff; text-decoration-color: #0087ff\">InputLayer</span>)           │ (<span style=\"color: #00d7ff; text-decoration-color: #00d7ff\">None</span>, <span style=\"color: #00af00; text-decoration-color: #00af00\">28</span>, <span style=\"color: #00af00; text-decoration-color: #00af00\">28</span>, <span style=\"color: #00af00; text-decoration-color: #00af00\">3</span>)           │               <span style=\"color: #00af00; text-decoration-color: #00af00\">0</span> │\n",
       "├──────────────────────────────────────┼─────────────────────────────┼─────────────────┤\n",
       "│ sequential (<span style=\"color: #0087ff; text-decoration-color: #0087ff\">Sequential</span>)              │ (<span style=\"color: #00d7ff; text-decoration-color: #00d7ff\">None</span>, <span style=\"color: #00af00; text-decoration-color: #00af00\">128</span>)                 │         <span style=\"color: #00af00; text-decoration-color: #00af00\">201,803</span> │\n",
       "├──────────────────────────────────────┼─────────────────────────────┼─────────────────┤\n",
       "│ sequential_1 (<span style=\"color: #0087ff; text-decoration-color: #0087ff\">Sequential</span>)            │ (<span style=\"color: #00d7ff; text-decoration-color: #00d7ff\">None</span>, <span style=\"color: #00af00; text-decoration-color: #00af00\">28</span>, <span style=\"color: #00af00; text-decoration-color: #00af00\">28</span>, <span style=\"color: #00af00; text-decoration-color: #00af00\">3</span>)           │         <span style=\"color: #00af00; text-decoration-color: #00af00\">216,707</span> │\n",
       "└──────────────────────────────────────┴─────────────────────────────┴─────────────────┘\n",
       "</pre>\n"
      ],
      "text/plain": [
       "┏━━━━━━━━━━━━━━━━━━━━━━━━━━━━━━━━━━━━━━┳━━━━━━━━━━━━━━━━━━━━━━━━━━━━━┳━━━━━━━━━━━━━━━━━┓\n",
       "┃\u001b[1m \u001b[0m\u001b[1mLayer (type)                        \u001b[0m\u001b[1m \u001b[0m┃\u001b[1m \u001b[0m\u001b[1mOutput Shape               \u001b[0m\u001b[1m \u001b[0m┃\u001b[1m \u001b[0m\u001b[1m        Param #\u001b[0m\u001b[1m \u001b[0m┃\n",
       "┡━━━━━━━━━━━━━━━━━━━━━━━━━━━━━━━━━━━━━━╇━━━━━━━━━━━━━━━━━━━━━━━━━━━━━╇━━━━━━━━━━━━━━━━━┩\n",
       "│ input_layer_2 (\u001b[38;5;33mInputLayer\u001b[0m)           │ (\u001b[38;5;45mNone\u001b[0m, \u001b[38;5;34m28\u001b[0m, \u001b[38;5;34m28\u001b[0m, \u001b[38;5;34m3\u001b[0m)           │               \u001b[38;5;34m0\u001b[0m │\n",
       "├──────────────────────────────────────┼─────────────────────────────┼─────────────────┤\n",
       "│ sequential (\u001b[38;5;33mSequential\u001b[0m)              │ (\u001b[38;5;45mNone\u001b[0m, \u001b[38;5;34m128\u001b[0m)                 │         \u001b[38;5;34m201,803\u001b[0m │\n",
       "├──────────────────────────────────────┼─────────────────────────────┼─────────────────┤\n",
       "│ sequential_1 (\u001b[38;5;33mSequential\u001b[0m)            │ (\u001b[38;5;45mNone\u001b[0m, \u001b[38;5;34m28\u001b[0m, \u001b[38;5;34m28\u001b[0m, \u001b[38;5;34m3\u001b[0m)           │         \u001b[38;5;34m216,707\u001b[0m │\n",
       "└──────────────────────────────────────┴─────────────────────────────┴─────────────────┘\n"
      ]
     },
     "metadata": {},
     "output_type": "display_data"
    },
    {
     "data": {
      "text/html": [
       "<pre style=\"white-space:pre;overflow-x:auto;line-height:normal;font-family:Menlo,'DejaVu Sans Mono',consolas,'Courier New',monospace\"><span style=\"font-weight: bold\"> Total params: </span><span style=\"color: #00af00; text-decoration-color: #00af00\">418,510</span> (1.60 MB)\n",
       "</pre>\n"
      ],
      "text/plain": [
       "\u001b[1m Total params: \u001b[0m\u001b[38;5;34m418,510\u001b[0m (1.60 MB)\n"
      ]
     },
     "metadata": {},
     "output_type": "display_data"
    },
    {
     "data": {
      "text/html": [
       "<pre style=\"white-space:pre;overflow-x:auto;line-height:normal;font-family:Menlo,'DejaVu Sans Mono',consolas,'Courier New',monospace\"><span style=\"font-weight: bold\"> Trainable params: </span><span style=\"color: #00af00; text-decoration-color: #00af00\">418,350</span> (1.60 MB)\n",
       "</pre>\n"
      ],
      "text/plain": [
       "\u001b[1m Trainable params: \u001b[0m\u001b[38;5;34m418,350\u001b[0m (1.60 MB)\n"
      ]
     },
     "metadata": {},
     "output_type": "display_data"
    },
    {
     "data": {
      "text/html": [
       "<pre style=\"white-space:pre;overflow-x:auto;line-height:normal;font-family:Menlo,'DejaVu Sans Mono',consolas,'Courier New',monospace\"><span style=\"font-weight: bold\"> Non-trainable params: </span><span style=\"color: #00af00; text-decoration-color: #00af00\">160</span> (640.00 B)\n",
       "</pre>\n"
      ],
      "text/plain": [
       "\u001b[1m Non-trainable params: \u001b[0m\u001b[38;5;34m160\u001b[0m (640.00 B)\n"
      ]
     },
     "metadata": {},
     "output_type": "display_data"
    }
   ],
   "source": [
    "import tensorflow as tf\n",
    "from tensorflow.keras import layers, models\n",
    "\n",
    "latent_dim = 128  # Latent dimension (size of the compressed representation)\n",
    "\n",
    "# Encoder (Updated with reduced filters, depthwise separable convolutions, and batch normalization)\n",
    "encoder = tf.keras.Sequential([\n",
    "    layers.Input(shape=(28, 28, 3)),\n",
    "    layers.SeparableConv2D(16, kernel_size=3, strides=2, padding=\"same\", activation=\"relu\", depth_multiplier=1),  # (28, 28) -> (14, 14, 16)\n",
    "    layers.BatchNormalization(),\n",
    "    \n",
    "    layers.SeparableConv2D(32, kernel_size=3, strides=2, padding=\"same\", activation=\"relu\", depth_multiplier=1),  # (14, 14) -> (7, 7, 32)\n",
    "    layers.BatchNormalization(),\n",
    "    \n",
    "    layers.Flatten(),\n",
    "    layers.Dense(latent_dim)  # Latent representation (128)\n",
    "])\n",
    "\n",
    "# Decoder (Updated to output 28x28 with 'same' padding, using depthwise separable convolutions)\n",
    "decoder = tf.keras.Sequential([\n",
    "    layers.Input(shape=(latent_dim,)),\n",
    "    layers.Dense(7 * 7 * 32, activation=\"relu\"),  # Upscale to match the desired dimensions\n",
    "    layers.Reshape((7, 7, 32)),  # Shape after first dense layer\n",
    "    layers.BatchNormalization(),\n",
    "    \n",
    "    layers.Conv2DTranspose(32, kernel_size=3, strides=2, padding=\"same\", activation='relu'),  # (14, 14, 32)\n",
    "    layers.Conv2DTranspose(16, kernel_size=3, strides=2, padding=\"same\", activation='relu'),  # (28, 28, 16)\n",
    "    layers.Conv2DTranspose(3, kernel_size=3, strides=1, padding=\"same\", activation='sigmoid'),  # (28, 28, 3)\n",
    "])\n",
    "\n",
    "# Full autoencoder model\n",
    "autoencoder_input = layers.Input(shape=(28, 28, 3))  # Changed input shape to (28, 28, 3)\n",
    "latent_representation = encoder(autoencoder_input)\n",
    "reconstructed_image = decoder(latent_representation)\n",
    "\n",
    "autoencoder = models.Model(inputs=autoencoder_input, outputs=reconstructed_image)\n",
    "\n",
    "# Compile the autoencoder model\n",
    "autoencoder.compile(optimizer=tf.keras.optimizers.Adam(learning_rate=0.0001), loss='mse')\n",
    "\n",
    "# Print model summary to check the architecture\n",
    "autoencoder.summary()\n"
   ]
  },
  {
   "cell_type": "code",
   "execution_count": 8,
   "id": "13175b84",
   "metadata": {
    "execution": {
     "iopub.execute_input": "2025-03-07T16:52:11.543359Z",
     "iopub.status.busy": "2025-03-07T16:52:11.543039Z",
     "iopub.status.idle": "2025-03-07T16:52:11.732134Z",
     "shell.execute_reply": "2025-03-07T16:52:11.731264Z"
    },
    "papermill": {
     "duration": 0.195553,
     "end_time": "2025-03-07T16:52:11.733433",
     "exception": false,
     "start_time": "2025-03-07T16:52:11.537880",
     "status": "completed"
    },
    "tags": []
   },
   "outputs": [
    {
     "name": "stderr",
     "output_type": "stream",
     "text": [
      "/usr/local/lib/python3.10/dist-packages/keras/src/layers/convolutional/base_conv.py:107: UserWarning: Do not pass an `input_shape`/`input_dim` argument to a layer. When using Sequential models, prefer using an `Input(shape)` object as the first layer in the model instead.\n",
      "  super().__init__(activity_regularizer=activity_regularizer, **kwargs)\n"
     ]
    },
    {
     "data": {
      "text/html": [
       "<pre style=\"white-space:pre;overflow-x:auto;line-height:normal;font-family:Menlo,'DejaVu Sans Mono',consolas,'Courier New',monospace\"><span style=\"font-weight: bold\">Model: \"sequential_2\"</span>\n",
       "</pre>\n"
      ],
      "text/plain": [
       "\u001b[1mModel: \"sequential_2\"\u001b[0m\n"
      ]
     },
     "metadata": {},
     "output_type": "display_data"
    },
    {
     "data": {
      "text/html": [
       "<pre style=\"white-space:pre;overflow-x:auto;line-height:normal;font-family:Menlo,'DejaVu Sans Mono',consolas,'Courier New',monospace\">┏━━━━━━━━━━━━━━━━━━━━━━━━━━━━━━━━━━━━━━┳━━━━━━━━━━━━━━━━━━━━━━━━━━━━━┳━━━━━━━━━━━━━━━━━┓\n",
       "┃<span style=\"font-weight: bold\"> Layer (type)                         </span>┃<span style=\"font-weight: bold\"> Output Shape                </span>┃<span style=\"font-weight: bold\">         Param # </span>┃\n",
       "┡━━━━━━━━━━━━━━━━━━━━━━━━━━━━━━━━━━━━━━╇━━━━━━━━━━━━━━━━━━━━━━━━━━━━━╇━━━━━━━━━━━━━━━━━┩\n",
       "│ conv2d (<span style=\"color: #0087ff; text-decoration-color: #0087ff\">Conv2D</span>)                      │ (<span style=\"color: #00d7ff; text-decoration-color: #00d7ff\">None</span>, <span style=\"color: #00af00; text-decoration-color: #00af00\">28</span>, <span style=\"color: #00af00; text-decoration-color: #00af00\">28</span>, <span style=\"color: #00af00; text-decoration-color: #00af00\">16</span>)          │             <span style=\"color: #00af00; text-decoration-color: #00af00\">448</span> │\n",
       "├──────────────────────────────────────┼─────────────────────────────┼─────────────────┤\n",
       "│ batch_normalization_3                │ (<span style=\"color: #00d7ff; text-decoration-color: #00d7ff\">None</span>, <span style=\"color: #00af00; text-decoration-color: #00af00\">28</span>, <span style=\"color: #00af00; text-decoration-color: #00af00\">28</span>, <span style=\"color: #00af00; text-decoration-color: #00af00\">16</span>)          │              <span style=\"color: #00af00; text-decoration-color: #00af00\">64</span> │\n",
       "│ (<span style=\"color: #0087ff; text-decoration-color: #0087ff\">BatchNormalization</span>)                 │                             │                 │\n",
       "├──────────────────────────────────────┼─────────────────────────────┼─────────────────┤\n",
       "│ conv2d_1 (<span style=\"color: #0087ff; text-decoration-color: #0087ff\">Conv2D</span>)                    │ (<span style=\"color: #00d7ff; text-decoration-color: #00d7ff\">None</span>, <span style=\"color: #00af00; text-decoration-color: #00af00\">26</span>, <span style=\"color: #00af00; text-decoration-color: #00af00\">26</span>, <span style=\"color: #00af00; text-decoration-color: #00af00\">32</span>)          │           <span style=\"color: #00af00; text-decoration-color: #00af00\">4,640</span> │\n",
       "├──────────────────────────────────────┼─────────────────────────────┼─────────────────┤\n",
       "│ max_pooling2d (<span style=\"color: #0087ff; text-decoration-color: #0087ff\">MaxPooling2D</span>)         │ (<span style=\"color: #00d7ff; text-decoration-color: #00d7ff\">None</span>, <span style=\"color: #00af00; text-decoration-color: #00af00\">13</span>, <span style=\"color: #00af00; text-decoration-color: #00af00\">13</span>, <span style=\"color: #00af00; text-decoration-color: #00af00\">32</span>)          │               <span style=\"color: #00af00; text-decoration-color: #00af00\">0</span> │\n",
       "├──────────────────────────────────────┼─────────────────────────────┼─────────────────┤\n",
       "│ batch_normalization_4                │ (<span style=\"color: #00d7ff; text-decoration-color: #00d7ff\">None</span>, <span style=\"color: #00af00; text-decoration-color: #00af00\">13</span>, <span style=\"color: #00af00; text-decoration-color: #00af00\">13</span>, <span style=\"color: #00af00; text-decoration-color: #00af00\">32</span>)          │             <span style=\"color: #00af00; text-decoration-color: #00af00\">128</span> │\n",
       "│ (<span style=\"color: #0087ff; text-decoration-color: #0087ff\">BatchNormalization</span>)                 │                             │                 │\n",
       "├──────────────────────────────────────┼─────────────────────────────┼─────────────────┤\n",
       "│ conv2d_2 (<span style=\"color: #0087ff; text-decoration-color: #0087ff\">Conv2D</span>)                    │ (<span style=\"color: #00d7ff; text-decoration-color: #00d7ff\">None</span>, <span style=\"color: #00af00; text-decoration-color: #00af00\">13</span>, <span style=\"color: #00af00; text-decoration-color: #00af00\">13</span>, <span style=\"color: #00af00; text-decoration-color: #00af00\">32</span>)          │           <span style=\"color: #00af00; text-decoration-color: #00af00\">9,248</span> │\n",
       "├──────────────────────────────────────┼─────────────────────────────┼─────────────────┤\n",
       "│ conv2d_3 (<span style=\"color: #0087ff; text-decoration-color: #0087ff\">Conv2D</span>)                    │ (<span style=\"color: #00d7ff; text-decoration-color: #00d7ff\">None</span>, <span style=\"color: #00af00; text-decoration-color: #00af00\">11</span>, <span style=\"color: #00af00; text-decoration-color: #00af00\">11</span>, <span style=\"color: #00af00; text-decoration-color: #00af00\">64</span>)          │          <span style=\"color: #00af00; text-decoration-color: #00af00\">18,496</span> │\n",
       "├──────────────────────────────────────┼─────────────────────────────┼─────────────────┤\n",
       "│ max_pooling2d_1 (<span style=\"color: #0087ff; text-decoration-color: #0087ff\">MaxPooling2D</span>)       │ (<span style=\"color: #00d7ff; text-decoration-color: #00d7ff\">None</span>, <span style=\"color: #00af00; text-decoration-color: #00af00\">5</span>, <span style=\"color: #00af00; text-decoration-color: #00af00\">5</span>, <span style=\"color: #00af00; text-decoration-color: #00af00\">64</span>)            │               <span style=\"color: #00af00; text-decoration-color: #00af00\">0</span> │\n",
       "├──────────────────────────────────────┼─────────────────────────────┼─────────────────┤\n",
       "│ batch_normalization_5                │ (<span style=\"color: #00d7ff; text-decoration-color: #00d7ff\">None</span>, <span style=\"color: #00af00; text-decoration-color: #00af00\">5</span>, <span style=\"color: #00af00; text-decoration-color: #00af00\">5</span>, <span style=\"color: #00af00; text-decoration-color: #00af00\">64</span>)            │             <span style=\"color: #00af00; text-decoration-color: #00af00\">256</span> │\n",
       "│ (<span style=\"color: #0087ff; text-decoration-color: #0087ff\">BatchNormalization</span>)                 │                             │                 │\n",
       "├──────────────────────────────────────┼─────────────────────────────┼─────────────────┤\n",
       "│ flatten_1 (<span style=\"color: #0087ff; text-decoration-color: #0087ff\">Flatten</span>)                  │ (<span style=\"color: #00d7ff; text-decoration-color: #00d7ff\">None</span>, <span style=\"color: #00af00; text-decoration-color: #00af00\">1600</span>)                │               <span style=\"color: #00af00; text-decoration-color: #00af00\">0</span> │\n",
       "├──────────────────────────────────────┼─────────────────────────────┼─────────────────┤\n",
       "│ dense_2 (<span style=\"color: #0087ff; text-decoration-color: #0087ff\">Dense</span>)                      │ (<span style=\"color: #00d7ff; text-decoration-color: #00d7ff\">None</span>, <span style=\"color: #00af00; text-decoration-color: #00af00\">64</span>)                  │         <span style=\"color: #00af00; text-decoration-color: #00af00\">102,464</span> │\n",
       "├──────────────────────────────────────┼─────────────────────────────┼─────────────────┤\n",
       "│ dropout (<span style=\"color: #0087ff; text-decoration-color: #0087ff\">Dropout</span>)                    │ (<span style=\"color: #00d7ff; text-decoration-color: #00d7ff\">None</span>, <span style=\"color: #00af00; text-decoration-color: #00af00\">64</span>)                  │               <span style=\"color: #00af00; text-decoration-color: #00af00\">0</span> │\n",
       "├──────────────────────────────────────┼─────────────────────────────┼─────────────────┤\n",
       "│ dense_3 (<span style=\"color: #0087ff; text-decoration-color: #0087ff\">Dense</span>)                      │ (<span style=\"color: #00d7ff; text-decoration-color: #00d7ff\">None</span>, <span style=\"color: #00af00; text-decoration-color: #00af00\">32</span>)                  │           <span style=\"color: #00af00; text-decoration-color: #00af00\">2,080</span> │\n",
       "├──────────────────────────────────────┼─────────────────────────────┼─────────────────┤\n",
       "│ dropout_1 (<span style=\"color: #0087ff; text-decoration-color: #0087ff\">Dropout</span>)                  │ (<span style=\"color: #00d7ff; text-decoration-color: #00d7ff\">None</span>, <span style=\"color: #00af00; text-decoration-color: #00af00\">32</span>)                  │               <span style=\"color: #00af00; text-decoration-color: #00af00\">0</span> │\n",
       "├──────────────────────────────────────┼─────────────────────────────┼─────────────────┤\n",
       "│ dense_4 (<span style=\"color: #0087ff; text-decoration-color: #0087ff\">Dense</span>)                      │ (<span style=\"color: #00d7ff; text-decoration-color: #00d7ff\">None</span>, <span style=\"color: #00af00; text-decoration-color: #00af00\">7</span>)                   │             <span style=\"color: #00af00; text-decoration-color: #00af00\">231</span> │\n",
       "└──────────────────────────────────────┴─────────────────────────────┴─────────────────┘\n",
       "</pre>\n"
      ],
      "text/plain": [
       "┏━━━━━━━━━━━━━━━━━━━━━━━━━━━━━━━━━━━━━━┳━━━━━━━━━━━━━━━━━━━━━━━━━━━━━┳━━━━━━━━━━━━━━━━━┓\n",
       "┃\u001b[1m \u001b[0m\u001b[1mLayer (type)                        \u001b[0m\u001b[1m \u001b[0m┃\u001b[1m \u001b[0m\u001b[1mOutput Shape               \u001b[0m\u001b[1m \u001b[0m┃\u001b[1m \u001b[0m\u001b[1m        Param #\u001b[0m\u001b[1m \u001b[0m┃\n",
       "┡━━━━━━━━━━━━━━━━━━━━━━━━━━━━━━━━━━━━━━╇━━━━━━━━━━━━━━━━━━━━━━━━━━━━━╇━━━━━━━━━━━━━━━━━┩\n",
       "│ conv2d (\u001b[38;5;33mConv2D\u001b[0m)                      │ (\u001b[38;5;45mNone\u001b[0m, \u001b[38;5;34m28\u001b[0m, \u001b[38;5;34m28\u001b[0m, \u001b[38;5;34m16\u001b[0m)          │             \u001b[38;5;34m448\u001b[0m │\n",
       "├──────────────────────────────────────┼─────────────────────────────┼─────────────────┤\n",
       "│ batch_normalization_3                │ (\u001b[38;5;45mNone\u001b[0m, \u001b[38;5;34m28\u001b[0m, \u001b[38;5;34m28\u001b[0m, \u001b[38;5;34m16\u001b[0m)          │              \u001b[38;5;34m64\u001b[0m │\n",
       "│ (\u001b[38;5;33mBatchNormalization\u001b[0m)                 │                             │                 │\n",
       "├──────────────────────────────────────┼─────────────────────────────┼─────────────────┤\n",
       "│ conv2d_1 (\u001b[38;5;33mConv2D\u001b[0m)                    │ (\u001b[38;5;45mNone\u001b[0m, \u001b[38;5;34m26\u001b[0m, \u001b[38;5;34m26\u001b[0m, \u001b[38;5;34m32\u001b[0m)          │           \u001b[38;5;34m4,640\u001b[0m │\n",
       "├──────────────────────────────────────┼─────────────────────────────┼─────────────────┤\n",
       "│ max_pooling2d (\u001b[38;5;33mMaxPooling2D\u001b[0m)         │ (\u001b[38;5;45mNone\u001b[0m, \u001b[38;5;34m13\u001b[0m, \u001b[38;5;34m13\u001b[0m, \u001b[38;5;34m32\u001b[0m)          │               \u001b[38;5;34m0\u001b[0m │\n",
       "├──────────────────────────────────────┼─────────────────────────────┼─────────────────┤\n",
       "│ batch_normalization_4                │ (\u001b[38;5;45mNone\u001b[0m, \u001b[38;5;34m13\u001b[0m, \u001b[38;5;34m13\u001b[0m, \u001b[38;5;34m32\u001b[0m)          │             \u001b[38;5;34m128\u001b[0m │\n",
       "│ (\u001b[38;5;33mBatchNormalization\u001b[0m)                 │                             │                 │\n",
       "├──────────────────────────────────────┼─────────────────────────────┼─────────────────┤\n",
       "│ conv2d_2 (\u001b[38;5;33mConv2D\u001b[0m)                    │ (\u001b[38;5;45mNone\u001b[0m, \u001b[38;5;34m13\u001b[0m, \u001b[38;5;34m13\u001b[0m, \u001b[38;5;34m32\u001b[0m)          │           \u001b[38;5;34m9,248\u001b[0m │\n",
       "├──────────────────────────────────────┼─────────────────────────────┼─────────────────┤\n",
       "│ conv2d_3 (\u001b[38;5;33mConv2D\u001b[0m)                    │ (\u001b[38;5;45mNone\u001b[0m, \u001b[38;5;34m11\u001b[0m, \u001b[38;5;34m11\u001b[0m, \u001b[38;5;34m64\u001b[0m)          │          \u001b[38;5;34m18,496\u001b[0m │\n",
       "├──────────────────────────────────────┼─────────────────────────────┼─────────────────┤\n",
       "│ max_pooling2d_1 (\u001b[38;5;33mMaxPooling2D\u001b[0m)       │ (\u001b[38;5;45mNone\u001b[0m, \u001b[38;5;34m5\u001b[0m, \u001b[38;5;34m5\u001b[0m, \u001b[38;5;34m64\u001b[0m)            │               \u001b[38;5;34m0\u001b[0m │\n",
       "├──────────────────────────────────────┼─────────────────────────────┼─────────────────┤\n",
       "│ batch_normalization_5                │ (\u001b[38;5;45mNone\u001b[0m, \u001b[38;5;34m5\u001b[0m, \u001b[38;5;34m5\u001b[0m, \u001b[38;5;34m64\u001b[0m)            │             \u001b[38;5;34m256\u001b[0m │\n",
       "│ (\u001b[38;5;33mBatchNormalization\u001b[0m)                 │                             │                 │\n",
       "├──────────────────────────────────────┼─────────────────────────────┼─────────────────┤\n",
       "│ flatten_1 (\u001b[38;5;33mFlatten\u001b[0m)                  │ (\u001b[38;5;45mNone\u001b[0m, \u001b[38;5;34m1600\u001b[0m)                │               \u001b[38;5;34m0\u001b[0m │\n",
       "├──────────────────────────────────────┼─────────────────────────────┼─────────────────┤\n",
       "│ dense_2 (\u001b[38;5;33mDense\u001b[0m)                      │ (\u001b[38;5;45mNone\u001b[0m, \u001b[38;5;34m64\u001b[0m)                  │         \u001b[38;5;34m102,464\u001b[0m │\n",
       "├──────────────────────────────────────┼─────────────────────────────┼─────────────────┤\n",
       "│ dropout (\u001b[38;5;33mDropout\u001b[0m)                    │ (\u001b[38;5;45mNone\u001b[0m, \u001b[38;5;34m64\u001b[0m)                  │               \u001b[38;5;34m0\u001b[0m │\n",
       "├──────────────────────────────────────┼─────────────────────────────┼─────────────────┤\n",
       "│ dense_3 (\u001b[38;5;33mDense\u001b[0m)                      │ (\u001b[38;5;45mNone\u001b[0m, \u001b[38;5;34m32\u001b[0m)                  │           \u001b[38;5;34m2,080\u001b[0m │\n",
       "├──────────────────────────────────────┼─────────────────────────────┼─────────────────┤\n",
       "│ dropout_1 (\u001b[38;5;33mDropout\u001b[0m)                  │ (\u001b[38;5;45mNone\u001b[0m, \u001b[38;5;34m32\u001b[0m)                  │               \u001b[38;5;34m0\u001b[0m │\n",
       "├──────────────────────────────────────┼─────────────────────────────┼─────────────────┤\n",
       "│ dense_4 (\u001b[38;5;33mDense\u001b[0m)                      │ (\u001b[38;5;45mNone\u001b[0m, \u001b[38;5;34m7\u001b[0m)                   │             \u001b[38;5;34m231\u001b[0m │\n",
       "└──────────────────────────────────────┴─────────────────────────────┴─────────────────┘\n"
      ]
     },
     "metadata": {},
     "output_type": "display_data"
    },
    {
     "data": {
      "text/html": [
       "<pre style=\"white-space:pre;overflow-x:auto;line-height:normal;font-family:Menlo,'DejaVu Sans Mono',consolas,'Courier New',monospace\"><span style=\"font-weight: bold\"> Total params: </span><span style=\"color: #00af00; text-decoration-color: #00af00\">138,055</span> (539.28 KB)\n",
       "</pre>\n"
      ],
      "text/plain": [
       "\u001b[1m Total params: \u001b[0m\u001b[38;5;34m138,055\u001b[0m (539.28 KB)\n"
      ]
     },
     "metadata": {},
     "output_type": "display_data"
    },
    {
     "data": {
      "text/html": [
       "<pre style=\"white-space:pre;overflow-x:auto;line-height:normal;font-family:Menlo,'DejaVu Sans Mono',consolas,'Courier New',monospace\"><span style=\"font-weight: bold\"> Trainable params: </span><span style=\"color: #00af00; text-decoration-color: #00af00\">137,831</span> (538.40 KB)\n",
       "</pre>\n"
      ],
      "text/plain": [
       "\u001b[1m Trainable params: \u001b[0m\u001b[38;5;34m137,831\u001b[0m (538.40 KB)\n"
      ]
     },
     "metadata": {},
     "output_type": "display_data"
    },
    {
     "data": {
      "text/html": [
       "<pre style=\"white-space:pre;overflow-x:auto;line-height:normal;font-family:Menlo,'DejaVu Sans Mono',consolas,'Courier New',monospace\"><span style=\"font-weight: bold\"> Non-trainable params: </span><span style=\"color: #00af00; text-decoration-color: #00af00\">224</span> (896.00 B)\n",
       "</pre>\n"
      ],
      "text/plain": [
       "\u001b[1m Non-trainable params: \u001b[0m\u001b[38;5;34m224\u001b[0m (896.00 B)\n"
      ]
     },
     "metadata": {},
     "output_type": "display_data"
    }
   ],
   "source": [
    "import tensorflow as tf\n",
    "from tensorflow.keras import layers, models\n",
    "\n",
    "def create_discriminator(input_shape=(28, 28, 3), num_classes=7):\n",
    "    model = models.Sequential()\n",
    "\n",
    "    # First convolutional layer with 16 filters and 'same' padding\n",
    "    model.add(layers.Conv2D(16, kernel_size=(3, 3), input_shape=input_shape, activation='relu', padding='same'))\n",
    "    model.add(layers.BatchNormalization())\n",
    "    \n",
    "    # Second convolutional layer with 32 filters and 'valid' padding (matches provided output)\n",
    "    model.add(layers.Conv2D(32, kernel_size=(3, 3), activation='relu', padding='valid'))  # (28, 28) -> (26, 26)\n",
    "    model.add(layers.MaxPooling2D(pool_size=(2, 2)))  # (26, 26) -> (13, 13)\n",
    "    model.add(layers.BatchNormalization())\n",
    "    \n",
    "    # Third convolutional layer with 32 filters and 'same' padding\n",
    "    model.add(layers.Conv2D(32, kernel_size=(3, 3), activation='relu', padding='same'))  # (13, 13) -> (13, 13)\n",
    "\n",
    "    # Fourth convolutional layer with 64 filters and 'valid' padding\n",
    "    model.add(layers.Conv2D(64, kernel_size=(3, 3), activation='relu', padding='valid'))  # (13, 13) -> (11, 11)\n",
    "    model.add(layers.MaxPooling2D(pool_size=(2, 2)))  # (11, 11) -> (6, 6)\n",
    "    model.add(layers.BatchNormalization())\n",
    "    \n",
    "    # Flatten the feature maps\n",
    "    model.add(layers.Flatten())  # (6, 6, 64) -> 2304\n",
    "\n",
    "    # Dense layer (fully connected) with 64 units\n",
    "    model.add(layers.Dense(64, activation='relu'))\n",
    "    model.add(layers.Dropout(0.5))  # Dropout for regularization\n",
    "    \n",
    "    # Fully connected (dense) layer with 32 units\n",
    "    model.add(layers.Dense(32, activation='relu'))\n",
    "    model.add(layers.Dropout(0.5))  # Dropout for regularization\n",
    "\n",
    "    # Output layer with Softmax activation for multi-class classification\n",
    "    model.add(layers.Dense(num_classes, activation='softmax'))  # Output 7 classes\n",
    "    \n",
    "    # Compile the model\n",
    "    model.compile(optimizer=tf.keras.optimizers.Adam(learning_rate=0.0001), loss='categorical_crossentropy', metrics=['accuracy'])\n",
    "    \n",
    "    return model\n",
    "\n",
    "# Create the discriminator model\n",
    "num_classes = 7  # Number of classes in the dataset (e.g., 7 for HAM10000 dataset)\n",
    "discriminator = create_discriminator(input_shape=(28, 28, 3), num_classes=num_classes)\n",
    "\n",
    "# Display the model summary\n",
    "discriminator.summary()\n"
   ]
  },
  {
   "cell_type": "code",
   "execution_count": 9,
   "id": "4e4d787f",
   "metadata": {
    "execution": {
     "iopub.execute_input": "2025-03-07T16:52:11.745009Z",
     "iopub.status.busy": "2025-03-07T16:52:11.744696Z",
     "iopub.status.idle": "2025-03-07T23:06:56.817317Z",
     "shell.execute_reply": "2025-03-07T23:06:56.816349Z"
    },
    "papermill": {
     "duration": 22488.527806,
     "end_time": "2025-03-07T23:07:00.266460",
     "exception": false,
     "start_time": "2025-03-07T16:52:11.738654",
     "status": "completed"
    },
    "tags": []
   },
   "outputs": [
    {
     "name": "stderr",
     "output_type": "stream",
     "text": [
      "100%|██████████| 351/351 [01:44<00:00,  3.35it/s]\n"
     ]
    },
    {
     "name": "stdout",
     "output_type": "stream",
     "text": [
      "Epoch 0, Autoencoder Loss: 0.028456781059503555, Discriminator Loss: 1.2046464681625366, Discriminator Accuracy: 0.6673789024353027\n",
      "Validation - Autoencoder Loss: 0.019949957728385925, Discriminator Loss: 1.1100577116012573, Discriminator Accuracy: 0.6643211841583252\n"
     ]
    },
    {
     "name": "stderr",
     "output_type": "stream",
     "text": [
      "100%|██████████| 351/351 [01:42<00:00,  3.43it/s]\n"
     ]
    },
    {
     "name": "stdout",
     "output_type": "stream",
     "text": [
      "Epoch 1, Autoencoder Loss: 0.01861427165567875, Discriminator Loss: 1.0884311199188232, Discriminator Accuracy: 0.6716524362564087\n",
      "Validation - Autoencoder Loss: 0.016945434734225273, Discriminator Loss: 1.0787533521652222, Discriminator Accuracy: 0.6643211841583252\n"
     ]
    },
    {
     "name": "stderr",
     "output_type": "stream",
     "text": [
      "100%|██████████| 351/351 [01:42<00:00,  3.43it/s]\n"
     ]
    },
    {
     "name": "stdout",
     "output_type": "stream",
     "text": [
      "Epoch 2, Autoencoder Loss: 0.013918197713792324, Discriminator Loss: 1.0614837408065796, Discriminator Accuracy: 0.6720085740089417\n",
      "Validation - Autoencoder Loss: 0.010808922350406647, Discriminator Loss: 1.039608359336853, Discriminator Accuracy: 0.6643211841583252\n"
     ]
    },
    {
     "name": "stderr",
     "output_type": "stream",
     "text": [
      "100%|██████████| 351/351 [01:42<00:00,  3.43it/s]\n"
     ]
    },
    {
     "name": "stdout",
     "output_type": "stream",
     "text": [
      "Epoch 3, Autoencoder Loss: 0.008949965238571167, Discriminator Loss: 1.0048383474349976, Discriminator Accuracy: 0.6723646521568298\n",
      "Validation - Autoencoder Loss: 0.007481853011995554, Discriminator Loss: 0.9983541965484619, Discriminator Accuracy: 0.6643211841583252\n"
     ]
    },
    {
     "name": "stderr",
     "output_type": "stream",
     "text": [
      "100%|██████████| 351/351 [01:42<00:00,  3.42it/s]\n"
     ]
    },
    {
     "name": "stdout",
     "output_type": "stream",
     "text": [
      "Epoch 4, Autoencoder Loss: 0.0064302715472877026, Discriminator Loss: 0.9617041945457458, Discriminator Accuracy: 0.6723646521568298\n",
      "Validation - Autoencoder Loss: 0.0058843339793384075, Discriminator Loss: 0.9532523155212402, Discriminator Accuracy: 0.6643211841583252\n"
     ]
    },
    {
     "name": "stderr",
     "output_type": "stream",
     "text": [
      "100%|██████████| 351/351 [01:41<00:00,  3.44it/s]\n"
     ]
    },
    {
     "name": "stdout",
     "output_type": "stream",
     "text": [
      "Epoch 5, Autoencoder Loss: 0.00535595091059804, Discriminator Loss: 0.9330011606216431, Discriminator Accuracy: 0.6730769276618958\n",
      "Validation - Autoencoder Loss: 0.005146798677742481, Discriminator Loss: 0.9195024967193604, Discriminator Accuracy: 0.6721854209899902\n"
     ]
    },
    {
     "name": "stderr",
     "output_type": "stream",
     "text": [
      "100%|██████████| 351/351 [01:39<00:00,  3.53it/s]\n"
     ]
    },
    {
     "name": "stdout",
     "output_type": "stream",
     "text": [
      "Epoch 6, Autoencoder Loss: 0.004835585132241249, Discriminator Loss: 0.913168728351593, Discriminator Accuracy: 0.6752136945724487\n",
      "Validation - Autoencoder Loss: 0.004751214757561684, Discriminator Loss: 0.92018723487854, Discriminator Accuracy: 0.6672185659408569\n"
     ]
    },
    {
     "name": "stderr",
     "output_type": "stream",
     "text": [
      "100%|██████████| 351/351 [01:39<00:00,  3.53it/s]\n"
     ]
    },
    {
     "name": "stdout",
     "output_type": "stream",
     "text": [
      "Epoch 7, Autoencoder Loss: 0.00453374907374382, Discriminator Loss: 0.902113676071167, Discriminator Accuracy: 0.6780626773834229\n",
      "Validation - Autoencoder Loss: 0.004489628132432699, Discriminator Loss: 0.927457869052887, Discriminator Accuracy: 0.6709437370300293\n"
     ]
    },
    {
     "name": "stderr",
     "output_type": "stream",
     "text": [
      "100%|██████████| 351/351 [01:39<00:00,  3.53it/s]\n"
     ]
    },
    {
     "name": "stdout",
     "output_type": "stream",
     "text": [
      "Epoch 8, Autoencoder Loss: 0.0043121217750012875, Discriminator Loss: 0.8939695954322815, Discriminator Accuracy: 0.6805555820465088\n",
      "Validation - Autoencoder Loss: 0.0043061175383627415, Discriminator Loss: 0.8905165791511536, Discriminator Accuracy: 0.6754966974258423\n"
     ]
    },
    {
     "name": "stderr",
     "output_type": "stream",
     "text": [
      "100%|██████████| 351/351 [01:39<00:00,  3.53it/s]\n"
     ]
    },
    {
     "name": "stdout",
     "output_type": "stream",
     "text": [
      "Epoch 9, Autoencoder Loss: 0.004119324032217264, Discriminator Loss: 0.8786182999610901, Discriminator Accuracy: 0.683582603931427\n",
      "Validation - Autoencoder Loss: 0.004122792277485132, Discriminator Loss: 0.8854649066925049, Discriminator Accuracy: 0.6775662302970886\n"
     ]
    },
    {
     "name": "stderr",
     "output_type": "stream",
     "text": [
      "100%|██████████| 351/351 [01:39<00:00,  3.54it/s]\n"
     ]
    },
    {
     "name": "stdout",
     "output_type": "stream",
     "text": [
      "Epoch 10, Autoencoder Loss: 0.003945011179894209, Discriminator Loss: 0.8648714423179626, Discriminator Accuracy: 0.687143862247467\n",
      "Validation - Autoencoder Loss: 0.003975239582359791, Discriminator Loss: 0.8770778179168701, Discriminator Accuracy: 0.6746688485145569\n"
     ]
    },
    {
     "name": "stderr",
     "output_type": "stream",
     "text": [
      "100%|██████████| 351/351 [01:39<00:00,  3.52it/s]\n"
     ]
    },
    {
     "name": "stdout",
     "output_type": "stream",
     "text": [
      "Epoch 11, Autoencoder Loss: 0.0037773249205201864, Discriminator Loss: 0.858206570148468, Discriminator Accuracy: 0.6837607026100159\n",
      "Validation - Autoencoder Loss: 0.003816156880930066, Discriminator Loss: 0.9107690453529358, Discriminator Accuracy: 0.6754966974258423\n"
     ]
    },
    {
     "name": "stderr",
     "output_type": "stream",
     "text": [
      "100%|██████████| 351/351 [01:39<00:00,  3.51it/s]\n"
     ]
    },
    {
     "name": "stdout",
     "output_type": "stream",
     "text": [
      "Epoch 12, Autoencoder Loss: 0.0036330081056803465, Discriminator Loss: 0.8452591896057129, Discriminator Accuracy: 0.6921296119689941\n",
      "Validation - Autoencoder Loss: 0.003669897560030222, Discriminator Loss: 0.8518179655075073, Discriminator Accuracy: 0.690397322177887\n"
     ]
    },
    {
     "name": "stderr",
     "output_type": "stream",
     "text": [
      "100%|██████████| 351/351 [01:39<00:00,  3.52it/s]\n"
     ]
    },
    {
     "name": "stdout",
     "output_type": "stream",
     "text": [
      "Epoch 13, Autoencoder Loss: 0.0035032625310122967, Discriminator Loss: 0.835567831993103, Discriminator Accuracy: 0.6962250471115112\n",
      "Validation - Autoencoder Loss: 0.003577935742214322, Discriminator Loss: 0.8667252659797668, Discriminator Accuracy: 0.690397322177887\n"
     ]
    },
    {
     "name": "stderr",
     "output_type": "stream",
     "text": [
      "100%|██████████| 351/351 [01:39<00:00,  3.54it/s]\n"
     ]
    },
    {
     "name": "stdout",
     "output_type": "stream",
     "text": [
      "Epoch 14, Autoencoder Loss: 0.003401379333809018, Discriminator Loss: 0.825046956539154, Discriminator Accuracy: 0.7006766200065613\n",
      "Validation - Autoencoder Loss: 0.00345799932256341, Discriminator Loss: 0.8340466022491455, Discriminator Accuracy: 0.6895695328712463\n"
     ]
    },
    {
     "name": "stderr",
     "output_type": "stream",
     "text": [
      "100%|██████████| 351/351 [01:39<00:00,  3.53it/s]\n"
     ]
    },
    {
     "name": "stdout",
     "output_type": "stream",
     "text": [
      "Epoch 15, Autoencoder Loss: 0.003319808281958103, Discriminator Loss: 0.8258726000785828, Discriminator Accuracy: 0.6972934603691101\n",
      "Validation - Autoencoder Loss: 0.003399844281375408, Discriminator Loss: 0.8689390420913696, Discriminator Accuracy: 0.692052960395813\n"
     ]
    },
    {
     "name": "stderr",
     "output_type": "stream",
     "text": [
      "100%|██████████| 351/351 [01:39<00:00,  3.54it/s]\n"
     ]
    },
    {
     "name": "stdout",
     "output_type": "stream",
     "text": [
      "Epoch 16, Autoencoder Loss: 0.003252447582781315, Discriminator Loss: 0.8171244263648987, Discriminator Accuracy: 0.7045940160751343\n",
      "Validation - Autoencoder Loss: 0.0033429742325097322, Discriminator Loss: 0.8237696886062622, Discriminator Accuracy: 0.6974337697029114\n"
     ]
    },
    {
     "name": "stderr",
     "output_type": "stream",
     "text": [
      "100%|██████████| 351/351 [01:39<00:00,  3.54it/s]\n"
     ]
    },
    {
     "name": "stdout",
     "output_type": "stream",
     "text": [
      "Epoch 17, Autoencoder Loss: 0.0031882093753665686, Discriminator Loss: 0.8113222718238831, Discriminator Accuracy: 0.7044159770011902\n",
      "Validation - Autoencoder Loss: 0.003263286082074046, Discriminator Loss: 0.855609118938446, Discriminator Accuracy: 0.6945364475250244\n"
     ]
    },
    {
     "name": "stderr",
     "output_type": "stream",
     "text": [
      "100%|██████████| 351/351 [01:39<00:00,  3.53it/s]\n"
     ]
    },
    {
     "name": "stdout",
     "output_type": "stream",
     "text": [
      "Epoch 18, Autoencoder Loss: 0.003131183097139001, Discriminator Loss: 0.8065025806427002, Discriminator Accuracy: 0.7037037014961243\n",
      "Validation - Autoencoder Loss: 0.003215222619473934, Discriminator Loss: 0.8402602672576904, Discriminator Accuracy: 0.693708598613739\n"
     ]
    },
    {
     "name": "stderr",
     "output_type": "stream",
     "text": [
      "100%|██████████| 351/351 [01:39<00:00,  3.52it/s]\n"
     ]
    },
    {
     "name": "stdout",
     "output_type": "stream",
     "text": [
      "Epoch 19, Autoencoder Loss: 0.003079360816627741, Discriminator Loss: 0.8017873764038086, Discriminator Accuracy: 0.7074429988861084\n",
      "Validation - Autoencoder Loss: 0.0031730711925774813, Discriminator Loss: 0.8352364301681519, Discriminator Accuracy: 0.6957781314849854\n"
     ]
    },
    {
     "name": "stderr",
     "output_type": "stream",
     "text": [
      "100%|██████████| 351/351 [01:39<00:00,  3.54it/s]\n"
     ]
    },
    {
     "name": "stdout",
     "output_type": "stream",
     "text": [
      "Epoch 20, Autoencoder Loss: 0.003030450316146016, Discriminator Loss: 0.7947448492050171, Discriminator Accuracy: 0.7058404684066772\n",
      "Validation - Autoencoder Loss: 0.0031237471848726273, Discriminator Loss: 0.8249003291130066, Discriminator Accuracy: 0.6957781314849854\n"
     ]
    },
    {
     "name": "stderr",
     "output_type": "stream",
     "text": [
      "100%|██████████| 351/351 [01:38<00:00,  3.55it/s]\n"
     ]
    },
    {
     "name": "stdout",
     "output_type": "stream",
     "text": [
      "Epoch 21, Autoencoder Loss: 0.002981837373226881, Discriminator Loss: 0.791934609413147, Discriminator Accuracy: 0.7126068472862244\n",
      "Validation - Autoencoder Loss: 0.0030803242698311806, Discriminator Loss: 0.8200573325157166, Discriminator Accuracy: 0.6995033025741577\n"
     ]
    },
    {
     "name": "stderr",
     "output_type": "stream",
     "text": [
      "100%|██████████| 351/351 [01:39<00:00,  3.54it/s]\n"
     ]
    },
    {
     "name": "stdout",
     "output_type": "stream",
     "text": [
      "Epoch 22, Autoencoder Loss: 0.0029338798485696316, Discriminator Loss: 0.7894456386566162, Discriminator Accuracy: 0.7088675498962402\n",
      "Validation - Autoencoder Loss: 0.003034151392057538, Discriminator Loss: 0.820105791091919, Discriminator Accuracy: 0.6961920261383057\n"
     ]
    },
    {
     "name": "stderr",
     "output_type": "stream",
     "text": [
      "100%|██████████| 351/351 [01:38<00:00,  3.55it/s]\n"
     ]
    },
    {
     "name": "stdout",
     "output_type": "stream",
     "text": [
      "Epoch 23, Autoencoder Loss: 0.0028941333293914795, Discriminator Loss: 0.7815122008323669, Discriminator Accuracy: 0.7138532996177673\n",
      "Validation - Autoencoder Loss: 0.0029857880435884, Discriminator Loss: 0.8143939971923828, Discriminator Accuracy: 0.6986755132675171\n"
     ]
    },
    {
     "name": "stderr",
     "output_type": "stream",
     "text": [
      "100%|██████████| 351/351 [01:38<00:00,  3.56it/s]\n"
     ]
    },
    {
     "name": "stdout",
     "output_type": "stream",
     "text": [
      "Epoch 24, Autoencoder Loss: 0.0028502342756837606, Discriminator Loss: 0.7776737809181213, Discriminator Accuracy: 0.7104700803756714\n",
      "Validation - Autoencoder Loss: 0.002954823663458228, Discriminator Loss: 0.8083856105804443, Discriminator Accuracy: 0.6995033025741577\n"
     ]
    },
    {
     "name": "stderr",
     "output_type": "stream",
     "text": [
      "100%|██████████| 351/351 [01:38<00:00,  3.55it/s]\n"
     ]
    },
    {
     "name": "stdout",
     "output_type": "stream",
     "text": [
      "Epoch 25, Autoencoder Loss: 0.002810409525409341, Discriminator Loss: 0.771702229976654, Discriminator Accuracy: 0.7131410241127014\n",
      "Validation - Autoencoder Loss: 0.0029116973746567965, Discriminator Loss: 0.8115613460540771, Discriminator Accuracy: 0.7048841118812561\n"
     ]
    },
    {
     "name": "stderr",
     "output_type": "stream",
     "text": [
      "100%|██████████| 351/351 [01:38<00:00,  3.56it/s]\n"
     ]
    },
    {
     "name": "stdout",
     "output_type": "stream",
     "text": [
      "Epoch 26, Autoencoder Loss: 0.0027686378452926874, Discriminator Loss: 0.7700344920158386, Discriminator Accuracy: 0.7167022824287415\n",
      "Validation - Autoencoder Loss: 0.0028665123973041773, Discriminator Loss: 0.8213141560554504, Discriminator Accuracy: 0.7077814340591431\n"
     ]
    },
    {
     "name": "stderr",
     "output_type": "stream",
     "text": [
      "100%|██████████| 351/351 [01:38<00:00,  3.56it/s]\n"
     ]
    },
    {
     "name": "stdout",
     "output_type": "stream",
     "text": [
      "Epoch 27, Autoencoder Loss: 0.0027287141419947147, Discriminator Loss: 0.7638620138168335, Discriminator Accuracy: 0.7150996923446655\n",
      "Validation - Autoencoder Loss: 0.002834902610629797, Discriminator Loss: 0.8082681894302368, Discriminator Accuracy: 0.6986755132675171\n"
     ]
    },
    {
     "name": "stderr",
     "output_type": "stream",
     "text": [
      "100%|██████████| 351/351 [01:38<00:00,  3.55it/s]\n"
     ]
    },
    {
     "name": "stdout",
     "output_type": "stream",
     "text": [
      "Epoch 28, Autoencoder Loss: 0.00269751506857574, Discriminator Loss: 0.758988618850708, Discriminator Accuracy: 0.7199074029922485\n",
      "Validation - Autoencoder Loss: 0.0028030825778841972, Discriminator Loss: 0.8232645988464355, Discriminator Accuracy: 0.699917197227478\n"
     ]
    },
    {
     "name": "stderr",
     "output_type": "stream",
     "text": [
      "100%|██████████| 351/351 [01:38<00:00,  3.55it/s]\n"
     ]
    },
    {
     "name": "stdout",
     "output_type": "stream",
     "text": [
      "Epoch 29, Autoencoder Loss: 0.0026593883521854877, Discriminator Loss: 0.7536312341690063, Discriminator Accuracy: 0.7202635407447815\n",
      "Validation - Autoencoder Loss: 0.0027747289277613163, Discriminator Loss: 0.8035885691642761, Discriminator Accuracy: 0.7052980065345764\n"
     ]
    },
    {
     "name": "stderr",
     "output_type": "stream",
     "text": [
      "100%|██████████| 351/351 [01:38<00:00,  3.56it/s]\n"
     ]
    },
    {
     "name": "stdout",
     "output_type": "stream",
     "text": [
      "Epoch 30, Autoencoder Loss: 0.0026318589225411415, Discriminator Loss: 0.7509480714797974, Discriminator Accuracy: 0.7213318943977356\n",
      "Validation - Autoencoder Loss: 0.0027296196203678846, Discriminator Loss: 0.8156388401985168, Discriminator Accuracy: 0.7057119011878967\n"
     ]
    },
    {
     "name": "stderr",
     "output_type": "stream",
     "text": [
      "100%|██████████| 351/351 [01:37<00:00,  3.58it/s]\n"
     ]
    },
    {
     "name": "stdout",
     "output_type": "stream",
     "text": [
      "Epoch 31, Autoencoder Loss: 0.0026021881494671106, Discriminator Loss: 0.7499748468399048, Discriminator Accuracy: 0.7236467003822327\n",
      "Validation - Autoencoder Loss: 0.0027064152527600527, Discriminator Loss: 0.8034659624099731, Discriminator Accuracy: 0.701572835445404\n"
     ]
    },
    {
     "name": "stderr",
     "output_type": "stream",
     "text": [
      "100%|██████████| 351/351 [01:38<00:00,  3.57it/s]\n"
     ]
    },
    {
     "name": "stdout",
     "output_type": "stream",
     "text": [
      "Epoch 32, Autoencoder Loss: 0.0025728882756084204, Discriminator Loss: 0.7426272630691528, Discriminator Accuracy: 0.7254273295402527\n",
      "Validation - Autoencoder Loss: 0.0026834069285541773, Discriminator Loss: 0.8083078861236572, Discriminator Accuracy: 0.6995033025741577\n"
     ]
    },
    {
     "name": "stderr",
     "output_type": "stream",
     "text": [
      "100%|██████████| 351/351 [01:38<00:00,  3.57it/s]\n"
     ]
    },
    {
     "name": "stdout",
     "output_type": "stream",
     "text": [
      "Epoch 33, Autoencoder Loss: 0.0025483896024525166, Discriminator Loss: 0.7373400926589966, Discriminator Accuracy: 0.7243589758872986\n",
      "Validation - Autoencoder Loss: 0.0026597538962960243, Discriminator Loss: 0.8021364808082581, Discriminator Accuracy: 0.7024006843566895\n"
     ]
    },
    {
     "name": "stderr",
     "output_type": "stream",
     "text": [
      "100%|██████████| 351/351 [01:38<00:00,  3.56it/s]\n"
     ]
    },
    {
     "name": "stdout",
     "output_type": "stream",
     "text": [
      "Epoch 34, Autoencoder Loss: 0.002525754738599062, Discriminator Loss: 0.7354058027267456, Discriminator Accuracy: 0.7247151136398315\n",
      "Validation - Autoencoder Loss: 0.0026281329337507486, Discriminator Loss: 0.8349721431732178, Discriminator Accuracy: 0.7007450461387634\n"
     ]
    },
    {
     "name": "stderr",
     "output_type": "stream",
     "text": [
      "100%|██████████| 351/351 [01:38<00:00,  3.57it/s]\n"
     ]
    },
    {
     "name": "stdout",
     "output_type": "stream",
     "text": [
      "Epoch 35, Autoencoder Loss: 0.0025036646984517574, Discriminator Loss: 0.7263174057006836, Discriminator Accuracy: 0.7298789024353027\n",
      "Validation - Autoencoder Loss: 0.0026111130136996508, Discriminator Loss: 0.8211568593978882, Discriminator Accuracy: 0.7069536447525024\n"
     ]
    },
    {
     "name": "stderr",
     "output_type": "stream",
     "text": [
      "100%|██████████| 351/351 [01:38<00:00,  3.57it/s]\n"
     ]
    },
    {
     "name": "stdout",
     "output_type": "stream",
     "text": [
      "Epoch 36, Autoencoder Loss: 0.002483840798959136, Discriminator Loss: 0.7284374237060547, Discriminator Accuracy: 0.7293447256088257\n",
      "Validation - Autoencoder Loss: 0.0026052389293909073, Discriminator Loss: 0.7923047542572021, Discriminator Accuracy: 0.7065397500991821\n"
     ]
    },
    {
     "name": "stderr",
     "output_type": "stream",
     "text": [
      "100%|██████████| 351/351 [01:38<00:00,  3.57it/s]\n"
     ]
    },
    {
     "name": "stdout",
     "output_type": "stream",
     "text": [
      "Epoch 37, Autoencoder Loss: 0.0024642322678118944, Discriminator Loss: 0.7204048037528992, Discriminator Accuracy: 0.7325498461723328\n",
      "Validation - Autoencoder Loss: 0.002573462435975671, Discriminator Loss: 0.8025656938552856, Discriminator Accuracy: 0.7110927104949951\n"
     ]
    },
    {
     "name": "stderr",
     "output_type": "stream",
     "text": [
      "100%|██████████| 351/351 [01:37<00:00,  3.60it/s]\n"
     ]
    },
    {
     "name": "stdout",
     "output_type": "stream",
     "text": [
      "Epoch 38, Autoencoder Loss: 0.002444874495267868, Discriminator Loss: 0.7099692225456238, Discriminator Accuracy: 0.7325498461723328\n",
      "Validation - Autoencoder Loss: 0.0025558690540492535, Discriminator Loss: 0.7990064024925232, Discriminator Accuracy: 0.7065397500991821\n"
     ]
    },
    {
     "name": "stderr",
     "output_type": "stream",
     "text": [
      "100%|██████████| 351/351 [01:37<00:00,  3.59it/s]\n"
     ]
    },
    {
     "name": "stdout",
     "output_type": "stream",
     "text": [
      "Epoch 39, Autoencoder Loss: 0.002427543280646205, Discriminator Loss: 0.7164624333381653, Discriminator Accuracy: 0.7323718070983887\n",
      "Validation - Autoencoder Loss: 0.0025511281564831734, Discriminator Loss: 0.8182952404022217, Discriminator Accuracy: 0.7024006843566895\n"
     ]
    },
    {
     "name": "stderr",
     "output_type": "stream",
     "text": [
      "100%|██████████| 351/351 [01:37<00:00,  3.60it/s]\n"
     ]
    },
    {
     "name": "stdout",
     "output_type": "stream",
     "text": [
      "Epoch 40, Autoencoder Loss: 0.0024120511952787638, Discriminator Loss: 0.7062023878097534, Discriminator Accuracy: 0.7361111044883728\n",
      "Validation - Autoencoder Loss: 0.0025332183577120304, Discriminator Loss: 0.8069280982017517, Discriminator Accuracy: 0.7048841118812561\n"
     ]
    },
    {
     "name": "stderr",
     "output_type": "stream",
     "text": [
      "100%|██████████| 351/351 [01:37<00:00,  3.59it/s]\n"
     ]
    },
    {
     "name": "stdout",
     "output_type": "stream",
     "text": [
      "Epoch 41, Autoencoder Loss: 0.0023934263736009598, Discriminator Loss: 0.7053641080856323, Discriminator Accuracy: 0.7346866130828857\n",
      "Validation - Autoencoder Loss: 0.0025112726725637913, Discriminator Loss: 0.7892502546310425, Discriminator Accuracy: 0.7119205594062805\n"
     ]
    },
    {
     "name": "stderr",
     "output_type": "stream",
     "text": [
      "100%|██████████| 351/351 [01:38<00:00,  3.57it/s]\n"
     ]
    },
    {
     "name": "stdout",
     "output_type": "stream",
     "text": [
      "Epoch 42, Autoencoder Loss: 0.002376205986365676, Discriminator Loss: 0.6965421438217163, Discriminator Accuracy: 0.7409188151359558\n",
      "Validation - Autoencoder Loss: 0.0024897432886064053, Discriminator Loss: 0.8054249286651611, Discriminator Accuracy: 0.7110927104949951\n"
     ]
    },
    {
     "name": "stderr",
     "output_type": "stream",
     "text": [
      "100%|██████████| 351/351 [01:37<00:00,  3.59it/s]\n"
     ]
    },
    {
     "name": "stdout",
     "output_type": "stream",
     "text": [
      "Epoch 43, Autoencoder Loss: 0.0023600587155669928, Discriminator Loss: 0.6935600638389587, Discriminator Accuracy: 0.7393162250518799\n",
      "Validation - Autoencoder Loss: 0.0024857381358742714, Discriminator Loss: 0.7865135669708252, Discriminator Accuracy: 0.7098509669303894\n"
     ]
    },
    {
     "name": "stderr",
     "output_type": "stream",
     "text": [
      "100%|██████████| 351/351 [01:37<00:00,  3.60it/s]\n"
     ]
    },
    {
     "name": "stdout",
     "output_type": "stream",
     "text": [
      "Epoch 44, Autoencoder Loss: 0.0023482353426516056, Discriminator Loss: 0.6897447109222412, Discriminator Accuracy: 0.742521345615387\n",
      "Validation - Autoencoder Loss: 0.002460261806845665, Discriminator Loss: 0.797450065612793, Discriminator Accuracy: 0.7144039869308472\n"
     ]
    },
    {
     "name": "stderr",
     "output_type": "stream",
     "text": [
      "100%|██████████| 351/351 [01:37<00:00,  3.60it/s]\n"
     ]
    },
    {
     "name": "stdout",
     "output_type": "stream",
     "text": [
      "Epoch 45, Autoencoder Loss: 0.0023301918990910053, Discriminator Loss: 0.6827952265739441, Discriminator Accuracy: 0.742521345615387\n",
      "Validation - Autoencoder Loss: 0.0024534391704946756, Discriminator Loss: 0.8309423923492432, Discriminator Accuracy: 0.7081953883171082\n"
     ]
    },
    {
     "name": "stderr",
     "output_type": "stream",
     "text": [
      "100%|██████████| 351/351 [01:37<00:00,  3.61it/s]\n"
     ]
    },
    {
     "name": "stdout",
     "output_type": "stream",
     "text": [
      "Epoch 46, Autoencoder Loss: 0.002313986187800765, Discriminator Loss: 0.6799758672714233, Discriminator Accuracy: 0.74821937084198\n",
      "Validation - Autoencoder Loss: 0.002430858789011836, Discriminator Loss: 0.8004635572433472, Discriminator Accuracy: 0.7036423683166504\n"
     ]
    },
    {
     "name": "stderr",
     "output_type": "stream",
     "text": [
      "100%|██████████| 351/351 [01:37<00:00,  3.61it/s]\n"
     ]
    },
    {
     "name": "stdout",
     "output_type": "stream",
     "text": [
      "Epoch 47, Autoencoder Loss: 0.0023010934237390757, Discriminator Loss: 0.6770766377449036, Discriminator Accuracy: 0.74732905626297\n",
      "Validation - Autoencoder Loss: 0.0024130798410624266, Discriminator Loss: 0.8087867498397827, Discriminator Accuracy: 0.7127483487129211\n"
     ]
    },
    {
     "name": "stderr",
     "output_type": "stream",
     "text": [
      "100%|██████████| 351/351 [01:38<00:00,  3.58it/s]\n"
     ]
    },
    {
     "name": "stdout",
     "output_type": "stream",
     "text": [
      "Epoch 48, Autoencoder Loss: 0.002286257455125451, Discriminator Loss: 0.6725135445594788, Discriminator Accuracy: 0.7476851940155029\n",
      "Validation - Autoencoder Loss: 0.002397325588390231, Discriminator Loss: 0.8105512857437134, Discriminator Accuracy: 0.7048841118812561\n"
     ]
    },
    {
     "name": "stderr",
     "output_type": "stream",
     "text": [
      "100%|██████████| 351/351 [01:38<00:00,  3.58it/s]\n"
     ]
    },
    {
     "name": "stdout",
     "output_type": "stream",
     "text": [
      "Epoch 49, Autoencoder Loss: 0.0022707143798470497, Discriminator Loss: 0.6631906032562256, Discriminator Accuracy: 0.75089031457901\n",
      "Validation - Autoencoder Loss: 0.002388357650488615, Discriminator Loss: 0.8158589601516724, Discriminator Accuracy: 0.7011589407920837\n"
     ]
    },
    {
     "name": "stderr",
     "output_type": "stream",
     "text": [
      "100%|██████████| 351/351 [01:37<00:00,  3.59it/s]\n"
     ]
    },
    {
     "name": "stdout",
     "output_type": "stream",
     "text": [
      "Epoch 50, Autoencoder Loss: 0.00225812173448503, Discriminator Loss: 0.6605779528617859, Discriminator Accuracy: 0.753383219242096\n",
      "Validation - Autoencoder Loss: 0.0023946051951497793, Discriminator Loss: 0.7998692393302917, Discriminator Accuracy: 0.7073675394058228\n"
     ]
    },
    {
     "name": "stderr",
     "output_type": "stream",
     "text": [
      "100%|██████████| 351/351 [01:37<00:00,  3.59it/s]\n"
     ]
    },
    {
     "name": "stdout",
     "output_type": "stream",
     "text": [
      "Epoch 51, Autoencoder Loss: 0.0022459886968135834, Discriminator Loss: 0.6523022055625916, Discriminator Accuracy: 0.7596153616905212\n",
      "Validation - Autoencoder Loss: 0.0023644077591598034, Discriminator Loss: 0.8275039792060852, Discriminator Accuracy: 0.7094370722770691\n"
     ]
    },
    {
     "name": "stderr",
     "output_type": "stream",
     "text": [
      "100%|██████████| 351/351 [01:38<00:00,  3.57it/s]\n"
     ]
    },
    {
     "name": "stdout",
     "output_type": "stream",
     "text": [
      "Epoch 52, Autoencoder Loss: 0.002230449579656124, Discriminator Loss: 0.64820396900177, Discriminator Accuracy: 0.7573005557060242\n",
      "Validation - Autoencoder Loss: 0.0023369542323052883, Discriminator Loss: 0.8042916059494019, Discriminator Accuracy: 0.7090231776237488\n"
     ]
    },
    {
     "name": "stderr",
     "output_type": "stream",
     "text": [
      "100%|██████████| 351/351 [01:37<00:00,  3.58it/s]\n"
     ]
    },
    {
     "name": "stdout",
     "output_type": "stream",
     "text": [
      "Epoch 53, Autoencoder Loss: 0.0022170725278556347, Discriminator Loss: 0.6396594047546387, Discriminator Accuracy: 0.7581908702850342\n",
      "Validation - Autoencoder Loss: 0.00234052911400795, Discriminator Loss: 0.8873544931411743, Discriminator Accuracy: 0.7086092829704285\n"
     ]
    },
    {
     "name": "stderr",
     "output_type": "stream",
     "text": [
      "100%|██████████| 351/351 [01:37<00:00,  3.60it/s]\n"
     ]
    },
    {
     "name": "stdout",
     "output_type": "stream",
     "text": [
      "Epoch 54, Autoencoder Loss: 0.0022057280875742435, Discriminator Loss: 0.6366726756095886, Discriminator Accuracy: 0.7601495981216431\n",
      "Validation - Autoencoder Loss: 0.0023283204063773155, Discriminator Loss: 0.8271433115005493, Discriminator Accuracy: 0.7144039869308472\n"
     ]
    },
    {
     "name": "stderr",
     "output_type": "stream",
     "text": [
      "100%|██████████| 351/351 [01:38<00:00,  3.58it/s]\n"
     ]
    },
    {
     "name": "stdout",
     "output_type": "stream",
     "text": [
      "Epoch 55, Autoencoder Loss: 0.0021882043220102787, Discriminator Loss: 0.6316335797309875, Discriminator Accuracy: 0.7603276371955872\n",
      "Validation - Autoencoder Loss: 0.0023054578341543674, Discriminator Loss: 0.8157232403755188, Discriminator Accuracy: 0.7148178815841675\n"
     ]
    },
    {
     "name": "stderr",
     "output_type": "stream",
     "text": [
      "100%|██████████| 351/351 [01:38<00:00,  3.57it/s]\n"
     ]
    },
    {
     "name": "stdout",
     "output_type": "stream",
     "text": [
      "Epoch 56, Autoencoder Loss: 0.0021746575366705656, Discriminator Loss: 0.6276649236679077, Discriminator Accuracy: 0.7665598392486572\n",
      "Validation - Autoencoder Loss: 0.0022877745795994997, Discriminator Loss: 0.8169411420822144, Discriminator Accuracy: 0.7135761380195618\n"
     ]
    },
    {
     "name": "stderr",
     "output_type": "stream",
     "text": [
      "100%|██████████| 351/351 [01:37<00:00,  3.61it/s]\n"
     ]
    },
    {
     "name": "stdout",
     "output_type": "stream",
     "text": [
      "Epoch 57, Autoencoder Loss: 0.002163548255339265, Discriminator Loss: 0.6138392686843872, Discriminator Accuracy: 0.7685185074806213\n",
      "Validation - Autoencoder Loss: 0.0022753828670829535, Discriminator Loss: 0.8210150003433228, Discriminator Accuracy: 0.7019867300987244\n"
     ]
    },
    {
     "name": "stderr",
     "output_type": "stream",
     "text": [
      "100%|██████████| 351/351 [01:37<00:00,  3.59it/s]\n"
     ]
    },
    {
     "name": "stdout",
     "output_type": "stream",
     "text": [
      "Epoch 58, Autoencoder Loss: 0.002142971847206354, Discriminator Loss: 0.6118582487106323, Discriminator Accuracy: 0.7724359035491943\n",
      "Validation - Autoencoder Loss: 0.0022593196481466293, Discriminator Loss: 0.8301261067390442, Discriminator Accuracy: 0.7152317762374878\n"
     ]
    },
    {
     "name": "stderr",
     "output_type": "stream",
     "text": [
      "100%|██████████| 351/351 [01:37<00:00,  3.60it/s]\n"
     ]
    },
    {
     "name": "stdout",
     "output_type": "stream",
     "text": [
      "Epoch 59, Autoencoder Loss: 0.002121209865435958, Discriminator Loss: 0.604808509349823, Discriminator Accuracy: 0.7752848863601685\n",
      "Validation - Autoencoder Loss: 0.0022312747314572334, Discriminator Loss: 0.8358510732650757, Discriminator Accuracy: 0.7131622433662415\n"
     ]
    },
    {
     "name": "stderr",
     "output_type": "stream",
     "text": [
      "100%|██████████| 351/351 [01:37<00:00,  3.61it/s]\n"
     ]
    },
    {
     "name": "stdout",
     "output_type": "stream",
     "text": [
      "Epoch 60, Autoencoder Loss: 0.0020904375705868006, Discriminator Loss: 0.6017272472381592, Discriminator Accuracy: 0.7806267738342285\n",
      "Validation - Autoencoder Loss: 0.002213690895587206, Discriminator Loss: 0.8463994860649109, Discriminator Accuracy: 0.7065397500991821\n"
     ]
    },
    {
     "name": "stderr",
     "output_type": "stream",
     "text": [
      "100%|██████████| 351/351 [01:37<00:00,  3.61it/s]\n"
     ]
    },
    {
     "name": "stdout",
     "output_type": "stream",
     "text": [
      "Epoch 61, Autoencoder Loss: 0.0020444276742637157, Discriminator Loss: 0.5964879989624023, Discriminator Accuracy: 0.7774216532707214\n",
      "Validation - Autoencoder Loss: 0.002136500785127282, Discriminator Loss: 0.8337071537971497, Discriminator Accuracy: 0.7094370722770691\n"
     ]
    },
    {
     "name": "stderr",
     "output_type": "stream",
     "text": [
      "100%|██████████| 351/351 [01:37<00:00,  3.59it/s]\n"
     ]
    },
    {
     "name": "stdout",
     "output_type": "stream",
     "text": [
      "Epoch 62, Autoencoder Loss: 0.001983361318707466, Discriminator Loss: 0.5860978960990906, Discriminator Accuracy: 0.7759971618652344\n",
      "Validation - Autoencoder Loss: 0.0020971258636564016, Discriminator Loss: 0.8387988805770874, Discriminator Accuracy: 0.6974337697029114\n"
     ]
    },
    {
     "name": "stderr",
     "output_type": "stream",
     "text": [
      "100%|██████████| 351/351 [01:37<00:00,  3.60it/s]\n"
     ]
    },
    {
     "name": "stdout",
     "output_type": "stream",
     "text": [
      "Epoch 63, Autoencoder Loss: 0.001941037131473422, Discriminator Loss: 0.5724308490753174, Discriminator Accuracy: 0.7923789024353027\n",
      "Validation - Autoencoder Loss: 0.0020639137364923954, Discriminator Loss: 0.8498023748397827, Discriminator Accuracy: 0.7181291580200195\n"
     ]
    },
    {
     "name": "stderr",
     "output_type": "stream",
     "text": [
      "100%|██████████| 351/351 [01:37<00:00,  3.59it/s]\n"
     ]
    },
    {
     "name": "stdout",
     "output_type": "stream",
     "text": [
      "Epoch 64, Autoencoder Loss: 0.0019185444107279181, Discriminator Loss: 0.576297402381897, Discriminator Accuracy: 0.7909544110298157\n",
      "Validation - Autoencoder Loss: 0.002042482141405344, Discriminator Loss: 0.8446164131164551, Discriminator Accuracy: 0.6978476643562317\n"
     ]
    },
    {
     "name": "stderr",
     "output_type": "stream",
     "text": [
      "100%|██████████| 351/351 [01:37<00:00,  3.60it/s]\n"
     ]
    },
    {
     "name": "stdout",
     "output_type": "stream",
     "text": [
      "Epoch 65, Autoencoder Loss: 0.0019024522043764591, Discriminator Loss: 0.5689799189567566, Discriminator Accuracy: 0.7902421355247498\n",
      "Validation - Autoencoder Loss: 0.0020388553384691477, Discriminator Loss: 0.863722026348114, Discriminator Accuracy: 0.7073675394058228\n"
     ]
    },
    {
     "name": "stderr",
     "output_type": "stream",
     "text": [
      "100%|██████████| 351/351 [01:37<00:00,  3.61it/s]\n"
     ]
    },
    {
     "name": "stdout",
     "output_type": "stream",
     "text": [
      "Epoch 66, Autoencoder Loss: 0.0018863051664084196, Discriminator Loss: 0.563417375087738, Discriminator Accuracy: 0.7918447256088257\n",
      "Validation - Autoencoder Loss: 0.0020079482346773148, Discriminator Loss: 0.9036430716514587, Discriminator Accuracy: 0.6895695328712463\n"
     ]
    },
    {
     "name": "stderr",
     "output_type": "stream",
     "text": [
      "100%|██████████| 351/351 [01:39<00:00,  3.53it/s]\n"
     ]
    },
    {
     "name": "stdout",
     "output_type": "stream",
     "text": [
      "Epoch 67, Autoencoder Loss: 0.0018746050773188472, Discriminator Loss: 0.5535165071487427, Discriminator Accuracy: 0.7966524362564087\n",
      "Validation - Autoencoder Loss: 0.0020066173747181892, Discriminator Loss: 0.8633778691291809, Discriminator Accuracy: 0.7115066051483154\n"
     ]
    },
    {
     "name": "stderr",
     "output_type": "stream",
     "text": [
      "100%|██████████| 351/351 [01:51<00:00,  3.15it/s]\n"
     ]
    },
    {
     "name": "stdout",
     "output_type": "stream",
     "text": [
      "Epoch 68, Autoencoder Loss: 0.0018633787985891104, Discriminator Loss: 0.5471903085708618, Discriminator Accuracy: 0.7970085740089417\n",
      "Validation - Autoencoder Loss: 0.0019883979111909866, Discriminator Loss: 0.8803223967552185, Discriminator Accuracy: 0.7069536447525024\n"
     ]
    },
    {
     "name": "stderr",
     "output_type": "stream",
     "text": [
      "100%|██████████| 351/351 [01:47<00:00,  3.26it/s]\n"
     ]
    },
    {
     "name": "stdout",
     "output_type": "stream",
     "text": [
      "Epoch 69, Autoencoder Loss: 0.001853790832683444, Discriminator Loss: 0.5401458740234375, Discriminator Accuracy: 0.8012820482254028\n",
      "Validation - Autoencoder Loss: 0.0019812288228422403, Discriminator Loss: 0.8619323968887329, Discriminator Accuracy: 0.6957781314849854\n"
     ]
    },
    {
     "name": "stderr",
     "output_type": "stream",
     "text": [
      "100%|██████████| 351/351 [01:51<00:00,  3.15it/s]\n"
     ]
    },
    {
     "name": "stdout",
     "output_type": "stream",
     "text": [
      "Epoch 70, Autoencoder Loss: 0.0018456712132319808, Discriminator Loss: 0.5301318764686584, Discriminator Accuracy: 0.8073362112045288\n",
      "Validation - Autoencoder Loss: 0.001978314481675625, Discriminator Loss: 0.8733620643615723, Discriminator Accuracy: 0.6970198750495911\n"
     ]
    },
    {
     "name": "stderr",
     "output_type": "stream",
     "text": [
      "100%|██████████| 351/351 [01:45<00:00,  3.32it/s]\n"
     ]
    },
    {
     "name": "stdout",
     "output_type": "stream",
     "text": [
      "Epoch 71, Autoencoder Loss: 0.0018350138561800122, Discriminator Loss: 0.5223414897918701, Discriminator Accuracy: 0.806801974773407\n",
      "Validation - Autoencoder Loss: 0.001963062211871147, Discriminator Loss: 0.8969336748123169, Discriminator Accuracy: 0.6932947039604187\n"
     ]
    },
    {
     "name": "stderr",
     "output_type": "stream",
     "text": [
      "100%|██████████| 351/351 [01:45<00:00,  3.33it/s]\n"
     ]
    },
    {
     "name": "stdout",
     "output_type": "stream",
     "text": [
      "Epoch 72, Autoencoder Loss: 0.001826192601583898, Discriminator Loss: 0.519142210483551, Discriminator Accuracy: 0.8062677979469299\n",
      "Validation - Autoencoder Loss: 0.0019530645804479718, Discriminator Loss: 0.8963127136230469, Discriminator Accuracy: 0.7102649211883545\n"
     ]
    },
    {
     "name": "stderr",
     "output_type": "stream",
     "text": [
      "100%|██████████| 351/351 [01:49<00:00,  3.21it/s]\n"
     ]
    },
    {
     "name": "stdout",
     "output_type": "stream",
     "text": [
      "Epoch 73, Autoencoder Loss: 0.001816696603782475, Discriminator Loss: 0.5121035575866699, Discriminator Accuracy: 0.8092948794364929\n",
      "Validation - Autoencoder Loss: 0.0019499234622344375, Discriminator Loss: 0.8839735984802246, Discriminator Accuracy: 0.7119205594062805\n"
     ]
    },
    {
     "name": "stderr",
     "output_type": "stream",
     "text": [
      "100%|██████████| 351/351 [01:53<00:00,  3.09it/s]\n"
     ]
    },
    {
     "name": "stdout",
     "output_type": "stream",
     "text": [
      "Epoch 74, Autoencoder Loss: 0.0018094516126438975, Discriminator Loss: 0.5077551007270813, Discriminator Accuracy: 0.8114316463470459\n",
      "Validation - Autoencoder Loss: 0.0019409715896472335, Discriminator Loss: 0.900272011756897, Discriminator Accuracy: 0.6970198750495911\n"
     ]
    },
    {
     "name": "stderr",
     "output_type": "stream",
     "text": [
      "100%|██████████| 351/351 [01:53<00:00,  3.09it/s]\n"
     ]
    },
    {
     "name": "stdout",
     "output_type": "stream",
     "text": [
      "Epoch 75, Autoencoder Loss: 0.0018010475905612111, Discriminator Loss: 0.4991229474544525, Discriminator Accuracy: 0.8157051205635071\n",
      "Validation - Autoencoder Loss: 0.0019316055113449693, Discriminator Loss: 0.9149327278137207, Discriminator Accuracy: 0.6817052960395813\n"
     ]
    },
    {
     "name": "stderr",
     "output_type": "stream",
     "text": [
      "100%|██████████| 351/351 [01:51<00:00,  3.15it/s]\n"
     ]
    },
    {
     "name": "stdout",
     "output_type": "stream",
     "text": [
      "Epoch 76, Autoencoder Loss: 0.0017924712738022208, Discriminator Loss: 0.4890114665031433, Discriminator Accuracy: 0.816773533821106\n",
      "Validation - Autoencoder Loss: 0.0019180210074409842, Discriminator Loss: 0.8880061507225037, Discriminator Accuracy: 0.6982616186141968\n"
     ]
    },
    {
     "name": "stderr",
     "output_type": "stream",
     "text": [
      "100%|██████████| 351/351 [01:46<00:00,  3.31it/s]\n"
     ]
    },
    {
     "name": "stdout",
     "output_type": "stream",
     "text": [
      "Epoch 77, Autoencoder Loss: 0.001783364568836987, Discriminator Loss: 0.4844653904438019, Discriminator Accuracy: 0.8180199265480042\n",
      "Validation - Autoencoder Loss: 0.0019119339995086193, Discriminator Loss: 0.9138258099555969, Discriminator Accuracy: 0.7065397500991821\n"
     ]
    },
    {
     "name": "stderr",
     "output_type": "stream",
     "text": [
      "100%|██████████| 351/351 [01:44<00:00,  3.36it/s]\n"
     ]
    },
    {
     "name": "stdout",
     "output_type": "stream",
     "text": [
      "Epoch 78, Autoencoder Loss: 0.0017760617192834616, Discriminator Loss: 0.47905388474464417, Discriminator Accuracy: 0.8238959908485413\n",
      "Validation - Autoencoder Loss: 0.0019024519715458155, Discriminator Loss: 0.9236505031585693, Discriminator Accuracy: 0.7077814340591431\n"
     ]
    },
    {
     "name": "stderr",
     "output_type": "stream",
     "text": [
      "100%|██████████| 351/351 [01:43<00:00,  3.39it/s]\n"
     ]
    },
    {
     "name": "stdout",
     "output_type": "stream",
     "text": [
      "Epoch 79, Autoencoder Loss: 0.0017686882056295872, Discriminator Loss: 0.46874409914016724, Discriminator Accuracy: 0.8260327577590942\n",
      "Validation - Autoencoder Loss: 0.0018922718008980155, Discriminator Loss: 0.9298376441001892, Discriminator Accuracy: 0.7011589407920837\n"
     ]
    },
    {
     "name": "stderr",
     "output_type": "stream",
     "text": [
      "100%|██████████| 351/351 [01:46<00:00,  3.30it/s]\n"
     ]
    },
    {
     "name": "stdout",
     "output_type": "stream",
     "text": [
      "Epoch 80, Autoencoder Loss: 0.0017620055004954338, Discriminator Loss: 0.4715207815170288, Discriminator Accuracy: 0.8265669345855713\n",
      "Validation - Autoencoder Loss: 0.0018928090576082468, Discriminator Loss: 0.9244762659072876, Discriminator Accuracy: 0.693708598613739\n"
     ]
    },
    {
     "name": "stderr",
     "output_type": "stream",
     "text": [
      "100%|██████████| 351/351 [01:49<00:00,  3.21it/s]\n"
     ]
    },
    {
     "name": "stdout",
     "output_type": "stream",
     "text": [
      "Epoch 81, Autoencoder Loss: 0.0017543399007990956, Discriminator Loss: 0.4555017054080963, Discriminator Accuracy: 0.8322649598121643\n",
      "Validation - Autoencoder Loss: 0.001885824603959918, Discriminator Loss: 0.9276745319366455, Discriminator Accuracy: 0.7036423683166504\n"
     ]
    },
    {
     "name": "stderr",
     "output_type": "stream",
     "text": [
      "100%|██████████| 351/351 [01:50<00:00,  3.17it/s]\n"
     ]
    },
    {
     "name": "stdout",
     "output_type": "stream",
     "text": [
      "Epoch 82, Autoencoder Loss: 0.0017492322949692607, Discriminator Loss: 0.44749245047569275, Discriminator Accuracy: 0.8333333134651184\n",
      "Validation - Autoencoder Loss: 0.0018782675033435225, Discriminator Loss: 0.9537099003791809, Discriminator Accuracy: 0.7057119011878967\n"
     ]
    },
    {
     "name": "stderr",
     "output_type": "stream",
     "text": [
      "100%|██████████| 351/351 [01:49<00:00,  3.21it/s]\n"
     ]
    },
    {
     "name": "stdout",
     "output_type": "stream",
     "text": [
      "Epoch 83, Autoencoder Loss: 0.001740779960528016, Discriminator Loss: 0.4368482232093811, Discriminator Accuracy: 0.8397436141967773\n",
      "Validation - Autoencoder Loss: 0.0018720899242907763, Discriminator Loss: 0.9421473741531372, Discriminator Accuracy: 0.6970198750495911\n"
     ]
    },
    {
     "name": "stderr",
     "output_type": "stream",
     "text": [
      "100%|██████████| 351/351 [01:51<00:00,  3.16it/s]\n"
     ]
    },
    {
     "name": "stdout",
     "output_type": "stream",
     "text": [
      "Epoch 84, Autoencoder Loss: 0.0017341640777885914, Discriminator Loss: 0.4375613331794739, Discriminator Accuracy: 0.8354700803756714\n",
      "Validation - Autoencoder Loss: 0.001859439886175096, Discriminator Loss: 1.0018361806869507, Discriminator Accuracy: 0.7011589407920837\n"
     ]
    },
    {
     "name": "stderr",
     "output_type": "stream",
     "text": [
      "100%|██████████| 351/351 [01:45<00:00,  3.34it/s]\n"
     ]
    },
    {
     "name": "stdout",
     "output_type": "stream",
     "text": [
      "Epoch 85, Autoencoder Loss: 0.0017276342259719968, Discriminator Loss: 0.43161922693252563, Discriminator Accuracy: 0.8441951274871826\n",
      "Validation - Autoencoder Loss: 0.0018592848209664226, Discriminator Loss: 0.94956374168396, Discriminator Accuracy: 0.701572835445404\n"
     ]
    },
    {
     "name": "stderr",
     "output_type": "stream",
     "text": [
      "100%|██████████| 351/351 [01:53<00:00,  3.08it/s]\n"
     ]
    },
    {
     "name": "stdout",
     "output_type": "stream",
     "text": [
      "Epoch 86, Autoencoder Loss: 0.0017205477925017476, Discriminator Loss: 0.4217017590999603, Discriminator Accuracy: 0.8461538553237915\n",
      "Validation - Autoencoder Loss: 0.0018575305584818125, Discriminator Loss: 0.9744160771369934, Discriminator Accuracy: 0.6978476643562317\n"
     ]
    },
    {
     "name": "stderr",
     "output_type": "stream",
     "text": [
      "100%|██████████| 351/351 [01:54<00:00,  3.08it/s]\n"
     ]
    },
    {
     "name": "stdout",
     "output_type": "stream",
     "text": [
      "Epoch 87, Autoencoder Loss: 0.0017143776640295982, Discriminator Loss: 0.41912606358528137, Discriminator Accuracy: 0.8479344844818115\n",
      "Validation - Autoencoder Loss: 0.001843706239014864, Discriminator Loss: 0.9972732067108154, Discriminator Accuracy: 0.7081953883171082\n"
     ]
    },
    {
     "name": "stderr",
     "output_type": "stream",
     "text": [
      "100%|██████████| 351/351 [01:53<00:00,  3.10it/s]\n"
     ]
    },
    {
     "name": "stdout",
     "output_type": "stream",
     "text": [
      "Epoch 88, Autoencoder Loss: 0.001707354444079101, Discriminator Loss: 0.4087110459804535, Discriminator Accuracy: 0.8466880321502686\n",
      "Validation - Autoencoder Loss: 0.0018371031619608402, Discriminator Loss: 1.0278130769729614, Discriminator Accuracy: 0.6990894079208374\n"
     ]
    },
    {
     "name": "stderr",
     "output_type": "stream",
     "text": [
      "100%|██████████| 351/351 [02:00<00:00,  2.92it/s]\n"
     ]
    },
    {
     "name": "stdout",
     "output_type": "stream",
     "text": [
      "Epoch 89, Autoencoder Loss: 0.0017022719839587808, Discriminator Loss: 0.40444254875183105, Discriminator Accuracy: 0.8539885878562927\n",
      "Validation - Autoencoder Loss: 0.0018319811206310987, Discriminator Loss: 1.0011922121047974, Discriminator Accuracy: 0.6974337697029114\n"
     ]
    },
    {
     "name": "stderr",
     "output_type": "stream",
     "text": [
      "100%|██████████| 351/351 [02:00<00:00,  2.90it/s]\n"
     ]
    },
    {
     "name": "stdout",
     "output_type": "stream",
     "text": [
      "Epoch 90, Autoencoder Loss: 0.0016952977748587728, Discriminator Loss: 0.38897791504859924, Discriminator Accuracy: 0.8600427508354187\n",
      "Validation - Autoencoder Loss: 0.0018276137998327613, Discriminator Loss: 0.9958294034004211, Discriminator Accuracy: 0.6995033025741577\n"
     ]
    },
    {
     "name": "stderr",
     "output_type": "stream",
     "text": [
      "100%|██████████| 351/351 [01:59<00:00,  2.94it/s]\n"
     ]
    },
    {
     "name": "stdout",
     "output_type": "stream",
     "text": [
      "Epoch 91, Autoencoder Loss: 0.0016896132146939635, Discriminator Loss: 0.3831251561641693, Discriminator Accuracy: 0.8600427508354187\n",
      "Validation - Autoencoder Loss: 0.001825236715376377, Discriminator Loss: 1.0096439123153687, Discriminator Accuracy: 0.7028145790100098\n"
     ]
    },
    {
     "name": "stderr",
     "output_type": "stream",
     "text": [
      "100%|██████████| 351/351 [02:00<00:00,  2.90it/s]\n"
     ]
    },
    {
     "name": "stdout",
     "output_type": "stream",
     "text": [
      "Epoch 92, Autoencoder Loss: 0.0016839361051097512, Discriminator Loss: 0.372737318277359, Discriminator Accuracy: 0.8582621216773987\n",
      "Validation - Autoencoder Loss: 0.0018204802181571722, Discriminator Loss: 1.0190577507019043, Discriminator Accuracy: 0.6862582564353943\n"
     ]
    },
    {
     "name": "stderr",
     "output_type": "stream",
     "text": [
      "100%|██████████| 351/351 [02:00<00:00,  2.91it/s]\n"
     ]
    },
    {
     "name": "stdout",
     "output_type": "stream",
     "text": [
      "Epoch 93, Autoencoder Loss: 0.0016778617864474654, Discriminator Loss: 0.3742208480834961, Discriminator Accuracy: 0.8627136945724487\n",
      "Validation - Autoencoder Loss: 0.0018074180698022246, Discriminator Loss: 1.0049985647201538, Discriminator Accuracy: 0.6974337697029114\n"
     ]
    },
    {
     "name": "stderr",
     "output_type": "stream",
     "text": [
      "100%|██████████| 351/351 [01:59<00:00,  2.94it/s]\n"
     ]
    },
    {
     "name": "stdout",
     "output_type": "stream",
     "text": [
      "Epoch 94, Autoencoder Loss: 0.0016720462590456009, Discriminator Loss: 0.3621884286403656, Discriminator Accuracy: 0.8673433065414429\n",
      "Validation - Autoencoder Loss: 0.0018093077233061194, Discriminator Loss: 1.057969093322754, Discriminator Accuracy: 0.6792218685150146\n"
     ]
    },
    {
     "name": "stderr",
     "output_type": "stream",
     "text": [
      "100%|██████████| 351/351 [01:59<00:00,  2.94it/s]\n"
     ]
    },
    {
     "name": "stdout",
     "output_type": "stream",
     "text": [
      "Epoch 95, Autoencoder Loss: 0.0016669820761308074, Discriminator Loss: 0.3580746650695801, Discriminator Accuracy: 0.8735755085945129\n",
      "Validation - Autoencoder Loss: 0.0018019048729911447, Discriminator Loss: 1.0477336645126343, Discriminator Accuracy: 0.6957781314849854\n"
     ]
    },
    {
     "name": "stderr",
     "output_type": "stream",
     "text": [
      "100%|██████████| 351/351 [01:58<00:00,  2.96it/s]\n"
     ]
    },
    {
     "name": "stdout",
     "output_type": "stream",
     "text": [
      "Epoch 96, Autoencoder Loss: 0.0016617331421002746, Discriminator Loss: 0.34558945894241333, Discriminator Accuracy: 0.875534176826477\n",
      "Validation - Autoencoder Loss: 0.0017981205601245165, Discriminator Loss: 1.080251693725586, Discriminator Accuracy: 0.6916390657424927\n"
     ]
    },
    {
     "name": "stderr",
     "output_type": "stream",
     "text": [
      "100%|██████████| 351/351 [01:58<00:00,  2.96it/s]\n"
     ]
    },
    {
     "name": "stdout",
     "output_type": "stream",
     "text": [
      "Epoch 97, Autoencoder Loss: 0.0016560289077460766, Discriminator Loss: 0.34284141659736633, Discriminator Accuracy: 0.87589031457901\n",
      "Validation - Autoencoder Loss: 0.0017968303291127086, Discriminator Loss: 1.08608078956604, Discriminator Accuracy: 0.6941224932670593\n"
     ]
    },
    {
     "name": "stderr",
     "output_type": "stream",
     "text": [
      "100%|██████████| 351/351 [01:59<00:00,  2.93it/s]\n"
     ]
    },
    {
     "name": "stdout",
     "output_type": "stream",
     "text": [
      "Epoch 98, Autoencoder Loss: 0.001650761696510017, Discriminator Loss: 0.33602723479270935, Discriminator Accuracy: 0.8787392973899841\n",
      "Validation - Autoencoder Loss: 0.0017849885625764728, Discriminator Loss: 1.1383912563323975, Discriminator Accuracy: 0.6634933948516846\n"
     ]
    },
    {
     "name": "stderr",
     "output_type": "stream",
     "text": [
      "100%|██████████| 351/351 [01:59<00:00,  2.94it/s]\n"
     ]
    },
    {
     "name": "stdout",
     "output_type": "stream",
     "text": [
      "Epoch 99, Autoencoder Loss: 0.0016477355966344476, Discriminator Loss: 0.32665562629699707, Discriminator Accuracy: 0.87945157289505\n",
      "Validation - Autoencoder Loss: 0.0017883541295304894, Discriminator Loss: 1.1297272443771362, Discriminator Accuracy: 0.7040562629699707\n"
     ]
    },
    {
     "name": "stderr",
     "output_type": "stream",
     "text": [
      "100%|██████████| 351/351 [01:58<00:00,  2.97it/s]\n"
     ]
    },
    {
     "name": "stdout",
     "output_type": "stream",
     "text": [
      "Epoch 100, Autoencoder Loss: 0.0016399291343986988, Discriminator Loss: 0.3210527002811432, Discriminator Accuracy: 0.883368968963623\n",
      "Validation - Autoencoder Loss: 0.0017741466872394085, Discriminator Loss: 1.1068931818008423, Discriminator Accuracy: 0.6941224932670593\n"
     ]
    },
    {
     "name": "stderr",
     "output_type": "stream",
     "text": [
      "100%|██████████| 351/351 [02:01<00:00,  2.89it/s]\n"
     ]
    },
    {
     "name": "stdout",
     "output_type": "stream",
     "text": [
      "Epoch 101, Autoencoder Loss: 0.0016354318941012025, Discriminator Loss: 0.3186515271663666, Discriminator Accuracy: 0.8858618140220642\n",
      "Validation - Autoencoder Loss: 0.001770983450114727, Discriminator Loss: 1.1095877885818481, Discriminator Accuracy: 0.6949503421783447\n"
     ]
    },
    {
     "name": "stderr",
     "output_type": "stream",
     "text": [
      "100%|██████████| 351/351 [01:59<00:00,  2.95it/s]\n"
     ]
    },
    {
     "name": "stdout",
     "output_type": "stream",
     "text": [
      "Epoch 102, Autoencoder Loss: 0.0016302389558404684, Discriminator Loss: 0.30391472578048706, Discriminator Accuracy: 0.8901353478431702\n",
      "Validation - Autoencoder Loss: 0.001767482957802713, Discriminator Loss: 1.1225839853286743, Discriminator Accuracy: 0.7011589407920837\n"
     ]
    },
    {
     "name": "stderr",
     "output_type": "stream",
     "text": [
      "100%|██████████| 351/351 [01:59<00:00,  2.94it/s]\n"
     ]
    },
    {
     "name": "stdout",
     "output_type": "stream",
     "text": [
      "Epoch 103, Autoencoder Loss: 0.001627318561077118, Discriminator Loss: 0.3031923174858093, Discriminator Accuracy: 0.8926281929016113\n",
      "Validation - Autoencoder Loss: 0.001761249965056777, Discriminator Loss: 1.160027265548706, Discriminator Accuracy: 0.6961920261383057\n"
     ]
    },
    {
     "name": "stderr",
     "output_type": "stream",
     "text": [
      "100%|██████████| 351/351 [01:58<00:00,  2.96it/s]\n"
     ]
    },
    {
     "name": "stdout",
     "output_type": "stream",
     "text": [
      "Epoch 104, Autoencoder Loss: 0.001620314083993435, Discriminator Loss: 0.28889259696006775, Discriminator Accuracy: 0.9006410241127014\n",
      "Validation - Autoencoder Loss: 0.0017542416462674737, Discriminator Loss: 1.1612663269042969, Discriminator Accuracy: 0.693708598613739\n"
     ]
    },
    {
     "name": "stderr",
     "output_type": "stream",
     "text": [
      "100%|██████████| 351/351 [01:58<00:00,  2.95it/s]\n"
     ]
    },
    {
     "name": "stdout",
     "output_type": "stream",
     "text": [
      "Epoch 105, Autoencoder Loss: 0.0016152736498042941, Discriminator Loss: 0.278826504945755, Discriminator Accuracy: 0.8993945717811584\n",
      "Validation - Autoencoder Loss: 0.0017495200736448169, Discriminator Loss: 1.2208528518676758, Discriminator Accuracy: 0.6995033025741577\n"
     ]
    },
    {
     "name": "stderr",
     "output_type": "stream",
     "text": [
      "100%|██████████| 351/351 [01:59<00:00,  2.93it/s]\n"
     ]
    },
    {
     "name": "stdout",
     "output_type": "stream",
     "text": [
      "Epoch 106, Autoencoder Loss: 0.001611584099009633, Discriminator Loss: 0.2797906696796417, Discriminator Accuracy: 0.9029558300971985\n",
      "Validation - Autoencoder Loss: 0.0017496254295110703, Discriminator Loss: 1.235428810119629, Discriminator Accuracy: 0.6978476643562317\n"
     ]
    },
    {
     "name": "stderr",
     "output_type": "stream",
     "text": [
      "100%|██████████| 351/351 [01:55<00:00,  3.05it/s]\n"
     ]
    },
    {
     "name": "stdout",
     "output_type": "stream",
     "text": [
      "Epoch 107, Autoencoder Loss: 0.0016059408662840724, Discriminator Loss: 0.2679576277732849, Discriminator Accuracy: 0.9040242433547974\n",
      "Validation - Autoencoder Loss: 0.001746793044731021, Discriminator Loss: 1.2516403198242188, Discriminator Accuracy: 0.684602677822113\n"
     ]
    },
    {
     "name": "stderr",
     "output_type": "stream",
     "text": [
      "100%|██████████| 351/351 [01:55<00:00,  3.05it/s]\n"
     ]
    },
    {
     "name": "stdout",
     "output_type": "stream",
     "text": [
      "Epoch 108, Autoencoder Loss: 0.001602704869583249, Discriminator Loss: 0.25528475642204285, Discriminator Accuracy: 0.9115028381347656\n",
      "Validation - Autoencoder Loss: 0.0017466280842199922, Discriminator Loss: 1.2617050409317017, Discriminator Accuracy: 0.6966059803962708\n"
     ]
    },
    {
     "name": "stderr",
     "output_type": "stream",
     "text": [
      "100%|██████████| 351/351 [01:53<00:00,  3.10it/s]\n"
     ]
    },
    {
     "name": "stdout",
     "output_type": "stream",
     "text": [
      "Epoch 109, Autoencoder Loss: 0.0015975752612575889, Discriminator Loss: 0.25670430064201355, Discriminator Accuracy: 0.9099003076553345\n",
      "Validation - Autoencoder Loss: 0.0017368498956784606, Discriminator Loss: 1.2613495588302612, Discriminator Accuracy: 0.685844361782074\n"
     ]
    },
    {
     "name": "stderr",
     "output_type": "stream",
     "text": [
      "100%|██████████| 351/351 [01:47<00:00,  3.27it/s]\n"
     ]
    },
    {
     "name": "stdout",
     "output_type": "stream",
     "text": [
      "Epoch 110, Autoencoder Loss: 0.0015935591654852033, Discriminator Loss: 0.24651308357715607, Discriminator Accuracy: 0.9150640964508057\n",
      "Validation - Autoencoder Loss: 0.0017280112951993942, Discriminator Loss: 1.2855664491653442, Discriminator Accuracy: 0.6932947039604187\n"
     ]
    },
    {
     "name": "stderr",
     "output_type": "stream",
     "text": [
      "100%|██████████| 351/351 [01:47<00:00,  3.27it/s]\n"
     ]
    },
    {
     "name": "stdout",
     "output_type": "stream",
     "text": [
      "Epoch 111, Autoencoder Loss: 0.0015889464411884546, Discriminator Loss: 0.2401440143585205, Discriminator Accuracy: 0.9189814925193787\n",
      "Validation - Autoencoder Loss: 0.0017270358512178063, Discriminator Loss: 1.2991564273834229, Discriminator Accuracy: 0.6887417435646057\n"
     ]
    },
    {
     "name": "stderr",
     "output_type": "stream",
     "text": [
      "100%|██████████| 351/351 [01:46<00:00,  3.29it/s]\n"
     ]
    },
    {
     "name": "stdout",
     "output_type": "stream",
     "text": [
      "Epoch 112, Autoencoder Loss: 0.0015865330351516604, Discriminator Loss: 0.23256409168243408, Discriminator Accuracy: 0.9195156693458557\n",
      "Validation - Autoencoder Loss: 0.0017215502448379993, Discriminator Loss: 1.3110651969909668, Discriminator Accuracy: 0.701572835445404\n"
     ]
    },
    {
     "name": "stderr",
     "output_type": "stream",
     "text": [
      "100%|██████████| 351/351 [01:44<00:00,  3.35it/s]\n"
     ]
    },
    {
     "name": "stdout",
     "output_type": "stream",
     "text": [
      "Epoch 113, Autoencoder Loss: 0.0015807547606527805, Discriminator Loss: 0.2277345210313797, Discriminator Accuracy: 0.9236111044883728\n",
      "Validation - Autoencoder Loss: 0.0017206526827067137, Discriminator Loss: 1.3755872249603271, Discriminator Accuracy: 0.6974337697029114\n"
     ]
    },
    {
     "name": "stderr",
     "output_type": "stream",
     "text": [
      "100%|██████████| 351/351 [01:45<00:00,  3.34it/s]\n"
     ]
    },
    {
     "name": "stdout",
     "output_type": "stream",
     "text": [
      "Epoch 114, Autoencoder Loss: 0.0015753073384985328, Discriminator Loss: 0.22395329177379608, Discriminator Accuracy: 0.9214743375778198\n",
      "Validation - Autoencoder Loss: 0.0017169879283756018, Discriminator Loss: 1.3353430032730103, Discriminator Accuracy: 0.6916390657424927\n"
     ]
    },
    {
     "name": "stderr",
     "output_type": "stream",
     "text": [
      "100%|██████████| 351/351 [01:43<00:00,  3.38it/s]\n"
     ]
    },
    {
     "name": "stdout",
     "output_type": "stream",
     "text": [
      "Epoch 115, Autoencoder Loss: 0.0015720396768301725, Discriminator Loss: 0.2188064008951187, Discriminator Accuracy: 0.9237892031669617\n",
      "Validation - Autoencoder Loss: 0.0017133216606453061, Discriminator Loss: 1.3646280765533447, Discriminator Accuracy: 0.6705297827720642\n"
     ]
    },
    {
     "name": "stderr",
     "output_type": "stream",
     "text": [
      "100%|██████████| 351/351 [01:44<00:00,  3.37it/s]\n"
     ]
    },
    {
     "name": "stdout",
     "output_type": "stream",
     "text": [
      "Epoch 116, Autoencoder Loss: 0.0015693018212914467, Discriminator Loss: 0.21402521431446075, Discriminator Accuracy: 0.9284188151359558\n",
      "Validation - Autoencoder Loss: 0.0017101614503189921, Discriminator Loss: 1.3434860706329346, Discriminator Accuracy: 0.7065397500991821\n"
     ]
    },
    {
     "name": "stderr",
     "output_type": "stream",
     "text": [
      "100%|██████████| 351/351 [01:43<00:00,  3.39it/s]\n"
     ]
    },
    {
     "name": "stdout",
     "output_type": "stream",
     "text": [
      "Epoch 117, Autoencoder Loss: 0.0015654271701350808, Discriminator Loss: 0.2021658718585968, Discriminator Accuracy: 0.9316239356994629\n",
      "Validation - Autoencoder Loss: 0.0017021639505401254, Discriminator Loss: 1.389174461364746, Discriminator Accuracy: 0.7048841118812561\n"
     ]
    },
    {
     "name": "stderr",
     "output_type": "stream",
     "text": [
      "100%|██████████| 351/351 [01:41<00:00,  3.44it/s]\n"
     ]
    },
    {
     "name": "stdout",
     "output_type": "stream",
     "text": [
      "Epoch 118, Autoencoder Loss: 0.0015601663617417216, Discriminator Loss: 0.18447540700435638, Discriminator Accuracy: 0.9403489828109741\n",
      "Validation - Autoencoder Loss: 0.001701899105682969, Discriminator Loss: 1.568731427192688, Discriminator Accuracy: 0.6978476643562317\n"
     ]
    },
    {
     "name": "stderr",
     "output_type": "stream",
     "text": [
      "100%|██████████| 351/351 [01:45<00:00,  3.33it/s]\n"
     ]
    },
    {
     "name": "stdout",
     "output_type": "stream",
     "text": [
      "Epoch 119, Autoencoder Loss: 0.0015576072037220001, Discriminator Loss: 0.18886594474315643, Discriminator Accuracy: 0.9398148059844971\n",
      "Validation - Autoencoder Loss: 0.0016968084964901209, Discriminator Loss: 1.4677493572235107, Discriminator Accuracy: 0.6800496578216553\n"
     ]
    },
    {
     "name": "stderr",
     "output_type": "stream",
     "text": [
      "100%|██████████| 351/351 [01:46<00:00,  3.30it/s]\n"
     ]
    },
    {
     "name": "stdout",
     "output_type": "stream",
     "text": [
      "Epoch 120, Autoencoder Loss: 0.0015527446521446109, Discriminator Loss: 0.18853974342346191, Discriminator Accuracy: 0.9407051205635071\n",
      "Validation - Autoencoder Loss: 0.001699622138403356, Discriminator Loss: 1.498284935951233, Discriminator Accuracy: 0.7028145790100098\n"
     ]
    },
    {
     "name": "stderr",
     "output_type": "stream",
     "text": [
      "100%|██████████| 351/351 [01:52<00:00,  3.11it/s]\n"
     ]
    },
    {
     "name": "stdout",
     "output_type": "stream",
     "text": [
      "Epoch 121, Autoencoder Loss: 0.0015503226313740015, Discriminator Loss: 0.1842416226863861, Discriminator Accuracy: 0.9407051205635071\n",
      "Validation - Autoencoder Loss: 0.0016845999052748084, Discriminator Loss: 1.5299240350723267, Discriminator Accuracy: 0.6775662302970886\n"
     ]
    },
    {
     "name": "stderr",
     "output_type": "stream",
     "text": [
      "100%|██████████| 351/351 [01:50<00:00,  3.17it/s]\n"
     ]
    },
    {
     "name": "stdout",
     "output_type": "stream",
     "text": [
      "Epoch 122, Autoencoder Loss: 0.0015461008297279477, Discriminator Loss: 0.1779496669769287, Discriminator Accuracy: 0.9439102411270142\n",
      "Validation - Autoencoder Loss: 0.0016892506973817945, Discriminator Loss: 1.5173301696777344, Discriminator Accuracy: 0.6912251710891724\n"
     ]
    },
    {
     "name": "stderr",
     "output_type": "stream",
     "text": [
      "100%|██████████| 351/351 [01:45<00:00,  3.32it/s]\n"
     ]
    },
    {
     "name": "stdout",
     "output_type": "stream",
     "text": [
      "Epoch 123, Autoencoder Loss: 0.0015419743722304702, Discriminator Loss: 0.16593830287456512, Discriminator Accuracy: 0.9490740895271301\n",
      "Validation - Autoencoder Loss: 0.0016827010549604893, Discriminator Loss: 1.5459554195404053, Discriminator Accuracy: 0.6949503421783447\n"
     ]
    },
    {
     "name": "stderr",
     "output_type": "stream",
     "text": [
      "100%|██████████| 351/351 [01:43<00:00,  3.40it/s]\n"
     ]
    },
    {
     "name": "stdout",
     "output_type": "stream",
     "text": [
      "Epoch 124, Autoencoder Loss: 0.0015395605005323887, Discriminator Loss: 0.157309427857399, Discriminator Accuracy: 0.9521011114120483\n",
      "Validation - Autoencoder Loss: 0.0016805001068860292, Discriminator Loss: 1.566382646560669, Discriminator Accuracy: 0.7024006843566895\n"
     ]
    },
    {
     "name": "stderr",
     "output_type": "stream",
     "text": [
      "100%|██████████| 351/351 [01:45<00:00,  3.33it/s]\n"
     ]
    },
    {
     "name": "stdout",
     "output_type": "stream",
     "text": [
      "Epoch 125, Autoencoder Loss: 0.0015359746757894754, Discriminator Loss: 0.16055595874786377, Discriminator Accuracy: 0.9496082663536072\n",
      "Validation - Autoencoder Loss: 0.0016807315405458212, Discriminator Loss: 1.5880903005599976, Discriminator Accuracy: 0.6792218685150146\n"
     ]
    },
    {
     "name": "stderr",
     "output_type": "stream",
     "text": [
      "100%|██████████| 351/351 [01:42<00:00,  3.42it/s]\n"
     ]
    },
    {
     "name": "stdout",
     "output_type": "stream",
     "text": [
      "Epoch 126, Autoencoder Loss: 0.0015310727758333087, Discriminator Loss: 0.1509680300951004, Discriminator Accuracy: 0.9528133869171143\n",
      "Validation - Autoencoder Loss: 0.0016684230649843812, Discriminator Loss: 1.6018074750900269, Discriminator Accuracy: 0.6875\n"
     ]
    },
    {
     "name": "stderr",
     "output_type": "stream",
     "text": [
      "100%|██████████| 351/351 [01:43<00:00,  3.39it/s]\n"
     ]
    },
    {
     "name": "stdout",
     "output_type": "stream",
     "text": [
      "Epoch 127, Autoencoder Loss: 0.0015293111791834235, Discriminator Loss: 0.1498904973268509, Discriminator Accuracy: 0.9556623697280884\n",
      "Validation - Autoencoder Loss: 0.0016748352209106088, Discriminator Loss: 1.6156374216079712, Discriminator Accuracy: 0.6932947039604187\n"
     ]
    },
    {
     "name": "stderr",
     "output_type": "stream",
     "text": [
      "100%|██████████| 351/351 [01:49<00:00,  3.20it/s]\n"
     ]
    },
    {
     "name": "stdout",
     "output_type": "stream",
     "text": [
      "Epoch 128, Autoencoder Loss: 0.0015255727339535952, Discriminator Loss: 0.145985946059227, Discriminator Accuracy: 0.9545940160751343\n",
      "Validation - Autoencoder Loss: 0.0016689470503479242, Discriminator Loss: 1.652539610862732, Discriminator Accuracy: 0.6957781314849854\n"
     ]
    },
    {
     "name": "stderr",
     "output_type": "stream",
     "text": [
      "100%|██████████| 351/351 [01:45<00:00,  3.33it/s]\n"
     ]
    },
    {
     "name": "stdout",
     "output_type": "stream",
     "text": [
      "Epoch 129, Autoencoder Loss: 0.0015226717805489898, Discriminator Loss: 0.1288226693868637, Discriminator Accuracy: 0.9610042572021484\n",
      "Validation - Autoencoder Loss: 0.0016807132633402944, Discriminator Loss: 1.7060729265213013, Discriminator Accuracy: 0.6883277893066406\n"
     ]
    },
    {
     "name": "stderr",
     "output_type": "stream",
     "text": [
      "100%|██████████| 351/351 [01:48<00:00,  3.22it/s]\n"
     ]
    },
    {
     "name": "stdout",
     "output_type": "stream",
     "text": [
      "Epoch 130, Autoencoder Loss: 0.001518705510534346, Discriminator Loss: 0.1442311555147171, Discriminator Accuracy: 0.9577991366386414\n",
      "Validation - Autoencoder Loss: 0.0016597043722867966, Discriminator Loss: 1.6670899391174316, Discriminator Accuracy: 0.682947039604187\n"
     ]
    },
    {
     "name": "stderr",
     "output_type": "stream",
     "text": [
      "100%|██████████| 351/351 [01:43<00:00,  3.40it/s]\n"
     ]
    },
    {
     "name": "stdout",
     "output_type": "stream",
     "text": [
      "Epoch 131, Autoencoder Loss: 0.0015155458822846413, Discriminator Loss: 0.12854038178920746, Discriminator Accuracy: 0.9650996923446655\n",
      "Validation - Autoencoder Loss: 0.0016674705548211932, Discriminator Loss: 1.8422613143920898, Discriminator Accuracy: 0.7028145790100098\n"
     ]
    },
    {
     "name": "stderr",
     "output_type": "stream",
     "text": [
      "100%|██████████| 351/351 [01:49<00:00,  3.21it/s]\n"
     ]
    },
    {
     "name": "stdout",
     "output_type": "stream",
     "text": [
      "Epoch 132, Autoencoder Loss: 0.0015130446990951896, Discriminator Loss: 0.12227722257375717, Discriminator Accuracy: 0.9629629850387573\n",
      "Validation - Autoencoder Loss: 0.001656522392295301, Discriminator Loss: 1.742150068283081, Discriminator Accuracy: 0.6970198750495911\n"
     ]
    },
    {
     "name": "stderr",
     "output_type": "stream",
     "text": [
      "100%|██████████| 351/351 [01:47<00:00,  3.27it/s]\n"
     ]
    },
    {
     "name": "stdout",
     "output_type": "stream",
     "text": [
      "Epoch 133, Autoencoder Loss: 0.0015112354885786772, Discriminator Loss: 0.11667902767658234, Discriminator Accuracy: 0.9681267738342285\n",
      "Validation - Autoencoder Loss: 0.0016529487911611795, Discriminator Loss: 1.7440598011016846, Discriminator Accuracy: 0.681291401386261\n"
     ]
    },
    {
     "name": "stderr",
     "output_type": "stream",
     "text": [
      "100%|██████████| 351/351 [01:51<00:00,  3.13it/s]\n"
     ]
    },
    {
     "name": "stdout",
     "output_type": "stream",
     "text": [
      "Epoch 134, Autoencoder Loss: 0.0015068110078573227, Discriminator Loss: 0.12313712388277054, Discriminator Accuracy: 0.9659900069236755\n",
      "Validation - Autoencoder Loss: 0.0016494012670591474, Discriminator Loss: 1.7935758829116821, Discriminator Accuracy: 0.6982616186141968\n"
     ]
    },
    {
     "name": "stderr",
     "output_type": "stream",
     "text": [
      "100%|██████████| 351/351 [01:46<00:00,  3.28it/s]\n"
     ]
    },
    {
     "name": "stdout",
     "output_type": "stream",
     "text": [
      "Epoch 135, Autoencoder Loss: 0.0015029686037451029, Discriminator Loss: 0.11183631420135498, Discriminator Accuracy: 0.9697293639183044\n",
      "Validation - Autoencoder Loss: 0.001644078060053289, Discriminator Loss: 1.8273861408233643, Discriminator Accuracy: 0.6862582564353943\n"
     ]
    },
    {
     "name": "stderr",
     "output_type": "stream",
     "text": [
      "100%|██████████| 351/351 [01:46<00:00,  3.30it/s]\n"
     ]
    },
    {
     "name": "stdout",
     "output_type": "stream",
     "text": [
      "Epoch 136, Autoencoder Loss: 0.0014998026890680194, Discriminator Loss: 0.1125350147485733, Discriminator Accuracy: 0.9672364592552185\n",
      "Validation - Autoencoder Loss: 0.001645700540393591, Discriminator Loss: 1.869621992111206, Discriminator Accuracy: 0.693708598613739\n"
     ]
    },
    {
     "name": "stderr",
     "output_type": "stream",
     "text": [
      "100%|██████████| 351/351 [01:40<00:00,  3.48it/s]\n"
     ]
    },
    {
     "name": "stdout",
     "output_type": "stream",
     "text": [
      "Epoch 137, Autoencoder Loss: 0.0014970183838158846, Discriminator Loss: 0.11190371215343475, Discriminator Accuracy: 0.9675925970077515\n",
      "Validation - Autoencoder Loss: 0.0016396580031141639, Discriminator Loss: 1.872732400894165, Discriminator Accuracy: 0.6924669146537781\n"
     ]
    },
    {
     "name": "stderr",
     "output_type": "stream",
     "text": [
      "100%|██████████| 351/351 [01:38<00:00,  3.56it/s]\n"
     ]
    },
    {
     "name": "stdout",
     "output_type": "stream",
     "text": [
      "Epoch 138, Autoencoder Loss: 0.0014943198766559362, Discriminator Loss: 0.09948277473449707, Discriminator Accuracy: 0.9720441699028015\n",
      "Validation - Autoencoder Loss: 0.001637274632230401, Discriminator Loss: 1.9213430881500244, Discriminator Accuracy: 0.6970198750495911\n"
     ]
    },
    {
     "name": "stderr",
     "output_type": "stream",
     "text": [
      "100%|██████████| 351/351 [01:35<00:00,  3.66it/s]\n"
     ]
    },
    {
     "name": "stdout",
     "output_type": "stream",
     "text": [
      "Epoch 139, Autoencoder Loss: 0.0014917157823219895, Discriminator Loss: 0.0936218872666359, Discriminator Accuracy: 0.9747151136398315\n",
      "Validation - Autoencoder Loss: 0.0016361632151529193, Discriminator Loss: 1.8980995416641235, Discriminator Accuracy: 0.6895695328712463\n"
     ]
    },
    {
     "name": "stderr",
     "output_type": "stream",
     "text": [
      "100%|██████████| 351/351 [01:35<00:00,  3.67it/s]\n"
     ]
    },
    {
     "name": "stdout",
     "output_type": "stream",
     "text": [
      "Epoch 140, Autoencoder Loss: 0.001489734393544495, Discriminator Loss: 0.09048403054475784, Discriminator Accuracy: 0.9768518805503845\n",
      "Validation - Autoencoder Loss: 0.0016324789030477405, Discriminator Loss: 1.9355450868606567, Discriminator Accuracy: 0.684188723564148\n"
     ]
    },
    {
     "name": "stderr",
     "output_type": "stream",
     "text": [
      "100%|██████████| 351/351 [01:35<00:00,  3.66it/s]\n"
     ]
    },
    {
     "name": "stdout",
     "output_type": "stream",
     "text": [
      "Epoch 141, Autoencoder Loss: 0.0014860326191410422, Discriminator Loss: 0.11376192420721054, Discriminator Accuracy: 0.9715099930763245\n",
      "Validation - Autoencoder Loss: 0.0016288269544020295, Discriminator Loss: 1.9785034656524658, Discriminator Accuracy: 0.689155638217926\n"
     ]
    },
    {
     "name": "stderr",
     "output_type": "stream",
     "text": [
      "100%|██████████| 351/351 [01:36<00:00,  3.65it/s]\n"
     ]
    },
    {
     "name": "stdout",
     "output_type": "stream",
     "text": [
      "Epoch 142, Autoencoder Loss: 0.0014828640269115567, Discriminator Loss: 0.0827866792678833, Discriminator Accuracy: 0.9768518805503845\n",
      "Validation - Autoencoder Loss: 0.0016267605824396014, Discriminator Loss: 1.97686767578125, Discriminator Accuracy: 0.6978476643562317\n"
     ]
    },
    {
     "name": "stderr",
     "output_type": "stream",
     "text": [
      "100%|██████████| 351/351 [01:35<00:00,  3.66it/s]\n"
     ]
    },
    {
     "name": "stdout",
     "output_type": "stream",
     "text": [
      "Epoch 143, Autoencoder Loss: 0.0014797282638028264, Discriminator Loss: 0.08435159921646118, Discriminator Accuracy: 0.9777421355247498\n",
      "Validation - Autoencoder Loss: 0.001624546479433775, Discriminator Loss: 2.017791986465454, Discriminator Accuracy: 0.684602677822113\n"
     ]
    },
    {
     "name": "stderr",
     "output_type": "stream",
     "text": [
      "100%|██████████| 351/351 [01:36<00:00,  3.65it/s]\n"
     ]
    },
    {
     "name": "stdout",
     "output_type": "stream",
     "text": [
      "Epoch 144, Autoencoder Loss: 0.0014774507144466043, Discriminator Loss: 0.07452915608882904, Discriminator Accuracy: 0.9825498461723328\n",
      "Validation - Autoencoder Loss: 0.001626641140319407, Discriminator Loss: 2.0378835201263428, Discriminator Accuracy: 0.7057119011878967\n"
     ]
    },
    {
     "name": "stderr",
     "output_type": "stream",
     "text": [
      "100%|██████████| 351/351 [01:36<00:00,  3.66it/s]\n"
     ]
    },
    {
     "name": "stdout",
     "output_type": "stream",
     "text": [
      "Epoch 145, Autoencoder Loss: 0.0014754337025806308, Discriminator Loss: 0.07138822227716446, Discriminator Accuracy: 0.9834401607513428\n",
      "Validation - Autoencoder Loss: 0.00162356102373451, Discriminator Loss: 2.1240103244781494, Discriminator Accuracy: 0.684188723564148\n"
     ]
    },
    {
     "name": "stderr",
     "output_type": "stream",
     "text": [
      "100%|██████████| 351/351 [01:35<00:00,  3.66it/s]\n"
     ]
    },
    {
     "name": "stdout",
     "output_type": "stream",
     "text": [
      "Epoch 146, Autoencoder Loss: 0.0014712928095832467, Discriminator Loss: 0.062463805079460144, Discriminator Accuracy: 0.9871794581413269\n",
      "Validation - Autoencoder Loss: 0.0016194811323657632, Discriminator Loss: 2.1246495246887207, Discriminator Accuracy: 0.6941224932670593\n"
     ]
    },
    {
     "name": "stderr",
     "output_type": "stream",
     "text": [
      "100%|██████████| 351/351 [01:35<00:00,  3.66it/s]\n"
     ]
    },
    {
     "name": "stdout",
     "output_type": "stream",
     "text": [
      "Epoch 147, Autoencoder Loss: 0.0014689279487356544, Discriminator Loss: 0.07607442885637283, Discriminator Accuracy: 0.9846866130828857\n",
      "Validation - Autoencoder Loss: 0.0016146019333973527, Discriminator Loss: 2.075603485107422, Discriminator Accuracy: 0.6862582564353943\n"
     ]
    },
    {
     "name": "stderr",
     "output_type": "stream",
     "text": [
      "100%|██████████| 351/351 [01:36<00:00,  3.64it/s]\n"
     ]
    },
    {
     "name": "stdout",
     "output_type": "stream",
     "text": [
      "Epoch 148, Autoencoder Loss: 0.001467514201067388, Discriminator Loss: 0.1065961942076683, Discriminator Accuracy: 0.9750712513923645\n",
      "Validation - Autoencoder Loss: 0.0016143393004313111, Discriminator Loss: 2.1197566986083984, Discriminator Accuracy: 0.6862582564353943\n"
     ]
    },
    {
     "name": "stderr",
     "output_type": "stream",
     "text": [
      "100%|██████████| 351/351 [01:35<00:00,  3.66it/s]\n"
     ]
    },
    {
     "name": "stdout",
     "output_type": "stream",
     "text": [
      "Epoch 149, Autoencoder Loss: 0.001466440036892891, Discriminator Loss: 0.06303950399160385, Discriminator Accuracy: 0.9868233799934387\n",
      "Validation - Autoencoder Loss: 0.0016163079999387264, Discriminator Loss: 2.1407268047332764, Discriminator Accuracy: 0.6833609342575073\n"
     ]
    },
    {
     "name": "stderr",
     "output_type": "stream",
     "text": [
      "100%|██████████| 351/351 [01:36<00:00,  3.65it/s]\n"
     ]
    },
    {
     "name": "stdout",
     "output_type": "stream",
     "text": [
      "Epoch 150, Autoencoder Loss: 0.0014613792300224304, Discriminator Loss: 0.057832349091768265, Discriminator Accuracy: 0.9868233799934387\n",
      "Validation - Autoencoder Loss: 0.0016119797946885228, Discriminator Loss: 2.1904003620147705, Discriminator Accuracy: 0.6924669146537781\n"
     ]
    },
    {
     "name": "stderr",
     "output_type": "stream",
     "text": [
      "100%|██████████| 351/351 [01:36<00:00,  3.63it/s]\n"
     ]
    },
    {
     "name": "stdout",
     "output_type": "stream",
     "text": [
      "Epoch 151, Autoencoder Loss: 0.0014582255389541388, Discriminator Loss: 0.0607878677546978, Discriminator Accuracy: 0.9878917336463928\n",
      "Validation - Autoencoder Loss: 0.0016035666922107339, Discriminator Loss: 2.2504091262817383, Discriminator Accuracy: 0.6986755132675171\n"
     ]
    },
    {
     "name": "stderr",
     "output_type": "stream",
     "text": [
      "100%|██████████| 351/351 [01:35<00:00,  3.67it/s]\n"
     ]
    },
    {
     "name": "stdout",
     "output_type": "stream",
     "text": [
      "Epoch 152, Autoencoder Loss: 0.0014573173830285668, Discriminator Loss: 0.06316591054201126, Discriminator Accuracy: 0.9887820482254028\n",
      "Validation - Autoencoder Loss: 0.0016097321640700102, Discriminator Loss: 2.3795084953308105, Discriminator Accuracy: 0.692052960395813\n"
     ]
    },
    {
     "name": "stderr",
     "output_type": "stream",
     "text": [
      "100%|██████████| 351/351 [01:36<00:00,  3.64it/s]\n"
     ]
    },
    {
     "name": "stdout",
     "output_type": "stream",
     "text": [
      "Epoch 153, Autoencoder Loss: 0.0014546009479090571, Discriminator Loss: 0.05696311220526695, Discriminator Accuracy: 0.9894943237304688\n",
      "Validation - Autoencoder Loss: 0.0016045894008129835, Discriminator Loss: 2.2721526622772217, Discriminator Accuracy: 0.6833609342575073\n"
     ]
    },
    {
     "name": "stderr",
     "output_type": "stream",
     "text": [
      "100%|██████████| 351/351 [01:35<00:00,  3.66it/s]\n"
     ]
    },
    {
     "name": "stdout",
     "output_type": "stream",
     "text": [
      "Epoch 154, Autoencoder Loss: 0.0014507193118333817, Discriminator Loss: 0.0640551820397377, Discriminator Accuracy: 0.9870014190673828\n",
      "Validation - Autoencoder Loss: 0.0016108322888612747, Discriminator Loss: 2.266899347305298, Discriminator Accuracy: 0.690811276435852\n"
     ]
    },
    {
     "name": "stderr",
     "output_type": "stream",
     "text": [
      "100%|██████████| 351/351 [01:35<00:00,  3.66it/s]\n"
     ]
    },
    {
     "name": "stdout",
     "output_type": "stream",
     "text": [
      "Epoch 155, Autoencoder Loss: 0.001449647475965321, Discriminator Loss: 0.06389860063791275, Discriminator Accuracy: 0.9855769276618958\n",
      "Validation - Autoencoder Loss: 0.00160134001635015, Discriminator Loss: 2.3261404037475586, Discriminator Accuracy: 0.6924669146537781\n"
     ]
    },
    {
     "name": "stderr",
     "output_type": "stream",
     "text": [
      "100%|██████████| 351/351 [01:36<00:00,  3.65it/s]\n"
     ]
    },
    {
     "name": "stdout",
     "output_type": "stream",
     "text": [
      "Epoch 156, Autoencoder Loss: 0.0014463815605267882, Discriminator Loss: 0.052096351981163025, Discriminator Accuracy: 0.9891381859779358\n",
      "Validation - Autoencoder Loss: 0.0015940306475386024, Discriminator Loss: 2.4185240268707275, Discriminator Accuracy: 0.6850165724754333\n"
     ]
    },
    {
     "name": "stderr",
     "output_type": "stream",
     "text": [
      "100%|██████████| 351/351 [01:36<00:00,  3.65it/s]\n"
     ]
    },
    {
     "name": "stdout",
     "output_type": "stream",
     "text": [
      "Epoch 157, Autoencoder Loss: 0.0014447091380134225, Discriminator Loss: 0.04958811774849892, Discriminator Accuracy: 0.9900285005569458\n",
      "Validation - Autoencoder Loss: 0.0015936633571982384, Discriminator Loss: 2.359098196029663, Discriminator Accuracy: 0.6941224932670593\n"
     ]
    },
    {
     "name": "stderr",
     "output_type": "stream",
     "text": [
      "100%|██████████| 351/351 [01:36<00:00,  3.65it/s]\n"
     ]
    },
    {
     "name": "stdout",
     "output_type": "stream",
     "text": [
      "Epoch 158, Autoencoder Loss: 0.0014410545118153095, Discriminator Loss: 0.05149957537651062, Discriminator Accuracy: 0.9903846383094788\n",
      "Validation - Autoencoder Loss: 0.001589534105733037, Discriminator Loss: 2.3584187030792236, Discriminator Accuracy: 0.6899834275245667\n"
     ]
    },
    {
     "name": "stderr",
     "output_type": "stream",
     "text": [
      "100%|██████████| 351/351 [01:35<00:00,  3.66it/s]\n"
     ]
    },
    {
     "name": "stdout",
     "output_type": "stream",
     "text": [
      "Epoch 159, Autoencoder Loss: 0.0014401149237528443, Discriminator Loss: 0.050195176154375076, Discriminator Accuracy: 0.9894943237304688\n",
      "Validation - Autoencoder Loss: 0.0015848601469770074, Discriminator Loss: 2.583914279937744, Discriminator Accuracy: 0.6970198750495911\n"
     ]
    },
    {
     "name": "stderr",
     "output_type": "stream",
     "text": [
      "100%|██████████| 351/351 [01:36<00:00,  3.65it/s]\n"
     ]
    },
    {
     "name": "stdout",
     "output_type": "stream",
     "text": [
      "Epoch 160, Autoencoder Loss: 0.0014374962775036693, Discriminator Loss: 0.08805761486291885, Discriminator Accuracy: 0.9798789024353027\n",
      "Validation - Autoencoder Loss: 0.001588511629961431, Discriminator Loss: 2.364659309387207, Discriminator Accuracy: 0.6808775067329407\n"
     ]
    },
    {
     "name": "stderr",
     "output_type": "stream",
     "text": [
      "100%|██████████| 351/351 [01:36<00:00,  3.64it/s]\n"
     ]
    },
    {
     "name": "stdout",
     "output_type": "stream",
     "text": [
      "Epoch 161, Autoencoder Loss: 0.0014358548214659095, Discriminator Loss: 0.04041260853409767, Discriminator Accuracy: 0.9919871687889099\n",
      "Validation - Autoencoder Loss: 0.0015804489376023412, Discriminator Loss: 2.3996126651763916, Discriminator Accuracy: 0.681291401386261\n"
     ]
    },
    {
     "name": "stderr",
     "output_type": "stream",
     "text": [
      "100%|██████████| 351/351 [01:36<00:00,  3.63it/s]\n"
     ]
    },
    {
     "name": "stdout",
     "output_type": "stream",
     "text": [
      "Epoch 162, Autoencoder Loss: 0.0014314695727080107, Discriminator Loss: 0.02866235002875328, Discriminator Accuracy: 0.995192289352417\n",
      "Validation - Autoencoder Loss: 0.001580290263518691, Discriminator Loss: 2.464810609817505, Discriminator Accuracy: 0.6966059803962708\n"
     ]
    },
    {
     "name": "stderr",
     "output_type": "stream",
     "text": [
      "100%|██████████| 351/351 [01:36<00:00,  3.63it/s]\n"
     ]
    },
    {
     "name": "stdout",
     "output_type": "stream",
     "text": [
      "Epoch 163, Autoencoder Loss: 0.0014330906560644507, Discriminator Loss: 0.03514866903424263, Discriminator Accuracy: 0.994301974773407\n",
      "Validation - Autoencoder Loss: 0.0015787642914801836, Discriminator Loss: 2.4583981037139893, Discriminator Accuracy: 0.682947039604187\n"
     ]
    },
    {
     "name": "stderr",
     "output_type": "stream",
     "text": [
      "100%|██████████| 351/351 [01:36<00:00,  3.63it/s]\n"
     ]
    },
    {
     "name": "stdout",
     "output_type": "stream",
     "text": [
      "Epoch 164, Autoencoder Loss: 0.0014286648947745562, Discriminator Loss: 0.08169563114643097, Discriminator Accuracy: 0.9836182594299316\n",
      "Validation - Autoencoder Loss: 0.0015773404156789184, Discriminator Loss: 2.9955763816833496, Discriminator Accuracy: 0.6725993156433105\n"
     ]
    },
    {
     "name": "stderr",
     "output_type": "stream",
     "text": [
      "100%|██████████| 351/351 [01:36<00:00,  3.64it/s]\n"
     ]
    },
    {
     "name": "stdout",
     "output_type": "stream",
     "text": [
      "Epoch 165, Autoencoder Loss: 0.0014257279690355062, Discriminator Loss: 0.1053454652428627, Discriminator Accuracy: 0.9768518805503845\n",
      "Validation - Autoencoder Loss: 0.0015761187532916665, Discriminator Loss: 2.419421434402466, Discriminator Accuracy: 0.692052960395813\n"
     ]
    },
    {
     "name": "stderr",
     "output_type": "stream",
     "text": [
      "100%|██████████| 351/351 [01:36<00:00,  3.62it/s]\n"
     ]
    },
    {
     "name": "stdout",
     "output_type": "stream",
     "text": [
      "Epoch 166, Autoencoder Loss: 0.0014259179588407278, Discriminator Loss: 0.030007751658558846, Discriminator Accuracy: 0.99554842710495\n",
      "Validation - Autoencoder Loss: 0.0015741812530905008, Discriminator Loss: 2.4093079566955566, Discriminator Accuracy: 0.6949503421783447\n"
     ]
    },
    {
     "name": "stderr",
     "output_type": "stream",
     "text": [
      "100%|██████████| 351/351 [01:37<00:00,  3.61it/s]\n"
     ]
    },
    {
     "name": "stdout",
     "output_type": "stream",
     "text": [
      "Epoch 167, Autoencoder Loss: 0.0014215469127520919, Discriminator Loss: 0.020785892382264137, Discriminator Accuracy: 0.99732905626297\n",
      "Validation - Autoencoder Loss: 0.0015751165337860584, Discriminator Loss: 2.5072240829467773, Discriminator Accuracy: 0.6916390657424927\n"
     ]
    },
    {
     "name": "stderr",
     "output_type": "stream",
     "text": [
      "100%|██████████| 351/351 [01:36<00:00,  3.63it/s]\n"
     ]
    },
    {
     "name": "stdout",
     "output_type": "stream",
     "text": [
      "Epoch 168, Autoencoder Loss: 0.0014198336284607649, Discriminator Loss: 0.020244702696800232, Discriminator Accuracy: 0.9983974099159241\n",
      "Validation - Autoencoder Loss: 0.001571553642861545, Discriminator Loss: 2.566321849822998, Discriminator Accuracy: 0.6866722106933594\n"
     ]
    },
    {
     "name": "stderr",
     "output_type": "stream",
     "text": [
      "100%|██████████| 351/351 [01:36<00:00,  3.62it/s]\n"
     ]
    },
    {
     "name": "stdout",
     "output_type": "stream",
     "text": [
      "Epoch 169, Autoencoder Loss: 0.0014188087079674006, Discriminator Loss: 0.03196511045098305, Discriminator Accuracy: 0.9959045648574829\n",
      "Validation - Autoencoder Loss: 0.0015658695483580232, Discriminator Loss: 2.8972253799438477, Discriminator Accuracy: 0.7040562629699707\n"
     ]
    },
    {
     "name": "stderr",
     "output_type": "stream",
     "text": [
      "100%|██████████| 351/351 [01:36<00:00,  3.63it/s]\n"
     ]
    },
    {
     "name": "stdout",
     "output_type": "stream",
     "text": [
      "Epoch 170, Autoencoder Loss: 0.0014175924006849527, Discriminator Loss: 0.10564084351062775, Discriminator Accuracy: 0.9773860573768616\n",
      "Validation - Autoencoder Loss: 0.00156997365411371, Discriminator Loss: 2.562549352645874, Discriminator Accuracy: 0.6949503421783447\n"
     ]
    },
    {
     "name": "stderr",
     "output_type": "stream",
     "text": [
      "100%|██████████| 351/351 [01:36<00:00,  3.64it/s]\n"
     ]
    },
    {
     "name": "stdout",
     "output_type": "stream",
     "text": [
      "Epoch 171, Autoencoder Loss: 0.001414020312950015, Discriminator Loss: 0.024165669456124306, Discriminator Accuracy: 0.996972918510437\n",
      "Validation - Autoencoder Loss: 0.001568408915773034, Discriminator Loss: 2.5400285720825195, Discriminator Accuracy: 0.6990894079208374\n"
     ]
    },
    {
     "name": "stderr",
     "output_type": "stream",
     "text": [
      "100%|██████████| 351/351 [01:36<00:00,  3.63it/s]\n"
     ]
    },
    {
     "name": "stdout",
     "output_type": "stream",
     "text": [
      "Epoch 172, Autoencoder Loss: 0.0014125809539109468, Discriminator Loss: 0.023745398968458176, Discriminator Accuracy: 0.996616780757904\n",
      "Validation - Autoencoder Loss: 0.0015611049020662904, Discriminator Loss: 2.543398141860962, Discriminator Accuracy: 0.685844361782074\n"
     ]
    },
    {
     "name": "stderr",
     "output_type": "stream",
     "text": [
      "100%|██████████| 351/351 [01:36<00:00,  3.63it/s]\n"
     ]
    },
    {
     "name": "stdout",
     "output_type": "stream",
     "text": [
      "Epoch 173, Autoencoder Loss: 0.0014090250479057431, Discriminator Loss: 0.030672110617160797, Discriminator Accuracy: 0.9962607026100159\n",
      "Validation - Autoencoder Loss: 0.0015635311137884855, Discriminator Loss: 2.6250803470611572, Discriminator Accuracy: 0.690811276435852\n"
     ]
    },
    {
     "name": "stderr",
     "output_type": "stream",
     "text": [
      "100%|██████████| 351/351 [01:36<00:00,  3.62it/s]\n"
     ]
    },
    {
     "name": "stdout",
     "output_type": "stream",
     "text": [
      "Epoch 174, Autoencoder Loss: 0.0014075870858505368, Discriminator Loss: 0.026003487408161163, Discriminator Accuracy: 0.996082603931427\n",
      "Validation - Autoencoder Loss: 0.0015555421123281121, Discriminator Loss: 2.754209041595459, Discriminator Accuracy: 0.6916390657424927\n"
     ]
    },
    {
     "name": "stderr",
     "output_type": "stream",
     "text": [
      "100%|██████████| 351/351 [01:37<00:00,  3.62it/s]\n"
     ]
    },
    {
     "name": "stdout",
     "output_type": "stream",
     "text": [
      "Epoch 175, Autoencoder Loss: 0.0014041336253285408, Discriminator Loss: 0.022425398230552673, Discriminator Accuracy: 0.99821937084198\n",
      "Validation - Autoencoder Loss: 0.0015546564245596528, Discriminator Loss: 2.755882501602173, Discriminator Accuracy: 0.7003311514854431\n"
     ]
    },
    {
     "name": "stderr",
     "output_type": "stream",
     "text": [
      "100%|██████████| 351/351 [01:36<00:00,  3.63it/s]\n"
     ]
    },
    {
     "name": "stdout",
     "output_type": "stream",
     "text": [
      "Epoch 176, Autoencoder Loss: 0.0014037685468792915, Discriminator Loss: 0.06518852710723877, Discriminator Accuracy: 0.9871794581413269\n",
      "Validation - Autoencoder Loss: 0.0015539373271167278, Discriminator Loss: 2.7679553031921387, Discriminator Accuracy: 0.690811276435852\n"
     ]
    },
    {
     "name": "stderr",
     "output_type": "stream",
     "text": [
      "100%|██████████| 351/351 [01:36<00:00,  3.64it/s]\n"
     ]
    },
    {
     "name": "stdout",
     "output_type": "stream",
     "text": [
      "Epoch 177, Autoencoder Loss: 0.001402821857482195, Discriminator Loss: 0.07466098666191101, Discriminator Accuracy: 0.9853988885879517\n",
      "Validation - Autoencoder Loss: 0.0015521921450272202, Discriminator Loss: 2.617967367172241, Discriminator Accuracy: 0.6924669146537781\n"
     ]
    },
    {
     "name": "stderr",
     "output_type": "stream",
     "text": [
      "100%|██████████| 351/351 [01:37<00:00,  3.61it/s]\n"
     ]
    },
    {
     "name": "stdout",
     "output_type": "stream",
     "text": [
      "Epoch 178, Autoencoder Loss: 0.001399585627950728, Discriminator Loss: 0.020499588921666145, Discriminator Accuracy: 0.996972918510437\n",
      "Validation - Autoencoder Loss: 0.0015512957470491529, Discriminator Loss: 2.7675085067749023, Discriminator Accuracy: 0.6970198750495911\n"
     ]
    },
    {
     "name": "stderr",
     "output_type": "stream",
     "text": [
      "100%|██████████| 351/351 [01:36<00:00,  3.63it/s]\n"
     ]
    },
    {
     "name": "stdout",
     "output_type": "stream",
     "text": [
      "Epoch 179, Autoencoder Loss: 0.0013967952691018581, Discriminator Loss: 0.011097653768956661, Discriminator Accuracy: 0.9992877244949341\n",
      "Validation - Autoencoder Loss: 0.0015526062343269587, Discriminator Loss: 2.680445909500122, Discriminator Accuracy: 0.6941224932670593\n"
     ]
    },
    {
     "name": "stderr",
     "output_type": "stream",
     "text": [
      "100%|██████████| 351/351 [01:36<00:00,  3.64it/s]\n"
     ]
    },
    {
     "name": "stdout",
     "output_type": "stream",
     "text": [
      "Epoch 180, Autoencoder Loss: 0.0013955668546259403, Discriminator Loss: 0.009936634451150894, Discriminator Accuracy: 0.9998219609260559\n",
      "Validation - Autoencoder Loss: 0.001545528881251812, Discriminator Loss: 2.818419933319092, Discriminator Accuracy: 0.6966059803962708\n"
     ]
    },
    {
     "name": "stderr",
     "output_type": "stream",
     "text": [
      "100%|██████████| 351/351 [01:36<00:00,  3.63it/s]\n"
     ]
    },
    {
     "name": "stdout",
     "output_type": "stream",
     "text": [
      "Epoch 181, Autoencoder Loss: 0.0013927791733294725, Discriminator Loss: 0.017107386142015457, Discriminator Accuracy: 0.9983974099159241\n",
      "Validation - Autoencoder Loss: 0.0015457740519195795, Discriminator Loss: 3.1097092628479004, Discriminator Accuracy: 0.6916390657424927\n"
     ]
    },
    {
     "name": "stderr",
     "output_type": "stream",
     "text": [
      "100%|██████████| 351/351 [01:36<00:00,  3.65it/s]\n"
     ]
    },
    {
     "name": "stdout",
     "output_type": "stream",
     "text": [
      "Epoch 182, Autoencoder Loss: 0.001390833524055779, Discriminator Loss: 0.12295035272836685, Discriminator Accuracy: 0.9766737818717957\n",
      "Validation - Autoencoder Loss: 0.0015439391136169434, Discriminator Loss: 2.61431884765625, Discriminator Accuracy: 0.690397322177887\n"
     ]
    },
    {
     "name": "stderr",
     "output_type": "stream",
     "text": [
      "100%|██████████| 351/351 [01:36<00:00,  3.64it/s]\n"
     ]
    },
    {
     "name": "stdout",
     "output_type": "stream",
     "text": [
      "Epoch 183, Autoencoder Loss: 0.0013893733266741037, Discriminator Loss: 0.01817385107278824, Discriminator Accuracy: 0.9985755085945129\n",
      "Validation - Autoencoder Loss: 0.0015431302599608898, Discriminator Loss: 2.659757137298584, Discriminator Accuracy: 0.7040562629699707\n"
     ]
    },
    {
     "name": "stderr",
     "output_type": "stream",
     "text": [
      "100%|██████████| 351/351 [01:36<00:00,  3.62it/s]\n"
     ]
    },
    {
     "name": "stdout",
     "output_type": "stream",
     "text": [
      "Epoch 184, Autoencoder Loss: 0.0013870889088138938, Discriminator Loss: 0.010157830081880093, Discriminator Accuracy: 0.99910968542099\n",
      "Validation - Autoencoder Loss: 0.0015408911276608706, Discriminator Loss: 2.706113815307617, Discriminator Accuracy: 0.6974337697029114\n"
     ]
    },
    {
     "name": "stderr",
     "output_type": "stream",
     "text": [
      "100%|██████████| 351/351 [01:36<00:00,  3.64it/s]\n"
     ]
    },
    {
     "name": "stdout",
     "output_type": "stream",
     "text": [
      "Epoch 185, Autoencoder Loss: 0.001386375748552382, Discriminator Loss: 0.0073049538768827915, Discriminator Accuracy: 0.9998219609260559\n",
      "Validation - Autoencoder Loss: 0.0015398267423734069, Discriminator Loss: 2.800112247467041, Discriminator Accuracy: 0.7077814340591431\n"
     ]
    },
    {
     "name": "stderr",
     "output_type": "stream",
     "text": [
      "100%|██████████| 351/351 [01:37<00:00,  3.59it/s]\n"
     ]
    },
    {
     "name": "stdout",
     "output_type": "stream",
     "text": [
      "Epoch 186, Autoencoder Loss: 0.001383973634801805, Discriminator Loss: 0.011532911099493504, Discriminator Accuracy: 0.9992877244949341\n",
      "Validation - Autoencoder Loss: 0.0015375077491626143, Discriminator Loss: 2.8836281299591064, Discriminator Accuracy: 0.689155638217926\n"
     ]
    },
    {
     "name": "stderr",
     "output_type": "stream",
     "text": [
      "100%|██████████| 351/351 [01:37<00:00,  3.60it/s]\n"
     ]
    },
    {
     "name": "stdout",
     "output_type": "stream",
     "text": [
      "Epoch 187, Autoencoder Loss: 0.0013825885253027081, Discriminator Loss: 0.11408664286136627, Discriminator Accuracy: 0.9775640964508057\n",
      "Validation - Autoencoder Loss: 0.0015331070171669126, Discriminator Loss: 2.8098034858703613, Discriminator Accuracy: 0.6783940196037292\n"
     ]
    },
    {
     "name": "stderr",
     "output_type": "stream",
     "text": [
      "100%|██████████| 351/351 [01:36<00:00,  3.62it/s]\n"
     ]
    },
    {
     "name": "stdout",
     "output_type": "stream",
     "text": [
      "Epoch 188, Autoencoder Loss: 0.001383546506986022, Discriminator Loss: 0.031717125326395035, Discriminator Accuracy: 0.9959045648574829\n",
      "Validation - Autoencoder Loss: 0.0015361577970907092, Discriminator Loss: 2.7329351902008057, Discriminator Accuracy: 0.6932947039604187\n"
     ]
    },
    {
     "name": "stderr",
     "output_type": "stream",
     "text": [
      "100%|██████████| 351/351 [01:36<00:00,  3.62it/s]\n"
     ]
    },
    {
     "name": "stdout",
     "output_type": "stream",
     "text": [
      "Epoch 189, Autoencoder Loss: 0.0013784036273136735, Discriminator Loss: 0.012354480102658272, Discriminator Accuracy: 0.999643862247467\n",
      "Validation - Autoencoder Loss: 0.0015435998793691397, Discriminator Loss: 2.7491302490234375, Discriminator Accuracy: 0.6966059803962708\n"
     ]
    },
    {
     "name": "stderr",
     "output_type": "stream",
     "text": [
      "100%|██████████| 351/351 [01:36<00:00,  3.62it/s]\n"
     ]
    },
    {
     "name": "stdout",
     "output_type": "stream",
     "text": [
      "Epoch 190, Autoencoder Loss: 0.0013773931423202157, Discriminator Loss: 0.011625822633504868, Discriminator Accuracy: 0.999465823173523\n",
      "Validation - Autoencoder Loss: 0.0015319155063480139, Discriminator Loss: 2.835947275161743, Discriminator Accuracy: 0.695364236831665\n"
     ]
    },
    {
     "name": "stderr",
     "output_type": "stream",
     "text": [
      "100%|██████████| 351/351 [01:36<00:00,  3.62it/s]\n"
     ]
    },
    {
     "name": "stdout",
     "output_type": "stream",
     "text": [
      "Epoch 191, Autoencoder Loss: 0.001374561688862741, Discriminator Loss: 0.008860341273248196, Discriminator Accuracy: 0.999643862247467\n",
      "Validation - Autoencoder Loss: 0.0015283409738913178, Discriminator Loss: 2.8882408142089844, Discriminator Accuracy: 0.6928808093070984\n"
     ]
    },
    {
     "name": "stderr",
     "output_type": "stream",
     "text": [
      "100%|██████████| 351/351 [01:36<00:00,  3.63it/s]\n"
     ]
    },
    {
     "name": "stdout",
     "output_type": "stream",
     "text": [
      "Epoch 192, Autoencoder Loss: 0.001373096602037549, Discriminator Loss: 0.03311275318264961, Discriminator Accuracy: 0.99554842710495\n",
      "Validation - Autoencoder Loss: 0.001531614805571735, Discriminator Loss: 2.8606536388397217, Discriminator Accuracy: 0.6912251710891724\n"
     ]
    },
    {
     "name": "stderr",
     "output_type": "stream",
     "text": [
      "100%|██████████| 351/351 [01:36<00:00,  3.62it/s]\n"
     ]
    },
    {
     "name": "stdout",
     "output_type": "stream",
     "text": [
      "Epoch 193, Autoencoder Loss: 0.001371297286823392, Discriminator Loss: 0.08755819499492645, Discriminator Accuracy: 0.9864672422409058\n",
      "Validation - Autoencoder Loss: 0.0015251173172146082, Discriminator Loss: 2.773000478744507, Discriminator Accuracy: 0.6899834275245667\n"
     ]
    },
    {
     "name": "stderr",
     "output_type": "stream",
     "text": [
      "100%|██████████| 351/351 [01:36<00:00,  3.64it/s]\n"
     ]
    },
    {
     "name": "stdout",
     "output_type": "stream",
     "text": [
      "Epoch 194, Autoencoder Loss: 0.0013689810875803232, Discriminator Loss: 0.01234758272767067, Discriminator Accuracy: 0.999643862247467\n",
      "Validation - Autoencoder Loss: 0.0015240783104673028, Discriminator Loss: 2.746227502822876, Discriminator Accuracy: 0.7011589407920837\n"
     ]
    },
    {
     "name": "stderr",
     "output_type": "stream",
     "text": [
      "100%|██████████| 351/351 [01:36<00:00,  3.64it/s]\n"
     ]
    },
    {
     "name": "stdout",
     "output_type": "stream",
     "text": [
      "Epoch 195, Autoencoder Loss: 0.0013684990117326379, Discriminator Loss: 0.006953876465559006, Discriminator Accuracy: 1.0\n",
      "Validation - Autoencoder Loss: 0.0015218601329252124, Discriminator Loss: 2.8253672122955322, Discriminator Accuracy: 0.6974337697029114\n"
     ]
    },
    {
     "name": "stderr",
     "output_type": "stream",
     "text": [
      "100%|██████████| 351/351 [01:37<00:00,  3.62it/s]\n"
     ]
    },
    {
     "name": "stdout",
     "output_type": "stream",
     "text": [
      "Epoch 196, Autoencoder Loss: 0.0013657142408192158, Discriminator Loss: 0.004834701307117939, Discriminator Accuracy: 1.0\n",
      "Validation - Autoencoder Loss: 0.0015206870157271624, Discriminator Loss: 2.902907609939575, Discriminator Accuracy: 0.7044702172279358\n"
     ]
    },
    {
     "name": "stderr",
     "output_type": "stream",
     "text": [
      "100%|██████████| 351/351 [01:36<00:00,  3.64it/s]\n"
     ]
    },
    {
     "name": "stdout",
     "output_type": "stream",
     "text": [
      "Epoch 197, Autoencoder Loss: 0.0013648400781676173, Discriminator Loss: 0.005248058587312698, Discriminator Accuracy: 1.0\n",
      "Validation - Autoencoder Loss: 0.0015196281019598246, Discriminator Loss: 2.9686989784240723, Discriminator Accuracy: 0.6941224932670593\n"
     ]
    },
    {
     "name": "stderr",
     "output_type": "stream",
     "text": [
      "100%|██████████| 351/351 [01:36<00:00,  3.62it/s]\n"
     ]
    },
    {
     "name": "stdout",
     "output_type": "stream",
     "text": [
      "Epoch 198, Autoencoder Loss: 0.0013626235304400325, Discriminator Loss: 0.10952445864677429, Discriminator Accuracy: 0.9818376302719116\n",
      "Validation - Autoencoder Loss: 0.001519288052804768, Discriminator Loss: 2.8518285751342773, Discriminator Accuracy: 0.6941224932670593\n"
     ]
    },
    {
     "name": "stderr",
     "output_type": "stream",
     "text": [
      "100%|██████████| 351/351 [01:37<00:00,  3.61it/s]\n"
     ]
    },
    {
     "name": "stdout",
     "output_type": "stream",
     "text": [
      "Epoch 199, Autoencoder Loss: 0.001360728987492621, Discriminator Loss: 0.049662135541439056, Discriminator Accuracy: 0.9903846383094788\n",
      "Validation - Autoencoder Loss: 0.0015195008600130677, Discriminator Loss: 2.7562146186828613, Discriminator Accuracy: 0.6957781314849854\n"
     ]
    }
   ],
   "source": [
    "\n",
    "import tensorflow as tf\n",
    "from tensorflow.keras import layers, models\n",
    "import numpy as np\n",
    "from tqdm import tqdm\n",
    "\n",
    "# Assuming you have an autoencoder model that is already trained\n",
    "# Use the decoder part of the autoencoder as the generator\n",
    "generator = autoencoder.layers[-2]  # Decoder of the autoencoder\n",
    "discriminator = create_discriminator(input_shape=(28, 28, 3), num_classes=7)\n",
    "\n",
    "# Define the GAN model\n",
    "def create_gan(generator, discriminator, latent_dim=128):\n",
    "    # Freeze the discriminator during the generator training\n",
    "    discriminator.trainable = False\n",
    "\n",
    "    # Input layer for random noise (latent vector of size 128)\n",
    "    gan_input = layers.Input(shape=(latent_dim,))\n",
    "    \n",
    "    # Use the generator (autoencoder's decoder) to generate images\n",
    "    x = generator(gan_input)  # Generator generates fake images\n",
    "    gan_output = discriminator(x)  # Discriminator evaluates the fake image\n",
    "\n",
    "    # Build the GAN model\n",
    "    gan = models.Model(gan_input, gan_output)\n",
    "    \n",
    "    # Compile the GAN with categorical cross-entropy loss for multi-class classification\n",
    "    gan.compile(loss='categorical_crossentropy', optimizer=tf.keras.optimizers.Adam(learning_rate=0.0001), metrics=['accuracy'])\n",
    "    \n",
    "    return gan\n",
    "\n",
    "# Loss functions for the autoencoder and discriminator\n",
    "loss_fn_auto = tf.keras.losses.MeanSquaredError()  # For the autoencoder (reconstruction loss)\n",
    "loss_fn_disc = tf.keras.losses.CategoricalCrossentropy(from_logits=False)  # For discriminator (classification loss)\n",
    "\n",
    "# Optimizers for autoencoder and discriminator\n",
    "opt_autoencoder = tf.keras.optimizers.Adam(learning_rate=0.0001)\n",
    "opt_disc = tf.keras.optimizers.Adam(learning_rate=0.0001)\n",
    "\n",
    "# Metrics to store losses and accuracies for tracking\n",
    "autoencoder_losses_epoch = []\n",
    "discriminator_losses_epoch = []\n",
    "discriminator_acc_epoch = []\n",
    "val_autoencoder_losses_epoch = []\n",
    "val_discriminator_losses_epoch = []\n",
    "val_discriminator_acc_epoch = []\n",
    "\n",
    "# Training loop for GAN\n",
    "for epoch in range(200):\n",
    "    # Initialize epoch-wise metrics\n",
    "    epoch_autoencoder_losses = []\n",
    "    epoch_discriminator_losses = []\n",
    "    epoch_discriminator_acc = []\n",
    "    epoch_val_autoencoder_losses = []\n",
    "    epoch_val_discriminator_losses = []\n",
    "    epoch_val_discriminator_acc = []\n",
    "\n",
    "    # Training loop\n",
    "    for idx, (batch_real, batch_label) in enumerate(tqdm(train_data)):\n",
    "        with tf.GradientTape(persistent=True) as tape:\n",
    "            # Pass batch through the encoder and decoder (autoencoder)\n",
    "            latent_representation = encoder(batch_real)\n",
    "            generated_image = decoder(latent_representation)\n",
    "            loss_autoencoder = loss_fn_auto(batch_real, generated_image)\n",
    "\n",
    "            # Pass batch through the discriminator (real vs fake image)\n",
    "            fake = generated_image\n",
    "            loss_disc_real = loss_fn_disc(batch_label, discriminator(batch_real))\n",
    "            loss_disc_fake = loss_fn_disc(batch_label, discriminator(fake))\n",
    "            loss_disc = (loss_disc_real + loss_disc_fake) / 2\n",
    "\n",
    "        # Apply gradients to autoencoder\n",
    "        grads_autoencoder = tape.gradient(loss_autoencoder, autoencoder.trainable_weights)\n",
    "        opt_autoencoder.apply_gradients(zip(grads_autoencoder, autoencoder.trainable_weights))\n",
    "\n",
    "        # Apply gradients to discriminator\n",
    "        grads_discriminator = tape.gradient(loss_disc, discriminator.trainable_weights)\n",
    "        opt_disc.apply_gradients(zip(grads_discriminator, discriminator.trainable_weights))\n",
    "\n",
    "        # Store batch-wise metrics\n",
    "        epoch_autoencoder_losses.append(loss_autoencoder.numpy())\n",
    "        epoch_discriminator_losses.append(loss_disc.numpy())\n",
    "        epoch_discriminator_acc.append(tf.reduce_mean(\n",
    "            tf.keras.metrics.categorical_accuracy(batch_label, discriminator(fake))).numpy())\n",
    "\n",
    "        if idx % 200 == 0:\n",
    "            img = tf.keras.preprocessing.image.array_to_img(fake[0])\n",
    "            img.save(f\"{save_dir}/generated_img_epoch_{epoch}_batch_{idx}.png\")\n",
    "\n",
    "    # Validation loop\n",
    "    for val_batch_real, val_batch_label in val_data:\n",
    "        val_latent_representation = encoder(val_batch_real)\n",
    "        val_generated_image = decoder(val_latent_representation)\n",
    "        val_loss_autoencoder = loss_fn_auto(val_batch_real, val_generated_image)\n",
    "        val_loss_disc_real = loss_fn_disc(val_batch_label, discriminator(val_batch_real))\n",
    "        val_loss_disc_fake = loss_fn_disc(val_batch_label, discriminator(val_generated_image))\n",
    "        val_loss_disc = (val_loss_disc_real + val_loss_disc_fake) / 2\n",
    "\n",
    "        # Calculate accuracy\n",
    "        val_discriminator_accuracy = tf.reduce_mean(\n",
    "            tf.keras.metrics.categorical_accuracy(val_batch_label, discriminator(val_generated_image)))\n",
    "\n",
    "        # Store validation metrics\n",
    "        epoch_val_autoencoder_losses.append(val_loss_autoencoder.numpy())\n",
    "        epoch_val_discriminator_losses.append(val_loss_disc.numpy())\n",
    "        epoch_val_discriminator_acc.append(val_discriminator_accuracy.numpy())\n",
    "\n",
    "    # Calculate epoch-wise averages and append to the lists\n",
    "    avg_autoencoder_loss = np.mean(epoch_autoencoder_losses)\n",
    "    avg_discriminator_loss = np.mean(epoch_discriminator_losses)\n",
    "    avg_discriminator_acc = np.mean(epoch_discriminator_acc)\n",
    "    avg_val_autoencoder_loss = np.mean(epoch_val_autoencoder_losses)\n",
    "    avg_val_discriminator_loss = np.mean(epoch_val_discriminator_losses)\n",
    "    avg_val_discriminator_acc = np.mean(epoch_val_discriminator_acc)\n",
    "\n",
    "    autoencoder_losses_epoch.append(avg_autoencoder_loss)\n",
    "    discriminator_losses_epoch.append(avg_discriminator_loss)\n",
    "    discriminator_acc_epoch.append(avg_discriminator_acc)\n",
    "    val_autoencoder_losses_epoch.append(avg_val_autoencoder_loss)\n",
    "    val_discriminator_losses_epoch.append(avg_val_discriminator_loss)\n",
    "    val_discriminator_acc_epoch.append(avg_val_discriminator_acc)\n",
    "\n",
    "    # Print epoch-wise metrics\n",
    "    print(f\"Epoch {epoch}, Autoencoder Loss: {avg_autoencoder_loss}, Discriminator Loss: {avg_discriminator_loss}, Discriminator Accuracy: {avg_discriminator_acc}\")\n",
    "    print(f\"Validation - Autoencoder Loss: {avg_val_autoencoder_loss}, Discriminator Loss: {avg_val_discriminator_loss}, Discriminator Accuracy: {avg_val_discriminator_acc}\")\n"
   ]
  },
  {
   "cell_type": "code",
   "execution_count": 10,
   "id": "74fdb99c",
   "metadata": {
    "execution": {
     "iopub.execute_input": "2025-03-07T23:07:07.117609Z",
     "iopub.status.busy": "2025-03-07T23:07:07.117279Z",
     "iopub.status.idle": "2025-03-07T23:07:07.815746Z",
     "shell.execute_reply": "2025-03-07T23:07:07.814726Z"
    },
    "papermill": {
     "duration": 4.130584,
     "end_time": "2025-03-07T23:07:07.817132",
     "exception": false,
     "start_time": "2025-03-07T23:07:03.686548",
     "status": "completed"
    },
    "tags": []
   },
   "outputs": [
    {
     "data": {
      "image/png": "[encoded data removed]",
      "text/plain": [
       "<Figure size 1200x500 with 2 Axes>"
      ]
     },
     "metadata": {},
     "output_type": "display_data"
    },
    {
     "data": {
      "image/png": "[encoded data removed]",
      "text/plain": [
       "<Figure size 1200x500 with 1 Axes>"
      ]
     },
     "metadata": {},
     "output_type": "display_data"
    }
   ],
   "source": [
    "import matplotlib.pyplot as plt\n",
    "import numpy as np\n",
    "\n",
    "# Function to plot the loss curves\n",
    "def plot_loss_curves():\n",
    "    plt.figure(figsize=(12, 5))\n",
    "\n",
    "    # Autoencoder loss\n",
    "    plt.subplot(1, 2, 1)\n",
    "    plt.plot(autoencoder_losses_epoch, label=\"Train Autoencoder Loss\", color=\"b\")\n",
    "    plt.plot(val_autoencoder_losses_epoch, label=\"Validation Autoencoder Loss\", color=\"g\")\n",
    "    plt.title(\"Autoencoder Loss\")\n",
    "    plt.xlabel(\"Epochs\")\n",
    "    plt.ylabel(\"Loss\")\n",
    "    plt.legend()\n",
    "\n",
    "    # Discriminator loss\n",
    "    plt.subplot(1, 2, 2)\n",
    "    plt.plot(discriminator_losses_epoch, label=\"Train Discriminator Loss\", color=\"r\")\n",
    "    plt.plot(val_discriminator_losses_epoch, label=\"Validation Discriminator Loss\", color=\"y\")\n",
    "    plt.title(\"Discriminator Loss\")\n",
    "    plt.xlabel(\"Epochs\")\n",
    "    plt.ylabel(\"Loss\")\n",
    "    plt.legend()\n",
    "\n",
    "    plt.tight_layout()\n",
    "    plt.show()\n",
    "\n",
    "# Function to plot discriminator accuracy\n",
    "def plot_discriminator_accuracy():\n",
    "    plt.figure(figsize=(12, 5))\n",
    "\n",
    "    # Discriminator accuracy\n",
    "    plt.plot(discriminator_acc_epoch, label=\"Train Discriminator Accuracy\", color=\"purple\")\n",
    "    plt.plot(val_discriminator_acc_epoch, label=\"Validation Discriminator Accuracy\", color=\"orange\")\n",
    "    plt.title(\"Discriminator Accuracy\")\n",
    "    plt.xlabel(\"Epochs\")\n",
    "    plt.ylabel(\"Accuracy\")\n",
    "    plt.legend()\n",
    "\n",
    "    plt.tight_layout()\n",
    "    plt.show()\n",
    "\n",
    "# Function to display generated images at regular intervals\n",
    "def visualize_generated_images(epoch, generated_images, save_dir=\"generated_images\"):\n",
    "    # Save generated image at the end of the epoch\n",
    "    if epoch % 10 == 0:  # Adjust frequency as needed\n",
    "        plt.figure(figsize=(10, 10))\n",
    "        for i in range(9):  # Display 9 images in a grid\n",
    "            plt.subplot(3, 3, i+1)\n",
    "            plt.imshow(generated_images[i])  # Assuming images are in 3x28x28 format\n",
    "            plt.axis('off')\n",
    "        plt.suptitle(f\"Generated Images at Epoch {epoch}\")\n",
    "        plt.savefig(f\"{save_dir}/generated_images_epoch_{epoch}.png\")\n",
    "        plt.show()\n",
    "\n",
    "# Visualize loss and accuracy\n",
    "plot_loss_curves()\n",
    "plot_discriminator_accuracy()"
   ]
  },
  {
   "cell_type": "code",
   "execution_count": 11,
   "id": "2309f221",
   "metadata": {
    "execution": {
     "iopub.execute_input": "2025-03-07T23:07:14.740181Z",
     "iopub.status.busy": "2025-03-07T23:07:14.739800Z",
     "iopub.status.idle": "2025-03-07T23:07:17.134598Z",
     "shell.execute_reply": "2025-03-07T23:07:17.133719Z"
    },
    "papermill": {
     "duration": 5.802407,
     "end_time": "2025-03-07T23:07:17.135946",
     "exception": false,
     "start_time": "2025-03-07T23:07:11.333539",
     "status": "completed"
    },
    "tags": []
   },
   "outputs": [
    {
     "name": "stdout",
     "output_type": "stream",
     "text": [
      "Correct shape for disease_output: (16, 7)\n",
      "Correct shape for disease_output: (16, 7)\n",
      "Correct shape for disease_output: (16, 7)\n",
      "Correct shape for disease_output: (16, 7)\n",
      "Correct shape for disease_output: (16, 7)\n",
      "Correct shape for disease_output: (16, 7)\n",
      "Correct shape for disease_output: (16, 7)\n",
      "Correct shape for disease_output: (16, 7)\n",
      "Correct shape for disease_output: (16, 7)\n",
      "Correct shape for disease_output: (16, 7)\n",
      "Correct shape for disease_output: (16, 7)\n",
      "Correct shape for disease_output: (16, 7)\n",
      "Correct shape for disease_output: (16, 7)\n",
      "Correct shape for disease_output: (16, 7)\n",
      "Correct shape for disease_output: (16, 7)\n",
      "Correct shape for disease_output: (16, 7)\n",
      "Correct shape for disease_output: (16, 7)\n",
      "Correct shape for disease_output: (16, 7)\n",
      "Correct shape for disease_output: (16, 7)\n",
      "Correct shape for disease_output: (16, 7)\n",
      "Correct shape for disease_output: (16, 7)\n",
      "Correct shape for disease_output: (16, 7)\n",
      "Correct shape for disease_output: (16, 7)\n",
      "Correct shape for disease_output: (16, 7)\n",
      "Correct shape for disease_output: (16, 7)\n",
      "Correct shape for disease_output: (16, 7)\n",
      "Correct shape for disease_output: (16, 7)\n",
      "Correct shape for disease_output: (16, 7)\n",
      "Correct shape for disease_output: (16, 7)\n",
      "Correct shape for disease_output: (16, 7)\n",
      "Correct shape for disease_output: (16, 7)\n",
      "Correct shape for disease_output: (16, 7)\n",
      "Correct shape for disease_output: (16, 7)\n",
      "Correct shape for disease_output: (16, 7)\n",
      "Correct shape for disease_output: (16, 7)\n",
      "Correct shape for disease_output: (16, 7)\n",
      "Correct shape for disease_output: (16, 7)\n",
      "Correct shape for disease_output: (16, 7)\n",
      "Correct shape for disease_output: (16, 7)\n",
      "Correct shape for disease_output: (16, 7)\n",
      "Correct shape for disease_output: (16, 7)\n",
      "Correct shape for disease_output: (16, 7)\n",
      "Correct shape for disease_output: (16, 7)\n",
      "Correct shape for disease_output: (16, 7)\n",
      "Correct shape for disease_output: (16, 7)\n",
      "Correct shape for disease_output: (16, 7)\n",
      "Correct shape for disease_output: (16, 7)\n",
      "Correct shape for disease_output: (16, 7)\n",
      "Correct shape for disease_output: (16, 7)\n",
      "Correct shape for disease_output: (16, 7)\n",
      "Correct shape for disease_output: (16, 7)\n",
      "Correct shape for disease_output: (16, 7)\n",
      "Correct shape for disease_output: (16, 7)\n",
      "Correct shape for disease_output: (16, 7)\n",
      "Correct shape for disease_output: (16, 7)\n",
      "Correct shape for disease_output: (16, 7)\n",
      "Correct shape for disease_output: (16, 7)\n",
      "Correct shape for disease_output: (16, 7)\n",
      "Correct shape for disease_output: (16, 7)\n",
      "Correct shape for disease_output: (16, 7)\n",
      "Correct shape for disease_output: (16, 7)\n",
      "Correct shape for disease_output: (16, 7)\n",
      "Correct shape for disease_output: (16, 7)\n",
      "Correct shape for disease_output: (16, 7)\n",
      "Correct shape for disease_output: (16, 7)\n",
      "Correct shape for disease_output: (16, 7)\n",
      "Correct shape for disease_output: (16, 7)\n",
      "Correct shape for disease_output: (16, 7)\n",
      "Correct shape for disease_output: (16, 7)\n",
      "Correct shape for disease_output: (16, 7)\n",
      "Correct shape for disease_output: (16, 7)\n",
      "Correct shape for disease_output: (16, 7)\n",
      "Correct shape for disease_output: (16, 7)\n",
      "Correct shape for disease_output: (16, 7)\n",
      "Correct shape for disease_output: (16, 7)\n",
      "Correct shape for disease_output: (16, 7)\n",
      "Correct shape for disease_output: (16, 7)\n",
      "Correct shape for disease_output: (16, 7)\n",
      "Correct shape for disease_output: (16, 7)\n",
      "Correct shape for disease_output: (16, 7)\n",
      "Correct shape for disease_output: (16, 7)\n",
      "Correct shape for disease_output: (16, 7)\n",
      "Correct shape for disease_output: (16, 7)\n",
      "Correct shape for disease_output: (16, 7)\n",
      "Correct shape for disease_output: (16, 7)\n",
      "Correct shape for disease_output: (16, 7)\n",
      "Correct shape for disease_output: (16, 7)\n",
      "Correct shape for disease_output: (16, 7)\n",
      "Correct shape for disease_output: (16, 7)\n",
      "Correct shape for disease_output: (16, 7)\n",
      "Correct shape for disease_output: (16, 7)\n",
      "Correct shape for disease_output: (16, 7)\n",
      "Correct shape for disease_output: (16, 7)\n",
      "Correct shape for disease_output: (16, 7)\n",
      "Correct shape for disease_output: (16, 7)\n",
      "Correct shape for disease_output: (16, 7)\n",
      "Correct shape for disease_output: (16, 7)\n",
      "Correct shape for disease_output: (16, 7)\n",
      "Correct shape for disease_output: (16, 7)\n",
      "Correct shape for disease_output: (16, 7)\n",
      "Correct shape for disease_output: (16, 7)\n",
      "Correct shape for disease_output: (16, 7)\n",
      "Correct shape for disease_output: (16, 7)\n",
      "Correct shape for disease_output: (16, 7)\n",
      "Correct shape for disease_output: (16, 7)\n",
      "Correct shape for disease_output: (16, 7)\n",
      "Correct shape for disease_output: (16, 7)\n",
      "Correct shape for disease_output: (16, 7)\n",
      "Correct shape for disease_output: (16, 7)\n",
      "Correct shape for disease_output: (16, 7)\n",
      "Correct shape for disease_output: (16, 7)\n",
      "Correct shape for disease_output: (16, 7)\n",
      "Correct shape for disease_output: (16, 7)\n",
      "Correct shape for disease_output: (16, 7)\n",
      "Correct shape for disease_output: (16, 7)\n",
      "Correct shape for disease_output: (16, 7)\n",
      "Correct shape for disease_output: (16, 7)\n",
      "Correct shape for disease_output: (16, 7)\n",
      "Correct shape for disease_output: (16, 7)\n",
      "Correct shape for disease_output: (16, 7)\n",
      "Correct shape for disease_output: (16, 7)\n",
      "Correct shape for disease_output: (16, 7)\n",
      "Correct shape for disease_output: (16, 7)\n",
      "Correct shape for disease_output: (16, 7)\n",
      "Correct shape for disease_output: (16, 7)\n",
      "Correct shape for disease_output: (3, 7)\n",
      "Test Loss (Disease): 2.6340\n",
      "Test Accuracy (Disease): 0.6971\n"
     ]
    }
   ],
   "source": [
    "def evaluate_discriminator(discriminator, test_data):\n",
    "    test_loss_disease = 0\n",
    "    test_accuracy_disease = 0\n",
    "    num_batches = len(test_data)\n",
    "\n",
    "    for batch_real, batch_label in test_data:\n",
    "        # Get the output from the discriminator (only disease classification)\n",
    "        disease_output = discriminator(batch_real)  # Discriminator now outputs (batch_size, num_classes)\n",
    "        \n",
    "        # Ensure that the output has the correct shape for comparison\n",
    "        if len(disease_output.shape) == 2:\n",
    "            # Check if the output is of shape (batch_size, num_classes)\n",
    "            print(f\"Correct shape for disease_output: {disease_output.shape}\")\n",
    "        else:\n",
    "            # If it's not, we should reshape it\n",
    "            disease_output = tf.reshape(disease_output, (batch_real.shape[0], -1))\n",
    "            print(f\"Reshaped disease_output to: {disease_output.shape}\")\n",
    "\n",
    "        # Compute loss for disease classification\n",
    "        loss_disc_disease = loss_fn_disc(batch_label, disease_output)  # Disease classification loss\n",
    "        test_loss_disease += loss_disc_disease.numpy()\n",
    "\n",
    "        # Calculate accuracy for disease classification\n",
    "        accuracy_disease = tf.reduce_mean(tf.keras.metrics.categorical_accuracy(batch_label, disease_output))\n",
    "        test_accuracy_disease += accuracy_disease.numpy()\n",
    "\n",
    "    # Average losses and accuracy\n",
    "    test_loss_disease /= num_batches\n",
    "    test_accuracy_disease /= num_batches\n",
    "\n",
    "    print(f\"Test Loss (Disease): {test_loss_disease:.4f}\")\n",
    "    print(f\"Test Accuracy (Disease): {test_accuracy_disease:.4f}\")\n",
    "\n",
    "# Evaluate the discriminator on the test data\n",
    "evaluate_discriminator(discriminator, test_data)\n"
   ]
  }
 ],
 "metadata": {
  "kaggle": {
   "accelerator": "gpu",
   "dataSources": [
    {
     "datasetId": 54339,
     "sourceId": 104884,
     "sourceType": "datasetVersion"
    }
   ],
   "dockerImageVersionId": 30918,
   "isGpuEnabled": true,
   "isInternetEnabled": true,
   "language": "python",
   "sourceType": "notebook"
  },
  "kernelspec": {
   "display_name": "Python 3",
   "language": "python",
   "name": "python3"
  },
  "language_info": {
   "codemirror_mode": {
    "name": "ipython",
    "version": 3
   },
   "file_extension": ".py",
   "mimetype": "text/x-python",
   "name": "python",
   "nbconvert_exporter": "python",
   "pygments_lexer": "ipython3",
   "version": "3.10.12"
  },
  "papermill": {
   "default_parameters": {},
   "duration": 22671.443869,
   "end_time": "2025-03-07T23:07:23.494003",
   "environment_variables": {},
   "exception": null,
   "input_path": "__notebook__.ipynb",
   "output_path": "__notebook__.ipynb",
   "parameters": {},
   "start_time": "2025-03-07T16:49:32.050134",
   "version": "2.6.0"
  }
 },
 "nbformat": 4,
 "nbformat_minor": 5
}
